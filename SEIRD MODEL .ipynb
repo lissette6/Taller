{
 "cells": [
  {
   "cell_type": "markdown",
   "metadata": {},
   "source": [
    "# SIR model"
   ]
  },
  {
   "cell_type": "code",
   "execution_count": 51,
   "metadata": {},
   "outputs": [
    {
     "data": {
      "application/vnd.plotly.v1+json": {
       "config": {
        "plotlyServerURL": "https://plot.ly"
       },
       "data": [
        {
         "mode": "lines",
         "name": "Susceptible",
         "type": "scatter",
         "x": [
          0,
          1,
          2,
          3,
          4,
          5,
          6,
          7,
          8,
          9,
          10,
          11,
          12,
          13,
          14,
          15,
          16,
          17,
          18,
          19,
          20,
          21,
          22,
          23,
          24,
          25,
          26,
          27,
          28,
          29,
          30,
          31,
          32,
          33,
          34,
          35,
          36,
          37,
          38,
          39,
          40,
          41,
          42,
          43,
          44,
          45,
          46,
          47,
          48,
          49
         ],
         "y": [
          55413,
          55410.85227295012,
          55405.01505907238,
          55389.154766834516,
          55346.093358610124,
          55229.41940412507,
          54915.04349740405,
          54080.4710016519,
          51949.57953893488,
          47007.908480548314,
          37703.31515836416,
          25404.788846153162,
          14756.409096639161,
          8147.545614411994,
          4656.467305820186,
          2864.6794687046354,
          1911.8214321585376,
          1375.5966519909061,
          1055.8022356493536,
          854.8793598593328,
          722.9387325056997,
          633.0860235651492,
          570.0647198343097,
          524.804619321058,
          491.68133408035106,
          467.074589763895,
          448.57663461286216,
          434.5400346461384,
          423.80976635851664,
          415.55908354818945,
          409.18581206367895,
          404.24493616172515,
          400.40362053416646,
          397.4104804556482,
          395.07413180906207,
          393.2479307952845,
          391.8189336848423,
          390.69979220023424,
          389.8227305848582,
          389.135022301891,
          388.5955633692711,
          388.1722578412336,
          387.8400111932684,
          387.57918297063577,
          387.37438900832626,
          387.2135713965133,
          387.0872745783686,
          386.9880807904665,
          386.91016909120196,
          386.84897050211083
         ]
        },
        {
         "mode": "lines",
         "name": "Infected",
         "type": "scatter",
         "x": [
          0,
          1,
          2,
          3,
          4,
          5,
          6,
          7,
          8,
          9,
          10,
          11,
          12,
          13,
          14,
          15,
          16,
          17,
          18,
          19,
          20,
          21,
          22,
          23,
          24,
          25,
          26,
          27,
          28,
          29,
          30,
          31,
          32,
          33,
          34,
          35,
          36,
          37,
          38,
          39,
          40,
          41,
          42,
          43,
          44,
          45,
          46,
          47,
          48,
          49
         ],
         "y": [
          1,
          2.7181655635367328,
          7.387808847163995,
          20.075074049896756,
          54.516986530872536,
          147.80285885366501,
          398.91321978782855,
          1063.7616510349455,
          2749.1299061962604,
          6582.988995491324,
          13443.073132839121,
          21365.995618025278,
          25993.531069664736,
          26019.646136217645,
          23310.34490247782,
          19718.10176812578,
          16189.074959315221,
          13077.187214844755,
          10464.62046080644,
          8326.010688840357,
          6600.076312121704,
          5219.040046253845,
          4119.95865840503,
          3248.4067628351886,
          2558.984341136269,
          2014.5796666704787,
          1585.227980640444,
          1246.9262339436616,
          980.5489279419485,
          770.9130067100501,
          605.9967065823301,
          476.29941357021323,
          374.3234600953709,
          294.15805626652593,
          231.14711555684255,
          181.62512442748996,
          142.70773297836928,
          112.12608803764458,
          88.09598264054176,
          69.21463151233442,
          54.379315494875705,
          42.72330771531994,
          33.56543801939681,
          26.370409734915565,
          20.717586793437306,
          16.276449455494614,
          12.78729785254404,
          10.046083637597166,
          7.892488074829695,
          6.200552673558719
         ]
        },
        {
         "mode": "lines",
         "name": "Recovered",
         "type": "scatter",
         "x": [
          0,
          1,
          2,
          3,
          4,
          5,
          6,
          7,
          8,
          9,
          10,
          11,
          12,
          13,
          14,
          15,
          16,
          17,
          18,
          19,
          20,
          21,
          22,
          23,
          24,
          25,
          26,
          27,
          28,
          29,
          30,
          31,
          32,
          33,
          34,
          35,
          36,
          37,
          38,
          39,
          40,
          41,
          42,
          43,
          44,
          45,
          46,
          47,
          48,
          49
         ],
         "y": [
          0,
          0.42956148635507224,
          1.5971320804750782,
          4.770159115598143,
          13.389654859007278,
          36.777737021270895,
          100.04328280813881,
          269.76734731316975,
          715.2905548688918,
          1823.1025239603857,
          4267.611708796736,
          8643.215535821575,
          14664.059833696127,
          21246.808249370388,
          27447.187791702032,
          32831.21876316963,
          37313.10360852629,
          40961.21613316439,
          43893.577303544254,
          46233.10995130035,
          48090.98495537263,
          49561.87393018104,
          50723.976621760696,
          51640.78861784379,
          52363.33432478341,
          52932.34574356566,
          53380.19538474673,
          53732.53373141023,
          54009.64130569956,
          54227.52790974178,
          54398.817481354024,
          54533.4556502681,
          54639.272919370494,
          54722.431463277855,
          54787.77875263412,
          54839.12694477725,
          54879.47333333681,
          54911.17411976215,
          54936.081286774635,
          54955.650346185816,
          54971.02512113589,
          54983.104434443485,
          54992.59455078737,
          55000.05040729449,
          55005.90802419828,
          55010.50997914803,
          55014.12542756913,
          55016.96583557197,
          55019.197342834006,
          55020.95047682437
         ]
        }
       ],
       "layout": {
        "legend": {
         "title": {
          "text": "Variables"
         }
        },
        "template": {
         "data": {
          "bar": [
           {
            "error_x": {
             "color": "#2a3f5f"
            },
            "error_y": {
             "color": "#2a3f5f"
            },
            "marker": {
             "line": {
              "color": "#E5ECF6",
              "width": 0.5
             }
            },
            "type": "bar"
           }
          ],
          "barpolar": [
           {
            "marker": {
             "line": {
              "color": "#E5ECF6",
              "width": 0.5
             }
            },
            "type": "barpolar"
           }
          ],
          "carpet": [
           {
            "aaxis": {
             "endlinecolor": "#2a3f5f",
             "gridcolor": "white",
             "linecolor": "white",
             "minorgridcolor": "white",
             "startlinecolor": "#2a3f5f"
            },
            "baxis": {
             "endlinecolor": "#2a3f5f",
             "gridcolor": "white",
             "linecolor": "white",
             "minorgridcolor": "white",
             "startlinecolor": "#2a3f5f"
            },
            "type": "carpet"
           }
          ],
          "choropleth": [
           {
            "colorbar": {
             "outlinewidth": 0,
             "ticks": ""
            },
            "type": "choropleth"
           }
          ],
          "contour": [
           {
            "colorbar": {
             "outlinewidth": 0,
             "ticks": ""
            },
            "colorscale": [
             [
              0,
              "#0d0887"
             ],
             [
              0.1111111111111111,
              "#46039f"
             ],
             [
              0.2222222222222222,
              "#7201a8"
             ],
             [
              0.3333333333333333,
              "#9c179e"
             ],
             [
              0.4444444444444444,
              "#bd3786"
             ],
             [
              0.5555555555555556,
              "#d8576b"
             ],
             [
              0.6666666666666666,
              "#ed7953"
             ],
             [
              0.7777777777777778,
              "#fb9f3a"
             ],
             [
              0.8888888888888888,
              "#fdca26"
             ],
             [
              1,
              "#f0f921"
             ]
            ],
            "type": "contour"
           }
          ],
          "contourcarpet": [
           {
            "colorbar": {
             "outlinewidth": 0,
             "ticks": ""
            },
            "type": "contourcarpet"
           }
          ],
          "heatmap": [
           {
            "colorbar": {
             "outlinewidth": 0,
             "ticks": ""
            },
            "colorscale": [
             [
              0,
              "#0d0887"
             ],
             [
              0.1111111111111111,
              "#46039f"
             ],
             [
              0.2222222222222222,
              "#7201a8"
             ],
             [
              0.3333333333333333,
              "#9c179e"
             ],
             [
              0.4444444444444444,
              "#bd3786"
             ],
             [
              0.5555555555555556,
              "#d8576b"
             ],
             [
              0.6666666666666666,
              "#ed7953"
             ],
             [
              0.7777777777777778,
              "#fb9f3a"
             ],
             [
              0.8888888888888888,
              "#fdca26"
             ],
             [
              1,
              "#f0f921"
             ]
            ],
            "type": "heatmap"
           }
          ],
          "heatmapgl": [
           {
            "colorbar": {
             "outlinewidth": 0,
             "ticks": ""
            },
            "colorscale": [
             [
              0,
              "#0d0887"
             ],
             [
              0.1111111111111111,
              "#46039f"
             ],
             [
              0.2222222222222222,
              "#7201a8"
             ],
             [
              0.3333333333333333,
              "#9c179e"
             ],
             [
              0.4444444444444444,
              "#bd3786"
             ],
             [
              0.5555555555555556,
              "#d8576b"
             ],
             [
              0.6666666666666666,
              "#ed7953"
             ],
             [
              0.7777777777777778,
              "#fb9f3a"
             ],
             [
              0.8888888888888888,
              "#fdca26"
             ],
             [
              1,
              "#f0f921"
             ]
            ],
            "type": "heatmapgl"
           }
          ],
          "histogram": [
           {
            "marker": {
             "colorbar": {
              "outlinewidth": 0,
              "ticks": ""
             }
            },
            "type": "histogram"
           }
          ],
          "histogram2d": [
           {
            "colorbar": {
             "outlinewidth": 0,
             "ticks": ""
            },
            "colorscale": [
             [
              0,
              "#0d0887"
             ],
             [
              0.1111111111111111,
              "#46039f"
             ],
             [
              0.2222222222222222,
              "#7201a8"
             ],
             [
              0.3333333333333333,
              "#9c179e"
             ],
             [
              0.4444444444444444,
              "#bd3786"
             ],
             [
              0.5555555555555556,
              "#d8576b"
             ],
             [
              0.6666666666666666,
              "#ed7953"
             ],
             [
              0.7777777777777778,
              "#fb9f3a"
             ],
             [
              0.8888888888888888,
              "#fdca26"
             ],
             [
              1,
              "#f0f921"
             ]
            ],
            "type": "histogram2d"
           }
          ],
          "histogram2dcontour": [
           {
            "colorbar": {
             "outlinewidth": 0,
             "ticks": ""
            },
            "colorscale": [
             [
              0,
              "#0d0887"
             ],
             [
              0.1111111111111111,
              "#46039f"
             ],
             [
              0.2222222222222222,
              "#7201a8"
             ],
             [
              0.3333333333333333,
              "#9c179e"
             ],
             [
              0.4444444444444444,
              "#bd3786"
             ],
             [
              0.5555555555555556,
              "#d8576b"
             ],
             [
              0.6666666666666666,
              "#ed7953"
             ],
             [
              0.7777777777777778,
              "#fb9f3a"
             ],
             [
              0.8888888888888888,
              "#fdca26"
             ],
             [
              1,
              "#f0f921"
             ]
            ],
            "type": "histogram2dcontour"
           }
          ],
          "mesh3d": [
           {
            "colorbar": {
             "outlinewidth": 0,
             "ticks": ""
            },
            "type": "mesh3d"
           }
          ],
          "parcoords": [
           {
            "line": {
             "colorbar": {
              "outlinewidth": 0,
              "ticks": ""
             }
            },
            "type": "parcoords"
           }
          ],
          "pie": [
           {
            "automargin": true,
            "type": "pie"
           }
          ],
          "scatter": [
           {
            "marker": {
             "colorbar": {
              "outlinewidth": 0,
              "ticks": ""
             }
            },
            "type": "scatter"
           }
          ],
          "scatter3d": [
           {
            "line": {
             "colorbar": {
              "outlinewidth": 0,
              "ticks": ""
             }
            },
            "marker": {
             "colorbar": {
              "outlinewidth": 0,
              "ticks": ""
             }
            },
            "type": "scatter3d"
           }
          ],
          "scattercarpet": [
           {
            "marker": {
             "colorbar": {
              "outlinewidth": 0,
              "ticks": ""
             }
            },
            "type": "scattercarpet"
           }
          ],
          "scattergeo": [
           {
            "marker": {
             "colorbar": {
              "outlinewidth": 0,
              "ticks": ""
             }
            },
            "type": "scattergeo"
           }
          ],
          "scattergl": [
           {
            "marker": {
             "colorbar": {
              "outlinewidth": 0,
              "ticks": ""
             }
            },
            "type": "scattergl"
           }
          ],
          "scattermapbox": [
           {
            "marker": {
             "colorbar": {
              "outlinewidth": 0,
              "ticks": ""
             }
            },
            "type": "scattermapbox"
           }
          ],
          "scatterpolar": [
           {
            "marker": {
             "colorbar": {
              "outlinewidth": 0,
              "ticks": ""
             }
            },
            "type": "scatterpolar"
           }
          ],
          "scatterpolargl": [
           {
            "marker": {
             "colorbar": {
              "outlinewidth": 0,
              "ticks": ""
             }
            },
            "type": "scatterpolargl"
           }
          ],
          "scatterternary": [
           {
            "marker": {
             "colorbar": {
              "outlinewidth": 0,
              "ticks": ""
             }
            },
            "type": "scatterternary"
           }
          ],
          "surface": [
           {
            "colorbar": {
             "outlinewidth": 0,
             "ticks": ""
            },
            "colorscale": [
             [
              0,
              "#0d0887"
             ],
             [
              0.1111111111111111,
              "#46039f"
             ],
             [
              0.2222222222222222,
              "#7201a8"
             ],
             [
              0.3333333333333333,
              "#9c179e"
             ],
             [
              0.4444444444444444,
              "#bd3786"
             ],
             [
              0.5555555555555556,
              "#d8576b"
             ],
             [
              0.6666666666666666,
              "#ed7953"
             ],
             [
              0.7777777777777778,
              "#fb9f3a"
             ],
             [
              0.8888888888888888,
              "#fdca26"
             ],
             [
              1,
              "#f0f921"
             ]
            ],
            "type": "surface"
           }
          ],
          "table": [
           {
            "cells": {
             "fill": {
              "color": "#EBF0F8"
             },
             "line": {
              "color": "white"
             }
            },
            "header": {
             "fill": {
              "color": "#C8D4E3"
             },
             "line": {
              "color": "white"
             }
            },
            "type": "table"
           }
          ]
         },
         "layout": {
          "annotationdefaults": {
           "arrowcolor": "#2a3f5f",
           "arrowhead": 0,
           "arrowwidth": 1
          },
          "coloraxis": {
           "colorbar": {
            "outlinewidth": 0,
            "ticks": ""
           }
          },
          "colorscale": {
           "diverging": [
            [
             0,
             "#8e0152"
            ],
            [
             0.1,
             "#c51b7d"
            ],
            [
             0.2,
             "#de77ae"
            ],
            [
             0.3,
             "#f1b6da"
            ],
            [
             0.4,
             "#fde0ef"
            ],
            [
             0.5,
             "#f7f7f7"
            ],
            [
             0.6,
             "#e6f5d0"
            ],
            [
             0.7,
             "#b8e186"
            ],
            [
             0.8,
             "#7fbc41"
            ],
            [
             0.9,
             "#4d9221"
            ],
            [
             1,
             "#276419"
            ]
           ],
           "sequential": [
            [
             0,
             "#0d0887"
            ],
            [
             0.1111111111111111,
             "#46039f"
            ],
            [
             0.2222222222222222,
             "#7201a8"
            ],
            [
             0.3333333333333333,
             "#9c179e"
            ],
            [
             0.4444444444444444,
             "#bd3786"
            ],
            [
             0.5555555555555556,
             "#d8576b"
            ],
            [
             0.6666666666666666,
             "#ed7953"
            ],
            [
             0.7777777777777778,
             "#fb9f3a"
            ],
            [
             0.8888888888888888,
             "#fdca26"
            ],
            [
             1,
             "#f0f921"
            ]
           ],
           "sequentialminus": [
            [
             0,
             "#0d0887"
            ],
            [
             0.1111111111111111,
             "#46039f"
            ],
            [
             0.2222222222222222,
             "#7201a8"
            ],
            [
             0.3333333333333333,
             "#9c179e"
            ],
            [
             0.4444444444444444,
             "#bd3786"
            ],
            [
             0.5555555555555556,
             "#d8576b"
            ],
            [
             0.6666666666666666,
             "#ed7953"
            ],
            [
             0.7777777777777778,
             "#fb9f3a"
            ],
            [
             0.8888888888888888,
             "#fdca26"
            ],
            [
             1,
             "#f0f921"
            ]
           ]
          },
          "colorway": [
           "#636efa",
           "#EF553B",
           "#00cc96",
           "#ab63fa",
           "#FFA15A",
           "#19d3f3",
           "#FF6692",
           "#B6E880",
           "#FF97FF",
           "#FECB52"
          ],
          "font": {
           "color": "#2a3f5f"
          },
          "geo": {
           "bgcolor": "white",
           "lakecolor": "white",
           "landcolor": "#E5ECF6",
           "showlakes": true,
           "showland": true,
           "subunitcolor": "white"
          },
          "hoverlabel": {
           "align": "left"
          },
          "hovermode": "closest",
          "mapbox": {
           "style": "light"
          },
          "paper_bgcolor": "white",
          "plot_bgcolor": "#E5ECF6",
          "polar": {
           "angularaxis": {
            "gridcolor": "white",
            "linecolor": "white",
            "ticks": ""
           },
           "bgcolor": "#E5ECF6",
           "radialaxis": {
            "gridcolor": "white",
            "linecolor": "white",
            "ticks": ""
           }
          },
          "scene": {
           "xaxis": {
            "backgroundcolor": "#E5ECF6",
            "gridcolor": "white",
            "gridwidth": 2,
            "linecolor": "white",
            "showbackground": true,
            "ticks": "",
            "zerolinecolor": "white"
           },
           "yaxis": {
            "backgroundcolor": "#E5ECF6",
            "gridcolor": "white",
            "gridwidth": 2,
            "linecolor": "white",
            "showbackground": true,
            "ticks": "",
            "zerolinecolor": "white"
           },
           "zaxis": {
            "backgroundcolor": "#E5ECF6",
            "gridcolor": "white",
            "gridwidth": 2,
            "linecolor": "white",
            "showbackground": true,
            "ticks": "",
            "zerolinecolor": "white"
           }
          },
          "shapedefaults": {
           "line": {
            "color": "#2a3f5f"
           }
          },
          "ternary": {
           "aaxis": {
            "gridcolor": "white",
            "linecolor": "white",
            "ticks": ""
           },
           "baxis": {
            "gridcolor": "white",
            "linecolor": "white",
            "ticks": ""
           },
           "bgcolor": "#E5ECF6",
           "caxis": {
            "gridcolor": "white",
            "linecolor": "white",
            "ticks": ""
           }
          },
          "title": {
           "x": 0.05
          },
          "xaxis": {
           "automargin": true,
           "gridcolor": "white",
           "linecolor": "white",
           "ticks": "",
           "title": {
            "standoff": 15
           },
           "zerolinecolor": "white",
           "zerolinewidth": 2
          },
          "yaxis": {
           "automargin": true,
           "gridcolor": "white",
           "linecolor": "white",
           "ticks": "",
           "title": {
            "standoff": 15
           },
           "zerolinecolor": "white",
           "zerolinewidth": 2
          }
         }
        },
        "title": {
         "text": "SIR MODEL",
         "x": 0.5,
         "xanchor": "center",
         "y": 0.9,
         "yanchor": "top"
        },
        "xaxis": {
         "title": {
          "text": "Time (days)"
         }
        },
        "yaxis": {
         "title": {
          "text": "Population"
         }
        }
       }
      },
      "text/html": [
       "<div>                            <div id=\"480301b0-2075-4c49-99a6-d48220b40e01\" class=\"plotly-graph-div\" style=\"height:525px; width:100%;\"></div>            <script type=\"text/javascript\">                require([\"plotly\"], function(Plotly) {                    window.PLOTLYENV=window.PLOTLYENV || {};                                    if (document.getElementById(\"480301b0-2075-4c49-99a6-d48220b40e01\")) {                    Plotly.newPlot(                        \"480301b0-2075-4c49-99a6-d48220b40e01\",                        [{\"mode\": \"lines\", \"name\": \"Susceptible\", \"type\": \"scatter\", \"x\": [0.0, 1.0, 2.0, 3.0, 4.0, 5.0, 6.0, 7.0, 8.0, 9.0, 10.0, 11.0, 12.0, 13.0, 14.0, 15.0, 16.0, 17.0, 18.0, 19.0, 20.0, 21.0, 22.0, 23.0, 24.0, 25.0, 26.0, 27.0, 28.0, 29.0, 30.0, 31.0, 32.0, 33.0, 34.0, 35.0, 36.0, 37.0, 38.0, 39.0, 40.0, 41.0, 42.0, 43.0, 44.0, 45.0, 46.0, 47.0, 48.0, 49.0], \"y\": [55413.0, 55410.85227295012, 55405.01505907238, 55389.154766834516, 55346.093358610124, 55229.41940412507, 54915.04349740405, 54080.4710016519, 51949.57953893488, 47007.908480548314, 37703.31515836416, 25404.788846153162, 14756.409096639161, 8147.545614411994, 4656.467305820186, 2864.6794687046354, 1911.8214321585376, 1375.5966519909061, 1055.8022356493536, 854.8793598593328, 722.9387325056997, 633.0860235651492, 570.0647198343097, 524.804619321058, 491.68133408035106, 467.074589763895, 448.57663461286216, 434.5400346461384, 423.80976635851664, 415.55908354818945, 409.18581206367895, 404.24493616172515, 400.40362053416646, 397.4104804556482, 395.07413180906207, 393.2479307952845, 391.8189336848423, 390.69979220023424, 389.8227305848582, 389.135022301891, 388.5955633692711, 388.1722578412336, 387.8400111932684, 387.57918297063577, 387.37438900832626, 387.2135713965133, 387.0872745783686, 386.9880807904665, 386.91016909120196, 386.84897050211083]}, {\"mode\": \"lines\", \"name\": \"Infected\", \"type\": \"scatter\", \"x\": [0.0, 1.0, 2.0, 3.0, 4.0, 5.0, 6.0, 7.0, 8.0, 9.0, 10.0, 11.0, 12.0, 13.0, 14.0, 15.0, 16.0, 17.0, 18.0, 19.0, 20.0, 21.0, 22.0, 23.0, 24.0, 25.0, 26.0, 27.0, 28.0, 29.0, 30.0, 31.0, 32.0, 33.0, 34.0, 35.0, 36.0, 37.0, 38.0, 39.0, 40.0, 41.0, 42.0, 43.0, 44.0, 45.0, 46.0, 47.0, 48.0, 49.0], \"y\": [1.0, 2.7181655635367328, 7.387808847163995, 20.075074049896756, 54.516986530872536, 147.80285885366501, 398.91321978782855, 1063.7616510349455, 2749.1299061962604, 6582.988995491324, 13443.073132839121, 21365.995618025278, 25993.531069664736, 26019.646136217645, 23310.34490247782, 19718.10176812578, 16189.074959315221, 13077.187214844755, 10464.62046080644, 8326.010688840357, 6600.076312121704, 5219.040046253845, 4119.95865840503, 3248.4067628351886, 2558.984341136269, 2014.5796666704787, 1585.227980640444, 1246.9262339436616, 980.5489279419485, 770.9130067100501, 605.9967065823301, 476.29941357021323, 374.3234600953709, 294.15805626652593, 231.14711555684255, 181.62512442748996, 142.70773297836928, 112.12608803764458, 88.09598264054176, 69.21463151233442, 54.379315494875705, 42.72330771531994, 33.56543801939681, 26.370409734915565, 20.717586793437306, 16.276449455494614, 12.78729785254404, 10.046083637597166, 7.892488074829695, 6.200552673558719]}, {\"mode\": \"lines\", \"name\": \"Recovered\", \"type\": \"scatter\", \"x\": [0.0, 1.0, 2.0, 3.0, 4.0, 5.0, 6.0, 7.0, 8.0, 9.0, 10.0, 11.0, 12.0, 13.0, 14.0, 15.0, 16.0, 17.0, 18.0, 19.0, 20.0, 21.0, 22.0, 23.0, 24.0, 25.0, 26.0, 27.0, 28.0, 29.0, 30.0, 31.0, 32.0, 33.0, 34.0, 35.0, 36.0, 37.0, 38.0, 39.0, 40.0, 41.0, 42.0, 43.0, 44.0, 45.0, 46.0, 47.0, 48.0, 49.0], \"y\": [0.0, 0.42956148635507224, 1.5971320804750782, 4.770159115598143, 13.389654859007278, 36.777737021270895, 100.04328280813881, 269.76734731316975, 715.2905548688918, 1823.1025239603857, 4267.611708796736, 8643.215535821575, 14664.059833696127, 21246.808249370388, 27447.187791702032, 32831.21876316963, 37313.10360852629, 40961.21613316439, 43893.577303544254, 46233.10995130035, 48090.98495537263, 49561.87393018104, 50723.976621760696, 51640.78861784379, 52363.33432478341, 52932.34574356566, 53380.19538474673, 53732.53373141023, 54009.64130569956, 54227.52790974178, 54398.817481354024, 54533.4556502681, 54639.272919370494, 54722.431463277855, 54787.77875263412, 54839.12694477725, 54879.47333333681, 54911.17411976215, 54936.081286774635, 54955.650346185816, 54971.02512113589, 54983.104434443485, 54992.59455078737, 55000.05040729449, 55005.90802419828, 55010.50997914803, 55014.12542756913, 55016.96583557197, 55019.197342834006, 55020.95047682437]}],                        {\"legend\": {\"title\": {\"text\": \"Variables\"}}, \"template\": {\"data\": {\"bar\": [{\"error_x\": {\"color\": \"#2a3f5f\"}, \"error_y\": {\"color\": \"#2a3f5f\"}, \"marker\": {\"line\": {\"color\": \"#E5ECF6\", \"width\": 0.5}}, \"type\": \"bar\"}], \"barpolar\": [{\"marker\": {\"line\": {\"color\": \"#E5ECF6\", \"width\": 0.5}}, \"type\": \"barpolar\"}], \"carpet\": [{\"aaxis\": {\"endlinecolor\": \"#2a3f5f\", \"gridcolor\": \"white\", \"linecolor\": \"white\", \"minorgridcolor\": \"white\", \"startlinecolor\": \"#2a3f5f\"}, \"baxis\": {\"endlinecolor\": \"#2a3f5f\", \"gridcolor\": \"white\", \"linecolor\": \"white\", \"minorgridcolor\": \"white\", \"startlinecolor\": \"#2a3f5f\"}, \"type\": \"carpet\"}], \"choropleth\": [{\"colorbar\": {\"outlinewidth\": 0, \"ticks\": \"\"}, \"type\": \"choropleth\"}], \"contour\": [{\"colorbar\": {\"outlinewidth\": 0, \"ticks\": \"\"}, \"colorscale\": [[0.0, \"#0d0887\"], [0.1111111111111111, \"#46039f\"], [0.2222222222222222, \"#7201a8\"], [0.3333333333333333, \"#9c179e\"], [0.4444444444444444, \"#bd3786\"], [0.5555555555555556, \"#d8576b\"], [0.6666666666666666, \"#ed7953\"], [0.7777777777777778, \"#fb9f3a\"], [0.8888888888888888, \"#fdca26\"], [1.0, \"#f0f921\"]], \"type\": \"contour\"}], \"contourcarpet\": [{\"colorbar\": {\"outlinewidth\": 0, \"ticks\": \"\"}, \"type\": \"contourcarpet\"}], \"heatmap\": [{\"colorbar\": {\"outlinewidth\": 0, \"ticks\": \"\"}, \"colorscale\": [[0.0, \"#0d0887\"], [0.1111111111111111, \"#46039f\"], [0.2222222222222222, \"#7201a8\"], [0.3333333333333333, \"#9c179e\"], [0.4444444444444444, \"#bd3786\"], [0.5555555555555556, \"#d8576b\"], [0.6666666666666666, \"#ed7953\"], [0.7777777777777778, \"#fb9f3a\"], [0.8888888888888888, \"#fdca26\"], [1.0, \"#f0f921\"]], \"type\": \"heatmap\"}], \"heatmapgl\": [{\"colorbar\": {\"outlinewidth\": 0, \"ticks\": \"\"}, \"colorscale\": [[0.0, \"#0d0887\"], [0.1111111111111111, \"#46039f\"], [0.2222222222222222, \"#7201a8\"], [0.3333333333333333, \"#9c179e\"], [0.4444444444444444, \"#bd3786\"], [0.5555555555555556, \"#d8576b\"], [0.6666666666666666, \"#ed7953\"], [0.7777777777777778, \"#fb9f3a\"], [0.8888888888888888, \"#fdca26\"], [1.0, \"#f0f921\"]], \"type\": \"heatmapgl\"}], \"histogram\": [{\"marker\": {\"colorbar\": {\"outlinewidth\": 0, \"ticks\": \"\"}}, \"type\": \"histogram\"}], \"histogram2d\": [{\"colorbar\": {\"outlinewidth\": 0, \"ticks\": \"\"}, \"colorscale\": [[0.0, \"#0d0887\"], [0.1111111111111111, \"#46039f\"], [0.2222222222222222, \"#7201a8\"], [0.3333333333333333, \"#9c179e\"], [0.4444444444444444, \"#bd3786\"], [0.5555555555555556, \"#d8576b\"], [0.6666666666666666, \"#ed7953\"], [0.7777777777777778, \"#fb9f3a\"], [0.8888888888888888, \"#fdca26\"], [1.0, \"#f0f921\"]], \"type\": \"histogram2d\"}], \"histogram2dcontour\": [{\"colorbar\": {\"outlinewidth\": 0, \"ticks\": \"\"}, \"colorscale\": [[0.0, \"#0d0887\"], [0.1111111111111111, \"#46039f\"], [0.2222222222222222, \"#7201a8\"], [0.3333333333333333, \"#9c179e\"], [0.4444444444444444, \"#bd3786\"], [0.5555555555555556, \"#d8576b\"], [0.6666666666666666, \"#ed7953\"], [0.7777777777777778, \"#fb9f3a\"], [0.8888888888888888, \"#fdca26\"], [1.0, \"#f0f921\"]], \"type\": \"histogram2dcontour\"}], \"mesh3d\": [{\"colorbar\": {\"outlinewidth\": 0, \"ticks\": \"\"}, \"type\": \"mesh3d\"}], \"parcoords\": [{\"line\": {\"colorbar\": {\"outlinewidth\": 0, \"ticks\": \"\"}}, \"type\": \"parcoords\"}], \"pie\": [{\"automargin\": true, \"type\": \"pie\"}], \"scatter\": [{\"marker\": {\"colorbar\": {\"outlinewidth\": 0, \"ticks\": \"\"}}, \"type\": \"scatter\"}], \"scatter3d\": [{\"line\": {\"colorbar\": {\"outlinewidth\": 0, \"ticks\": \"\"}}, \"marker\": {\"colorbar\": {\"outlinewidth\": 0, \"ticks\": \"\"}}, \"type\": \"scatter3d\"}], \"scattercarpet\": [{\"marker\": {\"colorbar\": {\"outlinewidth\": 0, \"ticks\": \"\"}}, \"type\": \"scattercarpet\"}], \"scattergeo\": [{\"marker\": {\"colorbar\": {\"outlinewidth\": 0, \"ticks\": \"\"}}, \"type\": \"scattergeo\"}], \"scattergl\": [{\"marker\": {\"colorbar\": {\"outlinewidth\": 0, \"ticks\": \"\"}}, \"type\": \"scattergl\"}], \"scattermapbox\": [{\"marker\": {\"colorbar\": {\"outlinewidth\": 0, \"ticks\": \"\"}}, \"type\": \"scattermapbox\"}], \"scatterpolar\": [{\"marker\": {\"colorbar\": {\"outlinewidth\": 0, \"ticks\": \"\"}}, \"type\": \"scatterpolar\"}], \"scatterpolargl\": [{\"marker\": {\"colorbar\": {\"outlinewidth\": 0, \"ticks\": \"\"}}, \"type\": \"scatterpolargl\"}], \"scatterternary\": [{\"marker\": {\"colorbar\": {\"outlinewidth\": 0, \"ticks\": \"\"}}, \"type\": \"scatterternary\"}], \"surface\": [{\"colorbar\": {\"outlinewidth\": 0, \"ticks\": \"\"}, \"colorscale\": [[0.0, \"#0d0887\"], [0.1111111111111111, \"#46039f\"], [0.2222222222222222, \"#7201a8\"], [0.3333333333333333, \"#9c179e\"], [0.4444444444444444, \"#bd3786\"], [0.5555555555555556, \"#d8576b\"], [0.6666666666666666, \"#ed7953\"], [0.7777777777777778, \"#fb9f3a\"], [0.8888888888888888, \"#fdca26\"], [1.0, \"#f0f921\"]], \"type\": \"surface\"}], \"table\": [{\"cells\": {\"fill\": {\"color\": \"#EBF0F8\"}, \"line\": {\"color\": \"white\"}}, \"header\": {\"fill\": {\"color\": \"#C8D4E3\"}, \"line\": {\"color\": \"white\"}}, \"type\": \"table\"}]}, \"layout\": {\"annotationdefaults\": {\"arrowcolor\": \"#2a3f5f\", \"arrowhead\": 0, \"arrowwidth\": 1}, \"coloraxis\": {\"colorbar\": {\"outlinewidth\": 0, \"ticks\": \"\"}}, \"colorscale\": {\"diverging\": [[0, \"#8e0152\"], [0.1, \"#c51b7d\"], [0.2, \"#de77ae\"], [0.3, \"#f1b6da\"], [0.4, \"#fde0ef\"], [0.5, \"#f7f7f7\"], [0.6, \"#e6f5d0\"], [0.7, \"#b8e186\"], [0.8, \"#7fbc41\"], [0.9, \"#4d9221\"], [1, \"#276419\"]], \"sequential\": [[0.0, \"#0d0887\"], [0.1111111111111111, \"#46039f\"], [0.2222222222222222, \"#7201a8\"], [0.3333333333333333, \"#9c179e\"], [0.4444444444444444, \"#bd3786\"], [0.5555555555555556, \"#d8576b\"], [0.6666666666666666, \"#ed7953\"], [0.7777777777777778, \"#fb9f3a\"], [0.8888888888888888, \"#fdca26\"], [1.0, \"#f0f921\"]], \"sequentialminus\": [[0.0, \"#0d0887\"], [0.1111111111111111, \"#46039f\"], [0.2222222222222222, \"#7201a8\"], [0.3333333333333333, \"#9c179e\"], [0.4444444444444444, \"#bd3786\"], [0.5555555555555556, \"#d8576b\"], [0.6666666666666666, \"#ed7953\"], [0.7777777777777778, \"#fb9f3a\"], [0.8888888888888888, \"#fdca26\"], [1.0, \"#f0f921\"]]}, \"colorway\": [\"#636efa\", \"#EF553B\", \"#00cc96\", \"#ab63fa\", \"#FFA15A\", \"#19d3f3\", \"#FF6692\", \"#B6E880\", \"#FF97FF\", \"#FECB52\"], \"font\": {\"color\": \"#2a3f5f\"}, \"geo\": {\"bgcolor\": \"white\", \"lakecolor\": \"white\", \"landcolor\": \"#E5ECF6\", \"showlakes\": true, \"showland\": true, \"subunitcolor\": \"white\"}, \"hoverlabel\": {\"align\": \"left\"}, \"hovermode\": \"closest\", \"mapbox\": {\"style\": \"light\"}, \"paper_bgcolor\": \"white\", \"plot_bgcolor\": \"#E5ECF6\", \"polar\": {\"angularaxis\": {\"gridcolor\": \"white\", \"linecolor\": \"white\", \"ticks\": \"\"}, \"bgcolor\": \"#E5ECF6\", \"radialaxis\": {\"gridcolor\": \"white\", \"linecolor\": \"white\", \"ticks\": \"\"}}, \"scene\": {\"xaxis\": {\"backgroundcolor\": \"#E5ECF6\", \"gridcolor\": \"white\", \"gridwidth\": 2, \"linecolor\": \"white\", \"showbackground\": true, \"ticks\": \"\", \"zerolinecolor\": \"white\"}, \"yaxis\": {\"backgroundcolor\": \"#E5ECF6\", \"gridcolor\": \"white\", \"gridwidth\": 2, \"linecolor\": \"white\", \"showbackground\": true, \"ticks\": \"\", \"zerolinecolor\": \"white\"}, \"zaxis\": {\"backgroundcolor\": \"#E5ECF6\", \"gridcolor\": \"white\", \"gridwidth\": 2, \"linecolor\": \"white\", \"showbackground\": true, \"ticks\": \"\", \"zerolinecolor\": \"white\"}}, \"shapedefaults\": {\"line\": {\"color\": \"#2a3f5f\"}}, \"ternary\": {\"aaxis\": {\"gridcolor\": \"white\", \"linecolor\": \"white\", \"ticks\": \"\"}, \"baxis\": {\"gridcolor\": \"white\", \"linecolor\": \"white\", \"ticks\": \"\"}, \"bgcolor\": \"#E5ECF6\", \"caxis\": {\"gridcolor\": \"white\", \"linecolor\": \"white\", \"ticks\": \"\"}}, \"title\": {\"x\": 0.05}, \"xaxis\": {\"automargin\": true, \"gridcolor\": \"white\", \"linecolor\": \"white\", \"ticks\": \"\", \"title\": {\"standoff\": 15}, \"zerolinecolor\": \"white\", \"zerolinewidth\": 2}, \"yaxis\": {\"automargin\": true, \"gridcolor\": \"white\", \"linecolor\": \"white\", \"ticks\": \"\", \"title\": {\"standoff\": 15}, \"zerolinecolor\": \"white\", \"zerolinewidth\": 2}}}, \"title\": {\"text\": \"SIR MODEL\", \"x\": 0.5, \"xanchor\": \"center\", \"y\": 0.9, \"yanchor\": \"top\"}, \"xaxis\": {\"title\": {\"text\": \"Time (days)\"}}, \"yaxis\": {\"title\": {\"text\": \"Population\"}}},                        {\"responsive\": true}                    ).then(function(){\n",
       "                            \n",
       "var gd = document.getElementById('480301b0-2075-4c49-99a6-d48220b40e01');\n",
       "var x = new MutationObserver(function (mutations, observer) {{\n",
       "        var display = window.getComputedStyle(gd).display;\n",
       "        if (!display || display === 'none') {{\n",
       "            console.log([gd, 'removed!']);\n",
       "            Plotly.purge(gd);\n",
       "            observer.disconnect();\n",
       "        }}\n",
       "}});\n",
       "\n",
       "// Listen for the removal of the full notebook cells\n",
       "var notebookContainer = gd.closest('#notebook-container');\n",
       "if (notebookContainer) {{\n",
       "    x.observe(notebookContainer, {childList: true});\n",
       "}}\n",
       "\n",
       "// Listen for the clearing of the current output cell\n",
       "var outputEl = gd.closest('.output');\n",
       "if (outputEl) {{\n",
       "    x.observe(outputEl, {childList: true});\n",
       "}}\n",
       "\n",
       "                        })                };                });            </script>        </div>"
      ]
     },
     "metadata": {},
     "output_type": "display_data"
    }
   ],
   "source": [
    "#SIR MODEL CONSTRUCTION\n",
    "import numpy as np\n",
    "from scipy.integrate import odeint\n",
    "import matplotlib.pyplot as plt\n",
    "\n",
    "#create the function\n",
    "def deriv(y, t, N, beta, gamma):\n",
    "    S, I, R = y\n",
    "    dSdt = -beta * S * I / N\n",
    "    dIdt = beta * S * I / N - gamma * I\n",
    "    dRdt = gamma * I\n",
    "    return dSdt, dIdt, dRdt\n",
    "\n",
    "#population and parameters determine\n",
    "N = 55414 \n",
    "beta = 1.25  # infected person infects 1 other person per day\n",
    "D = 4.0    # infections lasts four days\n",
    "gamma = 1.0 / D\n",
    "\n",
    "# initial conditions: one infected, rest susceptible\n",
    "I0, R0 = 1, 0  \n",
    "S0 = N - I0 - R0\n",
    "#define time\n",
    "t = np.linspace(0, 49, 50) # Grid of time points (in days)\n",
    "y0 = S0, I0, R0 # Initial conditions vector\n",
    "\n",
    "# Integrate the SIR equations over the time grid, t.\n",
    "ret = odeint(deriv, y0, t, args=(N, beta, gamma))\n",
    "S, I, R = ret.T\n",
    "#model = S, I, R\n",
    "\n",
    "#for i in range(len(model)):\n",
    " #   S[i] = S[i] / N\n",
    "  #  I[i] = I[i] / N\n",
    "   # R[i] = R[i] / N\n",
    "        \n",
    "\n",
    "# Plot the data on three separate curves for S(t), I(t) and R(t)\n",
    "import plotly.graph_objects as go\n",
    "\n",
    "fig = go.Figure()\n",
    "fig.add_trace(go.Scatter(x=t, y=S,mode='lines',name='Susceptible'))\n",
    "fig.add_trace(go.Scatter(x=t, y=I,mode='lines',name='Infected'))\n",
    "fig.add_trace(go.Scatter(x=t, y=R,mode='lines',name='Recovered'))\n",
    "\n",
    "fig.update_layout(\n",
    "     title={\n",
    "        'text': \"SIR MODEL\",\n",
    "        'y':0.9,\n",
    "        'x':0.5,\n",
    "        'xanchor': 'center',\n",
    "        'yanchor': 'top'},     \n",
    "    xaxis_title=\"Time (days)\",\n",
    "    yaxis_title=\"Population\",\n",
    "    legend_title=\"Variables\"\n",
    "    )\n",
    "fig.show()"
   ]
  },
  {
   "cell_type": "markdown",
   "metadata": {},
   "source": [
    "# SEIR model"
   ]
  },
  {
   "cell_type": "code",
   "execution_count": 52,
   "metadata": {},
   "outputs": [
    {
     "data": {
      "application/vnd.plotly.v1+json": {
       "config": {
        "plotlyServerURL": "https://plot.ly"
       },
       "data": [
        {
         "mode": "lines",
         "name": "Susceptible",
         "type": "scatter",
         "x": [
          0,
          1,
          2,
          3,
          4,
          5,
          6,
          7,
          8,
          9,
          10,
          11,
          12,
          13,
          14,
          15,
          16,
          17,
          18,
          19,
          20,
          21,
          22,
          23,
          24,
          25,
          26,
          27,
          28,
          29,
          30,
          31,
          32,
          33,
          34,
          35,
          36,
          37,
          38,
          39,
          40,
          41,
          42,
          43,
          44,
          45,
          46,
          47,
          48,
          49,
          50,
          51,
          52,
          53,
          54,
          55,
          56,
          57,
          58,
          59,
          60,
          61,
          62,
          63,
          64,
          65,
          66,
          67,
          68,
          69,
          70,
          71,
          72,
          73,
          74,
          75,
          76,
          77,
          78,
          79,
          80,
          81,
          82,
          83,
          84,
          85,
          86,
          87,
          88,
          89,
          90,
          91,
          92,
          93,
          94,
          95,
          96,
          97,
          98,
          99,
          100
         ],
         "y": [
          55414,
          55413.93456439693,
          55413.76573087458,
          55413.51725984078,
          55413.19783575642,
          55412.80723553364,
          55412.339538616245,
          55411.7847112721,
          55411.129283029484,
          55410.35649914587,
          55409.446151534095,
          55408.374191013034,
          55407.11216886841,
          55405.62652447868,
          55403.877717274925,
          55401.81918966939,
          55399.39613833668,
          55396.5440650892,
          55393.18706948557,
          55389.2358425904,
          55384.58530699105,
          55379.11184540765,
          55372.670045447936,
          55365.08887949028,
          55356.167223080985,
          55345.6686007987,
          55333.315032474995,
          55318.77982835367,
          55301.679166824244,
          55281.562260053906,
          55257.899884326165,
          55230.07103062991,
          55197.34739745613,
          55158.87542294367,
          55113.655526689196,
          55060.518214857,
          54998.09669282511,
          54924.795641173245,
          54838.75584501065,
          54737.8144438887,
          54619.460702886376,
          54480.78742016805,
          54318.438387712544,
          54128.55281014307,
          53906.708212283695,
          53647.86423109541,
          53346.31089746924,
          52995.626430120734,
          52588.65142820901,
          52117.488561292994,
          51573.53912834242,
          50947.59056451356,
          50229.97079162592,
          49410.78691888013,
          48480.26499297189,
          47429.20445585624,
          46249.55300496421,
          44935.09571479565,
          43482.23302993762,
          41890.79860805728,
          40164.84106522073,
          38313.26931510928,
          36350.24435194914,
          34295.20260374035,
          32172.42172425083,
          30010.09275994538,
          27838.937231560627,
          25690.49075092277,
          23595.243816685346,
          21580.867885985033,
          19670.74506989905,
          17882.965626109977,
          16229.872067011924,
          14718.135719637758,
          13349.274268875084,
          12120.471727584532,
          11025.550522947067,
          10055.961718186996,
          9201.693976032999,
          8452.040543980374,
          7796.199220516329,
          7223.70728548887,
          6724.729904781443,
          6290.228805903287,
          5912.039468988605,
          5582.883044608634,
          5296.334822012706,
          5046.766358321916,
          4829.273807724834,
          4639.601199549198,
          4474.064435152788,
          4329.4794246957235,
          4203.096283710427,
          4092.540398312621,
          3995.7604532500604,
          3910.9831249211024,
          3836.673903325412,
          3771.503402439889,
          3714.318502641766,
          3664.1176851664754,
          3620.029976819506
         ]
        },
        {
         "mode": "lines",
         "name": "Exposed",
         "type": "scatter",
         "x": [
          0,
          1,
          2,
          3,
          4,
          5,
          6,
          7,
          8,
          9,
          10,
          11,
          12,
          13,
          14,
          15,
          16,
          17,
          18,
          19,
          20,
          21,
          22,
          23,
          24,
          25,
          26,
          27,
          28,
          29,
          30,
          31,
          32,
          33,
          34,
          35,
          36,
          37,
          38,
          39,
          40,
          41,
          42,
          43,
          44,
          45,
          46,
          47,
          48,
          49,
          50,
          51,
          52,
          53,
          54,
          55,
          56,
          57,
          58,
          59,
          60,
          61,
          62,
          63,
          64,
          65,
          66,
          67,
          68,
          69,
          70,
          71,
          72,
          73,
          74,
          75,
          76,
          77,
          78,
          79,
          80,
          81,
          82,
          83,
          84,
          85,
          86,
          87,
          88,
          89,
          90,
          91,
          92,
          93,
          94,
          95,
          96,
          97,
          98,
          99,
          100
         ],
         "y": [
          1,
          0.8798809854663748,
          0.8747339380305253,
          0.9424776162453428,
          1.062198019626201,
          1.2247797661920503,
          1.4278902006047627,
          1.6733318646435584,
          1.9656899436488422,
          2.3116956915681763,
          2.719994519408472,
          3.2011532835192575,
          3.767820509452221,
          4.434997002504178,
          5.2203986043140205,
          6.144906741689392,
          7.233111290832401,
          8.513955485294671,
          10.021498071367795,
          11.795809770831802,
          13.884027871473439,
          16.341594064704527,
          19.23370718900287,
          22.637026266848206,
          26.641665749065233,
          31.353530988258814,
          36.8970483922963,
          43.418354610829745,
          51.089014607091066,
          60.110349092070194,
          70.71846211827402,
          83.19006575018294,
          97.84920859610845,
          115.07502018127205,
          135.31058500893727,
          159.07305654753029,
          186.96510890228367,
          219.68779445682253,
          258.0548336955944,
          303.0082869764467,
          355.63544333293834,
          417.18660253427635,
          489.09319731747553,
          572.9853727066579,
          670.7077189525023,
          784.3313038411106,
          916.1593946656923,
          1068.7234307259948,
          1244.764739435667,
          1447.1963145091652,
          1679.0378928980258,
          1943.3164275628164,
          2242.923721540136,
          2580.4231891056206,
          2957.799801569411,
          3376.1512869245757,
          3835.3260466749884,
          4333.523493689139,
          4866.886784140407,
          5429.134228543098,
          6011.2914782819835,
          6601.597727120675,
          7185.66042304579,
          7746.917505412465,
          8267.43157995283,
          8728.987554258989,
          9114.402536105981,
          9408.898100987179,
          9601.350002754923,
          9685.230532011505,
          9659.101872698804,
          9526.594198647177,
          9295.891714415187,
          8978.830298848809,
          8589.760817678894,
          8144.346632856414,
          7658.443444993605,
          7147.167537074115,
          6624.207720250207,
          6101.391424858298,
          5588.480872383059,
          5093.1556214790535,
          4621.130694485422,
          4176.361441738996,
          3761.2937020629547,
          3377.1274359115678,
          3024.071664299142,
          2701.576834638058,
          2408.537408583383,
          2143.462214044648,
          1904.6131928991902,
          1690.1152080591849,
          1498.0404194492064,
          1326.4711654791618,
          1173.545105211206,
          1037.4861646355382,
          916.6243156579242,
          809.406812822299,
          714.4030183965596,
          630.3045664554072,
          555.9222309561928
         ]
        },
        {
         "mode": "lines",
         "name": "Infected",
         "type": "scatter",
         "x": [
          0,
          1,
          2,
          3,
          4,
          5,
          6,
          7,
          8,
          9,
          10,
          11,
          12,
          13,
          14,
          15,
          16,
          17,
          18,
          19,
          20,
          21,
          22,
          23,
          24,
          25,
          26,
          27,
          28,
          29,
          30,
          31,
          32,
          33,
          34,
          35,
          36,
          37,
          38,
          39,
          40,
          41,
          42,
          43,
          44,
          45,
          46,
          47,
          48,
          49,
          50,
          51,
          52,
          53,
          54,
          55,
          56,
          57,
          58,
          59,
          60,
          61,
          62,
          63,
          64,
          65,
          66,
          67,
          68,
          69,
          70,
          71,
          72,
          73,
          74,
          75,
          76,
          77,
          78,
          79,
          80,
          81,
          82,
          83,
          84,
          85,
          86,
          87,
          88,
          89,
          90,
          91,
          92,
          93,
          94,
          95,
          96,
          97,
          98,
          99,
          100
         ],
         "y": [
          0,
          0.1637427370483582,
          0.2814453138629235,
          0.3793484556776402,
          0.4725762074203114,
          0.5703922656930233,
          0.6790757625394996,
          0.8035125267805818,
          0.9480965829734748,
          1.1172649490735407,
          1.315842082914449,
          1.5492908429532242,
          1.8239242095547086,
          2.1471091078508953,
          2.5274816743890463,
          2.975187159554805,
          3.5021549186669665,
          4.122417798099397,
          4.85248575735656,
          5.7117834613634395,
          6.7231642411706,
          7.913513244457875,
          9.314455696941918,
          10.963187932153104,
          12.90345232179631,
          15.18668024409352,
          17.873330821183906,
          21.034458383613273,
          24.753544864530962,
          29.128639608210914,
          34.27485520052956,
          40.327272517087245,
          47.4443158030678,
          55.81166354334388,
          65.64676743532787,
          77.2040548147466,
          90.78089159772662,
          106.72438231189432,
          125.43907287412549,
          147.39560650097542,
          173.1403563791965,
          203.3059997461701,
          238.6229471223643,
          279.9314122264557,
          328.1937765217197,
          384.506696600555,
          450.1121215570397,
          526.406046608207,
          614.9433821140419,
          717.4367564831653,
          835.7464813103682,
          971.8581607845144,
          1127.8438385057414,
          1305.801947068616,
          1507.7711801664066,
          1735.613716164419,
          1990.8646271583525,
          2274.5466652102814,
          2586.9540709904268,
          2927.414859582981,
          3294.048825653918,
          3683.5464659915115,
          4091.00216525683,
          4509.839311859382,
          4931.864355317978,
          5347.478283812728,
          5746.056956417766,
          6116.487400475937,
          6447.819816872275,
          6729.970741723474,
          6954.397614463224,
          7114.664256591176,
          7206.8311578339,
          7229.630511600061,
          7184.418872869957,
          7074.930667940454,
          6906.879081770552,
          6687.4632266747,
          6424.841447652482,
          6127.622823615889,
          5804.416238713142,
          5463.460991372119,
          5112.349275577576,
          4757.83957164337,
          4405.7523501308115,
          4060.9347248467275,
          3727.27903142541,
          3407.780481052956,
          3104.620523227497,
          2819.2646262376315,
          2552.5656423717583,
          2304.866154785619,
          2076.095219339264,
          1865.8565829498239,
          1673.506845118799,
          1498.2229520310818,
          1339.0591667420879,
          1194.9941192642773,
          1064.9688131833125,
          947.916631906007,
          842.7864112076935
         ]
        },
        {
         "mode": "lines",
         "name": "Recovered",
         "type": "scatter",
         "x": [
          0,
          1,
          2,
          3,
          4,
          5,
          6,
          7,
          8,
          9,
          10,
          11,
          12,
          13,
          14,
          15,
          16,
          17,
          18,
          19,
          20,
          21,
          22,
          23,
          24,
          25,
          26,
          27,
          28,
          29,
          30,
          31,
          32,
          33,
          34,
          35,
          36,
          37,
          38,
          39,
          40,
          41,
          42,
          43,
          44,
          45,
          46,
          47,
          48,
          49,
          50,
          51,
          52,
          53,
          54,
          55,
          56,
          57,
          58,
          59,
          60,
          61,
          62,
          63,
          64,
          65,
          66,
          67,
          68,
          69,
          70,
          71,
          72,
          73,
          74,
          75,
          76,
          77,
          78,
          79,
          80,
          81,
          82,
          83,
          84,
          85,
          86,
          87,
          88,
          89,
          90,
          91,
          92,
          93,
          94,
          95,
          96,
          97,
          98,
          99,
          100
         ],
         "y": [
          0,
          0.021811880575882958,
          0.0780898735483956,
          0.16091408731849163,
          0.26739001655237715,
          0.397592434481373,
          0.5534954206097804,
          0.7384443364855692,
          0.9569304439027363,
          1.2145402134952936,
          1.5180118635903752,
          1.8753648605054583,
          2.296086412599222,
          2.7913694109940677,
          3.3744024463981552,
          4.060716429400062,
          4.868595453854722,
          5.819561627437901,
          6.938946685737207,
          8.25656417743024,
          9.807500896333325,
          11.633047283208835,
          13.781791666136508,
          16.310906310744805,
          19.287658848174445,
          22.791187968966177,
          26.91458831154834,
          31.767358651913742,
          37.478273704145934,
          44.19875124582761,
          52.10679835504902,
          61.411631102836665,
          72.35907814470659,
          85.23789333172742,
          100.38712086655082,
          118.20467378072725,
          139.15730667488714,
          163.7921820580433,
          192.75024841962926,
          226.7816626338817,
          266.76349740150465,
          313.71997755151307,
          368.845467847626,
          433.5304049238332,
          509.39029224209264,
          598.2977684629377,
          702.4175863080483,
          824.244092545084,
          966.6404502413066,
          1132.8783677146985,
          1326.6764974492112,
          1552.2348471391304,
          1814.2616483282236,
          2117.9879449456575,
          2469.1640252923166,
          2874.030541054793,
          3339.2563212024716,
          3871.8341263049588,
          4478.926114931584,
          5167.6523038166715,
          5944.818630843402,
          6816.586491778568,
          7788.09305974827,
          8863.040578987835,
          10043.282340478389,
          11328.441401982936,
          12715.603275915655,
          14199.123747614143,
          15770.586363687487,
          17418.93084028002,
          19130.755442938953,
          20890.775918651703,
          22682.405060739024,
          24488.403469913406,
          26291.546040576097,
          28075.250971618632,
          29824.126950288803,
          31524.407518064218,
          33164.25685606434,
          34733.94520754547,
          36225.9036683875,
          37634.676101659985,
          38956.790125155596,
          40190.57018071438,
          41335.914478817656,
          42394.0547946331,
          43367.31448226277,
          44258.876325987105,
          45072.56826046432,
          45812.67196016856,
          46483.7567295763,
          47090.53921245951,
          47637.76807750114,
          48130.13185325843,
          48572.187596419964,
          48968.30775841231,
          49322.642614274606,
          49639.09566547356,
          49921.30966577838,
          50172.66111647213,
          50396.26138101663
         ]
        },
        {
         "mode": "lines+markers",
         "name": "Total",
         "type": "scatter",
         "x": [
          0,
          1,
          2,
          3,
          4,
          5,
          6,
          7,
          8,
          9,
          10,
          11,
          12,
          13,
          14,
          15,
          16,
          17,
          18,
          19,
          20,
          21,
          22,
          23,
          24,
          25,
          26,
          27,
          28,
          29,
          30,
          31,
          32,
          33,
          34,
          35,
          36,
          37,
          38,
          39,
          40,
          41,
          42,
          43,
          44,
          45,
          46,
          47,
          48,
          49,
          50,
          51,
          52,
          53,
          54,
          55,
          56,
          57,
          58,
          59,
          60,
          61,
          62,
          63,
          64,
          65,
          66,
          67,
          68,
          69,
          70,
          71,
          72,
          73,
          74,
          75,
          76,
          77,
          78,
          79,
          80,
          81,
          82,
          83,
          84,
          85,
          86,
          87,
          88,
          89,
          90,
          91,
          92,
          93,
          94,
          95,
          96,
          97,
          98,
          99,
          100
         ],
         "y": [
          55415,
          55415.00000000002,
          55415.000000000015,
          55415.00000000003,
          55415.00000000002,
          55415.00000000001,
          55415,
          55415.00000000001,
          55415.00000000001,
          55415.00000000001,
          55415.00000000001,
          55415.00000000001,
          55415.00000000001,
          55415.00000000003,
          55415.00000000003,
          55415.00000000004,
          55415.00000000003,
          55415.00000000003,
          55415.00000000003,
          55415.00000000002,
          55415.00000000003,
          55415.00000000002,
          55415.000000000015,
          55415.00000000003,
          55415.00000000002,
          55415.000000000015,
          55415.00000000002,
          55415.00000000003,
          55415.00000000001,
          55415.00000000002,
          55415.000000000015,
          55415.000000000015,
          55415.000000000015,
          55415.000000000015,
          55415.00000000001,
          55415.00000000001,
          55415.00000000001,
          55415.00000000001,
          55415,
          55415.00000000001,
          55415.000000000015,
          55415.00000000001,
          55415.00000000001,
          55415.000000000015,
          55415.00000000001,
          55415.00000000001,
          55415.000000000015,
          55415.00000000002,
          55415.00000000002,
          55415.00000000002,
          55415.00000000002,
          55415.000000000015,
          55415.00000000002,
          55415.00000000002,
          55415.00000000002,
          55415.00000000004,
          55415.000000000015,
          55415.00000000003,
          55415.00000000004,
          55415.00000000003,
          55415.00000000004,
          55415.00000000003,
          55415.00000000004,
          55415.00000000003,
          55415.00000000003,
          55415.00000000003,
          55415.00000000003,
          55415.00000000003,
          55415.00000000003,
          55415.00000000003,
          55415.00000000003,
          55415.00000000003,
          55415.00000000004,
          55415.00000000003,
          55415.00000000004,
          55415.00000000003,
          55415.00000000003,
          55415.00000000003,
          55415.00000000003,
          55415.00000000003,
          55415.00000000003,
          55415.00000000003,
          55415.00000000004,
          55415.00000000003,
          55415.00000000003,
          55415.00000000003,
          55415.00000000003,
          55415.00000000004,
          55415.00000000004,
          55415.000000000044,
          55415.00000000004,
          55415.00000000004,
          55415.00000000004,
          55415.00000000003,
          55415.00000000003,
          55415.00000000003,
          55415.00000000003,
          55415.00000000002,
          55415.00000000002,
          55415.00000000002,
          55415.00000000002
         ]
        }
       ],
       "layout": {
        "legend": {
         "title": {
          "text": "Variables"
         }
        },
        "template": {
         "data": {
          "bar": [
           {
            "error_x": {
             "color": "#2a3f5f"
            },
            "error_y": {
             "color": "#2a3f5f"
            },
            "marker": {
             "line": {
              "color": "#E5ECF6",
              "width": 0.5
             }
            },
            "type": "bar"
           }
          ],
          "barpolar": [
           {
            "marker": {
             "line": {
              "color": "#E5ECF6",
              "width": 0.5
             }
            },
            "type": "barpolar"
           }
          ],
          "carpet": [
           {
            "aaxis": {
             "endlinecolor": "#2a3f5f",
             "gridcolor": "white",
             "linecolor": "white",
             "minorgridcolor": "white",
             "startlinecolor": "#2a3f5f"
            },
            "baxis": {
             "endlinecolor": "#2a3f5f",
             "gridcolor": "white",
             "linecolor": "white",
             "minorgridcolor": "white",
             "startlinecolor": "#2a3f5f"
            },
            "type": "carpet"
           }
          ],
          "choropleth": [
           {
            "colorbar": {
             "outlinewidth": 0,
             "ticks": ""
            },
            "type": "choropleth"
           }
          ],
          "contour": [
           {
            "colorbar": {
             "outlinewidth": 0,
             "ticks": ""
            },
            "colorscale": [
             [
              0,
              "#0d0887"
             ],
             [
              0.1111111111111111,
              "#46039f"
             ],
             [
              0.2222222222222222,
              "#7201a8"
             ],
             [
              0.3333333333333333,
              "#9c179e"
             ],
             [
              0.4444444444444444,
              "#bd3786"
             ],
             [
              0.5555555555555556,
              "#d8576b"
             ],
             [
              0.6666666666666666,
              "#ed7953"
             ],
             [
              0.7777777777777778,
              "#fb9f3a"
             ],
             [
              0.8888888888888888,
              "#fdca26"
             ],
             [
              1,
              "#f0f921"
             ]
            ],
            "type": "contour"
           }
          ],
          "contourcarpet": [
           {
            "colorbar": {
             "outlinewidth": 0,
             "ticks": ""
            },
            "type": "contourcarpet"
           }
          ],
          "heatmap": [
           {
            "colorbar": {
             "outlinewidth": 0,
             "ticks": ""
            },
            "colorscale": [
             [
              0,
              "#0d0887"
             ],
             [
              0.1111111111111111,
              "#46039f"
             ],
             [
              0.2222222222222222,
              "#7201a8"
             ],
             [
              0.3333333333333333,
              "#9c179e"
             ],
             [
              0.4444444444444444,
              "#bd3786"
             ],
             [
              0.5555555555555556,
              "#d8576b"
             ],
             [
              0.6666666666666666,
              "#ed7953"
             ],
             [
              0.7777777777777778,
              "#fb9f3a"
             ],
             [
              0.8888888888888888,
              "#fdca26"
             ],
             [
              1,
              "#f0f921"
             ]
            ],
            "type": "heatmap"
           }
          ],
          "heatmapgl": [
           {
            "colorbar": {
             "outlinewidth": 0,
             "ticks": ""
            },
            "colorscale": [
             [
              0,
              "#0d0887"
             ],
             [
              0.1111111111111111,
              "#46039f"
             ],
             [
              0.2222222222222222,
              "#7201a8"
             ],
             [
              0.3333333333333333,
              "#9c179e"
             ],
             [
              0.4444444444444444,
              "#bd3786"
             ],
             [
              0.5555555555555556,
              "#d8576b"
             ],
             [
              0.6666666666666666,
              "#ed7953"
             ],
             [
              0.7777777777777778,
              "#fb9f3a"
             ],
             [
              0.8888888888888888,
              "#fdca26"
             ],
             [
              1,
              "#f0f921"
             ]
            ],
            "type": "heatmapgl"
           }
          ],
          "histogram": [
           {
            "marker": {
             "colorbar": {
              "outlinewidth": 0,
              "ticks": ""
             }
            },
            "type": "histogram"
           }
          ],
          "histogram2d": [
           {
            "colorbar": {
             "outlinewidth": 0,
             "ticks": ""
            },
            "colorscale": [
             [
              0,
              "#0d0887"
             ],
             [
              0.1111111111111111,
              "#46039f"
             ],
             [
              0.2222222222222222,
              "#7201a8"
             ],
             [
              0.3333333333333333,
              "#9c179e"
             ],
             [
              0.4444444444444444,
              "#bd3786"
             ],
             [
              0.5555555555555556,
              "#d8576b"
             ],
             [
              0.6666666666666666,
              "#ed7953"
             ],
             [
              0.7777777777777778,
              "#fb9f3a"
             ],
             [
              0.8888888888888888,
              "#fdca26"
             ],
             [
              1,
              "#f0f921"
             ]
            ],
            "type": "histogram2d"
           }
          ],
          "histogram2dcontour": [
           {
            "colorbar": {
             "outlinewidth": 0,
             "ticks": ""
            },
            "colorscale": [
             [
              0,
              "#0d0887"
             ],
             [
              0.1111111111111111,
              "#46039f"
             ],
             [
              0.2222222222222222,
              "#7201a8"
             ],
             [
              0.3333333333333333,
              "#9c179e"
             ],
             [
              0.4444444444444444,
              "#bd3786"
             ],
             [
              0.5555555555555556,
              "#d8576b"
             ],
             [
              0.6666666666666666,
              "#ed7953"
             ],
             [
              0.7777777777777778,
              "#fb9f3a"
             ],
             [
              0.8888888888888888,
              "#fdca26"
             ],
             [
              1,
              "#f0f921"
             ]
            ],
            "type": "histogram2dcontour"
           }
          ],
          "mesh3d": [
           {
            "colorbar": {
             "outlinewidth": 0,
             "ticks": ""
            },
            "type": "mesh3d"
           }
          ],
          "parcoords": [
           {
            "line": {
             "colorbar": {
              "outlinewidth": 0,
              "ticks": ""
             }
            },
            "type": "parcoords"
           }
          ],
          "pie": [
           {
            "automargin": true,
            "type": "pie"
           }
          ],
          "scatter": [
           {
            "marker": {
             "colorbar": {
              "outlinewidth": 0,
              "ticks": ""
             }
            },
            "type": "scatter"
           }
          ],
          "scatter3d": [
           {
            "line": {
             "colorbar": {
              "outlinewidth": 0,
              "ticks": ""
             }
            },
            "marker": {
             "colorbar": {
              "outlinewidth": 0,
              "ticks": ""
             }
            },
            "type": "scatter3d"
           }
          ],
          "scattercarpet": [
           {
            "marker": {
             "colorbar": {
              "outlinewidth": 0,
              "ticks": ""
             }
            },
            "type": "scattercarpet"
           }
          ],
          "scattergeo": [
           {
            "marker": {
             "colorbar": {
              "outlinewidth": 0,
              "ticks": ""
             }
            },
            "type": "scattergeo"
           }
          ],
          "scattergl": [
           {
            "marker": {
             "colorbar": {
              "outlinewidth": 0,
              "ticks": ""
             }
            },
            "type": "scattergl"
           }
          ],
          "scattermapbox": [
           {
            "marker": {
             "colorbar": {
              "outlinewidth": 0,
              "ticks": ""
             }
            },
            "type": "scattermapbox"
           }
          ],
          "scatterpolar": [
           {
            "marker": {
             "colorbar": {
              "outlinewidth": 0,
              "ticks": ""
             }
            },
            "type": "scatterpolar"
           }
          ],
          "scatterpolargl": [
           {
            "marker": {
             "colorbar": {
              "outlinewidth": 0,
              "ticks": ""
             }
            },
            "type": "scatterpolargl"
           }
          ],
          "scatterternary": [
           {
            "marker": {
             "colorbar": {
              "outlinewidth": 0,
              "ticks": ""
             }
            },
            "type": "scatterternary"
           }
          ],
          "surface": [
           {
            "colorbar": {
             "outlinewidth": 0,
             "ticks": ""
            },
            "colorscale": [
             [
              0,
              "#0d0887"
             ],
             [
              0.1111111111111111,
              "#46039f"
             ],
             [
              0.2222222222222222,
              "#7201a8"
             ],
             [
              0.3333333333333333,
              "#9c179e"
             ],
             [
              0.4444444444444444,
              "#bd3786"
             ],
             [
              0.5555555555555556,
              "#d8576b"
             ],
             [
              0.6666666666666666,
              "#ed7953"
             ],
             [
              0.7777777777777778,
              "#fb9f3a"
             ],
             [
              0.8888888888888888,
              "#fdca26"
             ],
             [
              1,
              "#f0f921"
             ]
            ],
            "type": "surface"
           }
          ],
          "table": [
           {
            "cells": {
             "fill": {
              "color": "#EBF0F8"
             },
             "line": {
              "color": "white"
             }
            },
            "header": {
             "fill": {
              "color": "#C8D4E3"
             },
             "line": {
              "color": "white"
             }
            },
            "type": "table"
           }
          ]
         },
         "layout": {
          "annotationdefaults": {
           "arrowcolor": "#2a3f5f",
           "arrowhead": 0,
           "arrowwidth": 1
          },
          "coloraxis": {
           "colorbar": {
            "outlinewidth": 0,
            "ticks": ""
           }
          },
          "colorscale": {
           "diverging": [
            [
             0,
             "#8e0152"
            ],
            [
             0.1,
             "#c51b7d"
            ],
            [
             0.2,
             "#de77ae"
            ],
            [
             0.3,
             "#f1b6da"
            ],
            [
             0.4,
             "#fde0ef"
            ],
            [
             0.5,
             "#f7f7f7"
            ],
            [
             0.6,
             "#e6f5d0"
            ],
            [
             0.7,
             "#b8e186"
            ],
            [
             0.8,
             "#7fbc41"
            ],
            [
             0.9,
             "#4d9221"
            ],
            [
             1,
             "#276419"
            ]
           ],
           "sequential": [
            [
             0,
             "#0d0887"
            ],
            [
             0.1111111111111111,
             "#46039f"
            ],
            [
             0.2222222222222222,
             "#7201a8"
            ],
            [
             0.3333333333333333,
             "#9c179e"
            ],
            [
             0.4444444444444444,
             "#bd3786"
            ],
            [
             0.5555555555555556,
             "#d8576b"
            ],
            [
             0.6666666666666666,
             "#ed7953"
            ],
            [
             0.7777777777777778,
             "#fb9f3a"
            ],
            [
             0.8888888888888888,
             "#fdca26"
            ],
            [
             1,
             "#f0f921"
            ]
           ],
           "sequentialminus": [
            [
             0,
             "#0d0887"
            ],
            [
             0.1111111111111111,
             "#46039f"
            ],
            [
             0.2222222222222222,
             "#7201a8"
            ],
            [
             0.3333333333333333,
             "#9c179e"
            ],
            [
             0.4444444444444444,
             "#bd3786"
            ],
            [
             0.5555555555555556,
             "#d8576b"
            ],
            [
             0.6666666666666666,
             "#ed7953"
            ],
            [
             0.7777777777777778,
             "#fb9f3a"
            ],
            [
             0.8888888888888888,
             "#fdca26"
            ],
            [
             1,
             "#f0f921"
            ]
           ]
          },
          "colorway": [
           "#636efa",
           "#EF553B",
           "#00cc96",
           "#ab63fa",
           "#FFA15A",
           "#19d3f3",
           "#FF6692",
           "#B6E880",
           "#FF97FF",
           "#FECB52"
          ],
          "font": {
           "color": "#2a3f5f"
          },
          "geo": {
           "bgcolor": "white",
           "lakecolor": "white",
           "landcolor": "#E5ECF6",
           "showlakes": true,
           "showland": true,
           "subunitcolor": "white"
          },
          "hoverlabel": {
           "align": "left"
          },
          "hovermode": "closest",
          "mapbox": {
           "style": "light"
          },
          "paper_bgcolor": "white",
          "plot_bgcolor": "#E5ECF6",
          "polar": {
           "angularaxis": {
            "gridcolor": "white",
            "linecolor": "white",
            "ticks": ""
           },
           "bgcolor": "#E5ECF6",
           "radialaxis": {
            "gridcolor": "white",
            "linecolor": "white",
            "ticks": ""
           }
          },
          "scene": {
           "xaxis": {
            "backgroundcolor": "#E5ECF6",
            "gridcolor": "white",
            "gridwidth": 2,
            "linecolor": "white",
            "showbackground": true,
            "ticks": "",
            "zerolinecolor": "white"
           },
           "yaxis": {
            "backgroundcolor": "#E5ECF6",
            "gridcolor": "white",
            "gridwidth": 2,
            "linecolor": "white",
            "showbackground": true,
            "ticks": "",
            "zerolinecolor": "white"
           },
           "zaxis": {
            "backgroundcolor": "#E5ECF6",
            "gridcolor": "white",
            "gridwidth": 2,
            "linecolor": "white",
            "showbackground": true,
            "ticks": "",
            "zerolinecolor": "white"
           }
          },
          "shapedefaults": {
           "line": {
            "color": "#2a3f5f"
           }
          },
          "ternary": {
           "aaxis": {
            "gridcolor": "white",
            "linecolor": "white",
            "ticks": ""
           },
           "baxis": {
            "gridcolor": "white",
            "linecolor": "white",
            "ticks": ""
           },
           "bgcolor": "#E5ECF6",
           "caxis": {
            "gridcolor": "white",
            "linecolor": "white",
            "ticks": ""
           }
          },
          "title": {
           "x": 0.05
          },
          "xaxis": {
           "automargin": true,
           "gridcolor": "white",
           "linecolor": "white",
           "ticks": "",
           "title": {
            "standoff": 15
           },
           "zerolinecolor": "white",
           "zerolinewidth": 2
          },
          "yaxis": {
           "automargin": true,
           "gridcolor": "white",
           "linecolor": "white",
           "ticks": "",
           "title": {
            "standoff": 15
           },
           "zerolinecolor": "white",
           "zerolinewidth": 2
          }
         }
        },
        "title": {
         "text": "SEIR MODEL",
         "x": 0.5,
         "xanchor": "center",
         "y": 0.9,
         "yanchor": "top"
        },
        "xaxis": {
         "title": {
          "text": "Time (days)"
         }
        },
        "yaxis": {
         "title": {
          "text": "Population"
         }
        }
       }
      },
      "text/html": [
       "<div>                            <div id=\"61185b84-2667-4658-902f-11d115fa8755\" class=\"plotly-graph-div\" style=\"height:525px; width:100%;\"></div>            <script type=\"text/javascript\">                require([\"plotly\"], function(Plotly) {                    window.PLOTLYENV=window.PLOTLYENV || {};                                    if (document.getElementById(\"61185b84-2667-4658-902f-11d115fa8755\")) {                    Plotly.newPlot(                        \"61185b84-2667-4658-902f-11d115fa8755\",                        [{\"mode\": \"lines\", \"name\": \"Susceptible\", \"type\": \"scatter\", \"x\": [0.0, 1.0, 2.0, 3.0, 4.0, 5.0, 6.0, 7.0, 8.0, 9.0, 10.0, 11.0, 12.0, 13.0, 14.0, 15.0, 16.0, 17.0, 18.0, 19.0, 20.0, 21.0, 22.0, 23.0, 24.0, 25.0, 26.0, 27.0, 28.0, 29.0, 30.0, 31.0, 32.0, 33.0, 34.0, 35.0, 36.0, 37.0, 38.0, 39.0, 40.0, 41.0, 42.0, 43.0, 44.0, 45.0, 46.0, 47.0, 48.0, 49.0, 50.0, 51.0, 52.0, 53.0, 54.0, 55.0, 56.0, 57.0, 58.0, 59.0, 60.0, 61.0, 62.0, 63.0, 64.0, 65.0, 66.0, 67.0, 68.0, 69.0, 70.0, 71.0, 72.0, 73.0, 74.0, 75.0, 76.0, 77.0, 78.0, 79.0, 80.0, 81.0, 82.0, 83.0, 84.0, 85.0, 86.0, 87.0, 88.0, 89.0, 90.0, 91.0, 92.0, 93.0, 94.0, 95.0, 96.0, 97.0, 98.0, 99.0, 100.0], \"y\": [55414.0, 55413.93456439693, 55413.76573087458, 55413.51725984078, 55413.19783575642, 55412.80723553364, 55412.339538616245, 55411.7847112721, 55411.129283029484, 55410.35649914587, 55409.446151534095, 55408.374191013034, 55407.11216886841, 55405.62652447868, 55403.877717274925, 55401.81918966939, 55399.39613833668, 55396.5440650892, 55393.18706948557, 55389.2358425904, 55384.58530699105, 55379.11184540765, 55372.670045447936, 55365.08887949028, 55356.167223080985, 55345.6686007987, 55333.315032474995, 55318.77982835367, 55301.679166824244, 55281.562260053906, 55257.899884326165, 55230.07103062991, 55197.34739745613, 55158.87542294367, 55113.655526689196, 55060.518214857, 54998.09669282511, 54924.795641173245, 54838.75584501065, 54737.8144438887, 54619.460702886376, 54480.78742016805, 54318.438387712544, 54128.55281014307, 53906.708212283695, 53647.86423109541, 53346.31089746924, 52995.626430120734, 52588.65142820901, 52117.488561292994, 51573.53912834242, 50947.59056451356, 50229.97079162592, 49410.78691888013, 48480.26499297189, 47429.20445585624, 46249.55300496421, 44935.09571479565, 43482.23302993762, 41890.79860805728, 40164.84106522073, 38313.26931510928, 36350.24435194914, 34295.20260374035, 32172.42172425083, 30010.09275994538, 27838.937231560627, 25690.49075092277, 23595.243816685346, 21580.867885985033, 19670.74506989905, 17882.965626109977, 16229.872067011924, 14718.135719637758, 13349.274268875084, 12120.471727584532, 11025.550522947067, 10055.961718186996, 9201.693976032999, 8452.040543980374, 7796.199220516329, 7223.70728548887, 6724.729904781443, 6290.228805903287, 5912.039468988605, 5582.883044608634, 5296.334822012706, 5046.766358321916, 4829.273807724834, 4639.601199549198, 4474.064435152788, 4329.4794246957235, 4203.096283710427, 4092.540398312621, 3995.7604532500604, 3910.9831249211024, 3836.673903325412, 3771.503402439889, 3714.318502641766, 3664.1176851664754, 3620.029976819506]}, {\"mode\": \"lines\", \"name\": \"Exposed\", \"type\": \"scatter\", \"x\": [0.0, 1.0, 2.0, 3.0, 4.0, 5.0, 6.0, 7.0, 8.0, 9.0, 10.0, 11.0, 12.0, 13.0, 14.0, 15.0, 16.0, 17.0, 18.0, 19.0, 20.0, 21.0, 22.0, 23.0, 24.0, 25.0, 26.0, 27.0, 28.0, 29.0, 30.0, 31.0, 32.0, 33.0, 34.0, 35.0, 36.0, 37.0, 38.0, 39.0, 40.0, 41.0, 42.0, 43.0, 44.0, 45.0, 46.0, 47.0, 48.0, 49.0, 50.0, 51.0, 52.0, 53.0, 54.0, 55.0, 56.0, 57.0, 58.0, 59.0, 60.0, 61.0, 62.0, 63.0, 64.0, 65.0, 66.0, 67.0, 68.0, 69.0, 70.0, 71.0, 72.0, 73.0, 74.0, 75.0, 76.0, 77.0, 78.0, 79.0, 80.0, 81.0, 82.0, 83.0, 84.0, 85.0, 86.0, 87.0, 88.0, 89.0, 90.0, 91.0, 92.0, 93.0, 94.0, 95.0, 96.0, 97.0, 98.0, 99.0, 100.0], \"y\": [1.0, 0.8798809854663748, 0.8747339380305253, 0.9424776162453428, 1.062198019626201, 1.2247797661920503, 1.4278902006047627, 1.6733318646435584, 1.9656899436488422, 2.3116956915681763, 2.719994519408472, 3.2011532835192575, 3.767820509452221, 4.434997002504178, 5.2203986043140205, 6.144906741689392, 7.233111290832401, 8.513955485294671, 10.021498071367795, 11.795809770831802, 13.884027871473439, 16.341594064704527, 19.23370718900287, 22.637026266848206, 26.641665749065233, 31.353530988258814, 36.8970483922963, 43.418354610829745, 51.089014607091066, 60.110349092070194, 70.71846211827402, 83.19006575018294, 97.84920859610845, 115.07502018127205, 135.31058500893727, 159.07305654753029, 186.96510890228367, 219.68779445682253, 258.0548336955944, 303.0082869764467, 355.63544333293834, 417.18660253427635, 489.09319731747553, 572.9853727066579, 670.7077189525023, 784.3313038411106, 916.1593946656923, 1068.7234307259948, 1244.764739435667, 1447.1963145091652, 1679.0378928980258, 1943.3164275628164, 2242.923721540136, 2580.4231891056206, 2957.799801569411, 3376.1512869245757, 3835.3260466749884, 4333.523493689139, 4866.886784140407, 5429.134228543098, 6011.2914782819835, 6601.597727120675, 7185.66042304579, 7746.917505412465, 8267.43157995283, 8728.987554258989, 9114.402536105981, 9408.898100987179, 9601.350002754923, 9685.230532011505, 9659.101872698804, 9526.594198647177, 9295.891714415187, 8978.830298848809, 8589.760817678894, 8144.346632856414, 7658.443444993605, 7147.167537074115, 6624.207720250207, 6101.391424858298, 5588.480872383059, 5093.1556214790535, 4621.130694485422, 4176.361441738996, 3761.2937020629547, 3377.1274359115678, 3024.071664299142, 2701.576834638058, 2408.537408583383, 2143.462214044648, 1904.6131928991902, 1690.1152080591849, 1498.0404194492064, 1326.4711654791618, 1173.545105211206, 1037.4861646355382, 916.6243156579242, 809.406812822299, 714.4030183965596, 630.3045664554072, 555.9222309561928]}, {\"mode\": \"lines\", \"name\": \"Infected\", \"type\": \"scatter\", \"x\": [0.0, 1.0, 2.0, 3.0, 4.0, 5.0, 6.0, 7.0, 8.0, 9.0, 10.0, 11.0, 12.0, 13.0, 14.0, 15.0, 16.0, 17.0, 18.0, 19.0, 20.0, 21.0, 22.0, 23.0, 24.0, 25.0, 26.0, 27.0, 28.0, 29.0, 30.0, 31.0, 32.0, 33.0, 34.0, 35.0, 36.0, 37.0, 38.0, 39.0, 40.0, 41.0, 42.0, 43.0, 44.0, 45.0, 46.0, 47.0, 48.0, 49.0, 50.0, 51.0, 52.0, 53.0, 54.0, 55.0, 56.0, 57.0, 58.0, 59.0, 60.0, 61.0, 62.0, 63.0, 64.0, 65.0, 66.0, 67.0, 68.0, 69.0, 70.0, 71.0, 72.0, 73.0, 74.0, 75.0, 76.0, 77.0, 78.0, 79.0, 80.0, 81.0, 82.0, 83.0, 84.0, 85.0, 86.0, 87.0, 88.0, 89.0, 90.0, 91.0, 92.0, 93.0, 94.0, 95.0, 96.0, 97.0, 98.0, 99.0, 100.0], \"y\": [0.0, 0.1637427370483582, 0.2814453138629235, 0.3793484556776402, 0.4725762074203114, 0.5703922656930233, 0.6790757625394996, 0.8035125267805818, 0.9480965829734748, 1.1172649490735407, 1.315842082914449, 1.5492908429532242, 1.8239242095547086, 2.1471091078508953, 2.5274816743890463, 2.975187159554805, 3.5021549186669665, 4.122417798099397, 4.85248575735656, 5.7117834613634395, 6.7231642411706, 7.913513244457875, 9.314455696941918, 10.963187932153104, 12.90345232179631, 15.18668024409352, 17.873330821183906, 21.034458383613273, 24.753544864530962, 29.128639608210914, 34.27485520052956, 40.327272517087245, 47.4443158030678, 55.81166354334388, 65.64676743532787, 77.2040548147466, 90.78089159772662, 106.72438231189432, 125.43907287412549, 147.39560650097542, 173.1403563791965, 203.3059997461701, 238.6229471223643, 279.9314122264557, 328.1937765217197, 384.506696600555, 450.1121215570397, 526.406046608207, 614.9433821140419, 717.4367564831653, 835.7464813103682, 971.8581607845144, 1127.8438385057414, 1305.801947068616, 1507.7711801664066, 1735.613716164419, 1990.8646271583525, 2274.5466652102814, 2586.9540709904268, 2927.414859582981, 3294.048825653918, 3683.5464659915115, 4091.00216525683, 4509.839311859382, 4931.864355317978, 5347.478283812728, 5746.056956417766, 6116.487400475937, 6447.819816872275, 6729.970741723474, 6954.397614463224, 7114.664256591176, 7206.8311578339, 7229.630511600061, 7184.418872869957, 7074.930667940454, 6906.879081770552, 6687.4632266747, 6424.841447652482, 6127.622823615889, 5804.416238713142, 5463.460991372119, 5112.349275577576, 4757.83957164337, 4405.7523501308115, 4060.9347248467275, 3727.27903142541, 3407.780481052956, 3104.620523227497, 2819.2646262376315, 2552.5656423717583, 2304.866154785619, 2076.095219339264, 1865.8565829498239, 1673.506845118799, 1498.2229520310818, 1339.0591667420879, 1194.9941192642773, 1064.9688131833125, 947.916631906007, 842.7864112076935]}, {\"mode\": \"lines\", \"name\": \"Recovered\", \"type\": \"scatter\", \"x\": [0.0, 1.0, 2.0, 3.0, 4.0, 5.0, 6.0, 7.0, 8.0, 9.0, 10.0, 11.0, 12.0, 13.0, 14.0, 15.0, 16.0, 17.0, 18.0, 19.0, 20.0, 21.0, 22.0, 23.0, 24.0, 25.0, 26.0, 27.0, 28.0, 29.0, 30.0, 31.0, 32.0, 33.0, 34.0, 35.0, 36.0, 37.0, 38.0, 39.0, 40.0, 41.0, 42.0, 43.0, 44.0, 45.0, 46.0, 47.0, 48.0, 49.0, 50.0, 51.0, 52.0, 53.0, 54.0, 55.0, 56.0, 57.0, 58.0, 59.0, 60.0, 61.0, 62.0, 63.0, 64.0, 65.0, 66.0, 67.0, 68.0, 69.0, 70.0, 71.0, 72.0, 73.0, 74.0, 75.0, 76.0, 77.0, 78.0, 79.0, 80.0, 81.0, 82.0, 83.0, 84.0, 85.0, 86.0, 87.0, 88.0, 89.0, 90.0, 91.0, 92.0, 93.0, 94.0, 95.0, 96.0, 97.0, 98.0, 99.0, 100.0], \"y\": [0.0, 0.021811880575882958, 0.0780898735483956, 0.16091408731849163, 0.26739001655237715, 0.397592434481373, 0.5534954206097804, 0.7384443364855692, 0.9569304439027363, 1.2145402134952936, 1.5180118635903752, 1.8753648605054583, 2.296086412599222, 2.7913694109940677, 3.3744024463981552, 4.060716429400062, 4.868595453854722, 5.819561627437901, 6.938946685737207, 8.25656417743024, 9.807500896333325, 11.633047283208835, 13.781791666136508, 16.310906310744805, 19.287658848174445, 22.791187968966177, 26.91458831154834, 31.767358651913742, 37.478273704145934, 44.19875124582761, 52.10679835504902, 61.411631102836665, 72.35907814470659, 85.23789333172742, 100.38712086655082, 118.20467378072725, 139.15730667488714, 163.7921820580433, 192.75024841962926, 226.7816626338817, 266.76349740150465, 313.71997755151307, 368.845467847626, 433.5304049238332, 509.39029224209264, 598.2977684629377, 702.4175863080483, 824.244092545084, 966.6404502413066, 1132.8783677146985, 1326.6764974492112, 1552.2348471391304, 1814.2616483282236, 2117.9879449456575, 2469.1640252923166, 2874.030541054793, 3339.2563212024716, 3871.8341263049588, 4478.926114931584, 5167.6523038166715, 5944.818630843402, 6816.586491778568, 7788.09305974827, 8863.040578987835, 10043.282340478389, 11328.441401982936, 12715.603275915655, 14199.123747614143, 15770.586363687487, 17418.93084028002, 19130.755442938953, 20890.775918651703, 22682.405060739024, 24488.403469913406, 26291.546040576097, 28075.250971618632, 29824.126950288803, 31524.407518064218, 33164.25685606434, 34733.94520754547, 36225.9036683875, 37634.676101659985, 38956.790125155596, 40190.57018071438, 41335.914478817656, 42394.0547946331, 43367.31448226277, 44258.876325987105, 45072.56826046432, 45812.67196016856, 46483.7567295763, 47090.53921245951, 47637.76807750114, 48130.13185325843, 48572.187596419964, 48968.30775841231, 49322.642614274606, 49639.09566547356, 49921.30966577838, 50172.66111647213, 50396.26138101663]}, {\"mode\": \"lines+markers\", \"name\": \"Total\", \"type\": \"scatter\", \"x\": [0.0, 1.0, 2.0, 3.0, 4.0, 5.0, 6.0, 7.0, 8.0, 9.0, 10.0, 11.0, 12.0, 13.0, 14.0, 15.0, 16.0, 17.0, 18.0, 19.0, 20.0, 21.0, 22.0, 23.0, 24.0, 25.0, 26.0, 27.0, 28.0, 29.0, 30.0, 31.0, 32.0, 33.0, 34.0, 35.0, 36.0, 37.0, 38.0, 39.0, 40.0, 41.0, 42.0, 43.0, 44.0, 45.0, 46.0, 47.0, 48.0, 49.0, 50.0, 51.0, 52.0, 53.0, 54.0, 55.0, 56.0, 57.0, 58.0, 59.0, 60.0, 61.0, 62.0, 63.0, 64.0, 65.0, 66.0, 67.0, 68.0, 69.0, 70.0, 71.0, 72.0, 73.0, 74.0, 75.0, 76.0, 77.0, 78.0, 79.0, 80.0, 81.0, 82.0, 83.0, 84.0, 85.0, 86.0, 87.0, 88.0, 89.0, 90.0, 91.0, 92.0, 93.0, 94.0, 95.0, 96.0, 97.0, 98.0, 99.0, 100.0], \"y\": [55415.0, 55415.00000000002, 55415.000000000015, 55415.00000000003, 55415.00000000002, 55415.00000000001, 55415.0, 55415.00000000001, 55415.00000000001, 55415.00000000001, 55415.00000000001, 55415.00000000001, 55415.00000000001, 55415.00000000003, 55415.00000000003, 55415.00000000004, 55415.00000000003, 55415.00000000003, 55415.00000000003, 55415.00000000002, 55415.00000000003, 55415.00000000002, 55415.000000000015, 55415.00000000003, 55415.00000000002, 55415.000000000015, 55415.00000000002, 55415.00000000003, 55415.00000000001, 55415.00000000002, 55415.000000000015, 55415.000000000015, 55415.000000000015, 55415.000000000015, 55415.00000000001, 55415.00000000001, 55415.00000000001, 55415.00000000001, 55415.0, 55415.00000000001, 55415.000000000015, 55415.00000000001, 55415.00000000001, 55415.000000000015, 55415.00000000001, 55415.00000000001, 55415.000000000015, 55415.00000000002, 55415.00000000002, 55415.00000000002, 55415.00000000002, 55415.000000000015, 55415.00000000002, 55415.00000000002, 55415.00000000002, 55415.00000000004, 55415.000000000015, 55415.00000000003, 55415.00000000004, 55415.00000000003, 55415.00000000004, 55415.00000000003, 55415.00000000004, 55415.00000000003, 55415.00000000003, 55415.00000000003, 55415.00000000003, 55415.00000000003, 55415.00000000003, 55415.00000000003, 55415.00000000003, 55415.00000000003, 55415.00000000004, 55415.00000000003, 55415.00000000004, 55415.00000000003, 55415.00000000003, 55415.00000000003, 55415.00000000003, 55415.00000000003, 55415.00000000003, 55415.00000000003, 55415.00000000004, 55415.00000000003, 55415.00000000003, 55415.00000000003, 55415.00000000003, 55415.00000000004, 55415.00000000004, 55415.000000000044, 55415.00000000004, 55415.00000000004, 55415.00000000004, 55415.00000000003, 55415.00000000003, 55415.00000000003, 55415.00000000003, 55415.00000000002, 55415.00000000002, 55415.00000000002, 55415.00000000002]}],                        {\"legend\": {\"title\": {\"text\": \"Variables\"}}, \"template\": {\"data\": {\"bar\": [{\"error_x\": {\"color\": \"#2a3f5f\"}, \"error_y\": {\"color\": \"#2a3f5f\"}, \"marker\": {\"line\": {\"color\": \"#E5ECF6\", \"width\": 0.5}}, \"type\": \"bar\"}], \"barpolar\": [{\"marker\": {\"line\": {\"color\": \"#E5ECF6\", \"width\": 0.5}}, \"type\": \"barpolar\"}], \"carpet\": [{\"aaxis\": {\"endlinecolor\": \"#2a3f5f\", \"gridcolor\": \"white\", \"linecolor\": \"white\", \"minorgridcolor\": \"white\", \"startlinecolor\": \"#2a3f5f\"}, \"baxis\": {\"endlinecolor\": \"#2a3f5f\", \"gridcolor\": \"white\", \"linecolor\": \"white\", \"minorgridcolor\": \"white\", \"startlinecolor\": \"#2a3f5f\"}, \"type\": \"carpet\"}], \"choropleth\": [{\"colorbar\": {\"outlinewidth\": 0, \"ticks\": \"\"}, \"type\": \"choropleth\"}], \"contour\": [{\"colorbar\": {\"outlinewidth\": 0, \"ticks\": \"\"}, \"colorscale\": [[0.0, \"#0d0887\"], [0.1111111111111111, \"#46039f\"], [0.2222222222222222, \"#7201a8\"], [0.3333333333333333, \"#9c179e\"], [0.4444444444444444, \"#bd3786\"], [0.5555555555555556, \"#d8576b\"], [0.6666666666666666, \"#ed7953\"], [0.7777777777777778, \"#fb9f3a\"], [0.8888888888888888, \"#fdca26\"], [1.0, \"#f0f921\"]], \"type\": \"contour\"}], \"contourcarpet\": [{\"colorbar\": {\"outlinewidth\": 0, \"ticks\": \"\"}, \"type\": \"contourcarpet\"}], \"heatmap\": [{\"colorbar\": {\"outlinewidth\": 0, \"ticks\": \"\"}, \"colorscale\": [[0.0, \"#0d0887\"], [0.1111111111111111, \"#46039f\"], [0.2222222222222222, \"#7201a8\"], [0.3333333333333333, \"#9c179e\"], [0.4444444444444444, \"#bd3786\"], [0.5555555555555556, \"#d8576b\"], [0.6666666666666666, \"#ed7953\"], [0.7777777777777778, \"#fb9f3a\"], [0.8888888888888888, \"#fdca26\"], [1.0, \"#f0f921\"]], \"type\": \"heatmap\"}], \"heatmapgl\": [{\"colorbar\": {\"outlinewidth\": 0, \"ticks\": \"\"}, \"colorscale\": [[0.0, \"#0d0887\"], [0.1111111111111111, \"#46039f\"], [0.2222222222222222, \"#7201a8\"], [0.3333333333333333, \"#9c179e\"], [0.4444444444444444, \"#bd3786\"], [0.5555555555555556, \"#d8576b\"], [0.6666666666666666, \"#ed7953\"], [0.7777777777777778, \"#fb9f3a\"], [0.8888888888888888, \"#fdca26\"], [1.0, \"#f0f921\"]], \"type\": \"heatmapgl\"}], \"histogram\": [{\"marker\": {\"colorbar\": {\"outlinewidth\": 0, \"ticks\": \"\"}}, \"type\": \"histogram\"}], \"histogram2d\": [{\"colorbar\": {\"outlinewidth\": 0, \"ticks\": \"\"}, \"colorscale\": [[0.0, \"#0d0887\"], [0.1111111111111111, \"#46039f\"], [0.2222222222222222, \"#7201a8\"], [0.3333333333333333, \"#9c179e\"], [0.4444444444444444, \"#bd3786\"], [0.5555555555555556, \"#d8576b\"], [0.6666666666666666, \"#ed7953\"], [0.7777777777777778, \"#fb9f3a\"], [0.8888888888888888, \"#fdca26\"], [1.0, \"#f0f921\"]], \"type\": \"histogram2d\"}], \"histogram2dcontour\": [{\"colorbar\": {\"outlinewidth\": 0, \"ticks\": \"\"}, \"colorscale\": [[0.0, \"#0d0887\"], [0.1111111111111111, \"#46039f\"], [0.2222222222222222, \"#7201a8\"], [0.3333333333333333, \"#9c179e\"], [0.4444444444444444, \"#bd3786\"], [0.5555555555555556, \"#d8576b\"], [0.6666666666666666, \"#ed7953\"], [0.7777777777777778, \"#fb9f3a\"], [0.8888888888888888, \"#fdca26\"], [1.0, \"#f0f921\"]], \"type\": \"histogram2dcontour\"}], \"mesh3d\": [{\"colorbar\": {\"outlinewidth\": 0, \"ticks\": \"\"}, \"type\": \"mesh3d\"}], \"parcoords\": [{\"line\": {\"colorbar\": {\"outlinewidth\": 0, \"ticks\": \"\"}}, \"type\": \"parcoords\"}], \"pie\": [{\"automargin\": true, \"type\": \"pie\"}], \"scatter\": [{\"marker\": {\"colorbar\": {\"outlinewidth\": 0, \"ticks\": \"\"}}, \"type\": \"scatter\"}], \"scatter3d\": [{\"line\": {\"colorbar\": {\"outlinewidth\": 0, \"ticks\": \"\"}}, \"marker\": {\"colorbar\": {\"outlinewidth\": 0, \"ticks\": \"\"}}, \"type\": \"scatter3d\"}], \"scattercarpet\": [{\"marker\": {\"colorbar\": {\"outlinewidth\": 0, \"ticks\": \"\"}}, \"type\": \"scattercarpet\"}], \"scattergeo\": [{\"marker\": {\"colorbar\": {\"outlinewidth\": 0, \"ticks\": \"\"}}, \"type\": \"scattergeo\"}], \"scattergl\": [{\"marker\": {\"colorbar\": {\"outlinewidth\": 0, \"ticks\": \"\"}}, \"type\": \"scattergl\"}], \"scattermapbox\": [{\"marker\": {\"colorbar\": {\"outlinewidth\": 0, \"ticks\": \"\"}}, \"type\": \"scattermapbox\"}], \"scatterpolar\": [{\"marker\": {\"colorbar\": {\"outlinewidth\": 0, \"ticks\": \"\"}}, \"type\": \"scatterpolar\"}], \"scatterpolargl\": [{\"marker\": {\"colorbar\": {\"outlinewidth\": 0, \"ticks\": \"\"}}, \"type\": \"scatterpolargl\"}], \"scatterternary\": [{\"marker\": {\"colorbar\": {\"outlinewidth\": 0, \"ticks\": \"\"}}, \"type\": \"scatterternary\"}], \"surface\": [{\"colorbar\": {\"outlinewidth\": 0, \"ticks\": \"\"}, \"colorscale\": [[0.0, \"#0d0887\"], [0.1111111111111111, \"#46039f\"], [0.2222222222222222, \"#7201a8\"], [0.3333333333333333, \"#9c179e\"], [0.4444444444444444, \"#bd3786\"], [0.5555555555555556, \"#d8576b\"], [0.6666666666666666, \"#ed7953\"], [0.7777777777777778, \"#fb9f3a\"], [0.8888888888888888, \"#fdca26\"], [1.0, \"#f0f921\"]], \"type\": \"surface\"}], \"table\": [{\"cells\": {\"fill\": {\"color\": \"#EBF0F8\"}, \"line\": {\"color\": \"white\"}}, \"header\": {\"fill\": {\"color\": \"#C8D4E3\"}, \"line\": {\"color\": \"white\"}}, \"type\": \"table\"}]}, \"layout\": {\"annotationdefaults\": {\"arrowcolor\": \"#2a3f5f\", \"arrowhead\": 0, \"arrowwidth\": 1}, \"coloraxis\": {\"colorbar\": {\"outlinewidth\": 0, \"ticks\": \"\"}}, \"colorscale\": {\"diverging\": [[0, \"#8e0152\"], [0.1, \"#c51b7d\"], [0.2, \"#de77ae\"], [0.3, \"#f1b6da\"], [0.4, \"#fde0ef\"], [0.5, \"#f7f7f7\"], [0.6, \"#e6f5d0\"], [0.7, \"#b8e186\"], [0.8, \"#7fbc41\"], [0.9, \"#4d9221\"], [1, \"#276419\"]], \"sequential\": [[0.0, \"#0d0887\"], [0.1111111111111111, \"#46039f\"], [0.2222222222222222, \"#7201a8\"], [0.3333333333333333, \"#9c179e\"], [0.4444444444444444, \"#bd3786\"], [0.5555555555555556, \"#d8576b\"], [0.6666666666666666, \"#ed7953\"], [0.7777777777777778, \"#fb9f3a\"], [0.8888888888888888, \"#fdca26\"], [1.0, \"#f0f921\"]], \"sequentialminus\": [[0.0, \"#0d0887\"], [0.1111111111111111, \"#46039f\"], [0.2222222222222222, \"#7201a8\"], [0.3333333333333333, \"#9c179e\"], [0.4444444444444444, \"#bd3786\"], [0.5555555555555556, \"#d8576b\"], [0.6666666666666666, \"#ed7953\"], [0.7777777777777778, \"#fb9f3a\"], [0.8888888888888888, \"#fdca26\"], [1.0, \"#f0f921\"]]}, \"colorway\": [\"#636efa\", \"#EF553B\", \"#00cc96\", \"#ab63fa\", \"#FFA15A\", \"#19d3f3\", \"#FF6692\", \"#B6E880\", \"#FF97FF\", \"#FECB52\"], \"font\": {\"color\": \"#2a3f5f\"}, \"geo\": {\"bgcolor\": \"white\", \"lakecolor\": \"white\", \"landcolor\": \"#E5ECF6\", \"showlakes\": true, \"showland\": true, \"subunitcolor\": \"white\"}, \"hoverlabel\": {\"align\": \"left\"}, \"hovermode\": \"closest\", \"mapbox\": {\"style\": \"light\"}, \"paper_bgcolor\": \"white\", \"plot_bgcolor\": \"#E5ECF6\", \"polar\": {\"angularaxis\": {\"gridcolor\": \"white\", \"linecolor\": \"white\", \"ticks\": \"\"}, \"bgcolor\": \"#E5ECF6\", \"radialaxis\": {\"gridcolor\": \"white\", \"linecolor\": \"white\", \"ticks\": \"\"}}, \"scene\": {\"xaxis\": {\"backgroundcolor\": \"#E5ECF6\", \"gridcolor\": \"white\", \"gridwidth\": 2, \"linecolor\": \"white\", \"showbackground\": true, \"ticks\": \"\", \"zerolinecolor\": \"white\"}, \"yaxis\": {\"backgroundcolor\": \"#E5ECF6\", \"gridcolor\": \"white\", \"gridwidth\": 2, \"linecolor\": \"white\", \"showbackground\": true, \"ticks\": \"\", \"zerolinecolor\": \"white\"}, \"zaxis\": {\"backgroundcolor\": \"#E5ECF6\", \"gridcolor\": \"white\", \"gridwidth\": 2, \"linecolor\": \"white\", \"showbackground\": true, \"ticks\": \"\", \"zerolinecolor\": \"white\"}}, \"shapedefaults\": {\"line\": {\"color\": \"#2a3f5f\"}}, \"ternary\": {\"aaxis\": {\"gridcolor\": \"white\", \"linecolor\": \"white\", \"ticks\": \"\"}, \"baxis\": {\"gridcolor\": \"white\", \"linecolor\": \"white\", \"ticks\": \"\"}, \"bgcolor\": \"#E5ECF6\", \"caxis\": {\"gridcolor\": \"white\", \"linecolor\": \"white\", \"ticks\": \"\"}}, \"title\": {\"x\": 0.05}, \"xaxis\": {\"automargin\": true, \"gridcolor\": \"white\", \"linecolor\": \"white\", \"ticks\": \"\", \"title\": {\"standoff\": 15}, \"zerolinecolor\": \"white\", \"zerolinewidth\": 2}, \"yaxis\": {\"automargin\": true, \"gridcolor\": \"white\", \"linecolor\": \"white\", \"ticks\": \"\", \"title\": {\"standoff\": 15}, \"zerolinecolor\": \"white\", \"zerolinewidth\": 2}}}, \"title\": {\"text\": \"SEIR MODEL\", \"x\": 0.5, \"xanchor\": \"center\", \"y\": 0.9, \"yanchor\": \"top\"}, \"xaxis\": {\"title\": {\"text\": \"Time (days)\"}}, \"yaxis\": {\"title\": {\"text\": \"Population\"}}},                        {\"responsive\": true}                    ).then(function(){\n",
       "                            \n",
       "var gd = document.getElementById('61185b84-2667-4658-902f-11d115fa8755');\n",
       "var x = new MutationObserver(function (mutations, observer) {{\n",
       "        var display = window.getComputedStyle(gd).display;\n",
       "        if (!display || display === 'none') {{\n",
       "            console.log([gd, 'removed!']);\n",
       "            Plotly.purge(gd);\n",
       "            observer.disconnect();\n",
       "        }}\n",
       "}});\n",
       "\n",
       "// Listen for the removal of the full notebook cells\n",
       "var notebookContainer = gd.closest('#notebook-container');\n",
       "if (notebookContainer) {{\n",
       "    x.observe(notebookContainer, {childList: true});\n",
       "}}\n",
       "\n",
       "// Listen for the clearing of the current output cell\n",
       "var outputEl = gd.closest('.output');\n",
       "if (outputEl) {{\n",
       "    x.observe(outputEl, {childList: true});\n",
       "}}\n",
       "\n",
       "                        })                };                });            </script>        </div>"
      ]
     },
     "metadata": {},
     "output_type": "display_data"
    }
   ],
   "source": [
    "#SEIR MODEL CONSTRUCTION\n",
    "import numpy as np\n",
    "from scipy.integrate import odeint\n",
    "import plotly.graph_objects as go\n",
    "\n",
    "#create the function\n",
    "def deriv(y, t, N, beta, gamma, delta):\n",
    "    S, E, I, R = y\n",
    "    dSdt = -beta * S * I / N\n",
    "    dEdt = beta * S * I / N - delta * E \n",
    "    dIdt = delta * E - gamma * I\n",
    "    dRdt = gamma * I\n",
    "    return dSdt, dEdt, dIdt, dRdt\n",
    "\n",
    "#population and parameters determine\n",
    "N = 55414\n",
    "D = 4.0    # infections lasts four days\n",
    "gamma = 1.0 / D\n",
    "delta = 1.0 / 5.0\n",
    "R_0 = 3.0 \n",
    "beta = R_0 * gamma  # infected person infects 1 other person per day\n",
    "\n",
    "# initial conditions: one infected, rest susceptible\n",
    "S0, E0, I0, R0 = N-1, 1, 0, 0 \n",
    "S0 = N - I0 - R0\n",
    "#define time\n",
    "t = np.linspace(0, 100, 101) # Grid of time points (in days)\n",
    "y0 = S0, E0, I0, R0 # Initial conditions vector\n",
    "\n",
    "# Integrate the SIR equations over the time grid, t.\n",
    "ret = odeint(deriv, y0, t, args=(N, beta, gamma, delta))\n",
    "S, E, I, R = ret.T\n",
    "\n",
    "\n",
    "#Define the new function model plot\n",
    "\n",
    "fig = go.Figure()\n",
    "fig.add_trace(go.Scatter(x=t, y=S, mode='lines',name='Susceptible'))\n",
    "fig.add_trace(go.Scatter(x=t, y=E, mode='lines',name='Exposed'))\n",
    "fig.add_trace(go.Scatter(x=t, y=I, mode='lines',name='Infected'))\n",
    "fig.add_trace(go.Scatter(x=t, y=R, mode='lines',name='Recovered'))\n",
    "fig.add_trace(go.Scatter(x=t, y=S+E+I+R, mode='lines+markers',name='Total'))\n",
    "\n",
    "\n",
    "fig.update_layout(\n",
    "     title={\n",
    "        'text': \"SEIR MODEL\",\n",
    "        'y':0.9,\n",
    "        'x':0.5,\n",
    "        'xanchor': 'center',\n",
    "        'yanchor': 'top'},     \n",
    "    xaxis_title=\"Time (days)\",\n",
    "    yaxis_title=\"Population\",\n",
    "    legend_title=\"Variables\"\n",
    "    )\n",
    "fig.show()"
   ]
  },
  {
   "cell_type": "markdown",
   "metadata": {},
   "source": [
    "# SEIRD model"
   ]
  },
  {
   "cell_type": "code",
   "execution_count": 53,
   "metadata": {},
   "outputs": [
    {
     "data": {
      "application/vnd.plotly.v1+json": {
       "config": {
        "plotlyServerURL": "https://plot.ly"
       },
       "data": [
        {
         "mode": "lines",
         "name": "Susceptible",
         "type": "scatter",
         "x": [
          0,
          1,
          2,
          3,
          4,
          5,
          6,
          7,
          8,
          9,
          10,
          11,
          12,
          13,
          14,
          15,
          16,
          17,
          18,
          19,
          20,
          21,
          22,
          23,
          24,
          25,
          26,
          27,
          28,
          29,
          30,
          31,
          32,
          33,
          34,
          35,
          36,
          37,
          38,
          39,
          40,
          41,
          42,
          43,
          44,
          45,
          46,
          47,
          48,
          49,
          50,
          51,
          52,
          53,
          54,
          55,
          56,
          57,
          58,
          59,
          60,
          61,
          62,
          63,
          64,
          65,
          66,
          67,
          68,
          69,
          70,
          71,
          72,
          73,
          74,
          75,
          76,
          77,
          78,
          79,
          80,
          81,
          82,
          83,
          84,
          85,
          86,
          87,
          88,
          89,
          90,
          91,
          92,
          93,
          94,
          95,
          96,
          97,
          98,
          99
         ],
         "y": [
          55413,
          55412.93396929612,
          55412.76151410352,
          55412.50431000065,
          55412.16920672692,
          55411.75392953284,
          55411.25002460774,
          55410.64425350867,
          55409.91909204724,
          55409.05268543322,
          55408.018443275985,
          55406.78436348472,
          55405.31212005758,
          55403.55591730087,
          55401.46109205862,
          55398.96243028253,
          55395.98215139037,
          55392.42750162559,
          55388.18788498023,
          55383.13144516142,
          55377.100996532296,
          55369.909182394134,
          55361.33271734122,
          55351.105544920756,
          55338.91070983163,
          55324.37071763212,
          55307.03610529493,
          55286.371912138966,
          55261.7416880658,
          55232.38862652741,
          55197.41335183674,
          55155.747839567004,
          55106.12489474163,
          55047.042572588114,
          54976.722903559596,
          54893.064296603625,
          54793.58705931466,
          54675.37161634299,
          54534.98927882953,
          54368.425842326615,
          54170.998977601084,
          53937.27136100664,
          53660.962921680766,
          53334.867513687015,
          52950.78192965942,
          52499.458530168034,
          51970.596685230914,
          51352.89306323013,
          50634.17552528931,
          49801.64975634646,
          48842.29018957156,
          47743.40543173797,
          46493.40070684592,
          45082.7428320948,
          43505.104527194024,
          41758.62371255617,
          39847.16229052808,
          37781.396457372386,
          35579.53062717512,
          33267.41797931531,
          30877.91379916072,
          28449.384495628656,
          26023.446078439818,
          23642.17040500942,
          21345.13202588399,
          19166.72567259266,
          17134.138253113568,
          15266.221287330229,
          13573.321824099701,
          12057.952855427668,
          10716.059924457333,
          9538.596546703513,
          8513.144450910268,
          7625.382491492398,
          6860.2911549900855,
          6203.052846828789,
          5639.661566628095,
          5157.286202154024,
          4744.443399332136,
          4391.034843549507,
          4088.2961389882485,
          3828.693933758103,
          3605.7978630795105,
          3414.1451179650708,
          3249.1088188317913,
          3106.7763728776963,
          2983.8408499518646,
          2877.506193001037,
          2785.405839804532,
          2705.5336785147706,
          2636.1859420416836,
          2575.9125788640267,
          2523.4766941658054,
          2477.820788804522,
          2438.038671457344,
          2403.3520830228126,
          2373.091217563724,
          2346.6784587082107,
          2323.614771752402,
          2303.4682836035327
         ]
        },
        {
         "mode": "lines",
         "name": "Exposed",
         "type": "scatter",
         "x": [
          0,
          1,
          2,
          3,
          4,
          5,
          6,
          7,
          8,
          9,
          10,
          11,
          12,
          13,
          14,
          15,
          16,
          17,
          18,
          19,
          20,
          21,
          22,
          23,
          24,
          25,
          26,
          27,
          28,
          29,
          30,
          31,
          32,
          33,
          34,
          35,
          36,
          37,
          38,
          39,
          40,
          41,
          42,
          43,
          44,
          45,
          46,
          47,
          48,
          49,
          50,
          51,
          52,
          53,
          54,
          55,
          56,
          57,
          58,
          59,
          60,
          61,
          62,
          63,
          64,
          65,
          66,
          67,
          68,
          69,
          70,
          71,
          72,
          73,
          74,
          75,
          76,
          77,
          78,
          79,
          80,
          81,
          82,
          83,
          84,
          85,
          86,
          87,
          88,
          89,
          90,
          91,
          92,
          93,
          94,
          95,
          96,
          97,
          98,
          99
         ],
         "y": [
          1,
          0.8804466928240424,
          0.8785427211108383,
          0.95360214418561,
          1.08563619657656,
          1.266488661922376,
          1.495051866007564,
          1.7747425071468803,
          2.112239589900578,
          2.5169402096127413,
          3.000838478068247,
          3.5786712595556334,
          4.268251251183173,
          5.090951517325978,
          6.072330993338995,
          7.242906122436149,
          8.639084500963635,
          10.304284625232194,
          12.290273079232648,
          14.65875815732552,
          17.483286429357413,
          20.851497760850613,
          24.867804131215312,
          29.656568875425926,
          35.365877038306486,
          42.17199852801582,
          50.2846668698653,
          59.95330970482598,
          71.47438755387053,
          85.20001552520704,
          101.5480611231756,
          121.01392520426616,
          144.18422270983817,
          171.7525764076401,
          204.5377201060269,
          243.50405901043882,
          289.7847485058092,
          344.7072138636226,
          409.8207932756368,
          486.92586162859146,
          578.1032801898936,
          685.742329990459,
          812.5643191358292,
          961.6378006050656,
          1136.3797022356678,
          1340.5346575541425,
          1578.1226307021925,
          1853.3423637564244,
          2170.416144597442,
          2533.3600648012753,
          2945.664668670248,
          3409.874907133356,
          3927.067427087248,
          4496.23915300637,
          5113.644784557663,
          5772.151507202648,
          6460.713304208915,
          7164.096145276804,
          7862.997487924318,
          8534.684857279392,
          9154.216358608965,
          9696.205091889744,
          10136.959818690984,
          10456.71518506481,
          10641.595844289053,
          10684.97269584293,
          10587.975346267463,
          10359.0930271068,
          10012.979734409595,
          9568.718134414743,
          9047.861844428022,
          8472.557262364908,
          7863.968510480123,
          7241.127653957168,
          6620.233902821934,
          6014.355741086596,
          5433.44996847554,
          4884.599792398289,
          4372.381475698835,
          3899.28665522291,
          3466.147564640908,
          3072.5316342521587,
          2717.0870450876496,
          2397.832117316076,
          2112.3886724968934,
          1858.1639751392563,
          1632.4878643629181,
          1432.7124980424212,
          1256.2818665394302,
          1100.7775474873804,
          963.9462757949276,
          843.7139491253715,
          738.1898007850776,
          645.6636698360251,
          564.5986441337014,
          493.62077639488973,
          431.5071451150892,
          377.1731764774696,
          329.6598609860908,
          288.12131405844957
         ]
        },
        {
         "mode": "lines",
         "name": "Infected",
         "type": "scatter",
         "x": [
          0,
          1,
          2,
          3,
          4,
          5,
          6,
          7,
          8,
          9,
          10,
          11,
          12,
          13,
          14,
          15,
          16,
          17,
          18,
          19,
          20,
          21,
          22,
          23,
          24,
          25,
          26,
          27,
          28,
          29,
          30,
          31,
          32,
          33,
          34,
          35,
          36,
          37,
          38,
          39,
          40,
          41,
          42,
          43,
          44,
          45,
          46,
          47,
          48,
          49,
          50,
          51,
          52,
          53,
          54,
          55,
          56,
          57,
          58,
          59,
          60,
          61,
          62,
          63,
          64,
          65,
          66,
          67,
          68,
          69,
          70,
          71,
          72,
          73,
          74,
          75,
          76,
          77,
          78,
          79,
          80,
          81,
          82,
          83,
          84,
          85,
          86,
          87,
          88,
          89,
          90,
          91,
          92,
          93,
          94,
          95,
          96,
          97,
          98,
          99
         ],
         "y": [
          0,
          0.16601899333529013,
          0.2892792602604021,
          0.3952134368353232,
          0.49898981903016754,
          0.6103649267765783,
          0.7363947539204735,
          0.8829775899431901,
          1.055764894939478,
          1.2607369044630905,
          1.5046084509935116,
          1.7951586427614301,
          2.1415391981312024,
          2.5545954729380087,
          3.0472235361273703,
          3.6347816929806545,
          4.335573153994778,
          5.171416861093676,
          6.1683250294454925,
          7.357308759631497,
          8.775336283672601,
          10.466472848795572,
          12.483236187289116,
          14.888207543312683,
          17.755945740325725,
          21.1752580541873,
          25.25189351925097,
          30.111732269485437,
          35.904557434313304,
          42.8085078028469,
          51.0353240898015,
          60.83651384513567,
          72.5105738625093,
          86.41142077772146,
          102.95818570558959,
          122.64653076468595,
          146.06163274961528,
          173.892945669662,
          206.95080595090158,
          246.1848343409354,
          292.7039473125056,
          347.7975550681408,
          412.9571923911005,
          489.8973666660419,
          580.5737698697573,
          687.1961635618283,
          812.2322131868343,
          958.3972642550377,
          1128.6236049635547,
          1326.0013318618485,
          1553.6816672430084,
          1814.7330226242048,
          2111.9408009755466,
          2447.5447279069676,
          2822.9133574106095,
          3238.1649441074883,
          3691.7574783493046,
          4180.087359198372,
          4697.153274063027,
          5234.355384738572,
          5780.502634208603,
          6322.089751433352,
          6843.87388020536,
          7329.733547494125,
          7763.737132252389,
          8131.298723889133,
          8420.270698355453,
          8621.82536983341,
          8731.012555459225,
          8746.936673937365,
          8672.562042095256,
          8514.208973684134,
          8280.839247361208,
          7983.239845363086,
          7633.205252607576,
          7242.7955632259645,
          6823.719864458792,
          6386.867702560699,
          5941.9898623453455,
          5497.514546427276,
          5060.476893096654,
          4636.536283853372,
          4230.056595990297,
          3844.227269145078,
          3481.2068542779166,
          3142.2749835146865,
          2827.9823954033814,
          2538.292057519788,
          2272.707159053582,
          2030.3837626901252,
          1810.2274433377474,
          1610.974295960123,
          1431.2573444390544,
          1269.6597941810687,
          1124.7567147988464,
          995.146810096857,
          879.4758397359103,
          776.4531557408546,
          684.8626486863434,
          603.5692508529227
         ]
        },
        {
         "mode": "lines",
         "name": "Recovered",
         "type": "scatter",
         "x": [
          0,
          1,
          2,
          3,
          4,
          5,
          6,
          7,
          8,
          9,
          10,
          11,
          12,
          13,
          14,
          15,
          16,
          17,
          18,
          19,
          20,
          21,
          22,
          23,
          24,
          25,
          26,
          27,
          28,
          29,
          30,
          31,
          32,
          33,
          34,
          35,
          36,
          37,
          38,
          39,
          40,
          41,
          42,
          43,
          44,
          45,
          46,
          47,
          48,
          49,
          50,
          51,
          52,
          53,
          54,
          55,
          56,
          57,
          58,
          59,
          60,
          61,
          62,
          63,
          64,
          65,
          66,
          67,
          68,
          69,
          70,
          71,
          72,
          73,
          74,
          75,
          76,
          77,
          78,
          79,
          80,
          81,
          82,
          83,
          84,
          85,
          86,
          87,
          88,
          89,
          90,
          91,
          92,
          93,
          94,
          95,
          96,
          97,
          98,
          99
         ],
         "y": [
          0,
          0.017608515959053467,
          0.06359752359298858,
          0.13218697649021163,
          0.2215505317153873,
          0.33229519060095897,
          0.46667589507833734,
          0.628223754810743,
          0.8216131211225448,
          1.0526737074241899,
          1.3284988154489052,
          1.6576259516533096,
          2.0502805437854916,
          2.5186821379661852,
          3.0774180707106855,
          3.743893711841815,
          4.538871859196289,
          5.487117199270456,
          6.61816521997292,
          7.967239129446026,
          9.576342679198353,
          11.495562296585915,
          13.784618106231992,
          16.514710794442337,
          19.77072065075494,
          23.653823207103024,
          28.28460088434694,
          33.806741298045644,
          40.39143025140648,
          48.242565130076436,
          57.60293665524954,
          68.76154924523244,
          82.06227781741326,
          97.91408720386619,
          116.80307156589919,
          139.30660225911828,
          166.10990348691138,
          198.02540171133487,
          236.01520974951742,
          281.21711553344096,
          334.9744154068308,
          398.8698785412519,
          474.7640101130394,
          564.83758713766,
          671.638138411613,
          798.1295838443604,
          947.7436237920107,
          1124.430577882533,
          1332.7062526346863,
          1577.6899622913356,
          1865.127127063631,
          2201.387974653986,
          2593.4319585821227,
          3048.7259582926445,
          3575.103597753907,
          4180.553852520299,
          4872.930234222301,
          5659.5780343371625,
          6546.886749753754,
          7539.78760080003,
          8641.23048721952,
          9851.688594943405,
          11168.748200397435,
          12586.842776188467,
          14097.181497817095,
          15687.902616907737,
          17344.454132037154,
          19050.174284156594,
          20787.01729742832,
          22536.353102598194,
          24279.764570117444,
          25999.773495522695,
          27680.44301212356,
          29307.825008268614,
          30870.242720622366,
          32358.416263972787,
          33765.45174039381,
          35086.72167259828,
          36319.66673636131,
          37463.54755932027,
          38519.17146294676,
          39488.614333322716,
          40374.95264625828,
          41182.015946016385,
          41914.16608895404,
          42576.1062016215,
          43172.72000125362,
          43708.94032629304,
          44189.64462114217,
          44619.57451017691,
          45003.27630494304,
          45345.0592584454,
          45648.968544549025,
          45918.770172460514,
          46157.945372649076,
          46369.692297436864,
          46556.93321782672,
          46722.32568816609,
          46868.276446717624,
          46996.95703633656
         ]
        },
        {
         "mode": "lines",
         "name": "Dead",
         "type": "scatter",
         "x": [
          0,
          1,
          2,
          3,
          4,
          5,
          6,
          7,
          8,
          9,
          10,
          11,
          12,
          13,
          14,
          15,
          16,
          17,
          18,
          19,
          20,
          21,
          22,
          23,
          24,
          25,
          26,
          27,
          28,
          29,
          30,
          31,
          32,
          33,
          34,
          35,
          36,
          37,
          38,
          39,
          40,
          41,
          42,
          43,
          44,
          45,
          46,
          47,
          48,
          49,
          50,
          51,
          52,
          53,
          54,
          55,
          56,
          57,
          58,
          59,
          60,
          61,
          62,
          63,
          64,
          65,
          66,
          67,
          68,
          69,
          70,
          71,
          72,
          73,
          74,
          75,
          76,
          77,
          78,
          79,
          80,
          81,
          82,
          83,
          84,
          85,
          86,
          87,
          88,
          89,
          90,
          91,
          92,
          93,
          94,
          95,
          96,
          97,
          98,
          99
         ],
         "y": [
          0,
          0.0019565017732281627,
          0.007066391510332053,
          0.014687441832245723,
          0.024616725746154134,
          0.03692168784455099,
          0.05185287723092637,
          0.06980263942341589,
          0.09129034679139386,
          0.11696374526935442,
          0.1476109794943228,
          0.18418066129481217,
          0.22780894930949913,
          0.27985357088513185,
          0.34193534119007635,
          0.41598819020464617,
          0.5043190954662543,
          0.6096796888078283,
          0.7353516911081021,
          0.8852487921606697,
          1.0640380754664838,
          1.277284699620657,
          1.5316242340257769,
          1.8349678660491486,
          2.196746738972771,
          2.628202578567003,
          3.1427334315941047,
          3.756304588671739,
          4.487936694600721,
          5.3602850144529395,
          6.400326295027727,
          7.64017213835916,
          9.118030868601474,
          10.8793430226518,
          12.978119062877688,
          15.478511362124255,
          18.456655942990157,
          22.002822412370545,
          26.22391219439083,
          31.24634617038234,
          37.21937948964788,
          44.31887539347244,
          52.75155667922662,
          62.75973190418446,
          74.62645982351255,
          88.6810648715956,
          105.3048470880012,
          124.93673087583701,
          148.07847251496517,
          175.29888469903733,
          207.2363474515146,
          244.59866385044288,
          288.1591065091248,
          338.7473286991828,
          397.23373308376745,
          464.50598361336677,
          541.4366926913668,
          628.8420038152403,
          727.4318610837506,
          837.7541778666701,
          960.1367208021688,
          1094.6320661048223,
          1240.9720222663811,
          1398.5380862431628,
          1566.3534997574545,
          1743.100290767526,
          1927.1615702263502,
          2116.6860315729546,
          2309.6685886031464,
          2504.039233622021,
          2697.7516189019375,
          2888.8637217247438,
          3075.6047791248398,
          3256.425000918734,
          3430.02696895804,
          3595.3795848858645,
          3751.716860043757,
          3898.524630288699,
          4035.5185262623686,
          4162.61639548003,
          4279.907940327419,
          4387.623814813637,
          4486.105849584254,
          4575.779549557378,
          4657.12956543934,
          4730.678466846836,
          4796.968889028183,
          4856.548925143675,
          4909.960513460245,
          4957.730501130773,
          5000.3640338825635,
          5038.339917605047,
          5072.107616061005,
          5102.085574717837,
          5128.660596961009,
          5152.188033048542,
          5172.992579758526,
          5191.369520907344,
          5207.5862718575145,
          5221.884115148508
         ]
        },
        {
         "mode": "lines+markers",
         "name": "Total",
         "type": "scatter",
         "x": [
          0,
          1,
          2,
          3,
          4,
          5,
          6,
          7,
          8,
          9,
          10,
          11,
          12,
          13,
          14,
          15,
          16,
          17,
          18,
          19,
          20,
          21,
          22,
          23,
          24,
          25,
          26,
          27,
          28,
          29,
          30,
          31,
          32,
          33,
          34,
          35,
          36,
          37,
          38,
          39,
          40,
          41,
          42,
          43,
          44,
          45,
          46,
          47,
          48,
          49,
          50,
          51,
          52,
          53,
          54,
          55,
          56,
          57,
          58,
          59,
          60,
          61,
          62,
          63,
          64,
          65,
          66,
          67,
          68,
          69,
          70,
          71,
          72,
          73,
          74,
          75,
          76,
          77,
          78,
          79,
          80,
          81,
          82,
          83,
          84,
          85,
          86,
          87,
          88,
          89,
          90,
          91,
          92,
          93,
          94,
          95,
          96,
          97,
          98,
          99
         ],
         "y": [
          55414,
          55414.000000000015,
          55413.99999999999,
          55414,
          55413.999999999985,
          55413.999999999985,
          55413.99999999997,
          55413.99999999999,
          55413.99999999999,
          55413.99999999999,
          55413.99999999999,
          55413.999999999985,
          55413.999999999985,
          55413.99999999999,
          55413.999999999985,
          55413.99999999999,
          55413.99999999999,
          55414,
          55413.99999999999,
          55413.999999999985,
          55413.999999999985,
          55413.99999999999,
          55413.999999999985,
          55413.99999999999,
          55413.999999999985,
          55413.99999999999,
          55413.999999999985,
          55413.99999999999,
          55413.99999999999,
          55414,
          55413.99999999999,
          55413.99999999999,
          55413.99999999999,
          55414,
          55413.999999999985,
          55413.99999999999,
          55413.999999999985,
          55413.99999999998,
          55413.99999999998,
          55413.99999999996,
          55413.999999999956,
          55413.99999999997,
          55413.99999999996,
          55413.99999999996,
          55413.99999999996,
          55413.99999999996,
          55413.999999999956,
          55413.99999999996,
          55413.999999999956,
          55413.99999999995,
          55413.999999999956,
          55413.999999999956,
          55413.99999999996,
          55413.99999999996,
          55413.99999999997,
          55413.99999999997,
          55413.99999999996,
          55413.999999999956,
          55413.99999999997,
          55413.99999999997,
          55413.999999999985,
          55413.999999999985,
          55413.999999999985,
          55413.999999999985,
          55413.999999999985,
          55413.999999999985,
          55413.999999999985,
          55413.999999999985,
          55413.999999999985,
          55413.999999999985,
          55413.999999999985,
          55413.99999999999,
          55414,
          55413.99999999999,
          55414,
          55414.00000000001,
          55413.99999999999,
          55413.999999999985,
          55414,
          55413.99999999999,
          55413.999999999985,
          55413.99999999999,
          55413.99999999999,
          55413.99999999999,
          55413.999999999985,
          55413.99999999998,
          55413.99999999997,
          55413.99999999996,
          55413.99999999996,
          55413.999999999956,
          55413.99999999996,
          55413.99999999996,
          55413.99999999996,
          55413.99999999996,
          55413.99999999998,
          55413.99999999997,
          55413.99999999997,
          55413.99999999997,
          55413.99999999998,
          55413.99999999997
         ]
        }
       ],
       "layout": {
        "legend": {
         "title": {
          "text": "Variables"
         }
        },
        "template": {
         "data": {
          "bar": [
           {
            "error_x": {
             "color": "#2a3f5f"
            },
            "error_y": {
             "color": "#2a3f5f"
            },
            "marker": {
             "line": {
              "color": "#E5ECF6",
              "width": 0.5
             }
            },
            "type": "bar"
           }
          ],
          "barpolar": [
           {
            "marker": {
             "line": {
              "color": "#E5ECF6",
              "width": 0.5
             }
            },
            "type": "barpolar"
           }
          ],
          "carpet": [
           {
            "aaxis": {
             "endlinecolor": "#2a3f5f",
             "gridcolor": "white",
             "linecolor": "white",
             "minorgridcolor": "white",
             "startlinecolor": "#2a3f5f"
            },
            "baxis": {
             "endlinecolor": "#2a3f5f",
             "gridcolor": "white",
             "linecolor": "white",
             "minorgridcolor": "white",
             "startlinecolor": "#2a3f5f"
            },
            "type": "carpet"
           }
          ],
          "choropleth": [
           {
            "colorbar": {
             "outlinewidth": 0,
             "ticks": ""
            },
            "type": "choropleth"
           }
          ],
          "contour": [
           {
            "colorbar": {
             "outlinewidth": 0,
             "ticks": ""
            },
            "colorscale": [
             [
              0,
              "#0d0887"
             ],
             [
              0.1111111111111111,
              "#46039f"
             ],
             [
              0.2222222222222222,
              "#7201a8"
             ],
             [
              0.3333333333333333,
              "#9c179e"
             ],
             [
              0.4444444444444444,
              "#bd3786"
             ],
             [
              0.5555555555555556,
              "#d8576b"
             ],
             [
              0.6666666666666666,
              "#ed7953"
             ],
             [
              0.7777777777777778,
              "#fb9f3a"
             ],
             [
              0.8888888888888888,
              "#fdca26"
             ],
             [
              1,
              "#f0f921"
             ]
            ],
            "type": "contour"
           }
          ],
          "contourcarpet": [
           {
            "colorbar": {
             "outlinewidth": 0,
             "ticks": ""
            },
            "type": "contourcarpet"
           }
          ],
          "heatmap": [
           {
            "colorbar": {
             "outlinewidth": 0,
             "ticks": ""
            },
            "colorscale": [
             [
              0,
              "#0d0887"
             ],
             [
              0.1111111111111111,
              "#46039f"
             ],
             [
              0.2222222222222222,
              "#7201a8"
             ],
             [
              0.3333333333333333,
              "#9c179e"
             ],
             [
              0.4444444444444444,
              "#bd3786"
             ],
             [
              0.5555555555555556,
              "#d8576b"
             ],
             [
              0.6666666666666666,
              "#ed7953"
             ],
             [
              0.7777777777777778,
              "#fb9f3a"
             ],
             [
              0.8888888888888888,
              "#fdca26"
             ],
             [
              1,
              "#f0f921"
             ]
            ],
            "type": "heatmap"
           }
          ],
          "heatmapgl": [
           {
            "colorbar": {
             "outlinewidth": 0,
             "ticks": ""
            },
            "colorscale": [
             [
              0,
              "#0d0887"
             ],
             [
              0.1111111111111111,
              "#46039f"
             ],
             [
              0.2222222222222222,
              "#7201a8"
             ],
             [
              0.3333333333333333,
              "#9c179e"
             ],
             [
              0.4444444444444444,
              "#bd3786"
             ],
             [
              0.5555555555555556,
              "#d8576b"
             ],
             [
              0.6666666666666666,
              "#ed7953"
             ],
             [
              0.7777777777777778,
              "#fb9f3a"
             ],
             [
              0.8888888888888888,
              "#fdca26"
             ],
             [
              1,
              "#f0f921"
             ]
            ],
            "type": "heatmapgl"
           }
          ],
          "histogram": [
           {
            "marker": {
             "colorbar": {
              "outlinewidth": 0,
              "ticks": ""
             }
            },
            "type": "histogram"
           }
          ],
          "histogram2d": [
           {
            "colorbar": {
             "outlinewidth": 0,
             "ticks": ""
            },
            "colorscale": [
             [
              0,
              "#0d0887"
             ],
             [
              0.1111111111111111,
              "#46039f"
             ],
             [
              0.2222222222222222,
              "#7201a8"
             ],
             [
              0.3333333333333333,
              "#9c179e"
             ],
             [
              0.4444444444444444,
              "#bd3786"
             ],
             [
              0.5555555555555556,
              "#d8576b"
             ],
             [
              0.6666666666666666,
              "#ed7953"
             ],
             [
              0.7777777777777778,
              "#fb9f3a"
             ],
             [
              0.8888888888888888,
              "#fdca26"
             ],
             [
              1,
              "#f0f921"
             ]
            ],
            "type": "histogram2d"
           }
          ],
          "histogram2dcontour": [
           {
            "colorbar": {
             "outlinewidth": 0,
             "ticks": ""
            },
            "colorscale": [
             [
              0,
              "#0d0887"
             ],
             [
              0.1111111111111111,
              "#46039f"
             ],
             [
              0.2222222222222222,
              "#7201a8"
             ],
             [
              0.3333333333333333,
              "#9c179e"
             ],
             [
              0.4444444444444444,
              "#bd3786"
             ],
             [
              0.5555555555555556,
              "#d8576b"
             ],
             [
              0.6666666666666666,
              "#ed7953"
             ],
             [
              0.7777777777777778,
              "#fb9f3a"
             ],
             [
              0.8888888888888888,
              "#fdca26"
             ],
             [
              1,
              "#f0f921"
             ]
            ],
            "type": "histogram2dcontour"
           }
          ],
          "mesh3d": [
           {
            "colorbar": {
             "outlinewidth": 0,
             "ticks": ""
            },
            "type": "mesh3d"
           }
          ],
          "parcoords": [
           {
            "line": {
             "colorbar": {
              "outlinewidth": 0,
              "ticks": ""
             }
            },
            "type": "parcoords"
           }
          ],
          "pie": [
           {
            "automargin": true,
            "type": "pie"
           }
          ],
          "scatter": [
           {
            "marker": {
             "colorbar": {
              "outlinewidth": 0,
              "ticks": ""
             }
            },
            "type": "scatter"
           }
          ],
          "scatter3d": [
           {
            "line": {
             "colorbar": {
              "outlinewidth": 0,
              "ticks": ""
             }
            },
            "marker": {
             "colorbar": {
              "outlinewidth": 0,
              "ticks": ""
             }
            },
            "type": "scatter3d"
           }
          ],
          "scattercarpet": [
           {
            "marker": {
             "colorbar": {
              "outlinewidth": 0,
              "ticks": ""
             }
            },
            "type": "scattercarpet"
           }
          ],
          "scattergeo": [
           {
            "marker": {
             "colorbar": {
              "outlinewidth": 0,
              "ticks": ""
             }
            },
            "type": "scattergeo"
           }
          ],
          "scattergl": [
           {
            "marker": {
             "colorbar": {
              "outlinewidth": 0,
              "ticks": ""
             }
            },
            "type": "scattergl"
           }
          ],
          "scattermapbox": [
           {
            "marker": {
             "colorbar": {
              "outlinewidth": 0,
              "ticks": ""
             }
            },
            "type": "scattermapbox"
           }
          ],
          "scatterpolar": [
           {
            "marker": {
             "colorbar": {
              "outlinewidth": 0,
              "ticks": ""
             }
            },
            "type": "scatterpolar"
           }
          ],
          "scatterpolargl": [
           {
            "marker": {
             "colorbar": {
              "outlinewidth": 0,
              "ticks": ""
             }
            },
            "type": "scatterpolargl"
           }
          ],
          "scatterternary": [
           {
            "marker": {
             "colorbar": {
              "outlinewidth": 0,
              "ticks": ""
             }
            },
            "type": "scatterternary"
           }
          ],
          "surface": [
           {
            "colorbar": {
             "outlinewidth": 0,
             "ticks": ""
            },
            "colorscale": [
             [
              0,
              "#0d0887"
             ],
             [
              0.1111111111111111,
              "#46039f"
             ],
             [
              0.2222222222222222,
              "#7201a8"
             ],
             [
              0.3333333333333333,
              "#9c179e"
             ],
             [
              0.4444444444444444,
              "#bd3786"
             ],
             [
              0.5555555555555556,
              "#d8576b"
             ],
             [
              0.6666666666666666,
              "#ed7953"
             ],
             [
              0.7777777777777778,
              "#fb9f3a"
             ],
             [
              0.8888888888888888,
              "#fdca26"
             ],
             [
              1,
              "#f0f921"
             ]
            ],
            "type": "surface"
           }
          ],
          "table": [
           {
            "cells": {
             "fill": {
              "color": "#EBF0F8"
             },
             "line": {
              "color": "white"
             }
            },
            "header": {
             "fill": {
              "color": "#C8D4E3"
             },
             "line": {
              "color": "white"
             }
            },
            "type": "table"
           }
          ]
         },
         "layout": {
          "annotationdefaults": {
           "arrowcolor": "#2a3f5f",
           "arrowhead": 0,
           "arrowwidth": 1
          },
          "coloraxis": {
           "colorbar": {
            "outlinewidth": 0,
            "ticks": ""
           }
          },
          "colorscale": {
           "diverging": [
            [
             0,
             "#8e0152"
            ],
            [
             0.1,
             "#c51b7d"
            ],
            [
             0.2,
             "#de77ae"
            ],
            [
             0.3,
             "#f1b6da"
            ],
            [
             0.4,
             "#fde0ef"
            ],
            [
             0.5,
             "#f7f7f7"
            ],
            [
             0.6,
             "#e6f5d0"
            ],
            [
             0.7,
             "#b8e186"
            ],
            [
             0.8,
             "#7fbc41"
            ],
            [
             0.9,
             "#4d9221"
            ],
            [
             1,
             "#276419"
            ]
           ],
           "sequential": [
            [
             0,
             "#0d0887"
            ],
            [
             0.1111111111111111,
             "#46039f"
            ],
            [
             0.2222222222222222,
             "#7201a8"
            ],
            [
             0.3333333333333333,
             "#9c179e"
            ],
            [
             0.4444444444444444,
             "#bd3786"
            ],
            [
             0.5555555555555556,
             "#d8576b"
            ],
            [
             0.6666666666666666,
             "#ed7953"
            ],
            [
             0.7777777777777778,
             "#fb9f3a"
            ],
            [
             0.8888888888888888,
             "#fdca26"
            ],
            [
             1,
             "#f0f921"
            ]
           ],
           "sequentialminus": [
            [
             0,
             "#0d0887"
            ],
            [
             0.1111111111111111,
             "#46039f"
            ],
            [
             0.2222222222222222,
             "#7201a8"
            ],
            [
             0.3333333333333333,
             "#9c179e"
            ],
            [
             0.4444444444444444,
             "#bd3786"
            ],
            [
             0.5555555555555556,
             "#d8576b"
            ],
            [
             0.6666666666666666,
             "#ed7953"
            ],
            [
             0.7777777777777778,
             "#fb9f3a"
            ],
            [
             0.8888888888888888,
             "#fdca26"
            ],
            [
             1,
             "#f0f921"
            ]
           ]
          },
          "colorway": [
           "#636efa",
           "#EF553B",
           "#00cc96",
           "#ab63fa",
           "#FFA15A",
           "#19d3f3",
           "#FF6692",
           "#B6E880",
           "#FF97FF",
           "#FECB52"
          ],
          "font": {
           "color": "#2a3f5f"
          },
          "geo": {
           "bgcolor": "white",
           "lakecolor": "white",
           "landcolor": "#E5ECF6",
           "showlakes": true,
           "showland": true,
           "subunitcolor": "white"
          },
          "hoverlabel": {
           "align": "left"
          },
          "hovermode": "closest",
          "mapbox": {
           "style": "light"
          },
          "paper_bgcolor": "white",
          "plot_bgcolor": "#E5ECF6",
          "polar": {
           "angularaxis": {
            "gridcolor": "white",
            "linecolor": "white",
            "ticks": ""
           },
           "bgcolor": "#E5ECF6",
           "radialaxis": {
            "gridcolor": "white",
            "linecolor": "white",
            "ticks": ""
           }
          },
          "scene": {
           "xaxis": {
            "backgroundcolor": "#E5ECF6",
            "gridcolor": "white",
            "gridwidth": 2,
            "linecolor": "white",
            "showbackground": true,
            "ticks": "",
            "zerolinecolor": "white"
           },
           "yaxis": {
            "backgroundcolor": "#E5ECF6",
            "gridcolor": "white",
            "gridwidth": 2,
            "linecolor": "white",
            "showbackground": true,
            "ticks": "",
            "zerolinecolor": "white"
           },
           "zaxis": {
            "backgroundcolor": "#E5ECF6",
            "gridcolor": "white",
            "gridwidth": 2,
            "linecolor": "white",
            "showbackground": true,
            "ticks": "",
            "zerolinecolor": "white"
           }
          },
          "shapedefaults": {
           "line": {
            "color": "#2a3f5f"
           }
          },
          "ternary": {
           "aaxis": {
            "gridcolor": "white",
            "linecolor": "white",
            "ticks": ""
           },
           "baxis": {
            "gridcolor": "white",
            "linecolor": "white",
            "ticks": ""
           },
           "bgcolor": "#E5ECF6",
           "caxis": {
            "gridcolor": "white",
            "linecolor": "white",
            "ticks": ""
           }
          },
          "title": {
           "x": 0.05
          },
          "xaxis": {
           "automargin": true,
           "gridcolor": "white",
           "linecolor": "white",
           "ticks": "",
           "title": {
            "standoff": 15
           },
           "zerolinecolor": "white",
           "zerolinewidth": 2
          },
          "yaxis": {
           "automargin": true,
           "gridcolor": "white",
           "linecolor": "white",
           "ticks": "",
           "title": {
            "standoff": 15
           },
           "zerolinecolor": "white",
           "zerolinewidth": 2
          }
         }
        },
        "title": {
         "text": "SEIRD MODEL",
         "x": 0.5,
         "xanchor": "center",
         "y": 0.9,
         "yanchor": "top"
        },
        "xaxis": {
         "title": {
          "text": "Time (days)"
         }
        },
        "yaxis": {
         "title": {
          "text": "Population"
         }
        }
       }
      },
      "text/html": [
       "<div>                            <div id=\"309d4a67-a2ef-47fc-aeb3-71c30d1863ef\" class=\"plotly-graph-div\" style=\"height:525px; width:100%;\"></div>            <script type=\"text/javascript\">                require([\"plotly\"], function(Plotly) {                    window.PLOTLYENV=window.PLOTLYENV || {};                                    if (document.getElementById(\"309d4a67-a2ef-47fc-aeb3-71c30d1863ef\")) {                    Plotly.newPlot(                        \"309d4a67-a2ef-47fc-aeb3-71c30d1863ef\",                        [{\"mode\": \"lines\", \"name\": \"Susceptible\", \"type\": \"scatter\", \"x\": [0.0, 1.0, 2.0, 3.0, 4.0, 5.0, 6.0, 7.0, 8.0, 9.0, 10.0, 11.0, 12.0, 13.0, 14.0, 15.0, 16.0, 17.0, 18.0, 19.0, 20.0, 21.0, 22.0, 23.0, 24.0, 25.0, 26.0, 27.0, 28.0, 29.0, 30.0, 31.0, 32.0, 33.0, 34.0, 35.0, 36.0, 37.0, 38.0, 39.0, 40.0, 41.0, 42.0, 43.0, 44.0, 45.0, 46.0, 47.0, 48.0, 49.0, 50.0, 51.0, 52.0, 53.0, 54.0, 55.0, 56.0, 57.0, 58.0, 59.0, 60.0, 61.0, 62.0, 63.0, 64.0, 65.0, 66.0, 67.0, 68.0, 69.0, 70.0, 71.0, 72.0, 73.0, 74.0, 75.0, 76.0, 77.0, 78.0, 79.0, 80.0, 81.0, 82.0, 83.0, 84.0, 85.0, 86.0, 87.0, 88.0, 89.0, 90.0, 91.0, 92.0, 93.0, 94.0, 95.0, 96.0, 97.0, 98.0, 99.0], \"y\": [55413.0, 55412.93396929612, 55412.76151410352, 55412.50431000065, 55412.16920672692, 55411.75392953284, 55411.25002460774, 55410.64425350867, 55409.91909204724, 55409.05268543322, 55408.018443275985, 55406.78436348472, 55405.31212005758, 55403.55591730087, 55401.46109205862, 55398.96243028253, 55395.98215139037, 55392.42750162559, 55388.18788498023, 55383.13144516142, 55377.100996532296, 55369.909182394134, 55361.33271734122, 55351.105544920756, 55338.91070983163, 55324.37071763212, 55307.03610529493, 55286.371912138966, 55261.7416880658, 55232.38862652741, 55197.41335183674, 55155.747839567004, 55106.12489474163, 55047.042572588114, 54976.722903559596, 54893.064296603625, 54793.58705931466, 54675.37161634299, 54534.98927882953, 54368.425842326615, 54170.998977601084, 53937.27136100664, 53660.962921680766, 53334.867513687015, 52950.78192965942, 52499.458530168034, 51970.596685230914, 51352.89306323013, 50634.17552528931, 49801.64975634646, 48842.29018957156, 47743.40543173797, 46493.40070684592, 45082.7428320948, 43505.104527194024, 41758.62371255617, 39847.16229052808, 37781.396457372386, 35579.53062717512, 33267.41797931531, 30877.91379916072, 28449.384495628656, 26023.446078439818, 23642.17040500942, 21345.13202588399, 19166.72567259266, 17134.138253113568, 15266.221287330229, 13573.321824099701, 12057.952855427668, 10716.059924457333, 9538.596546703513, 8513.144450910268, 7625.382491492398, 6860.2911549900855, 6203.052846828789, 5639.661566628095, 5157.286202154024, 4744.443399332136, 4391.034843549507, 4088.2961389882485, 3828.693933758103, 3605.7978630795105, 3414.1451179650708, 3249.1088188317913, 3106.7763728776963, 2983.8408499518646, 2877.506193001037, 2785.405839804532, 2705.5336785147706, 2636.1859420416836, 2575.9125788640267, 2523.4766941658054, 2477.820788804522, 2438.038671457344, 2403.3520830228126, 2373.091217563724, 2346.6784587082107, 2323.614771752402, 2303.4682836035327]}, {\"mode\": \"lines\", \"name\": \"Exposed\", \"type\": \"scatter\", \"x\": [0.0, 1.0, 2.0, 3.0, 4.0, 5.0, 6.0, 7.0, 8.0, 9.0, 10.0, 11.0, 12.0, 13.0, 14.0, 15.0, 16.0, 17.0, 18.0, 19.0, 20.0, 21.0, 22.0, 23.0, 24.0, 25.0, 26.0, 27.0, 28.0, 29.0, 30.0, 31.0, 32.0, 33.0, 34.0, 35.0, 36.0, 37.0, 38.0, 39.0, 40.0, 41.0, 42.0, 43.0, 44.0, 45.0, 46.0, 47.0, 48.0, 49.0, 50.0, 51.0, 52.0, 53.0, 54.0, 55.0, 56.0, 57.0, 58.0, 59.0, 60.0, 61.0, 62.0, 63.0, 64.0, 65.0, 66.0, 67.0, 68.0, 69.0, 70.0, 71.0, 72.0, 73.0, 74.0, 75.0, 76.0, 77.0, 78.0, 79.0, 80.0, 81.0, 82.0, 83.0, 84.0, 85.0, 86.0, 87.0, 88.0, 89.0, 90.0, 91.0, 92.0, 93.0, 94.0, 95.0, 96.0, 97.0, 98.0, 99.0], \"y\": [1.0, 0.8804466928240424, 0.8785427211108383, 0.95360214418561, 1.08563619657656, 1.266488661922376, 1.495051866007564, 1.7747425071468803, 2.112239589900578, 2.5169402096127413, 3.000838478068247, 3.5786712595556334, 4.268251251183173, 5.090951517325978, 6.072330993338995, 7.242906122436149, 8.639084500963635, 10.304284625232194, 12.290273079232648, 14.65875815732552, 17.483286429357413, 20.851497760850613, 24.867804131215312, 29.656568875425926, 35.365877038306486, 42.17199852801582, 50.2846668698653, 59.95330970482598, 71.47438755387053, 85.20001552520704, 101.5480611231756, 121.01392520426616, 144.18422270983817, 171.7525764076401, 204.5377201060269, 243.50405901043882, 289.7847485058092, 344.7072138636226, 409.8207932756368, 486.92586162859146, 578.1032801898936, 685.742329990459, 812.5643191358292, 961.6378006050656, 1136.3797022356678, 1340.5346575541425, 1578.1226307021925, 1853.3423637564244, 2170.416144597442, 2533.3600648012753, 2945.664668670248, 3409.874907133356, 3927.067427087248, 4496.23915300637, 5113.644784557663, 5772.151507202648, 6460.713304208915, 7164.096145276804, 7862.997487924318, 8534.684857279392, 9154.216358608965, 9696.205091889744, 10136.959818690984, 10456.71518506481, 10641.595844289053, 10684.97269584293, 10587.975346267463, 10359.0930271068, 10012.979734409595, 9568.718134414743, 9047.861844428022, 8472.557262364908, 7863.968510480123, 7241.127653957168, 6620.233902821934, 6014.355741086596, 5433.44996847554, 4884.599792398289, 4372.381475698835, 3899.28665522291, 3466.147564640908, 3072.5316342521587, 2717.0870450876496, 2397.832117316076, 2112.3886724968934, 1858.1639751392563, 1632.4878643629181, 1432.7124980424212, 1256.2818665394302, 1100.7775474873804, 963.9462757949276, 843.7139491253715, 738.1898007850776, 645.6636698360251, 564.5986441337014, 493.62077639488973, 431.5071451150892, 377.1731764774696, 329.6598609860908, 288.12131405844957]}, {\"mode\": \"lines\", \"name\": \"Infected\", \"type\": \"scatter\", \"x\": [0.0, 1.0, 2.0, 3.0, 4.0, 5.0, 6.0, 7.0, 8.0, 9.0, 10.0, 11.0, 12.0, 13.0, 14.0, 15.0, 16.0, 17.0, 18.0, 19.0, 20.0, 21.0, 22.0, 23.0, 24.0, 25.0, 26.0, 27.0, 28.0, 29.0, 30.0, 31.0, 32.0, 33.0, 34.0, 35.0, 36.0, 37.0, 38.0, 39.0, 40.0, 41.0, 42.0, 43.0, 44.0, 45.0, 46.0, 47.0, 48.0, 49.0, 50.0, 51.0, 52.0, 53.0, 54.0, 55.0, 56.0, 57.0, 58.0, 59.0, 60.0, 61.0, 62.0, 63.0, 64.0, 65.0, 66.0, 67.0, 68.0, 69.0, 70.0, 71.0, 72.0, 73.0, 74.0, 75.0, 76.0, 77.0, 78.0, 79.0, 80.0, 81.0, 82.0, 83.0, 84.0, 85.0, 86.0, 87.0, 88.0, 89.0, 90.0, 91.0, 92.0, 93.0, 94.0, 95.0, 96.0, 97.0, 98.0, 99.0], \"y\": [0.0, 0.16601899333529013, 0.2892792602604021, 0.3952134368353232, 0.49898981903016754, 0.6103649267765783, 0.7363947539204735, 0.8829775899431901, 1.055764894939478, 1.2607369044630905, 1.5046084509935116, 1.7951586427614301, 2.1415391981312024, 2.5545954729380087, 3.0472235361273703, 3.6347816929806545, 4.335573153994778, 5.171416861093676, 6.1683250294454925, 7.357308759631497, 8.775336283672601, 10.466472848795572, 12.483236187289116, 14.888207543312683, 17.755945740325725, 21.1752580541873, 25.25189351925097, 30.111732269485437, 35.904557434313304, 42.8085078028469, 51.0353240898015, 60.83651384513567, 72.5105738625093, 86.41142077772146, 102.95818570558959, 122.64653076468595, 146.06163274961528, 173.892945669662, 206.95080595090158, 246.1848343409354, 292.7039473125056, 347.7975550681408, 412.9571923911005, 489.8973666660419, 580.5737698697573, 687.1961635618283, 812.2322131868343, 958.3972642550377, 1128.6236049635547, 1326.0013318618485, 1553.6816672430084, 1814.7330226242048, 2111.9408009755466, 2447.5447279069676, 2822.9133574106095, 3238.1649441074883, 3691.7574783493046, 4180.087359198372, 4697.153274063027, 5234.355384738572, 5780.502634208603, 6322.089751433352, 6843.87388020536, 7329.733547494125, 7763.737132252389, 8131.298723889133, 8420.270698355453, 8621.82536983341, 8731.012555459225, 8746.936673937365, 8672.562042095256, 8514.208973684134, 8280.839247361208, 7983.239845363086, 7633.205252607576, 7242.7955632259645, 6823.719864458792, 6386.867702560699, 5941.9898623453455, 5497.514546427276, 5060.476893096654, 4636.536283853372, 4230.056595990297, 3844.227269145078, 3481.2068542779166, 3142.2749835146865, 2827.9823954033814, 2538.292057519788, 2272.707159053582, 2030.3837626901252, 1810.2274433377474, 1610.974295960123, 1431.2573444390544, 1269.6597941810687, 1124.7567147988464, 995.146810096857, 879.4758397359103, 776.4531557408546, 684.8626486863434, 603.5692508529227]}, {\"mode\": \"lines\", \"name\": \"Recovered\", \"type\": \"scatter\", \"x\": [0.0, 1.0, 2.0, 3.0, 4.0, 5.0, 6.0, 7.0, 8.0, 9.0, 10.0, 11.0, 12.0, 13.0, 14.0, 15.0, 16.0, 17.0, 18.0, 19.0, 20.0, 21.0, 22.0, 23.0, 24.0, 25.0, 26.0, 27.0, 28.0, 29.0, 30.0, 31.0, 32.0, 33.0, 34.0, 35.0, 36.0, 37.0, 38.0, 39.0, 40.0, 41.0, 42.0, 43.0, 44.0, 45.0, 46.0, 47.0, 48.0, 49.0, 50.0, 51.0, 52.0, 53.0, 54.0, 55.0, 56.0, 57.0, 58.0, 59.0, 60.0, 61.0, 62.0, 63.0, 64.0, 65.0, 66.0, 67.0, 68.0, 69.0, 70.0, 71.0, 72.0, 73.0, 74.0, 75.0, 76.0, 77.0, 78.0, 79.0, 80.0, 81.0, 82.0, 83.0, 84.0, 85.0, 86.0, 87.0, 88.0, 89.0, 90.0, 91.0, 92.0, 93.0, 94.0, 95.0, 96.0, 97.0, 98.0, 99.0], \"y\": [0.0, 0.017608515959053467, 0.06359752359298858, 0.13218697649021163, 0.2215505317153873, 0.33229519060095897, 0.46667589507833734, 0.628223754810743, 0.8216131211225448, 1.0526737074241899, 1.3284988154489052, 1.6576259516533096, 2.0502805437854916, 2.5186821379661852, 3.0774180707106855, 3.743893711841815, 4.538871859196289, 5.487117199270456, 6.61816521997292, 7.967239129446026, 9.576342679198353, 11.495562296585915, 13.784618106231992, 16.514710794442337, 19.77072065075494, 23.653823207103024, 28.28460088434694, 33.806741298045644, 40.39143025140648, 48.242565130076436, 57.60293665524954, 68.76154924523244, 82.06227781741326, 97.91408720386619, 116.80307156589919, 139.30660225911828, 166.10990348691138, 198.02540171133487, 236.01520974951742, 281.21711553344096, 334.9744154068308, 398.8698785412519, 474.7640101130394, 564.83758713766, 671.638138411613, 798.1295838443604, 947.7436237920107, 1124.430577882533, 1332.7062526346863, 1577.6899622913356, 1865.127127063631, 2201.387974653986, 2593.4319585821227, 3048.7259582926445, 3575.103597753907, 4180.553852520299, 4872.930234222301, 5659.5780343371625, 6546.886749753754, 7539.78760080003, 8641.23048721952, 9851.688594943405, 11168.748200397435, 12586.842776188467, 14097.181497817095, 15687.902616907737, 17344.454132037154, 19050.174284156594, 20787.01729742832, 22536.353102598194, 24279.764570117444, 25999.773495522695, 27680.44301212356, 29307.825008268614, 30870.242720622366, 32358.416263972787, 33765.45174039381, 35086.72167259828, 36319.66673636131, 37463.54755932027, 38519.17146294676, 39488.614333322716, 40374.95264625828, 41182.015946016385, 41914.16608895404, 42576.1062016215, 43172.72000125362, 43708.94032629304, 44189.64462114217, 44619.57451017691, 45003.27630494304, 45345.0592584454, 45648.968544549025, 45918.770172460514, 46157.945372649076, 46369.692297436864, 46556.93321782672, 46722.32568816609, 46868.276446717624, 46996.95703633656]}, {\"mode\": \"lines\", \"name\": \"Dead\", \"type\": \"scatter\", \"x\": [0.0, 1.0, 2.0, 3.0, 4.0, 5.0, 6.0, 7.0, 8.0, 9.0, 10.0, 11.0, 12.0, 13.0, 14.0, 15.0, 16.0, 17.0, 18.0, 19.0, 20.0, 21.0, 22.0, 23.0, 24.0, 25.0, 26.0, 27.0, 28.0, 29.0, 30.0, 31.0, 32.0, 33.0, 34.0, 35.0, 36.0, 37.0, 38.0, 39.0, 40.0, 41.0, 42.0, 43.0, 44.0, 45.0, 46.0, 47.0, 48.0, 49.0, 50.0, 51.0, 52.0, 53.0, 54.0, 55.0, 56.0, 57.0, 58.0, 59.0, 60.0, 61.0, 62.0, 63.0, 64.0, 65.0, 66.0, 67.0, 68.0, 69.0, 70.0, 71.0, 72.0, 73.0, 74.0, 75.0, 76.0, 77.0, 78.0, 79.0, 80.0, 81.0, 82.0, 83.0, 84.0, 85.0, 86.0, 87.0, 88.0, 89.0, 90.0, 91.0, 92.0, 93.0, 94.0, 95.0, 96.0, 97.0, 98.0, 99.0], \"y\": [0.0, 0.0019565017732281627, 0.007066391510332053, 0.014687441832245723, 0.024616725746154134, 0.03692168784455099, 0.05185287723092637, 0.06980263942341589, 0.09129034679139386, 0.11696374526935442, 0.1476109794943228, 0.18418066129481217, 0.22780894930949913, 0.27985357088513185, 0.34193534119007635, 0.41598819020464617, 0.5043190954662543, 0.6096796888078283, 0.7353516911081021, 0.8852487921606697, 1.0640380754664838, 1.277284699620657, 1.5316242340257769, 1.8349678660491486, 2.196746738972771, 2.628202578567003, 3.1427334315941047, 3.756304588671739, 4.487936694600721, 5.3602850144529395, 6.400326295027727, 7.64017213835916, 9.118030868601474, 10.8793430226518, 12.978119062877688, 15.478511362124255, 18.456655942990157, 22.002822412370545, 26.22391219439083, 31.24634617038234, 37.21937948964788, 44.31887539347244, 52.75155667922662, 62.75973190418446, 74.62645982351255, 88.6810648715956, 105.3048470880012, 124.93673087583701, 148.07847251496517, 175.29888469903733, 207.2363474515146, 244.59866385044288, 288.1591065091248, 338.7473286991828, 397.23373308376745, 464.50598361336677, 541.4366926913668, 628.8420038152403, 727.4318610837506, 837.7541778666701, 960.1367208021688, 1094.6320661048223, 1240.9720222663811, 1398.5380862431628, 1566.3534997574545, 1743.100290767526, 1927.1615702263502, 2116.6860315729546, 2309.6685886031464, 2504.039233622021, 2697.7516189019375, 2888.8637217247438, 3075.6047791248398, 3256.425000918734, 3430.02696895804, 3595.3795848858645, 3751.716860043757, 3898.524630288699, 4035.5185262623686, 4162.61639548003, 4279.907940327419, 4387.623814813637, 4486.105849584254, 4575.779549557378, 4657.12956543934, 4730.678466846836, 4796.968889028183, 4856.548925143675, 4909.960513460245, 4957.730501130773, 5000.3640338825635, 5038.339917605047, 5072.107616061005, 5102.085574717837, 5128.660596961009, 5152.188033048542, 5172.992579758526, 5191.369520907344, 5207.5862718575145, 5221.884115148508]}, {\"mode\": \"lines+markers\", \"name\": \"Total\", \"type\": \"scatter\", \"x\": [0.0, 1.0, 2.0, 3.0, 4.0, 5.0, 6.0, 7.0, 8.0, 9.0, 10.0, 11.0, 12.0, 13.0, 14.0, 15.0, 16.0, 17.0, 18.0, 19.0, 20.0, 21.0, 22.0, 23.0, 24.0, 25.0, 26.0, 27.0, 28.0, 29.0, 30.0, 31.0, 32.0, 33.0, 34.0, 35.0, 36.0, 37.0, 38.0, 39.0, 40.0, 41.0, 42.0, 43.0, 44.0, 45.0, 46.0, 47.0, 48.0, 49.0, 50.0, 51.0, 52.0, 53.0, 54.0, 55.0, 56.0, 57.0, 58.0, 59.0, 60.0, 61.0, 62.0, 63.0, 64.0, 65.0, 66.0, 67.0, 68.0, 69.0, 70.0, 71.0, 72.0, 73.0, 74.0, 75.0, 76.0, 77.0, 78.0, 79.0, 80.0, 81.0, 82.0, 83.0, 84.0, 85.0, 86.0, 87.0, 88.0, 89.0, 90.0, 91.0, 92.0, 93.0, 94.0, 95.0, 96.0, 97.0, 98.0, 99.0], \"y\": [55414.0, 55414.000000000015, 55413.99999999999, 55414.0, 55413.999999999985, 55413.999999999985, 55413.99999999997, 55413.99999999999, 55413.99999999999, 55413.99999999999, 55413.99999999999, 55413.999999999985, 55413.999999999985, 55413.99999999999, 55413.999999999985, 55413.99999999999, 55413.99999999999, 55414.0, 55413.99999999999, 55413.999999999985, 55413.999999999985, 55413.99999999999, 55413.999999999985, 55413.99999999999, 55413.999999999985, 55413.99999999999, 55413.999999999985, 55413.99999999999, 55413.99999999999, 55414.0, 55413.99999999999, 55413.99999999999, 55413.99999999999, 55414.0, 55413.999999999985, 55413.99999999999, 55413.999999999985, 55413.99999999998, 55413.99999999998, 55413.99999999996, 55413.999999999956, 55413.99999999997, 55413.99999999996, 55413.99999999996, 55413.99999999996, 55413.99999999996, 55413.999999999956, 55413.99999999996, 55413.999999999956, 55413.99999999995, 55413.999999999956, 55413.999999999956, 55413.99999999996, 55413.99999999996, 55413.99999999997, 55413.99999999997, 55413.99999999996, 55413.999999999956, 55413.99999999997, 55413.99999999997, 55413.999999999985, 55413.999999999985, 55413.999999999985, 55413.999999999985, 55413.999999999985, 55413.999999999985, 55413.999999999985, 55413.999999999985, 55413.999999999985, 55413.999999999985, 55413.999999999985, 55413.99999999999, 55414.0, 55413.99999999999, 55414.0, 55414.00000000001, 55413.99999999999, 55413.999999999985, 55414.0, 55413.99999999999, 55413.999999999985, 55413.99999999999, 55413.99999999999, 55413.99999999999, 55413.999999999985, 55413.99999999998, 55413.99999999997, 55413.99999999996, 55413.99999999996, 55413.999999999956, 55413.99999999996, 55413.99999999996, 55413.99999999996, 55413.99999999996, 55413.99999999998, 55413.99999999997, 55413.99999999997, 55413.99999999997, 55413.99999999998, 55413.99999999997]}],                        {\"legend\": {\"title\": {\"text\": \"Variables\"}}, \"template\": {\"data\": {\"bar\": [{\"error_x\": {\"color\": \"#2a3f5f\"}, \"error_y\": {\"color\": \"#2a3f5f\"}, \"marker\": {\"line\": {\"color\": \"#E5ECF6\", \"width\": 0.5}}, \"type\": \"bar\"}], \"barpolar\": [{\"marker\": {\"line\": {\"color\": \"#E5ECF6\", \"width\": 0.5}}, \"type\": \"barpolar\"}], \"carpet\": [{\"aaxis\": {\"endlinecolor\": \"#2a3f5f\", \"gridcolor\": \"white\", \"linecolor\": \"white\", \"minorgridcolor\": \"white\", \"startlinecolor\": \"#2a3f5f\"}, \"baxis\": {\"endlinecolor\": \"#2a3f5f\", \"gridcolor\": \"white\", \"linecolor\": \"white\", \"minorgridcolor\": \"white\", \"startlinecolor\": \"#2a3f5f\"}, \"type\": \"carpet\"}], \"choropleth\": [{\"colorbar\": {\"outlinewidth\": 0, \"ticks\": \"\"}, \"type\": \"choropleth\"}], \"contour\": [{\"colorbar\": {\"outlinewidth\": 0, \"ticks\": \"\"}, \"colorscale\": [[0.0, \"#0d0887\"], [0.1111111111111111, \"#46039f\"], [0.2222222222222222, \"#7201a8\"], [0.3333333333333333, \"#9c179e\"], [0.4444444444444444, \"#bd3786\"], [0.5555555555555556, \"#d8576b\"], [0.6666666666666666, \"#ed7953\"], [0.7777777777777778, \"#fb9f3a\"], [0.8888888888888888, \"#fdca26\"], [1.0, \"#f0f921\"]], \"type\": \"contour\"}], \"contourcarpet\": [{\"colorbar\": {\"outlinewidth\": 0, \"ticks\": \"\"}, \"type\": \"contourcarpet\"}], \"heatmap\": [{\"colorbar\": {\"outlinewidth\": 0, \"ticks\": \"\"}, \"colorscale\": [[0.0, \"#0d0887\"], [0.1111111111111111, \"#46039f\"], [0.2222222222222222, \"#7201a8\"], [0.3333333333333333, \"#9c179e\"], [0.4444444444444444, \"#bd3786\"], [0.5555555555555556, \"#d8576b\"], [0.6666666666666666, \"#ed7953\"], [0.7777777777777778, \"#fb9f3a\"], [0.8888888888888888, \"#fdca26\"], [1.0, \"#f0f921\"]], \"type\": \"heatmap\"}], \"heatmapgl\": [{\"colorbar\": {\"outlinewidth\": 0, \"ticks\": \"\"}, \"colorscale\": [[0.0, \"#0d0887\"], [0.1111111111111111, \"#46039f\"], [0.2222222222222222, \"#7201a8\"], [0.3333333333333333, \"#9c179e\"], [0.4444444444444444, \"#bd3786\"], [0.5555555555555556, \"#d8576b\"], [0.6666666666666666, \"#ed7953\"], [0.7777777777777778, \"#fb9f3a\"], [0.8888888888888888, \"#fdca26\"], [1.0, \"#f0f921\"]], \"type\": \"heatmapgl\"}], \"histogram\": [{\"marker\": {\"colorbar\": {\"outlinewidth\": 0, \"ticks\": \"\"}}, \"type\": \"histogram\"}], \"histogram2d\": [{\"colorbar\": {\"outlinewidth\": 0, \"ticks\": \"\"}, \"colorscale\": [[0.0, \"#0d0887\"], [0.1111111111111111, \"#46039f\"], [0.2222222222222222, \"#7201a8\"], [0.3333333333333333, \"#9c179e\"], [0.4444444444444444, \"#bd3786\"], [0.5555555555555556, \"#d8576b\"], [0.6666666666666666, \"#ed7953\"], [0.7777777777777778, \"#fb9f3a\"], [0.8888888888888888, \"#fdca26\"], [1.0, \"#f0f921\"]], \"type\": \"histogram2d\"}], \"histogram2dcontour\": [{\"colorbar\": {\"outlinewidth\": 0, \"ticks\": \"\"}, \"colorscale\": [[0.0, \"#0d0887\"], [0.1111111111111111, \"#46039f\"], [0.2222222222222222, \"#7201a8\"], [0.3333333333333333, \"#9c179e\"], [0.4444444444444444, \"#bd3786\"], [0.5555555555555556, \"#d8576b\"], [0.6666666666666666, \"#ed7953\"], [0.7777777777777778, \"#fb9f3a\"], [0.8888888888888888, \"#fdca26\"], [1.0, \"#f0f921\"]], \"type\": \"histogram2dcontour\"}], \"mesh3d\": [{\"colorbar\": {\"outlinewidth\": 0, \"ticks\": \"\"}, \"type\": \"mesh3d\"}], \"parcoords\": [{\"line\": {\"colorbar\": {\"outlinewidth\": 0, \"ticks\": \"\"}}, \"type\": \"parcoords\"}], \"pie\": [{\"automargin\": true, \"type\": \"pie\"}], \"scatter\": [{\"marker\": {\"colorbar\": {\"outlinewidth\": 0, \"ticks\": \"\"}}, \"type\": \"scatter\"}], \"scatter3d\": [{\"line\": {\"colorbar\": {\"outlinewidth\": 0, \"ticks\": \"\"}}, \"marker\": {\"colorbar\": {\"outlinewidth\": 0, \"ticks\": \"\"}}, \"type\": \"scatter3d\"}], \"scattercarpet\": [{\"marker\": {\"colorbar\": {\"outlinewidth\": 0, \"ticks\": \"\"}}, \"type\": \"scattercarpet\"}], \"scattergeo\": [{\"marker\": {\"colorbar\": {\"outlinewidth\": 0, \"ticks\": \"\"}}, \"type\": \"scattergeo\"}], \"scattergl\": [{\"marker\": {\"colorbar\": {\"outlinewidth\": 0, \"ticks\": \"\"}}, \"type\": \"scattergl\"}], \"scattermapbox\": [{\"marker\": {\"colorbar\": {\"outlinewidth\": 0, \"ticks\": \"\"}}, \"type\": \"scattermapbox\"}], \"scatterpolar\": [{\"marker\": {\"colorbar\": {\"outlinewidth\": 0, \"ticks\": \"\"}}, \"type\": \"scatterpolar\"}], \"scatterpolargl\": [{\"marker\": {\"colorbar\": {\"outlinewidth\": 0, \"ticks\": \"\"}}, \"type\": \"scatterpolargl\"}], \"scatterternary\": [{\"marker\": {\"colorbar\": {\"outlinewidth\": 0, \"ticks\": \"\"}}, \"type\": \"scatterternary\"}], \"surface\": [{\"colorbar\": {\"outlinewidth\": 0, \"ticks\": \"\"}, \"colorscale\": [[0.0, \"#0d0887\"], [0.1111111111111111, \"#46039f\"], [0.2222222222222222, \"#7201a8\"], [0.3333333333333333, \"#9c179e\"], [0.4444444444444444, \"#bd3786\"], [0.5555555555555556, \"#d8576b\"], [0.6666666666666666, \"#ed7953\"], [0.7777777777777778, \"#fb9f3a\"], [0.8888888888888888, \"#fdca26\"], [1.0, \"#f0f921\"]], \"type\": \"surface\"}], \"table\": [{\"cells\": {\"fill\": {\"color\": \"#EBF0F8\"}, \"line\": {\"color\": \"white\"}}, \"header\": {\"fill\": {\"color\": \"#C8D4E3\"}, \"line\": {\"color\": \"white\"}}, \"type\": \"table\"}]}, \"layout\": {\"annotationdefaults\": {\"arrowcolor\": \"#2a3f5f\", \"arrowhead\": 0, \"arrowwidth\": 1}, \"coloraxis\": {\"colorbar\": {\"outlinewidth\": 0, \"ticks\": \"\"}}, \"colorscale\": {\"diverging\": [[0, \"#8e0152\"], [0.1, \"#c51b7d\"], [0.2, \"#de77ae\"], [0.3, \"#f1b6da\"], [0.4, \"#fde0ef\"], [0.5, \"#f7f7f7\"], [0.6, \"#e6f5d0\"], [0.7, \"#b8e186\"], [0.8, \"#7fbc41\"], [0.9, \"#4d9221\"], [1, \"#276419\"]], \"sequential\": [[0.0, \"#0d0887\"], [0.1111111111111111, \"#46039f\"], [0.2222222222222222, \"#7201a8\"], [0.3333333333333333, \"#9c179e\"], [0.4444444444444444, \"#bd3786\"], [0.5555555555555556, \"#d8576b\"], [0.6666666666666666, \"#ed7953\"], [0.7777777777777778, \"#fb9f3a\"], [0.8888888888888888, \"#fdca26\"], [1.0, \"#f0f921\"]], \"sequentialminus\": [[0.0, \"#0d0887\"], [0.1111111111111111, \"#46039f\"], [0.2222222222222222, \"#7201a8\"], [0.3333333333333333, \"#9c179e\"], [0.4444444444444444, \"#bd3786\"], [0.5555555555555556, \"#d8576b\"], [0.6666666666666666, \"#ed7953\"], [0.7777777777777778, \"#fb9f3a\"], [0.8888888888888888, \"#fdca26\"], [1.0, \"#f0f921\"]]}, \"colorway\": [\"#636efa\", \"#EF553B\", \"#00cc96\", \"#ab63fa\", \"#FFA15A\", \"#19d3f3\", \"#FF6692\", \"#B6E880\", \"#FF97FF\", \"#FECB52\"], \"font\": {\"color\": \"#2a3f5f\"}, \"geo\": {\"bgcolor\": \"white\", \"lakecolor\": \"white\", \"landcolor\": \"#E5ECF6\", \"showlakes\": true, \"showland\": true, \"subunitcolor\": \"white\"}, \"hoverlabel\": {\"align\": \"left\"}, \"hovermode\": \"closest\", \"mapbox\": {\"style\": \"light\"}, \"paper_bgcolor\": \"white\", \"plot_bgcolor\": \"#E5ECF6\", \"polar\": {\"angularaxis\": {\"gridcolor\": \"white\", \"linecolor\": \"white\", \"ticks\": \"\"}, \"bgcolor\": \"#E5ECF6\", \"radialaxis\": {\"gridcolor\": \"white\", \"linecolor\": \"white\", \"ticks\": \"\"}}, \"scene\": {\"xaxis\": {\"backgroundcolor\": \"#E5ECF6\", \"gridcolor\": \"white\", \"gridwidth\": 2, \"linecolor\": \"white\", \"showbackground\": true, \"ticks\": \"\", \"zerolinecolor\": \"white\"}, \"yaxis\": {\"backgroundcolor\": \"#E5ECF6\", \"gridcolor\": \"white\", \"gridwidth\": 2, \"linecolor\": \"white\", \"showbackground\": true, \"ticks\": \"\", \"zerolinecolor\": \"white\"}, \"zaxis\": {\"backgroundcolor\": \"#E5ECF6\", \"gridcolor\": \"white\", \"gridwidth\": 2, \"linecolor\": \"white\", \"showbackground\": true, \"ticks\": \"\", \"zerolinecolor\": \"white\"}}, \"shapedefaults\": {\"line\": {\"color\": \"#2a3f5f\"}}, \"ternary\": {\"aaxis\": {\"gridcolor\": \"white\", \"linecolor\": \"white\", \"ticks\": \"\"}, \"baxis\": {\"gridcolor\": \"white\", \"linecolor\": \"white\", \"ticks\": \"\"}, \"bgcolor\": \"#E5ECF6\", \"caxis\": {\"gridcolor\": \"white\", \"linecolor\": \"white\", \"ticks\": \"\"}}, \"title\": {\"x\": 0.05}, \"xaxis\": {\"automargin\": true, \"gridcolor\": \"white\", \"linecolor\": \"white\", \"ticks\": \"\", \"title\": {\"standoff\": 15}, \"zerolinecolor\": \"white\", \"zerolinewidth\": 2}, \"yaxis\": {\"automargin\": true, \"gridcolor\": \"white\", \"linecolor\": \"white\", \"ticks\": \"\", \"title\": {\"standoff\": 15}, \"zerolinecolor\": \"white\", \"zerolinewidth\": 2}}}, \"title\": {\"text\": \"SEIRD MODEL\", \"x\": 0.5, \"xanchor\": \"center\", \"y\": 0.9, \"yanchor\": \"top\"}, \"xaxis\": {\"title\": {\"text\": \"Time (days)\"}}, \"yaxis\": {\"title\": {\"text\": \"Population\"}}},                        {\"responsive\": true}                    ).then(function(){\n",
       "                            \n",
       "var gd = document.getElementById('309d4a67-a2ef-47fc-aeb3-71c30d1863ef');\n",
       "var x = new MutationObserver(function (mutations, observer) {{\n",
       "        var display = window.getComputedStyle(gd).display;\n",
       "        if (!display || display === 'none') {{\n",
       "            console.log([gd, 'removed!']);\n",
       "            Plotly.purge(gd);\n",
       "            observer.disconnect();\n",
       "        }}\n",
       "}});\n",
       "\n",
       "// Listen for the removal of the full notebook cells\n",
       "var notebookContainer = gd.closest('#notebook-container');\n",
       "if (notebookContainer) {{\n",
       "    x.observe(notebookContainer, {childList: true});\n",
       "}}\n",
       "\n",
       "// Listen for the clearing of the current output cell\n",
       "var outputEl = gd.closest('.output');\n",
       "if (outputEl) {{\n",
       "    x.observe(outputEl, {childList: true});\n",
       "}}\n",
       "\n",
       "                        })                };                });            </script>        </div>"
      ]
     },
     "metadata": {},
     "output_type": "display_data"
    }
   ],
   "source": [
    "#SEIRD MODEL CONSTRUCTION\n",
    "import numpy as np\n",
    "from scipy.integrate import odeint\n",
    "import plotly.graph_objects as go\n",
    "\n",
    "def deriv(y, t, N, beta, gamma, delta, alpha, rho):\n",
    "    S, E, I, R, D = y\n",
    "    dSdt = -beta * S * I / N\n",
    "    dEdt = beta * S * I / N - delta * E\n",
    "    dIdt = delta * E - (1 - alpha) * gamma * I - alpha * rho * I\n",
    "    dRdt = (1 - alpha) * gamma * I\n",
    "    dDdt = alpha * rho * I\n",
    "    return dSdt, dEdt, dIdt, dRdt, dDdt\n",
    "\n",
    "#population and parameters determine\n",
    "N = 55414 \n",
    "D = 4.0    # infections lasts four days\n",
    "gamma = 1.0 / D\n",
    "delta = 1.0 / 5.0\n",
    "R_0 = 3.0 \n",
    "beta = R_0 * gamma  # infected person infects 1 other person per day\n",
    "alpha = 0.20  # 20% death rate\n",
    "rho = 1/9  # 9 days from infection until death\n",
    "S0, E0, I0, R0, D0 = N-1, 1, 0, 0, 0  # initial conditions: one exposed\n",
    "\n",
    "#define time\n",
    "t = np.linspace(0, 99, 100) # Grid of time points (in days)\n",
    "y0 = S0, E0, I0, R0, D0  # Initial conditions vector\n",
    "\n",
    "# Integrate the SEIRD equations over the time grid, t.\n",
    "ret = odeint(deriv, y0, t, args=(N, beta, gamma, delta, alpha, rho))\n",
    "S, E, I, R, D = ret.T\n",
    "        \n",
    "\n",
    "#PLOT\n",
    "fig = go.Figure()\n",
    "fig.add_trace(go.Scatter(x=t, y=S, mode='lines',name='Susceptible'))\n",
    "fig.add_trace(go.Scatter(x=t, y=E, mode='lines',name='Exposed'))\n",
    "fig.add_trace(go.Scatter(x=t, y=I, mode='lines',name='Infected'))\n",
    "fig.add_trace(go.Scatter(x=t, y=R, mode='lines',name='Recovered'))\n",
    "fig.add_trace(go.Scatter(x=t, y=D, mode='lines',name='Dead'))\n",
    "fig.add_trace(go.Scatter(x=t, y=S+E+I+R+D, mode='lines+markers',name='Total'))\n",
    "\n",
    "\n",
    "fig.update_layout(\n",
    "     title={\n",
    "        'text': \"SEIRD MODEL\",\n",
    "        'y':0.9,\n",
    "        'x':0.5,\n",
    "        'xanchor': 'center',\n",
    "        'yanchor': 'top'},     \n",
    "    xaxis_title=\"Time (days)\",\n",
    "    yaxis_title=\"Population\",\n",
    "    legend_title=\"Variables\"\n",
    "    )\n",
    "    \n",
    "fig.show()"
   ]
  },
  {
   "cell_type": "markdown",
   "metadata": {},
   "source": [
    "# SEIRD model and R0 dynamic "
   ]
  },
  {
   "cell_type": "code",
   "execution_count": 54,
   "metadata": {},
   "outputs": [
    {
     "data": {
      "application/vnd.plotly.v1+json": {
       "config": {
        "plotlyServerURL": "https://plot.ly"
       },
       "data": [
        {
         "mode": "lines",
         "name": "Susceptible",
         "type": "scatter",
         "x": [
          0,
          1,
          2,
          3,
          4,
          5,
          6,
          7,
          8,
          9,
          10,
          11,
          12,
          13,
          14,
          15,
          16,
          17,
          18,
          19,
          20,
          21,
          22,
          23,
          24,
          25,
          26,
          27,
          28,
          29,
          30,
          31,
          32,
          33,
          34,
          35,
          36,
          37,
          38,
          39,
          40,
          41,
          42,
          43,
          44,
          45,
          46,
          47,
          48,
          49,
          50,
          51,
          52,
          53,
          54,
          55,
          56,
          57,
          58,
          59,
          60,
          61,
          62,
          63,
          64,
          65,
          66,
          67,
          68,
          69,
          70,
          71,
          72,
          73,
          74,
          75,
          76,
          77,
          78,
          79,
          80,
          81,
          82,
          83,
          84,
          85,
          86,
          87,
          88,
          89
         ],
         "y": [
          55413,
          55412.911189586266,
          55412.67403329792,
          55412.30697844913,
          55411.80517510459,
          55411.14764309065,
          55410.29991303495,
          55409.21400612876,
          55407.8266424031,
          55406.05603609587,
          55403.79733128234,
          55400.91653521437,
          55397.24265874111,
          55392.55763758303,
          55386.583465120544,
          55378.96579805848,
          55369.2530959546,
          55356.870105244285,
          55341.08418845758,
          55320.96262952232,
          55295.318578841616,
          55262.64275948925,
          55221.017416323375,
          55168.00826147176,
          55100.52939985887,
          55014.675466365334,
          54905.51461908989,
          54766.8358712858,
          54590.844935827015,
          54367.805003605456,
          54085.623786274264,
          53729.39736147354,
          53280.93710170427,
          52718.331458810186,
          52015.63243490166,
          51142.81106815458,
          50066.195277742874,
          48749.68231849432,
          47157.08233720222,
          45255.958655170354,
          43023.21016425404,
          40452.30259956,
          37561.4253125828,
          34400.958421267074,
          31057.719363276177,
          27653.00725618902,
          24332.095307331394,
          21244.903906508367,
          18520.873059885816,
          16244.577694104391,
          14440.780625937374,
          13076.007371054424,
          12076.70067049327,
          11354.964672090102,
          10829.9132764398,
          10438.321632311361,
          10135.896418141956,
          9893.737949851393,
          9693.732002717645,
          9524.666226206691,
          9379.503825681935,
          9253.655249637119,
          9143.949769178713,
          9048.048110542855,
          8964.115492246763,
          8890.641876243728,
          8826.342895576552,
          8770.103985817448,
          8720.947269857805,
          8678.010304353913,
          8640.531050020558,
          8607.836176069532,
          8579.331286006745,
          8554.492365521492,
          8532.858128074577,
          8514.023094617562,
          8497.631329175872,
          8483.370775498573,
          8470.968155357736,
          8460.184391161194,
          8450.810513479015,
          8442.664015704724,
          8435.585616641978,
          8429.436393261374,
          8424.09524759677,
          8419.456673249073,
          8415.428789886424,
          8411.93161610073,
          8408.895554050785,
          8406.26006138045
         ]
        },
        {
         "mode": "lines",
         "name": "Exposed",
         "type": "scatter",
         "x": [
          0,
          1,
          2,
          3,
          4,
          5,
          6,
          7,
          8,
          9,
          10,
          11,
          12,
          13,
          14,
          15,
          16,
          17,
          18,
          19,
          20,
          21,
          22,
          23,
          24,
          25,
          26,
          27,
          28,
          29,
          30,
          31,
          32,
          33,
          34,
          35,
          36,
          37,
          38,
          39,
          40,
          41,
          42,
          43,
          44,
          45,
          46,
          47,
          48,
          49,
          50,
          51,
          52,
          53,
          54,
          55,
          56,
          57,
          58,
          59,
          60,
          61,
          62,
          63,
          64,
          65,
          66,
          67,
          68,
          69,
          70,
          71,
          72,
          73,
          74,
          75,
          76,
          77,
          78,
          79,
          80,
          81,
          82,
          83,
          84,
          85,
          86,
          87,
          88,
          89
         ],
         "y": [
          1,
          0.9017536525799813,
          0.9552588652937223,
          1.1167251728394574,
          1.37125926634616,
          1.721220354425171,
          2.18074968793775,
          2.7736846934940553,
          3.533448214380113,
          4.504235758397837,
          5.743220802764622,
          7.323725293839649,
          9.339445853692565,
          11.909932636640747,
          15.187612382513137,
          19.366747464193647,
          24.694834926594734,
          31.48708534422589,
          40.14478628997363,
          51.17854859069743,
          65.23767344117296,
          83.14714945802878,
          105.95409650725267,
          134.9858027593948,
          171.921812751208,
          218.88275824220952,
          278.53866307383834,
          354.2390974341657,
          450.1664806948075,
          571.5115302200009,
          724.6655342861022,
          917.4166684707163,
          1159.125493353143,
          1460.8360320072288,
          1835.2519510750724,
          2296.470623121696,
          2859.324319558448,
          3538.133877934144,
          4344.657307998864,
          5285.0487910357315,
          6355.787904667942,
          7538.857756425655,
          8796.975482009473,
          10070.344128236471,
          11276.956140464688,
          12318.507106485526,
          13093.012339420477,
          13513.111160782983,
          13526.237155660083,
          13130.337053091911,
          12378.053208314463,
          11365.10559757858,
          10205.82556042132,
          9006.43110796323,
          7847.286559309656,
          6778.103271175122,
          5822.453196029106,
          4985.752570809464,
          4262.727119457635,
          3642.852979483845,
          3113.762207741242,
          2663.13070443152,
          2279.5939695144275,
          1953.1004393487847,
          1674.9669253924797,
          1437.7918693514687,
          1235.3119447151892,
          1062.2459045083901,
          914.1463319075104,
          787.2676310022543,
          678.452360967881,
          585.035187393191,
          504.76251406103097,
          435.72558365774887,
          376.3048950872276,
          325.1240297552049,
          281.0112593831075,
          242.96756430817587,
          210.13994364493988,
          181.79908662024394,
          157.32065385969784,
          136.16954727083595,
          117.8866608393125,
          102.07769976085245,
          88.40372269691042,
          76.57312839041863,
          66.33485167516857,
          57.4725775687966,
          49.79981272164601,
          43.155680584673014
         ]
        },
        {
         "mode": "lines",
         "name": "Infected",
         "type": "scatter",
         "x": [
          0,
          1,
          2,
          3,
          4,
          5,
          6,
          7,
          8,
          9,
          10,
          11,
          12,
          13,
          14,
          15,
          16,
          17,
          18,
          19,
          20,
          21,
          22,
          23,
          24,
          25,
          26,
          27,
          28,
          29,
          30,
          31,
          32,
          33,
          34,
          35,
          36,
          37,
          38,
          39,
          40,
          41,
          42,
          43,
          44,
          45,
          46,
          47,
          48,
          49,
          50,
          51,
          52,
          53,
          54,
          55,
          56,
          57,
          58,
          59,
          60,
          61,
          62,
          63,
          64,
          65,
          66,
          67,
          68,
          69,
          70,
          71,
          72,
          73,
          74,
          75,
          76,
          77,
          78,
          79,
          80,
          81,
          82,
          83,
          84,
          85,
          86,
          87,
          88,
          89
         ],
         "y": [
          0,
          0.16858384694024542,
          0.3029053397743972,
          0.4321443926750617,
          0.5750348864166974,
          0.7458329246380908,
          0.9576953696158905,
          1.2247813376280374,
          1.563781348746176,
          1.9952670812756121,
          2.54509931054032,
          3.246059377824267,
          4.139843171746225,
          5.279557141732453,
          6.732873912342607,
          8.586037768922145,
          10.94895495892512,
          13.961663237010011,
          17.802550750123643,
          22.698786115947588,
          28.939538997211457,
          36.892708613451376,
          47.02604360690253,
          59.93373076635971,
          76.36974354865475,
          97.28946743636581,
          123.90132784669788,
          157.7302901739689,
          200.69509294381933,
          255.20076858973698,
          324.24716821109644,
          411.5524692110028,
          521.6874934531527,
          660.2112952567651,
          833.7900781552437,
          1050.2687528259935,
          1318.647011419734,
          1648.889179303056,
          2051.4728236906117,
          2536.5612932226345,
          3112.6851472528524,
          3784.8583326153807,
          4552.165400456205,
          5405.055593580687,
          6322.857385039987,
          7272.311801844025,
          8208.071729993413,
          9075.952775090474,
          9819.131945117442,
          10386.516576814733,
          10741.40012260734,
          10867.791461455112,
          10772.146015506773,
          10479.951506187295,
          10028.840812475346,
          9461.012830049145,
          8817.167605737295,
          8132.799063507468,
          7436.616654635211,
          6750.430375249185,
          6089.8438265181485,
          5465.281472438524,
          4883.065821381969,
          4346.400114806622,
          3856.199414229522,
          3411.760632406413,
          3011.2848737758695,
          2652.2741548419617,
          2331.82596783,
          2046.847211735476,
          1794.205817953936,
          1570.8350475379048,
          1373.8023543456177,
          1200.3520990752343,
          1047.9292446666825,
          914.1894835889636,
          796.9998526287501,
          694.4329393066215,
          604.7568956275484,
          526.4229389079328,
          458.0515076523532,
          398.4179271971417,
          346.4381678440768,
          301.15507966463224,
          261.7253629081272,
          227.4074131742146,
          197.55012079180455,
          171.5826411158854,
          149.00512411124564,
          129.38036410182022
         ]
        },
        {
         "mode": "lines",
         "name": "Recovered",
         "type": "scatter",
         "x": [
          0,
          1,
          2,
          3,
          4,
          5,
          6,
          7,
          8,
          9,
          10,
          11,
          12,
          13,
          14,
          15,
          16,
          17,
          18,
          19,
          20,
          21,
          22,
          23,
          24,
          25,
          26,
          27,
          28,
          29,
          30,
          31,
          32,
          33,
          34,
          35,
          36,
          37,
          38,
          39,
          40,
          41,
          42,
          43,
          44,
          45,
          46,
          47,
          48,
          49,
          50,
          51,
          52,
          53,
          54,
          55,
          56,
          57,
          58,
          59,
          60,
          61,
          62,
          63,
          64,
          65,
          66,
          67,
          68,
          69,
          70,
          71,
          72,
          73,
          74,
          75,
          76,
          77,
          78,
          79,
          80,
          81,
          82,
          83,
          84,
          85,
          86,
          87,
          88,
          89
         ],
         "y": [
          0,
          0.017762417523272067,
          0.06519470867223129,
          0.13860767822288245,
          0.23897186791190742,
          0.3704842598824343,
          0.5400402956614507,
          0.7572383077929,
          1.0347384940102362,
          1.3889048696777633,
          1.8407198118853485,
          2.4170001095869966,
          3.1519733013965308,
          4.0893006140455315,
          5.284662100581923,
          6.809054527325641,
          8.752994384510625,
          11.23187132162743,
          14.392763944562269,
          18.42311131832529,
          23.561739153858124,
          30.112867730076974,
          38.46388804084566,
          49.10788942547722,
          62.672157539688634,
          79.95414226548198,
          101.96672114383078,
          129.99494337122206,
          165.66681782150346,
          211.04105537001485,
          268.7149146428276,
          341.95528927379814,
          434.8556841244621,
          552.5203980055926,
          701.2745537192538,
          888.8938037478171,
          1124.8397993066721,
          1420.475600258151,
          1789.2187799118358,
          2246.5685197800835,
          2809.9199844472832,
          3498.0589532682407,
          4330.224812453396,
          5324.6556316497845,
          6496.602991556884,
          7855.936380270615,
          9404.635214668006,
          11134.646305402099,
          13026.690230131406,
          15050.546803835547,
          17167.08273378926,
          19331.82266337682,
          21499.353609210237,
          23627.5506863071,
          25680.730145937698,
          27631.309871600366,
          29460.07959624198,
          31155.49078445355,
          32712.427137682233,
          34130.817710634896,
          35414.31744236412,
          36569.16593605082,
          37603.26003838934,
          38525.43397625169,
          39344.92131551082,
          40070.96694422925,
          40712.55796724271,
          41278.2461104156,
          41776.03887538915,
          42213.3412047196,
          42596.93343370929,
          42932.97460480712,
          43227.02292844869,
          43484.06726129379,
          43708.56512708802,
          43904.48403080605,
          44075.343806550285,
          44224.25838546795,
          44353.97596670174,
          44466.91690702949,
          44565.20896635478,
          44650.71972098782,
          44725.08611026411,
          44789.741180108824,
          44845.93814115214,
          44894.771908833005,
          44937.198305429454,
          44974.051120398675,
          45006.05722030419,
          45033.84989801258
         ]
        },
        {
         "mode": "lines",
         "name": "Dead",
         "type": "scatter",
         "x": [
          0,
          1,
          2,
          3,
          4,
          5,
          6,
          7,
          8,
          9,
          10,
          11,
          12,
          13,
          14,
          15,
          16,
          17,
          18,
          19,
          20,
          21,
          22,
          23,
          24,
          25,
          26,
          27,
          28,
          29,
          30,
          31,
          32,
          33,
          34,
          35,
          36,
          37,
          38,
          39,
          40,
          41,
          42,
          43,
          44,
          45,
          46,
          47,
          48,
          49,
          50,
          51,
          52,
          53,
          54,
          55,
          56,
          57,
          58,
          59,
          60,
          61,
          62,
          63,
          64,
          65,
          66,
          67,
          68,
          69,
          70,
          71,
          72,
          73,
          74,
          75,
          76,
          77,
          78,
          79,
          80,
          81,
          82,
          83,
          84,
          85,
          86,
          87,
          88,
          89
         ],
         "y": [
          0,
          0.0007104967009308827,
          0.0026077883468892515,
          0.005544307128915298,
          0.0095588747164763,
          0.014819370395297375,
          0.021601611826458034,
          0.030289532311716,
          0.04138953976040946,
          0.055556194787110554,
          0.07362879247541396,
          0.09668000438347989,
          0.12607893205586124,
          0.16357202456182124,
          0.21138648402327692,
          0.27236218109302557,
          0.3501197753804248,
          0.4492748528650971,
          0.5757105577824906,
          0.7369244527330113,
          0.9424695661543245,
          1.2045147092030786,
          1.538555521633826,
          1.9643155770190888,
          2.506886301587545,
          3.1981656906192786,
          4.0786688457532305,
          5.1997977348488815,
          6.626672712860137,
          8.441642214800595,
          10.748596585713102,
          13.678211570951925,
          17.394227364978484,
          22.100815920223706,
          28.05098214877015,
          35.555752149912685,
          44.99359197226689,
          56.819024010326046,
          71.56875119647344,
          89.86274079120334,
          112.39679937789133,
          139.9223581307296,
          173.2089924981358,
          212.98622526599138,
          259.8641196622753,
          314.2374552108245,
          376.18540858672014,
          445.38585221608395,
          521.0676092052563,
          602.0218721534219,
          686.6833093515703,
          773.2729065350727,
          859.9741443684096,
          945.102027452284,
          1027.229205837508,
          1105.2523948640146,
          1178.403183849679,
          1246.2196313781417,
          1308.4970855072893,
          1365.2327084253957,
          1416.5726976945643,
          1462.766637442032,
          1504.1304015355727,
          1541.017359050067,
          1573.796852620432,
          1602.8386777691687,
          1628.5023186897072,
          1651.1298444166232,
          1671.0415550155649,
          1688.5336481887832,
          1703.8773373483705,
          1717.318984192284,
          1729.0809171379467,
          1739.3626904517514,
          1748.34260508352,
          1756.1793612322417,
          1763.0137522620107,
          1768.9703354187168,
          1774.1590386680687,
          1778.6766762811785,
          1782.6083586541902,
          1786.028788839512,
          1789.0034444105631,
          1791.589647204352,
          1793.8375256460845,
          1795.7908763533192,
          1797.487932217177,
          1798.9620448159458,
          1800.2422888121664,
          1801.3539959205023
         ]
        },
        {
         "mode": "lines+markers",
         "name": "Total",
         "type": "scatter",
         "x": [
          0,
          1,
          2,
          3,
          4,
          5,
          6,
          7,
          8,
          9,
          10,
          11,
          12,
          13,
          14,
          15,
          16,
          17,
          18,
          19,
          20,
          21,
          22,
          23,
          24,
          25,
          26,
          27,
          28,
          29,
          30,
          31,
          32,
          33,
          34,
          35,
          36,
          37,
          38,
          39,
          40,
          41,
          42,
          43,
          44,
          45,
          46,
          47,
          48,
          49,
          50,
          51,
          52,
          53,
          54,
          55,
          56,
          57,
          58,
          59,
          60,
          61,
          62,
          63,
          64,
          65,
          66,
          67,
          68,
          69,
          70,
          71,
          72,
          73,
          74,
          75,
          76,
          77,
          78,
          79,
          80,
          81,
          82,
          83,
          84,
          85,
          86,
          87,
          88,
          89
         ],
         "y": [
          55414,
          55414.000000000015,
          55414.00000000001,
          55414,
          55413.99999999998,
          55413.999999999985,
          55413.99999999999,
          55413.999999999985,
          55414,
          55414.00000000001,
          55414.00000000001,
          55414,
          55414.00000000001,
          55414.00000000001,
          55414,
          55414.000000000015,
          55414.00000000001,
          55414.000000000015,
          55414.000000000015,
          55414.00000000003,
          55414.000000000015,
          55414.000000000015,
          55414.00000000001,
          55414.00000000001,
          55414,
          55414.00000000001,
          55414,
          55414.000000000015,
          55414.00000000001,
          55414,
          55414.00000000001,
          55414.00000000001,
          55414.000000000015,
          55414,
          55414,
          55414,
          55414.00000000001,
          55414,
          55414,
          55414.000000000015,
          55414.00000000001,
          55414.00000000001,
          55414.000000000015,
          55414.000000000015,
          55414.000000000015,
          55414,
          55414.000000000015,
          55414.00000000001,
          55414,
          55414,
          55414.00000000001,
          55414.00000000001,
          55414.000000000015,
          55414.00000000001,
          55414.00000000001,
          55414.000000000015,
          55414.00000000002,
          55414.00000000001,
          55414.000000000015,
          55414.000000000015,
          55414.00000000001,
          55414.000000000015,
          55414.000000000015,
          55414.000000000015,
          55414.00000000002,
          55414.00000000003,
          55414.00000000004,
          55414.00000000003,
          55414.00000000004,
          55414.00000000004,
          55414.00000000004,
          55414.00000000003,
          55414.00000000003,
          55414.00000000002,
          55414.00000000002,
          55414.00000000002,
          55414.00000000003,
          55414.00000000004,
          55414.00000000004,
          55414.00000000003,
          55414.000000000044,
          55414.00000000004,
          55414.00000000004,
          55414.00000000004,
          55414.00000000003,
          55414.00000000003,
          55414.00000000003,
          55414.00000000004,
          55414.00000000003,
          55414.00000000002
         ]
        }
       ],
       "layout": {
        "legend": {
         "title": {
          "text": "Variables"
         }
        },
        "template": {
         "data": {
          "bar": [
           {
            "error_x": {
             "color": "#2a3f5f"
            },
            "error_y": {
             "color": "#2a3f5f"
            },
            "marker": {
             "line": {
              "color": "#E5ECF6",
              "width": 0.5
             }
            },
            "type": "bar"
           }
          ],
          "barpolar": [
           {
            "marker": {
             "line": {
              "color": "#E5ECF6",
              "width": 0.5
             }
            },
            "type": "barpolar"
           }
          ],
          "carpet": [
           {
            "aaxis": {
             "endlinecolor": "#2a3f5f",
             "gridcolor": "white",
             "linecolor": "white",
             "minorgridcolor": "white",
             "startlinecolor": "#2a3f5f"
            },
            "baxis": {
             "endlinecolor": "#2a3f5f",
             "gridcolor": "white",
             "linecolor": "white",
             "minorgridcolor": "white",
             "startlinecolor": "#2a3f5f"
            },
            "type": "carpet"
           }
          ],
          "choropleth": [
           {
            "colorbar": {
             "outlinewidth": 0,
             "ticks": ""
            },
            "type": "choropleth"
           }
          ],
          "contour": [
           {
            "colorbar": {
             "outlinewidth": 0,
             "ticks": ""
            },
            "colorscale": [
             [
              0,
              "#0d0887"
             ],
             [
              0.1111111111111111,
              "#46039f"
             ],
             [
              0.2222222222222222,
              "#7201a8"
             ],
             [
              0.3333333333333333,
              "#9c179e"
             ],
             [
              0.4444444444444444,
              "#bd3786"
             ],
             [
              0.5555555555555556,
              "#d8576b"
             ],
             [
              0.6666666666666666,
              "#ed7953"
             ],
             [
              0.7777777777777778,
              "#fb9f3a"
             ],
             [
              0.8888888888888888,
              "#fdca26"
             ],
             [
              1,
              "#f0f921"
             ]
            ],
            "type": "contour"
           }
          ],
          "contourcarpet": [
           {
            "colorbar": {
             "outlinewidth": 0,
             "ticks": ""
            },
            "type": "contourcarpet"
           }
          ],
          "heatmap": [
           {
            "colorbar": {
             "outlinewidth": 0,
             "ticks": ""
            },
            "colorscale": [
             [
              0,
              "#0d0887"
             ],
             [
              0.1111111111111111,
              "#46039f"
             ],
             [
              0.2222222222222222,
              "#7201a8"
             ],
             [
              0.3333333333333333,
              "#9c179e"
             ],
             [
              0.4444444444444444,
              "#bd3786"
             ],
             [
              0.5555555555555556,
              "#d8576b"
             ],
             [
              0.6666666666666666,
              "#ed7953"
             ],
             [
              0.7777777777777778,
              "#fb9f3a"
             ],
             [
              0.8888888888888888,
              "#fdca26"
             ],
             [
              1,
              "#f0f921"
             ]
            ],
            "type": "heatmap"
           }
          ],
          "heatmapgl": [
           {
            "colorbar": {
             "outlinewidth": 0,
             "ticks": ""
            },
            "colorscale": [
             [
              0,
              "#0d0887"
             ],
             [
              0.1111111111111111,
              "#46039f"
             ],
             [
              0.2222222222222222,
              "#7201a8"
             ],
             [
              0.3333333333333333,
              "#9c179e"
             ],
             [
              0.4444444444444444,
              "#bd3786"
             ],
             [
              0.5555555555555556,
              "#d8576b"
             ],
             [
              0.6666666666666666,
              "#ed7953"
             ],
             [
              0.7777777777777778,
              "#fb9f3a"
             ],
             [
              0.8888888888888888,
              "#fdca26"
             ],
             [
              1,
              "#f0f921"
             ]
            ],
            "type": "heatmapgl"
           }
          ],
          "histogram": [
           {
            "marker": {
             "colorbar": {
              "outlinewidth": 0,
              "ticks": ""
             }
            },
            "type": "histogram"
           }
          ],
          "histogram2d": [
           {
            "colorbar": {
             "outlinewidth": 0,
             "ticks": ""
            },
            "colorscale": [
             [
              0,
              "#0d0887"
             ],
             [
              0.1111111111111111,
              "#46039f"
             ],
             [
              0.2222222222222222,
              "#7201a8"
             ],
             [
              0.3333333333333333,
              "#9c179e"
             ],
             [
              0.4444444444444444,
              "#bd3786"
             ],
             [
              0.5555555555555556,
              "#d8576b"
             ],
             [
              0.6666666666666666,
              "#ed7953"
             ],
             [
              0.7777777777777778,
              "#fb9f3a"
             ],
             [
              0.8888888888888888,
              "#fdca26"
             ],
             [
              1,
              "#f0f921"
             ]
            ],
            "type": "histogram2d"
           }
          ],
          "histogram2dcontour": [
           {
            "colorbar": {
             "outlinewidth": 0,
             "ticks": ""
            },
            "colorscale": [
             [
              0,
              "#0d0887"
             ],
             [
              0.1111111111111111,
              "#46039f"
             ],
             [
              0.2222222222222222,
              "#7201a8"
             ],
             [
              0.3333333333333333,
              "#9c179e"
             ],
             [
              0.4444444444444444,
              "#bd3786"
             ],
             [
              0.5555555555555556,
              "#d8576b"
             ],
             [
              0.6666666666666666,
              "#ed7953"
             ],
             [
              0.7777777777777778,
              "#fb9f3a"
             ],
             [
              0.8888888888888888,
              "#fdca26"
             ],
             [
              1,
              "#f0f921"
             ]
            ],
            "type": "histogram2dcontour"
           }
          ],
          "mesh3d": [
           {
            "colorbar": {
             "outlinewidth": 0,
             "ticks": ""
            },
            "type": "mesh3d"
           }
          ],
          "parcoords": [
           {
            "line": {
             "colorbar": {
              "outlinewidth": 0,
              "ticks": ""
             }
            },
            "type": "parcoords"
           }
          ],
          "pie": [
           {
            "automargin": true,
            "type": "pie"
           }
          ],
          "scatter": [
           {
            "marker": {
             "colorbar": {
              "outlinewidth": 0,
              "ticks": ""
             }
            },
            "type": "scatter"
           }
          ],
          "scatter3d": [
           {
            "line": {
             "colorbar": {
              "outlinewidth": 0,
              "ticks": ""
             }
            },
            "marker": {
             "colorbar": {
              "outlinewidth": 0,
              "ticks": ""
             }
            },
            "type": "scatter3d"
           }
          ],
          "scattercarpet": [
           {
            "marker": {
             "colorbar": {
              "outlinewidth": 0,
              "ticks": ""
             }
            },
            "type": "scattercarpet"
           }
          ],
          "scattergeo": [
           {
            "marker": {
             "colorbar": {
              "outlinewidth": 0,
              "ticks": ""
             }
            },
            "type": "scattergeo"
           }
          ],
          "scattergl": [
           {
            "marker": {
             "colorbar": {
              "outlinewidth": 0,
              "ticks": ""
             }
            },
            "type": "scattergl"
           }
          ],
          "scattermapbox": [
           {
            "marker": {
             "colorbar": {
              "outlinewidth": 0,
              "ticks": ""
             }
            },
            "type": "scattermapbox"
           }
          ],
          "scatterpolar": [
           {
            "marker": {
             "colorbar": {
              "outlinewidth": 0,
              "ticks": ""
             }
            },
            "type": "scatterpolar"
           }
          ],
          "scatterpolargl": [
           {
            "marker": {
             "colorbar": {
              "outlinewidth": 0,
              "ticks": ""
             }
            },
            "type": "scatterpolargl"
           }
          ],
          "scatterternary": [
           {
            "marker": {
             "colorbar": {
              "outlinewidth": 0,
              "ticks": ""
             }
            },
            "type": "scatterternary"
           }
          ],
          "surface": [
           {
            "colorbar": {
             "outlinewidth": 0,
             "ticks": ""
            },
            "colorscale": [
             [
              0,
              "#0d0887"
             ],
             [
              0.1111111111111111,
              "#46039f"
             ],
             [
              0.2222222222222222,
              "#7201a8"
             ],
             [
              0.3333333333333333,
              "#9c179e"
             ],
             [
              0.4444444444444444,
              "#bd3786"
             ],
             [
              0.5555555555555556,
              "#d8576b"
             ],
             [
              0.6666666666666666,
              "#ed7953"
             ],
             [
              0.7777777777777778,
              "#fb9f3a"
             ],
             [
              0.8888888888888888,
              "#fdca26"
             ],
             [
              1,
              "#f0f921"
             ]
            ],
            "type": "surface"
           }
          ],
          "table": [
           {
            "cells": {
             "fill": {
              "color": "#EBF0F8"
             },
             "line": {
              "color": "white"
             }
            },
            "header": {
             "fill": {
              "color": "#C8D4E3"
             },
             "line": {
              "color": "white"
             }
            },
            "type": "table"
           }
          ]
         },
         "layout": {
          "annotationdefaults": {
           "arrowcolor": "#2a3f5f",
           "arrowhead": 0,
           "arrowwidth": 1
          },
          "coloraxis": {
           "colorbar": {
            "outlinewidth": 0,
            "ticks": ""
           }
          },
          "colorscale": {
           "diverging": [
            [
             0,
             "#8e0152"
            ],
            [
             0.1,
             "#c51b7d"
            ],
            [
             0.2,
             "#de77ae"
            ],
            [
             0.3,
             "#f1b6da"
            ],
            [
             0.4,
             "#fde0ef"
            ],
            [
             0.5,
             "#f7f7f7"
            ],
            [
             0.6,
             "#e6f5d0"
            ],
            [
             0.7,
             "#b8e186"
            ],
            [
             0.8,
             "#7fbc41"
            ],
            [
             0.9,
             "#4d9221"
            ],
            [
             1,
             "#276419"
            ]
           ],
           "sequential": [
            [
             0,
             "#0d0887"
            ],
            [
             0.1111111111111111,
             "#46039f"
            ],
            [
             0.2222222222222222,
             "#7201a8"
            ],
            [
             0.3333333333333333,
             "#9c179e"
            ],
            [
             0.4444444444444444,
             "#bd3786"
            ],
            [
             0.5555555555555556,
             "#d8576b"
            ],
            [
             0.6666666666666666,
             "#ed7953"
            ],
            [
             0.7777777777777778,
             "#fb9f3a"
            ],
            [
             0.8888888888888888,
             "#fdca26"
            ],
            [
             1,
             "#f0f921"
            ]
           ],
           "sequentialminus": [
            [
             0,
             "#0d0887"
            ],
            [
             0.1111111111111111,
             "#46039f"
            ],
            [
             0.2222222222222222,
             "#7201a8"
            ],
            [
             0.3333333333333333,
             "#9c179e"
            ],
            [
             0.4444444444444444,
             "#bd3786"
            ],
            [
             0.5555555555555556,
             "#d8576b"
            ],
            [
             0.6666666666666666,
             "#ed7953"
            ],
            [
             0.7777777777777778,
             "#fb9f3a"
            ],
            [
             0.8888888888888888,
             "#fdca26"
            ],
            [
             1,
             "#f0f921"
            ]
           ]
          },
          "colorway": [
           "#636efa",
           "#EF553B",
           "#00cc96",
           "#ab63fa",
           "#FFA15A",
           "#19d3f3",
           "#FF6692",
           "#B6E880",
           "#FF97FF",
           "#FECB52"
          ],
          "font": {
           "color": "#2a3f5f"
          },
          "geo": {
           "bgcolor": "white",
           "lakecolor": "white",
           "landcolor": "#E5ECF6",
           "showlakes": true,
           "showland": true,
           "subunitcolor": "white"
          },
          "hoverlabel": {
           "align": "left"
          },
          "hovermode": "closest",
          "mapbox": {
           "style": "light"
          },
          "paper_bgcolor": "white",
          "plot_bgcolor": "#E5ECF6",
          "polar": {
           "angularaxis": {
            "gridcolor": "white",
            "linecolor": "white",
            "ticks": ""
           },
           "bgcolor": "#E5ECF6",
           "radialaxis": {
            "gridcolor": "white",
            "linecolor": "white",
            "ticks": ""
           }
          },
          "scene": {
           "xaxis": {
            "backgroundcolor": "#E5ECF6",
            "gridcolor": "white",
            "gridwidth": 2,
            "linecolor": "white",
            "showbackground": true,
            "ticks": "",
            "zerolinecolor": "white"
           },
           "yaxis": {
            "backgroundcolor": "#E5ECF6",
            "gridcolor": "white",
            "gridwidth": 2,
            "linecolor": "white",
            "showbackground": true,
            "ticks": "",
            "zerolinecolor": "white"
           },
           "zaxis": {
            "backgroundcolor": "#E5ECF6",
            "gridcolor": "white",
            "gridwidth": 2,
            "linecolor": "white",
            "showbackground": true,
            "ticks": "",
            "zerolinecolor": "white"
           }
          },
          "shapedefaults": {
           "line": {
            "color": "#2a3f5f"
           }
          },
          "ternary": {
           "aaxis": {
            "gridcolor": "white",
            "linecolor": "white",
            "ticks": ""
           },
           "baxis": {
            "gridcolor": "white",
            "linecolor": "white",
            "ticks": ""
           },
           "bgcolor": "#E5ECF6",
           "caxis": {
            "gridcolor": "white",
            "linecolor": "white",
            "ticks": ""
           }
          },
          "title": {
           "x": 0.05
          },
          "xaxis": {
           "automargin": true,
           "gridcolor": "white",
           "linecolor": "white",
           "ticks": "",
           "title": {
            "standoff": 15
           },
           "zerolinecolor": "white",
           "zerolinewidth": 2
          },
          "yaxis": {
           "automargin": true,
           "gridcolor": "white",
           "linecolor": "white",
           "ticks": "",
           "title": {
            "standoff": 15
           },
           "zerolinecolor": "white",
           "zerolinewidth": 2
          }
         }
        },
        "title": {
         "text": "SEIRD MODEL",
         "x": 0.5,
         "xanchor": "center",
         "y": 0.9,
         "yanchor": "top"
        },
        "xaxis": {
         "title": {
          "text": "Time (days)"
         }
        },
        "yaxis": {
         "title": {
          "text": "Population"
         }
        }
       }
      },
      "text/html": [
       "<div>                            <div id=\"a784f796-881e-4c34-8ece-68001c4d4223\" class=\"plotly-graph-div\" style=\"height:525px; width:100%;\"></div>            <script type=\"text/javascript\">                require([\"plotly\"], function(Plotly) {                    window.PLOTLYENV=window.PLOTLYENV || {};                                    if (document.getElementById(\"a784f796-881e-4c34-8ece-68001c4d4223\")) {                    Plotly.newPlot(                        \"a784f796-881e-4c34-8ece-68001c4d4223\",                        [{\"mode\": \"lines\", \"name\": \"Susceptible\", \"type\": \"scatter\", \"x\": [0.0, 1.0, 2.0, 3.0, 4.0, 5.0, 6.0, 7.0, 8.0, 9.0, 10.0, 11.0, 12.0, 13.0, 14.0, 15.0, 16.0, 17.0, 18.0, 19.0, 20.0, 21.0, 22.0, 23.0, 24.0, 25.0, 26.0, 27.0, 28.0, 29.0, 30.0, 31.0, 32.0, 33.0, 34.0, 35.0, 36.0, 37.0, 38.0, 39.0, 40.0, 41.0, 42.0, 43.0, 44.0, 45.0, 46.0, 47.0, 48.0, 49.0, 50.0, 51.0, 52.0, 53.0, 54.0, 55.0, 56.0, 57.0, 58.0, 59.0, 60.0, 61.0, 62.0, 63.0, 64.0, 65.0, 66.0, 67.0, 68.0, 69.0, 70.0, 71.0, 72.0, 73.0, 74.0, 75.0, 76.0, 77.0, 78.0, 79.0, 80.0, 81.0, 82.0, 83.0, 84.0, 85.0, 86.0, 87.0, 88.0, 89.0], \"y\": [55413.0, 55412.911189586266, 55412.67403329792, 55412.30697844913, 55411.80517510459, 55411.14764309065, 55410.29991303495, 55409.21400612876, 55407.8266424031, 55406.05603609587, 55403.79733128234, 55400.91653521437, 55397.24265874111, 55392.55763758303, 55386.583465120544, 55378.96579805848, 55369.2530959546, 55356.870105244285, 55341.08418845758, 55320.96262952232, 55295.318578841616, 55262.64275948925, 55221.017416323375, 55168.00826147176, 55100.52939985887, 55014.675466365334, 54905.51461908989, 54766.8358712858, 54590.844935827015, 54367.805003605456, 54085.623786274264, 53729.39736147354, 53280.93710170427, 52718.331458810186, 52015.63243490166, 51142.81106815458, 50066.195277742874, 48749.68231849432, 47157.08233720222, 45255.958655170354, 43023.21016425404, 40452.30259956, 37561.4253125828, 34400.958421267074, 31057.719363276177, 27653.00725618902, 24332.095307331394, 21244.903906508367, 18520.873059885816, 16244.577694104391, 14440.780625937374, 13076.007371054424, 12076.70067049327, 11354.964672090102, 10829.9132764398, 10438.321632311361, 10135.896418141956, 9893.737949851393, 9693.732002717645, 9524.666226206691, 9379.503825681935, 9253.655249637119, 9143.949769178713, 9048.048110542855, 8964.115492246763, 8890.641876243728, 8826.342895576552, 8770.103985817448, 8720.947269857805, 8678.010304353913, 8640.531050020558, 8607.836176069532, 8579.331286006745, 8554.492365521492, 8532.858128074577, 8514.023094617562, 8497.631329175872, 8483.370775498573, 8470.968155357736, 8460.184391161194, 8450.810513479015, 8442.664015704724, 8435.585616641978, 8429.436393261374, 8424.09524759677, 8419.456673249073, 8415.428789886424, 8411.93161610073, 8408.895554050785, 8406.26006138045]}, {\"mode\": \"lines\", \"name\": \"Exposed\", \"type\": \"scatter\", \"x\": [0.0, 1.0, 2.0, 3.0, 4.0, 5.0, 6.0, 7.0, 8.0, 9.0, 10.0, 11.0, 12.0, 13.0, 14.0, 15.0, 16.0, 17.0, 18.0, 19.0, 20.0, 21.0, 22.0, 23.0, 24.0, 25.0, 26.0, 27.0, 28.0, 29.0, 30.0, 31.0, 32.0, 33.0, 34.0, 35.0, 36.0, 37.0, 38.0, 39.0, 40.0, 41.0, 42.0, 43.0, 44.0, 45.0, 46.0, 47.0, 48.0, 49.0, 50.0, 51.0, 52.0, 53.0, 54.0, 55.0, 56.0, 57.0, 58.0, 59.0, 60.0, 61.0, 62.0, 63.0, 64.0, 65.0, 66.0, 67.0, 68.0, 69.0, 70.0, 71.0, 72.0, 73.0, 74.0, 75.0, 76.0, 77.0, 78.0, 79.0, 80.0, 81.0, 82.0, 83.0, 84.0, 85.0, 86.0, 87.0, 88.0, 89.0], \"y\": [1.0, 0.9017536525799813, 0.9552588652937223, 1.1167251728394574, 1.37125926634616, 1.721220354425171, 2.18074968793775, 2.7736846934940553, 3.533448214380113, 4.504235758397837, 5.743220802764622, 7.323725293839649, 9.339445853692565, 11.909932636640747, 15.187612382513137, 19.366747464193647, 24.694834926594734, 31.48708534422589, 40.14478628997363, 51.17854859069743, 65.23767344117296, 83.14714945802878, 105.95409650725267, 134.9858027593948, 171.921812751208, 218.88275824220952, 278.53866307383834, 354.2390974341657, 450.1664806948075, 571.5115302200009, 724.6655342861022, 917.4166684707163, 1159.125493353143, 1460.8360320072288, 1835.2519510750724, 2296.470623121696, 2859.324319558448, 3538.133877934144, 4344.657307998864, 5285.0487910357315, 6355.787904667942, 7538.857756425655, 8796.975482009473, 10070.344128236471, 11276.956140464688, 12318.507106485526, 13093.012339420477, 13513.111160782983, 13526.237155660083, 13130.337053091911, 12378.053208314463, 11365.10559757858, 10205.82556042132, 9006.43110796323, 7847.286559309656, 6778.103271175122, 5822.453196029106, 4985.752570809464, 4262.727119457635, 3642.852979483845, 3113.762207741242, 2663.13070443152, 2279.5939695144275, 1953.1004393487847, 1674.9669253924797, 1437.7918693514687, 1235.3119447151892, 1062.2459045083901, 914.1463319075104, 787.2676310022543, 678.452360967881, 585.035187393191, 504.76251406103097, 435.72558365774887, 376.3048950872276, 325.1240297552049, 281.0112593831075, 242.96756430817587, 210.13994364493988, 181.79908662024394, 157.32065385969784, 136.16954727083595, 117.8866608393125, 102.07769976085245, 88.40372269691042, 76.57312839041863, 66.33485167516857, 57.4725775687966, 49.79981272164601, 43.155680584673014]}, {\"mode\": \"lines\", \"name\": \"Infected\", \"type\": \"scatter\", \"x\": [0.0, 1.0, 2.0, 3.0, 4.0, 5.0, 6.0, 7.0, 8.0, 9.0, 10.0, 11.0, 12.0, 13.0, 14.0, 15.0, 16.0, 17.0, 18.0, 19.0, 20.0, 21.0, 22.0, 23.0, 24.0, 25.0, 26.0, 27.0, 28.0, 29.0, 30.0, 31.0, 32.0, 33.0, 34.0, 35.0, 36.0, 37.0, 38.0, 39.0, 40.0, 41.0, 42.0, 43.0, 44.0, 45.0, 46.0, 47.0, 48.0, 49.0, 50.0, 51.0, 52.0, 53.0, 54.0, 55.0, 56.0, 57.0, 58.0, 59.0, 60.0, 61.0, 62.0, 63.0, 64.0, 65.0, 66.0, 67.0, 68.0, 69.0, 70.0, 71.0, 72.0, 73.0, 74.0, 75.0, 76.0, 77.0, 78.0, 79.0, 80.0, 81.0, 82.0, 83.0, 84.0, 85.0, 86.0, 87.0, 88.0, 89.0], \"y\": [0.0, 0.16858384694024542, 0.3029053397743972, 0.4321443926750617, 0.5750348864166974, 0.7458329246380908, 0.9576953696158905, 1.2247813376280374, 1.563781348746176, 1.9952670812756121, 2.54509931054032, 3.246059377824267, 4.139843171746225, 5.279557141732453, 6.732873912342607, 8.586037768922145, 10.94895495892512, 13.961663237010011, 17.802550750123643, 22.698786115947588, 28.939538997211457, 36.892708613451376, 47.02604360690253, 59.93373076635971, 76.36974354865475, 97.28946743636581, 123.90132784669788, 157.7302901739689, 200.69509294381933, 255.20076858973698, 324.24716821109644, 411.5524692110028, 521.6874934531527, 660.2112952567651, 833.7900781552437, 1050.2687528259935, 1318.647011419734, 1648.889179303056, 2051.4728236906117, 2536.5612932226345, 3112.6851472528524, 3784.8583326153807, 4552.165400456205, 5405.055593580687, 6322.857385039987, 7272.311801844025, 8208.071729993413, 9075.952775090474, 9819.131945117442, 10386.516576814733, 10741.40012260734, 10867.791461455112, 10772.146015506773, 10479.951506187295, 10028.840812475346, 9461.012830049145, 8817.167605737295, 8132.799063507468, 7436.616654635211, 6750.430375249185, 6089.8438265181485, 5465.281472438524, 4883.065821381969, 4346.400114806622, 3856.199414229522, 3411.760632406413, 3011.2848737758695, 2652.2741548419617, 2331.82596783, 2046.847211735476, 1794.205817953936, 1570.8350475379048, 1373.8023543456177, 1200.3520990752343, 1047.9292446666825, 914.1894835889636, 796.9998526287501, 694.4329393066215, 604.7568956275484, 526.4229389079328, 458.0515076523532, 398.4179271971417, 346.4381678440768, 301.15507966463224, 261.7253629081272, 227.4074131742146, 197.55012079180455, 171.5826411158854, 149.00512411124564, 129.38036410182022]}, {\"mode\": \"lines\", \"name\": \"Recovered\", \"type\": \"scatter\", \"x\": [0.0, 1.0, 2.0, 3.0, 4.0, 5.0, 6.0, 7.0, 8.0, 9.0, 10.0, 11.0, 12.0, 13.0, 14.0, 15.0, 16.0, 17.0, 18.0, 19.0, 20.0, 21.0, 22.0, 23.0, 24.0, 25.0, 26.0, 27.0, 28.0, 29.0, 30.0, 31.0, 32.0, 33.0, 34.0, 35.0, 36.0, 37.0, 38.0, 39.0, 40.0, 41.0, 42.0, 43.0, 44.0, 45.0, 46.0, 47.0, 48.0, 49.0, 50.0, 51.0, 52.0, 53.0, 54.0, 55.0, 56.0, 57.0, 58.0, 59.0, 60.0, 61.0, 62.0, 63.0, 64.0, 65.0, 66.0, 67.0, 68.0, 69.0, 70.0, 71.0, 72.0, 73.0, 74.0, 75.0, 76.0, 77.0, 78.0, 79.0, 80.0, 81.0, 82.0, 83.0, 84.0, 85.0, 86.0, 87.0, 88.0, 89.0], \"y\": [0.0, 0.017762417523272067, 0.06519470867223129, 0.13860767822288245, 0.23897186791190742, 0.3704842598824343, 0.5400402956614507, 0.7572383077929, 1.0347384940102362, 1.3889048696777633, 1.8407198118853485, 2.4170001095869966, 3.1519733013965308, 4.0893006140455315, 5.284662100581923, 6.809054527325641, 8.752994384510625, 11.23187132162743, 14.392763944562269, 18.42311131832529, 23.561739153858124, 30.112867730076974, 38.46388804084566, 49.10788942547722, 62.672157539688634, 79.95414226548198, 101.96672114383078, 129.99494337122206, 165.66681782150346, 211.04105537001485, 268.7149146428276, 341.95528927379814, 434.8556841244621, 552.5203980055926, 701.2745537192538, 888.8938037478171, 1124.8397993066721, 1420.475600258151, 1789.2187799118358, 2246.5685197800835, 2809.9199844472832, 3498.0589532682407, 4330.224812453396, 5324.6556316497845, 6496.602991556884, 7855.936380270615, 9404.635214668006, 11134.646305402099, 13026.690230131406, 15050.546803835547, 17167.08273378926, 19331.82266337682, 21499.353609210237, 23627.5506863071, 25680.730145937698, 27631.309871600366, 29460.07959624198, 31155.49078445355, 32712.427137682233, 34130.817710634896, 35414.31744236412, 36569.16593605082, 37603.26003838934, 38525.43397625169, 39344.92131551082, 40070.96694422925, 40712.55796724271, 41278.2461104156, 41776.03887538915, 42213.3412047196, 42596.93343370929, 42932.97460480712, 43227.02292844869, 43484.06726129379, 43708.56512708802, 43904.48403080605, 44075.343806550285, 44224.25838546795, 44353.97596670174, 44466.91690702949, 44565.20896635478, 44650.71972098782, 44725.08611026411, 44789.741180108824, 44845.93814115214, 44894.771908833005, 44937.198305429454, 44974.051120398675, 45006.05722030419, 45033.84989801258]}, {\"mode\": \"lines\", \"name\": \"Dead\", \"type\": \"scatter\", \"x\": [0.0, 1.0, 2.0, 3.0, 4.0, 5.0, 6.0, 7.0, 8.0, 9.0, 10.0, 11.0, 12.0, 13.0, 14.0, 15.0, 16.0, 17.0, 18.0, 19.0, 20.0, 21.0, 22.0, 23.0, 24.0, 25.0, 26.0, 27.0, 28.0, 29.0, 30.0, 31.0, 32.0, 33.0, 34.0, 35.0, 36.0, 37.0, 38.0, 39.0, 40.0, 41.0, 42.0, 43.0, 44.0, 45.0, 46.0, 47.0, 48.0, 49.0, 50.0, 51.0, 52.0, 53.0, 54.0, 55.0, 56.0, 57.0, 58.0, 59.0, 60.0, 61.0, 62.0, 63.0, 64.0, 65.0, 66.0, 67.0, 68.0, 69.0, 70.0, 71.0, 72.0, 73.0, 74.0, 75.0, 76.0, 77.0, 78.0, 79.0, 80.0, 81.0, 82.0, 83.0, 84.0, 85.0, 86.0, 87.0, 88.0, 89.0], \"y\": [0.0, 0.0007104967009308827, 0.0026077883468892515, 0.005544307128915298, 0.0095588747164763, 0.014819370395297375, 0.021601611826458034, 0.030289532311716, 0.04138953976040946, 0.055556194787110554, 0.07362879247541396, 0.09668000438347989, 0.12607893205586124, 0.16357202456182124, 0.21138648402327692, 0.27236218109302557, 0.3501197753804248, 0.4492748528650971, 0.5757105577824906, 0.7369244527330113, 0.9424695661543245, 1.2045147092030786, 1.538555521633826, 1.9643155770190888, 2.506886301587545, 3.1981656906192786, 4.0786688457532305, 5.1997977348488815, 6.626672712860137, 8.441642214800595, 10.748596585713102, 13.678211570951925, 17.394227364978484, 22.100815920223706, 28.05098214877015, 35.555752149912685, 44.99359197226689, 56.819024010326046, 71.56875119647344, 89.86274079120334, 112.39679937789133, 139.9223581307296, 173.2089924981358, 212.98622526599138, 259.8641196622753, 314.2374552108245, 376.18540858672014, 445.38585221608395, 521.0676092052563, 602.0218721534219, 686.6833093515703, 773.2729065350727, 859.9741443684096, 945.102027452284, 1027.229205837508, 1105.2523948640146, 1178.403183849679, 1246.2196313781417, 1308.4970855072893, 1365.2327084253957, 1416.5726976945643, 1462.766637442032, 1504.1304015355727, 1541.017359050067, 1573.796852620432, 1602.8386777691687, 1628.5023186897072, 1651.1298444166232, 1671.0415550155649, 1688.5336481887832, 1703.8773373483705, 1717.318984192284, 1729.0809171379467, 1739.3626904517514, 1748.34260508352, 1756.1793612322417, 1763.0137522620107, 1768.9703354187168, 1774.1590386680687, 1778.6766762811785, 1782.6083586541902, 1786.028788839512, 1789.0034444105631, 1791.589647204352, 1793.8375256460845, 1795.7908763533192, 1797.487932217177, 1798.9620448159458, 1800.2422888121664, 1801.3539959205023]}, {\"mode\": \"lines+markers\", \"name\": \"Total\", \"type\": \"scatter\", \"x\": [0.0, 1.0, 2.0, 3.0, 4.0, 5.0, 6.0, 7.0, 8.0, 9.0, 10.0, 11.0, 12.0, 13.0, 14.0, 15.0, 16.0, 17.0, 18.0, 19.0, 20.0, 21.0, 22.0, 23.0, 24.0, 25.0, 26.0, 27.0, 28.0, 29.0, 30.0, 31.0, 32.0, 33.0, 34.0, 35.0, 36.0, 37.0, 38.0, 39.0, 40.0, 41.0, 42.0, 43.0, 44.0, 45.0, 46.0, 47.0, 48.0, 49.0, 50.0, 51.0, 52.0, 53.0, 54.0, 55.0, 56.0, 57.0, 58.0, 59.0, 60.0, 61.0, 62.0, 63.0, 64.0, 65.0, 66.0, 67.0, 68.0, 69.0, 70.0, 71.0, 72.0, 73.0, 74.0, 75.0, 76.0, 77.0, 78.0, 79.0, 80.0, 81.0, 82.0, 83.0, 84.0, 85.0, 86.0, 87.0, 88.0, 89.0], \"y\": [55414.0, 55414.000000000015, 55414.00000000001, 55414.0, 55413.99999999998, 55413.999999999985, 55413.99999999999, 55413.999999999985, 55414.0, 55414.00000000001, 55414.00000000001, 55414.0, 55414.00000000001, 55414.00000000001, 55414.0, 55414.000000000015, 55414.00000000001, 55414.000000000015, 55414.000000000015, 55414.00000000003, 55414.000000000015, 55414.000000000015, 55414.00000000001, 55414.00000000001, 55414.0, 55414.00000000001, 55414.0, 55414.000000000015, 55414.00000000001, 55414.0, 55414.00000000001, 55414.00000000001, 55414.000000000015, 55414.0, 55414.0, 55414.0, 55414.00000000001, 55414.0, 55414.0, 55414.000000000015, 55414.00000000001, 55414.00000000001, 55414.000000000015, 55414.000000000015, 55414.000000000015, 55414.0, 55414.000000000015, 55414.00000000001, 55414.0, 55414.0, 55414.00000000001, 55414.00000000001, 55414.000000000015, 55414.00000000001, 55414.00000000001, 55414.000000000015, 55414.00000000002, 55414.00000000001, 55414.000000000015, 55414.000000000015, 55414.00000000001, 55414.000000000015, 55414.000000000015, 55414.000000000015, 55414.00000000002, 55414.00000000003, 55414.00000000004, 55414.00000000003, 55414.00000000004, 55414.00000000004, 55414.00000000004, 55414.00000000003, 55414.00000000003, 55414.00000000002, 55414.00000000002, 55414.00000000002, 55414.00000000003, 55414.00000000004, 55414.00000000004, 55414.00000000003, 55414.000000000044, 55414.00000000004, 55414.00000000004, 55414.00000000004, 55414.00000000003, 55414.00000000003, 55414.00000000003, 55414.00000000004, 55414.00000000003, 55414.00000000002]}],                        {\"legend\": {\"title\": {\"text\": \"Variables\"}}, \"template\": {\"data\": {\"bar\": [{\"error_x\": {\"color\": \"#2a3f5f\"}, \"error_y\": {\"color\": \"#2a3f5f\"}, \"marker\": {\"line\": {\"color\": \"#E5ECF6\", \"width\": 0.5}}, \"type\": \"bar\"}], \"barpolar\": [{\"marker\": {\"line\": {\"color\": \"#E5ECF6\", \"width\": 0.5}}, \"type\": \"barpolar\"}], \"carpet\": [{\"aaxis\": {\"endlinecolor\": \"#2a3f5f\", \"gridcolor\": \"white\", \"linecolor\": \"white\", \"minorgridcolor\": \"white\", \"startlinecolor\": \"#2a3f5f\"}, \"baxis\": {\"endlinecolor\": \"#2a3f5f\", \"gridcolor\": \"white\", \"linecolor\": \"white\", \"minorgridcolor\": \"white\", \"startlinecolor\": \"#2a3f5f\"}, \"type\": \"carpet\"}], \"choropleth\": [{\"colorbar\": {\"outlinewidth\": 0, \"ticks\": \"\"}, \"type\": \"choropleth\"}], \"contour\": [{\"colorbar\": {\"outlinewidth\": 0, \"ticks\": \"\"}, \"colorscale\": [[0.0, \"#0d0887\"], [0.1111111111111111, \"#46039f\"], [0.2222222222222222, \"#7201a8\"], [0.3333333333333333, \"#9c179e\"], [0.4444444444444444, \"#bd3786\"], [0.5555555555555556, \"#d8576b\"], [0.6666666666666666, \"#ed7953\"], [0.7777777777777778, \"#fb9f3a\"], [0.8888888888888888, \"#fdca26\"], [1.0, \"#f0f921\"]], \"type\": \"contour\"}], \"contourcarpet\": [{\"colorbar\": {\"outlinewidth\": 0, \"ticks\": \"\"}, \"type\": \"contourcarpet\"}], \"heatmap\": [{\"colorbar\": {\"outlinewidth\": 0, \"ticks\": \"\"}, \"colorscale\": [[0.0, \"#0d0887\"], [0.1111111111111111, \"#46039f\"], [0.2222222222222222, \"#7201a8\"], [0.3333333333333333, \"#9c179e\"], [0.4444444444444444, \"#bd3786\"], [0.5555555555555556, \"#d8576b\"], [0.6666666666666666, \"#ed7953\"], [0.7777777777777778, \"#fb9f3a\"], [0.8888888888888888, \"#fdca26\"], [1.0, \"#f0f921\"]], \"type\": \"heatmap\"}], \"heatmapgl\": [{\"colorbar\": {\"outlinewidth\": 0, \"ticks\": \"\"}, \"colorscale\": [[0.0, \"#0d0887\"], [0.1111111111111111, \"#46039f\"], [0.2222222222222222, \"#7201a8\"], [0.3333333333333333, \"#9c179e\"], [0.4444444444444444, \"#bd3786\"], [0.5555555555555556, \"#d8576b\"], [0.6666666666666666, \"#ed7953\"], [0.7777777777777778, \"#fb9f3a\"], [0.8888888888888888, \"#fdca26\"], [1.0, \"#f0f921\"]], \"type\": \"heatmapgl\"}], \"histogram\": [{\"marker\": {\"colorbar\": {\"outlinewidth\": 0, \"ticks\": \"\"}}, \"type\": \"histogram\"}], \"histogram2d\": [{\"colorbar\": {\"outlinewidth\": 0, \"ticks\": \"\"}, \"colorscale\": [[0.0, \"#0d0887\"], [0.1111111111111111, \"#46039f\"], [0.2222222222222222, \"#7201a8\"], [0.3333333333333333, \"#9c179e\"], [0.4444444444444444, \"#bd3786\"], [0.5555555555555556, \"#d8576b\"], [0.6666666666666666, \"#ed7953\"], [0.7777777777777778, \"#fb9f3a\"], [0.8888888888888888, \"#fdca26\"], [1.0, \"#f0f921\"]], \"type\": \"histogram2d\"}], \"histogram2dcontour\": [{\"colorbar\": {\"outlinewidth\": 0, \"ticks\": \"\"}, \"colorscale\": [[0.0, \"#0d0887\"], [0.1111111111111111, \"#46039f\"], [0.2222222222222222, \"#7201a8\"], [0.3333333333333333, \"#9c179e\"], [0.4444444444444444, \"#bd3786\"], [0.5555555555555556, \"#d8576b\"], [0.6666666666666666, \"#ed7953\"], [0.7777777777777778, \"#fb9f3a\"], [0.8888888888888888, \"#fdca26\"], [1.0, \"#f0f921\"]], \"type\": \"histogram2dcontour\"}], \"mesh3d\": [{\"colorbar\": {\"outlinewidth\": 0, \"ticks\": \"\"}, \"type\": \"mesh3d\"}], \"parcoords\": [{\"line\": {\"colorbar\": {\"outlinewidth\": 0, \"ticks\": \"\"}}, \"type\": \"parcoords\"}], \"pie\": [{\"automargin\": true, \"type\": \"pie\"}], \"scatter\": [{\"marker\": {\"colorbar\": {\"outlinewidth\": 0, \"ticks\": \"\"}}, \"type\": \"scatter\"}], \"scatter3d\": [{\"line\": {\"colorbar\": {\"outlinewidth\": 0, \"ticks\": \"\"}}, \"marker\": {\"colorbar\": {\"outlinewidth\": 0, \"ticks\": \"\"}}, \"type\": \"scatter3d\"}], \"scattercarpet\": [{\"marker\": {\"colorbar\": {\"outlinewidth\": 0, \"ticks\": \"\"}}, \"type\": \"scattercarpet\"}], \"scattergeo\": [{\"marker\": {\"colorbar\": {\"outlinewidth\": 0, \"ticks\": \"\"}}, \"type\": \"scattergeo\"}], \"scattergl\": [{\"marker\": {\"colorbar\": {\"outlinewidth\": 0, \"ticks\": \"\"}}, \"type\": \"scattergl\"}], \"scattermapbox\": [{\"marker\": {\"colorbar\": {\"outlinewidth\": 0, \"ticks\": \"\"}}, \"type\": \"scattermapbox\"}], \"scatterpolar\": [{\"marker\": {\"colorbar\": {\"outlinewidth\": 0, \"ticks\": \"\"}}, \"type\": \"scatterpolar\"}], \"scatterpolargl\": [{\"marker\": {\"colorbar\": {\"outlinewidth\": 0, \"ticks\": \"\"}}, \"type\": \"scatterpolargl\"}], \"scatterternary\": [{\"marker\": {\"colorbar\": {\"outlinewidth\": 0, \"ticks\": \"\"}}, \"type\": \"scatterternary\"}], \"surface\": [{\"colorbar\": {\"outlinewidth\": 0, \"ticks\": \"\"}, \"colorscale\": [[0.0, \"#0d0887\"], [0.1111111111111111, \"#46039f\"], [0.2222222222222222, \"#7201a8\"], [0.3333333333333333, \"#9c179e\"], [0.4444444444444444, \"#bd3786\"], [0.5555555555555556, \"#d8576b\"], [0.6666666666666666, \"#ed7953\"], [0.7777777777777778, \"#fb9f3a\"], [0.8888888888888888, \"#fdca26\"], [1.0, \"#f0f921\"]], \"type\": \"surface\"}], \"table\": [{\"cells\": {\"fill\": {\"color\": \"#EBF0F8\"}, \"line\": {\"color\": \"white\"}}, \"header\": {\"fill\": {\"color\": \"#C8D4E3\"}, \"line\": {\"color\": \"white\"}}, \"type\": \"table\"}]}, \"layout\": {\"annotationdefaults\": {\"arrowcolor\": \"#2a3f5f\", \"arrowhead\": 0, \"arrowwidth\": 1}, \"coloraxis\": {\"colorbar\": {\"outlinewidth\": 0, \"ticks\": \"\"}}, \"colorscale\": {\"diverging\": [[0, \"#8e0152\"], [0.1, \"#c51b7d\"], [0.2, \"#de77ae\"], [0.3, \"#f1b6da\"], [0.4, \"#fde0ef\"], [0.5, \"#f7f7f7\"], [0.6, \"#e6f5d0\"], [0.7, \"#b8e186\"], [0.8, \"#7fbc41\"], [0.9, \"#4d9221\"], [1, \"#276419\"]], \"sequential\": [[0.0, \"#0d0887\"], [0.1111111111111111, \"#46039f\"], [0.2222222222222222, \"#7201a8\"], [0.3333333333333333, \"#9c179e\"], [0.4444444444444444, \"#bd3786\"], [0.5555555555555556, \"#d8576b\"], [0.6666666666666666, \"#ed7953\"], [0.7777777777777778, \"#fb9f3a\"], [0.8888888888888888, \"#fdca26\"], [1.0, \"#f0f921\"]], \"sequentialminus\": [[0.0, \"#0d0887\"], [0.1111111111111111, \"#46039f\"], [0.2222222222222222, \"#7201a8\"], [0.3333333333333333, \"#9c179e\"], [0.4444444444444444, \"#bd3786\"], [0.5555555555555556, \"#d8576b\"], [0.6666666666666666, \"#ed7953\"], [0.7777777777777778, \"#fb9f3a\"], [0.8888888888888888, \"#fdca26\"], [1.0, \"#f0f921\"]]}, \"colorway\": [\"#636efa\", \"#EF553B\", \"#00cc96\", \"#ab63fa\", \"#FFA15A\", \"#19d3f3\", \"#FF6692\", \"#B6E880\", \"#FF97FF\", \"#FECB52\"], \"font\": {\"color\": \"#2a3f5f\"}, \"geo\": {\"bgcolor\": \"white\", \"lakecolor\": \"white\", \"landcolor\": \"#E5ECF6\", \"showlakes\": true, \"showland\": true, \"subunitcolor\": \"white\"}, \"hoverlabel\": {\"align\": \"left\"}, \"hovermode\": \"closest\", \"mapbox\": {\"style\": \"light\"}, \"paper_bgcolor\": \"white\", \"plot_bgcolor\": \"#E5ECF6\", \"polar\": {\"angularaxis\": {\"gridcolor\": \"white\", \"linecolor\": \"white\", \"ticks\": \"\"}, \"bgcolor\": \"#E5ECF6\", \"radialaxis\": {\"gridcolor\": \"white\", \"linecolor\": \"white\", \"ticks\": \"\"}}, \"scene\": {\"xaxis\": {\"backgroundcolor\": \"#E5ECF6\", \"gridcolor\": \"white\", \"gridwidth\": 2, \"linecolor\": \"white\", \"showbackground\": true, \"ticks\": \"\", \"zerolinecolor\": \"white\"}, \"yaxis\": {\"backgroundcolor\": \"#E5ECF6\", \"gridcolor\": \"white\", \"gridwidth\": 2, \"linecolor\": \"white\", \"showbackground\": true, \"ticks\": \"\", \"zerolinecolor\": \"white\"}, \"zaxis\": {\"backgroundcolor\": \"#E5ECF6\", \"gridcolor\": \"white\", \"gridwidth\": 2, \"linecolor\": \"white\", \"showbackground\": true, \"ticks\": \"\", \"zerolinecolor\": \"white\"}}, \"shapedefaults\": {\"line\": {\"color\": \"#2a3f5f\"}}, \"ternary\": {\"aaxis\": {\"gridcolor\": \"white\", \"linecolor\": \"white\", \"ticks\": \"\"}, \"baxis\": {\"gridcolor\": \"white\", \"linecolor\": \"white\", \"ticks\": \"\"}, \"bgcolor\": \"#E5ECF6\", \"caxis\": {\"gridcolor\": \"white\", \"linecolor\": \"white\", \"ticks\": \"\"}}, \"title\": {\"x\": 0.05}, \"xaxis\": {\"automargin\": true, \"gridcolor\": \"white\", \"linecolor\": \"white\", \"ticks\": \"\", \"title\": {\"standoff\": 15}, \"zerolinecolor\": \"white\", \"zerolinewidth\": 2}, \"yaxis\": {\"automargin\": true, \"gridcolor\": \"white\", \"linecolor\": \"white\", \"ticks\": \"\", \"title\": {\"standoff\": 15}, \"zerolinecolor\": \"white\", \"zerolinewidth\": 2}}}, \"title\": {\"text\": \"SEIRD MODEL\", \"x\": 0.5, \"xanchor\": \"center\", \"y\": 0.9, \"yanchor\": \"top\"}, \"xaxis\": {\"title\": {\"text\": \"Time (days)\"}}, \"yaxis\": {\"title\": {\"text\": \"Population\"}}},                        {\"responsive\": true}                    ).then(function(){\n",
       "                            \n",
       "var gd = document.getElementById('a784f796-881e-4c34-8ece-68001c4d4223');\n",
       "var x = new MutationObserver(function (mutations, observer) {{\n",
       "        var display = window.getComputedStyle(gd).display;\n",
       "        if (!display || display === 'none') {{\n",
       "            console.log([gd, 'removed!']);\n",
       "            Plotly.purge(gd);\n",
       "            observer.disconnect();\n",
       "        }}\n",
       "}});\n",
       "\n",
       "// Listen for the removal of the full notebook cells\n",
       "var notebookContainer = gd.closest('#notebook-container');\n",
       "if (notebookContainer) {{\n",
       "    x.observe(notebookContainer, {childList: true});\n",
       "}}\n",
       "\n",
       "// Listen for the clearing of the current output cell\n",
       "var outputEl = gd.closest('.output');\n",
       "if (outputEl) {{\n",
       "    x.observe(outputEl, {childList: true});\n",
       "}}\n",
       "\n",
       "                        })                };                });            </script>        </div>"
      ]
     },
     "metadata": {},
     "output_type": "display_data"
    },
    {
     "data": {
      "application/vnd.plotly.v1+json": {
       "config": {
        "plotlyServerURL": "https://plot.ly"
       },
       "data": [
        {
         "mode": "lines",
         "name": "R0",
         "type": "scatter",
         "x": [
          0,
          1,
          2,
          3,
          4,
          5,
          6,
          7,
          8,
          9,
          10,
          11,
          12,
          13,
          14,
          15,
          16,
          17,
          18,
          19,
          20,
          21,
          22,
          23,
          24,
          25,
          26,
          27,
          28,
          29,
          30,
          31,
          32,
          33,
          34,
          35,
          36,
          37,
          38,
          39,
          40,
          41,
          42,
          43,
          44,
          45,
          46,
          47,
          48,
          49,
          50,
          51,
          52,
          53,
          54,
          55,
          56,
          57,
          58,
          59,
          60,
          61,
          62,
          63,
          64,
          65,
          66,
          67,
          68,
          69,
          70,
          71,
          72,
          73,
          74,
          75,
          76,
          77,
          78,
          79,
          80,
          81,
          82,
          83,
          84,
          85,
          86,
          87,
          88,
          89
         ],
         "y": [
          3.999999999951392,
          3.9999999999198597,
          3.99999999986787,
          3.9999999997821547,
          3.9999999996408344,
          3.999999999407836,
          3.999999999023686,
          3.999999998390331,
          3.999999997346104,
          3.999999995624465,
          3.999999992785962,
          3.9999999881060626,
          3.9999999803902124,
          3.999999967668926,
          3.999999946695072,
          3.9999999121150314,
          3.999999855102186,
          3.9999997611038984,
          3.999999606126933,
          3.9999993506131437,
          3.9999989293422056,
          3.9999982347840715,
          3.999997089651903,
          3.9999952016497757,
          3.9999920888649574,
          3.9999869567625055,
          3.999978495388892,
          3.999964545031567,
          3.999941545023532,
          3.9999036250810986,
          3.9998411074595412,
          3.999738038203713,
          3.999568118984048,
          3.999288005576807,
          3.998826274543368,
          3.9980652747707675,
          3.996811320819598,
          3.9947458621014205,
          3.9913458189517788,
          3.985754517994364,
          3.9765750217650035,
          3.9615457007929242,
          3.9370482651326792,
          3.8974071923702525,
          3.8340094438785166,
          3.734496369925648,
          3.582789772922588,
          3.3615106666777526,
          3.058705025205017,
          2.678607659206491,
          2.25,
          1.821392340793509,
          1.441294974794983,
          1.1384893333222472,
          0.9172102270774114,
          0.7655036300743525,
          0.6659905561214837,
          0.6025928076297471,
          0.5629517348673204,
          0.5384542992070761,
          0.523424978234997,
          0.5142454820056365,
          0.5086541810482217,
          0.5052541378985794,
          0.5031886791804022,
          0.5019347252292325,
          0.5011737254566326,
          0.5007119944231933,
          0.5004318810159518,
          0.5002619617962871,
          0.5001588925404585,
          0.500096374918901,
          0.5000584549764683,
          0.500035454968433,
          0.5000215046111077,
          0.5000130432374946,
          0.5000079111350426,
          0.500004798350224,
          0.5000029103480969,
          0.5000017652159287,
          0.5000010706577942,
          0.5000006493868564,
          0.5000003938730672,
          0.5000002388961019,
          0.5000001448978142,
          0.5000000878849682,
          0.5000000533049282,
          0.5000000323310735,
          0.5000000196097875,
          0.5000000118939373
         ]
        }
       ],
       "layout": {
        "showlegend": true,
        "template": {
         "data": {
          "bar": [
           {
            "error_x": {
             "color": "#2a3f5f"
            },
            "error_y": {
             "color": "#2a3f5f"
            },
            "marker": {
             "line": {
              "color": "#E5ECF6",
              "width": 0.5
             }
            },
            "type": "bar"
           }
          ],
          "barpolar": [
           {
            "marker": {
             "line": {
              "color": "#E5ECF6",
              "width": 0.5
             }
            },
            "type": "barpolar"
           }
          ],
          "carpet": [
           {
            "aaxis": {
             "endlinecolor": "#2a3f5f",
             "gridcolor": "white",
             "linecolor": "white",
             "minorgridcolor": "white",
             "startlinecolor": "#2a3f5f"
            },
            "baxis": {
             "endlinecolor": "#2a3f5f",
             "gridcolor": "white",
             "linecolor": "white",
             "minorgridcolor": "white",
             "startlinecolor": "#2a3f5f"
            },
            "type": "carpet"
           }
          ],
          "choropleth": [
           {
            "colorbar": {
             "outlinewidth": 0,
             "ticks": ""
            },
            "type": "choropleth"
           }
          ],
          "contour": [
           {
            "colorbar": {
             "outlinewidth": 0,
             "ticks": ""
            },
            "colorscale": [
             [
              0,
              "#0d0887"
             ],
             [
              0.1111111111111111,
              "#46039f"
             ],
             [
              0.2222222222222222,
              "#7201a8"
             ],
             [
              0.3333333333333333,
              "#9c179e"
             ],
             [
              0.4444444444444444,
              "#bd3786"
             ],
             [
              0.5555555555555556,
              "#d8576b"
             ],
             [
              0.6666666666666666,
              "#ed7953"
             ],
             [
              0.7777777777777778,
              "#fb9f3a"
             ],
             [
              0.8888888888888888,
              "#fdca26"
             ],
             [
              1,
              "#f0f921"
             ]
            ],
            "type": "contour"
           }
          ],
          "contourcarpet": [
           {
            "colorbar": {
             "outlinewidth": 0,
             "ticks": ""
            },
            "type": "contourcarpet"
           }
          ],
          "heatmap": [
           {
            "colorbar": {
             "outlinewidth": 0,
             "ticks": ""
            },
            "colorscale": [
             [
              0,
              "#0d0887"
             ],
             [
              0.1111111111111111,
              "#46039f"
             ],
             [
              0.2222222222222222,
              "#7201a8"
             ],
             [
              0.3333333333333333,
              "#9c179e"
             ],
             [
              0.4444444444444444,
              "#bd3786"
             ],
             [
              0.5555555555555556,
              "#d8576b"
             ],
             [
              0.6666666666666666,
              "#ed7953"
             ],
             [
              0.7777777777777778,
              "#fb9f3a"
             ],
             [
              0.8888888888888888,
              "#fdca26"
             ],
             [
              1,
              "#f0f921"
             ]
            ],
            "type": "heatmap"
           }
          ],
          "heatmapgl": [
           {
            "colorbar": {
             "outlinewidth": 0,
             "ticks": ""
            },
            "colorscale": [
             [
              0,
              "#0d0887"
             ],
             [
              0.1111111111111111,
              "#46039f"
             ],
             [
              0.2222222222222222,
              "#7201a8"
             ],
             [
              0.3333333333333333,
              "#9c179e"
             ],
             [
              0.4444444444444444,
              "#bd3786"
             ],
             [
              0.5555555555555556,
              "#d8576b"
             ],
             [
              0.6666666666666666,
              "#ed7953"
             ],
             [
              0.7777777777777778,
              "#fb9f3a"
             ],
             [
              0.8888888888888888,
              "#fdca26"
             ],
             [
              1,
              "#f0f921"
             ]
            ],
            "type": "heatmapgl"
           }
          ],
          "histogram": [
           {
            "marker": {
             "colorbar": {
              "outlinewidth": 0,
              "ticks": ""
             }
            },
            "type": "histogram"
           }
          ],
          "histogram2d": [
           {
            "colorbar": {
             "outlinewidth": 0,
             "ticks": ""
            },
            "colorscale": [
             [
              0,
              "#0d0887"
             ],
             [
              0.1111111111111111,
              "#46039f"
             ],
             [
              0.2222222222222222,
              "#7201a8"
             ],
             [
              0.3333333333333333,
              "#9c179e"
             ],
             [
              0.4444444444444444,
              "#bd3786"
             ],
             [
              0.5555555555555556,
              "#d8576b"
             ],
             [
              0.6666666666666666,
              "#ed7953"
             ],
             [
              0.7777777777777778,
              "#fb9f3a"
             ],
             [
              0.8888888888888888,
              "#fdca26"
             ],
             [
              1,
              "#f0f921"
             ]
            ],
            "type": "histogram2d"
           }
          ],
          "histogram2dcontour": [
           {
            "colorbar": {
             "outlinewidth": 0,
             "ticks": ""
            },
            "colorscale": [
             [
              0,
              "#0d0887"
             ],
             [
              0.1111111111111111,
              "#46039f"
             ],
             [
              0.2222222222222222,
              "#7201a8"
             ],
             [
              0.3333333333333333,
              "#9c179e"
             ],
             [
              0.4444444444444444,
              "#bd3786"
             ],
             [
              0.5555555555555556,
              "#d8576b"
             ],
             [
              0.6666666666666666,
              "#ed7953"
             ],
             [
              0.7777777777777778,
              "#fb9f3a"
             ],
             [
              0.8888888888888888,
              "#fdca26"
             ],
             [
              1,
              "#f0f921"
             ]
            ],
            "type": "histogram2dcontour"
           }
          ],
          "mesh3d": [
           {
            "colorbar": {
             "outlinewidth": 0,
             "ticks": ""
            },
            "type": "mesh3d"
           }
          ],
          "parcoords": [
           {
            "line": {
             "colorbar": {
              "outlinewidth": 0,
              "ticks": ""
             }
            },
            "type": "parcoords"
           }
          ],
          "pie": [
           {
            "automargin": true,
            "type": "pie"
           }
          ],
          "scatter": [
           {
            "marker": {
             "colorbar": {
              "outlinewidth": 0,
              "ticks": ""
             }
            },
            "type": "scatter"
           }
          ],
          "scatter3d": [
           {
            "line": {
             "colorbar": {
              "outlinewidth": 0,
              "ticks": ""
             }
            },
            "marker": {
             "colorbar": {
              "outlinewidth": 0,
              "ticks": ""
             }
            },
            "type": "scatter3d"
           }
          ],
          "scattercarpet": [
           {
            "marker": {
             "colorbar": {
              "outlinewidth": 0,
              "ticks": ""
             }
            },
            "type": "scattercarpet"
           }
          ],
          "scattergeo": [
           {
            "marker": {
             "colorbar": {
              "outlinewidth": 0,
              "ticks": ""
             }
            },
            "type": "scattergeo"
           }
          ],
          "scattergl": [
           {
            "marker": {
             "colorbar": {
              "outlinewidth": 0,
              "ticks": ""
             }
            },
            "type": "scattergl"
           }
          ],
          "scattermapbox": [
           {
            "marker": {
             "colorbar": {
              "outlinewidth": 0,
              "ticks": ""
             }
            },
            "type": "scattermapbox"
           }
          ],
          "scatterpolar": [
           {
            "marker": {
             "colorbar": {
              "outlinewidth": 0,
              "ticks": ""
             }
            },
            "type": "scatterpolar"
           }
          ],
          "scatterpolargl": [
           {
            "marker": {
             "colorbar": {
              "outlinewidth": 0,
              "ticks": ""
             }
            },
            "type": "scatterpolargl"
           }
          ],
          "scatterternary": [
           {
            "marker": {
             "colorbar": {
              "outlinewidth": 0,
              "ticks": ""
             }
            },
            "type": "scatterternary"
           }
          ],
          "surface": [
           {
            "colorbar": {
             "outlinewidth": 0,
             "ticks": ""
            },
            "colorscale": [
             [
              0,
              "#0d0887"
             ],
             [
              0.1111111111111111,
              "#46039f"
             ],
             [
              0.2222222222222222,
              "#7201a8"
             ],
             [
              0.3333333333333333,
              "#9c179e"
             ],
             [
              0.4444444444444444,
              "#bd3786"
             ],
             [
              0.5555555555555556,
              "#d8576b"
             ],
             [
              0.6666666666666666,
              "#ed7953"
             ],
             [
              0.7777777777777778,
              "#fb9f3a"
             ],
             [
              0.8888888888888888,
              "#fdca26"
             ],
             [
              1,
              "#f0f921"
             ]
            ],
            "type": "surface"
           }
          ],
          "table": [
           {
            "cells": {
             "fill": {
              "color": "#EBF0F8"
             },
             "line": {
              "color": "white"
             }
            },
            "header": {
             "fill": {
              "color": "#C8D4E3"
             },
             "line": {
              "color": "white"
             }
            },
            "type": "table"
           }
          ]
         },
         "layout": {
          "annotationdefaults": {
           "arrowcolor": "#2a3f5f",
           "arrowhead": 0,
           "arrowwidth": 1
          },
          "coloraxis": {
           "colorbar": {
            "outlinewidth": 0,
            "ticks": ""
           }
          },
          "colorscale": {
           "diverging": [
            [
             0,
             "#8e0152"
            ],
            [
             0.1,
             "#c51b7d"
            ],
            [
             0.2,
             "#de77ae"
            ],
            [
             0.3,
             "#f1b6da"
            ],
            [
             0.4,
             "#fde0ef"
            ],
            [
             0.5,
             "#f7f7f7"
            ],
            [
             0.6,
             "#e6f5d0"
            ],
            [
             0.7,
             "#b8e186"
            ],
            [
             0.8,
             "#7fbc41"
            ],
            [
             0.9,
             "#4d9221"
            ],
            [
             1,
             "#276419"
            ]
           ],
           "sequential": [
            [
             0,
             "#0d0887"
            ],
            [
             0.1111111111111111,
             "#46039f"
            ],
            [
             0.2222222222222222,
             "#7201a8"
            ],
            [
             0.3333333333333333,
             "#9c179e"
            ],
            [
             0.4444444444444444,
             "#bd3786"
            ],
            [
             0.5555555555555556,
             "#d8576b"
            ],
            [
             0.6666666666666666,
             "#ed7953"
            ],
            [
             0.7777777777777778,
             "#fb9f3a"
            ],
            [
             0.8888888888888888,
             "#fdca26"
            ],
            [
             1,
             "#f0f921"
            ]
           ],
           "sequentialminus": [
            [
             0,
             "#0d0887"
            ],
            [
             0.1111111111111111,
             "#46039f"
            ],
            [
             0.2222222222222222,
             "#7201a8"
            ],
            [
             0.3333333333333333,
             "#9c179e"
            ],
            [
             0.4444444444444444,
             "#bd3786"
            ],
            [
             0.5555555555555556,
             "#d8576b"
            ],
            [
             0.6666666666666666,
             "#ed7953"
            ],
            [
             0.7777777777777778,
             "#fb9f3a"
            ],
            [
             0.8888888888888888,
             "#fdca26"
            ],
            [
             1,
             "#f0f921"
            ]
           ]
          },
          "colorway": [
           "#636efa",
           "#EF553B",
           "#00cc96",
           "#ab63fa",
           "#FFA15A",
           "#19d3f3",
           "#FF6692",
           "#B6E880",
           "#FF97FF",
           "#FECB52"
          ],
          "font": {
           "color": "#2a3f5f"
          },
          "geo": {
           "bgcolor": "white",
           "lakecolor": "white",
           "landcolor": "#E5ECF6",
           "showlakes": true,
           "showland": true,
           "subunitcolor": "white"
          },
          "hoverlabel": {
           "align": "left"
          },
          "hovermode": "closest",
          "mapbox": {
           "style": "light"
          },
          "paper_bgcolor": "white",
          "plot_bgcolor": "#E5ECF6",
          "polar": {
           "angularaxis": {
            "gridcolor": "white",
            "linecolor": "white",
            "ticks": ""
           },
           "bgcolor": "#E5ECF6",
           "radialaxis": {
            "gridcolor": "white",
            "linecolor": "white",
            "ticks": ""
           }
          },
          "scene": {
           "xaxis": {
            "backgroundcolor": "#E5ECF6",
            "gridcolor": "white",
            "gridwidth": 2,
            "linecolor": "white",
            "showbackground": true,
            "ticks": "",
            "zerolinecolor": "white"
           },
           "yaxis": {
            "backgroundcolor": "#E5ECF6",
            "gridcolor": "white",
            "gridwidth": 2,
            "linecolor": "white",
            "showbackground": true,
            "ticks": "",
            "zerolinecolor": "white"
           },
           "zaxis": {
            "backgroundcolor": "#E5ECF6",
            "gridcolor": "white",
            "gridwidth": 2,
            "linecolor": "white",
            "showbackground": true,
            "ticks": "",
            "zerolinecolor": "white"
           }
          },
          "shapedefaults": {
           "line": {
            "color": "#2a3f5f"
           }
          },
          "ternary": {
           "aaxis": {
            "gridcolor": "white",
            "linecolor": "white",
            "ticks": ""
           },
           "baxis": {
            "gridcolor": "white",
            "linecolor": "white",
            "ticks": ""
           },
           "bgcolor": "#E5ECF6",
           "caxis": {
            "gridcolor": "white",
            "linecolor": "white",
            "ticks": ""
           }
          },
          "title": {
           "x": 0.05
          },
          "xaxis": {
           "automargin": true,
           "gridcolor": "white",
           "linecolor": "white",
           "ticks": "",
           "title": {
            "standoff": 15
           },
           "zerolinecolor": "white",
           "zerolinewidth": 2
          },
          "yaxis": {
           "automargin": true,
           "gridcolor": "white",
           "linecolor": "white",
           "ticks": "",
           "title": {
            "standoff": 15
           },
           "zerolinecolor": "white",
           "zerolinewidth": 2
          }
         }
        },
        "title": {
         "text": "R0 overtime",
         "x": 0.5,
         "xanchor": "center",
         "y": 0.9,
         "yanchor": "top"
        },
        "xaxis": {
         "title": {
          "text": "Time (days)"
         }
        }
       }
      },
      "text/html": [
       "<div>                            <div id=\"0be1edfa-ed4b-463d-9653-a00b723640e4\" class=\"plotly-graph-div\" style=\"height:525px; width:100%;\"></div>            <script type=\"text/javascript\">                require([\"plotly\"], function(Plotly) {                    window.PLOTLYENV=window.PLOTLYENV || {};                                    if (document.getElementById(\"0be1edfa-ed4b-463d-9653-a00b723640e4\")) {                    Plotly.newPlot(                        \"0be1edfa-ed4b-463d-9653-a00b723640e4\",                        [{\"mode\": \"lines\", \"name\": \"R0\", \"type\": \"scatter\", \"x\": [0.0, 1.0, 2.0, 3.0, 4.0, 5.0, 6.0, 7.0, 8.0, 9.0, 10.0, 11.0, 12.0, 13.0, 14.0, 15.0, 16.0, 17.0, 18.0, 19.0, 20.0, 21.0, 22.0, 23.0, 24.0, 25.0, 26.0, 27.0, 28.0, 29.0, 30.0, 31.0, 32.0, 33.0, 34.0, 35.0, 36.0, 37.0, 38.0, 39.0, 40.0, 41.0, 42.0, 43.0, 44.0, 45.0, 46.0, 47.0, 48.0, 49.0, 50.0, 51.0, 52.0, 53.0, 54.0, 55.0, 56.0, 57.0, 58.0, 59.0, 60.0, 61.0, 62.0, 63.0, 64.0, 65.0, 66.0, 67.0, 68.0, 69.0, 70.0, 71.0, 72.0, 73.0, 74.0, 75.0, 76.0, 77.0, 78.0, 79.0, 80.0, 81.0, 82.0, 83.0, 84.0, 85.0, 86.0, 87.0, 88.0, 89.0], \"y\": [3.999999999951392, 3.9999999999198597, 3.99999999986787, 3.9999999997821547, 3.9999999996408344, 3.999999999407836, 3.999999999023686, 3.999999998390331, 3.999999997346104, 3.999999995624465, 3.999999992785962, 3.9999999881060626, 3.9999999803902124, 3.999999967668926, 3.999999946695072, 3.9999999121150314, 3.999999855102186, 3.9999997611038984, 3.999999606126933, 3.9999993506131437, 3.9999989293422056, 3.9999982347840715, 3.999997089651903, 3.9999952016497757, 3.9999920888649574, 3.9999869567625055, 3.999978495388892, 3.999964545031567, 3.999941545023532, 3.9999036250810986, 3.9998411074595412, 3.999738038203713, 3.999568118984048, 3.999288005576807, 3.998826274543368, 3.9980652747707675, 3.996811320819598, 3.9947458621014205, 3.9913458189517788, 3.985754517994364, 3.9765750217650035, 3.9615457007929242, 3.9370482651326792, 3.8974071923702525, 3.8340094438785166, 3.734496369925648, 3.582789772922588, 3.3615106666777526, 3.058705025205017, 2.678607659206491, 2.25, 1.821392340793509, 1.441294974794983, 1.1384893333222472, 0.9172102270774114, 0.7655036300743525, 0.6659905561214837, 0.6025928076297471, 0.5629517348673204, 0.5384542992070761, 0.523424978234997, 0.5142454820056365, 0.5086541810482217, 0.5052541378985794, 0.5031886791804022, 0.5019347252292325, 0.5011737254566326, 0.5007119944231933, 0.5004318810159518, 0.5002619617962871, 0.5001588925404585, 0.500096374918901, 0.5000584549764683, 0.500035454968433, 0.5000215046111077, 0.5000130432374946, 0.5000079111350426, 0.500004798350224, 0.5000029103480969, 0.5000017652159287, 0.5000010706577942, 0.5000006493868564, 0.5000003938730672, 0.5000002388961019, 0.5000001448978142, 0.5000000878849682, 0.5000000533049282, 0.5000000323310735, 0.5000000196097875, 0.5000000118939373]}],                        {\"showlegend\": true, \"template\": {\"data\": {\"bar\": [{\"error_x\": {\"color\": \"#2a3f5f\"}, \"error_y\": {\"color\": \"#2a3f5f\"}, \"marker\": {\"line\": {\"color\": \"#E5ECF6\", \"width\": 0.5}}, \"type\": \"bar\"}], \"barpolar\": [{\"marker\": {\"line\": {\"color\": \"#E5ECF6\", \"width\": 0.5}}, \"type\": \"barpolar\"}], \"carpet\": [{\"aaxis\": {\"endlinecolor\": \"#2a3f5f\", \"gridcolor\": \"white\", \"linecolor\": \"white\", \"minorgridcolor\": \"white\", \"startlinecolor\": \"#2a3f5f\"}, \"baxis\": {\"endlinecolor\": \"#2a3f5f\", \"gridcolor\": \"white\", \"linecolor\": \"white\", \"minorgridcolor\": \"white\", \"startlinecolor\": \"#2a3f5f\"}, \"type\": \"carpet\"}], \"choropleth\": [{\"colorbar\": {\"outlinewidth\": 0, \"ticks\": \"\"}, \"type\": \"choropleth\"}], \"contour\": [{\"colorbar\": {\"outlinewidth\": 0, \"ticks\": \"\"}, \"colorscale\": [[0.0, \"#0d0887\"], [0.1111111111111111, \"#46039f\"], [0.2222222222222222, \"#7201a8\"], [0.3333333333333333, \"#9c179e\"], [0.4444444444444444, \"#bd3786\"], [0.5555555555555556, \"#d8576b\"], [0.6666666666666666, \"#ed7953\"], [0.7777777777777778, \"#fb9f3a\"], [0.8888888888888888, \"#fdca26\"], [1.0, \"#f0f921\"]], \"type\": \"contour\"}], \"contourcarpet\": [{\"colorbar\": {\"outlinewidth\": 0, \"ticks\": \"\"}, \"type\": \"contourcarpet\"}], \"heatmap\": [{\"colorbar\": {\"outlinewidth\": 0, \"ticks\": \"\"}, \"colorscale\": [[0.0, \"#0d0887\"], [0.1111111111111111, \"#46039f\"], [0.2222222222222222, \"#7201a8\"], [0.3333333333333333, \"#9c179e\"], [0.4444444444444444, \"#bd3786\"], [0.5555555555555556, \"#d8576b\"], [0.6666666666666666, \"#ed7953\"], [0.7777777777777778, \"#fb9f3a\"], [0.8888888888888888, \"#fdca26\"], [1.0, \"#f0f921\"]], \"type\": \"heatmap\"}], \"heatmapgl\": [{\"colorbar\": {\"outlinewidth\": 0, \"ticks\": \"\"}, \"colorscale\": [[0.0, \"#0d0887\"], [0.1111111111111111, \"#46039f\"], [0.2222222222222222, \"#7201a8\"], [0.3333333333333333, \"#9c179e\"], [0.4444444444444444, \"#bd3786\"], [0.5555555555555556, \"#d8576b\"], [0.6666666666666666, \"#ed7953\"], [0.7777777777777778, \"#fb9f3a\"], [0.8888888888888888, \"#fdca26\"], [1.0, \"#f0f921\"]], \"type\": \"heatmapgl\"}], \"histogram\": [{\"marker\": {\"colorbar\": {\"outlinewidth\": 0, \"ticks\": \"\"}}, \"type\": \"histogram\"}], \"histogram2d\": [{\"colorbar\": {\"outlinewidth\": 0, \"ticks\": \"\"}, \"colorscale\": [[0.0, \"#0d0887\"], [0.1111111111111111, \"#46039f\"], [0.2222222222222222, \"#7201a8\"], [0.3333333333333333, \"#9c179e\"], [0.4444444444444444, \"#bd3786\"], [0.5555555555555556, \"#d8576b\"], [0.6666666666666666, \"#ed7953\"], [0.7777777777777778, \"#fb9f3a\"], [0.8888888888888888, \"#fdca26\"], [1.0, \"#f0f921\"]], \"type\": \"histogram2d\"}], \"histogram2dcontour\": [{\"colorbar\": {\"outlinewidth\": 0, \"ticks\": \"\"}, \"colorscale\": [[0.0, \"#0d0887\"], [0.1111111111111111, \"#46039f\"], [0.2222222222222222, \"#7201a8\"], [0.3333333333333333, \"#9c179e\"], [0.4444444444444444, \"#bd3786\"], [0.5555555555555556, \"#d8576b\"], [0.6666666666666666, \"#ed7953\"], [0.7777777777777778, \"#fb9f3a\"], [0.8888888888888888, \"#fdca26\"], [1.0, \"#f0f921\"]], \"type\": \"histogram2dcontour\"}], \"mesh3d\": [{\"colorbar\": {\"outlinewidth\": 0, \"ticks\": \"\"}, \"type\": \"mesh3d\"}], \"parcoords\": [{\"line\": {\"colorbar\": {\"outlinewidth\": 0, \"ticks\": \"\"}}, \"type\": \"parcoords\"}], \"pie\": [{\"automargin\": true, \"type\": \"pie\"}], \"scatter\": [{\"marker\": {\"colorbar\": {\"outlinewidth\": 0, \"ticks\": \"\"}}, \"type\": \"scatter\"}], \"scatter3d\": [{\"line\": {\"colorbar\": {\"outlinewidth\": 0, \"ticks\": \"\"}}, \"marker\": {\"colorbar\": {\"outlinewidth\": 0, \"ticks\": \"\"}}, \"type\": \"scatter3d\"}], \"scattercarpet\": [{\"marker\": {\"colorbar\": {\"outlinewidth\": 0, \"ticks\": \"\"}}, \"type\": \"scattercarpet\"}], \"scattergeo\": [{\"marker\": {\"colorbar\": {\"outlinewidth\": 0, \"ticks\": \"\"}}, \"type\": \"scattergeo\"}], \"scattergl\": [{\"marker\": {\"colorbar\": {\"outlinewidth\": 0, \"ticks\": \"\"}}, \"type\": \"scattergl\"}], \"scattermapbox\": [{\"marker\": {\"colorbar\": {\"outlinewidth\": 0, \"ticks\": \"\"}}, \"type\": \"scattermapbox\"}], \"scatterpolar\": [{\"marker\": {\"colorbar\": {\"outlinewidth\": 0, \"ticks\": \"\"}}, \"type\": \"scatterpolar\"}], \"scatterpolargl\": [{\"marker\": {\"colorbar\": {\"outlinewidth\": 0, \"ticks\": \"\"}}, \"type\": \"scatterpolargl\"}], \"scatterternary\": [{\"marker\": {\"colorbar\": {\"outlinewidth\": 0, \"ticks\": \"\"}}, \"type\": \"scatterternary\"}], \"surface\": [{\"colorbar\": {\"outlinewidth\": 0, \"ticks\": \"\"}, \"colorscale\": [[0.0, \"#0d0887\"], [0.1111111111111111, \"#46039f\"], [0.2222222222222222, \"#7201a8\"], [0.3333333333333333, \"#9c179e\"], [0.4444444444444444, \"#bd3786\"], [0.5555555555555556, \"#d8576b\"], [0.6666666666666666, \"#ed7953\"], [0.7777777777777778, \"#fb9f3a\"], [0.8888888888888888, \"#fdca26\"], [1.0, \"#f0f921\"]], \"type\": \"surface\"}], \"table\": [{\"cells\": {\"fill\": {\"color\": \"#EBF0F8\"}, \"line\": {\"color\": \"white\"}}, \"header\": {\"fill\": {\"color\": \"#C8D4E3\"}, \"line\": {\"color\": \"white\"}}, \"type\": \"table\"}]}, \"layout\": {\"annotationdefaults\": {\"arrowcolor\": \"#2a3f5f\", \"arrowhead\": 0, \"arrowwidth\": 1}, \"coloraxis\": {\"colorbar\": {\"outlinewidth\": 0, \"ticks\": \"\"}}, \"colorscale\": {\"diverging\": [[0, \"#8e0152\"], [0.1, \"#c51b7d\"], [0.2, \"#de77ae\"], [0.3, \"#f1b6da\"], [0.4, \"#fde0ef\"], [0.5, \"#f7f7f7\"], [0.6, \"#e6f5d0\"], [0.7, \"#b8e186\"], [0.8, \"#7fbc41\"], [0.9, \"#4d9221\"], [1, \"#276419\"]], \"sequential\": [[0.0, \"#0d0887\"], [0.1111111111111111, \"#46039f\"], [0.2222222222222222, \"#7201a8\"], [0.3333333333333333, \"#9c179e\"], [0.4444444444444444, \"#bd3786\"], [0.5555555555555556, \"#d8576b\"], [0.6666666666666666, \"#ed7953\"], [0.7777777777777778, \"#fb9f3a\"], [0.8888888888888888, \"#fdca26\"], [1.0, \"#f0f921\"]], \"sequentialminus\": [[0.0, \"#0d0887\"], [0.1111111111111111, \"#46039f\"], [0.2222222222222222, \"#7201a8\"], [0.3333333333333333, \"#9c179e\"], [0.4444444444444444, \"#bd3786\"], [0.5555555555555556, \"#d8576b\"], [0.6666666666666666, \"#ed7953\"], [0.7777777777777778, \"#fb9f3a\"], [0.8888888888888888, \"#fdca26\"], [1.0, \"#f0f921\"]]}, \"colorway\": [\"#636efa\", \"#EF553B\", \"#00cc96\", \"#ab63fa\", \"#FFA15A\", \"#19d3f3\", \"#FF6692\", \"#B6E880\", \"#FF97FF\", \"#FECB52\"], \"font\": {\"color\": \"#2a3f5f\"}, \"geo\": {\"bgcolor\": \"white\", \"lakecolor\": \"white\", \"landcolor\": \"#E5ECF6\", \"showlakes\": true, \"showland\": true, \"subunitcolor\": \"white\"}, \"hoverlabel\": {\"align\": \"left\"}, \"hovermode\": \"closest\", \"mapbox\": {\"style\": \"light\"}, \"paper_bgcolor\": \"white\", \"plot_bgcolor\": \"#E5ECF6\", \"polar\": {\"angularaxis\": {\"gridcolor\": \"white\", \"linecolor\": \"white\", \"ticks\": \"\"}, \"bgcolor\": \"#E5ECF6\", \"radialaxis\": {\"gridcolor\": \"white\", \"linecolor\": \"white\", \"ticks\": \"\"}}, \"scene\": {\"xaxis\": {\"backgroundcolor\": \"#E5ECF6\", \"gridcolor\": \"white\", \"gridwidth\": 2, \"linecolor\": \"white\", \"showbackground\": true, \"ticks\": \"\", \"zerolinecolor\": \"white\"}, \"yaxis\": {\"backgroundcolor\": \"#E5ECF6\", \"gridcolor\": \"white\", \"gridwidth\": 2, \"linecolor\": \"white\", \"showbackground\": true, \"ticks\": \"\", \"zerolinecolor\": \"white\"}, \"zaxis\": {\"backgroundcolor\": \"#E5ECF6\", \"gridcolor\": \"white\", \"gridwidth\": 2, \"linecolor\": \"white\", \"showbackground\": true, \"ticks\": \"\", \"zerolinecolor\": \"white\"}}, \"shapedefaults\": {\"line\": {\"color\": \"#2a3f5f\"}}, \"ternary\": {\"aaxis\": {\"gridcolor\": \"white\", \"linecolor\": \"white\", \"ticks\": \"\"}, \"baxis\": {\"gridcolor\": \"white\", \"linecolor\": \"white\", \"ticks\": \"\"}, \"bgcolor\": \"#E5ECF6\", \"caxis\": {\"gridcolor\": \"white\", \"linecolor\": \"white\", \"ticks\": \"\"}}, \"title\": {\"x\": 0.05}, \"xaxis\": {\"automargin\": true, \"gridcolor\": \"white\", \"linecolor\": \"white\", \"ticks\": \"\", \"title\": {\"standoff\": 15}, \"zerolinecolor\": \"white\", \"zerolinewidth\": 2}, \"yaxis\": {\"automargin\": true, \"gridcolor\": \"white\", \"linecolor\": \"white\", \"ticks\": \"\", \"title\": {\"standoff\": 15}, \"zerolinecolor\": \"white\", \"zerolinewidth\": 2}}}, \"title\": {\"text\": \"R0 overtime\", \"x\": 0.5, \"xanchor\": \"center\", \"y\": 0.9, \"yanchor\": \"top\"}, \"xaxis\": {\"title\": {\"text\": \"Time (days)\"}}},                        {\"responsive\": true}                    ).then(function(){\n",
       "                            \n",
       "var gd = document.getElementById('0be1edfa-ed4b-463d-9653-a00b723640e4');\n",
       "var x = new MutationObserver(function (mutations, observer) {{\n",
       "        var display = window.getComputedStyle(gd).display;\n",
       "        if (!display || display === 'none') {{\n",
       "            console.log([gd, 'removed!']);\n",
       "            Plotly.purge(gd);\n",
       "            observer.disconnect();\n",
       "        }}\n",
       "}});\n",
       "\n",
       "// Listen for the removal of the full notebook cells\n",
       "var notebookContainer = gd.closest('#notebook-container');\n",
       "if (notebookContainer) {{\n",
       "    x.observe(notebookContainer, {childList: true});\n",
       "}}\n",
       "\n",
       "// Listen for the clearing of the current output cell\n",
       "var outputEl = gd.closest('.output');\n",
       "if (outputEl) {{\n",
       "    x.observe(outputEl, {childList: true});\n",
       "}}\n",
       "\n",
       "                        })                };                });            </script>        </div>"
      ]
     },
     "metadata": {},
     "output_type": "display_data"
    }
   ],
   "source": [
    "#Introducing an R0 dynamic \n",
    "import numpy as np\n",
    "from scipy.integrate import odeint\n",
    "import plotly.graph_objects as go\n",
    "\n",
    "\n",
    "def deriv(y, t, N, beta, gamma, delta, alpha, rho):\n",
    "    S, E, I, R, D = y\n",
    "    dSdt = -beta(t) * S * I / N\n",
    "    dEdt = beta(t) * S * I / N - delta * E\n",
    "    dIdt = delta * E - (1 - alpha) * gamma * I - alpha * rho * I\n",
    "    dRdt = (1 - alpha) * gamma * I\n",
    "    dDdt = alpha * rho * I\n",
    "    return dSdt, dEdt, dIdt, dRdt, dDdt\n",
    "\n",
    "\n",
    "#population and parameters determine\n",
    "N = 55414\n",
    "D = 4.0    # infections lasts four days\n",
    "gamma = 1.0 / D\n",
    "delta = 1.0 / 5.0\n",
    "\n",
    "R_0_start, k, x0, R_0_end = 4.0, 0.5, 50, 0.5\n",
    "\n",
    "#defining the logistic R0\n",
    "def logistic_R_0(t):\n",
    "    return (R_0_start-R_0_end) / (1 + np.exp(-k*(-t+x0))) + R_0_end\n",
    "\n",
    "def beta(t):\n",
    "    return logistic_R_0(t) * gamma\n",
    "\n",
    "#more parameters\n",
    "alpha = 0.20  # 20% death rate\n",
    "rho = 1/25  # 9 days from infection until death\n",
    "S0, E0, I0, R0, D0 = N-1, 1, 0, 0, 0  # initial conditions: one exposed \n",
    "t = np.linspace(0, 89, 90) # Grid of time points (in days)\n",
    "y0 = S0, E0, I0, R0, D0 # Initial conditions vector\n",
    "\n",
    "\n",
    "# Integrate the SEIRD equations over the time grid, t.\n",
    "ret = odeint(deriv, y0, t, args=(N, beta, gamma, delta, alpha, rho))\n",
    "S, E, I, R, D = ret.T\n",
    "R0_over_time = [logistic_R_0(i) for i in range(len(t))]  # to plot R_0 over time: get function values\n",
    "\n",
    "\n",
    "#plot\n",
    "fig = go.Figure()\n",
    "fig.add_trace(go.Scatter(x=t, y=S, mode='lines',name='Susceptible'))\n",
    "fig.add_trace(go.Scatter(x=t, y=E, mode='lines',name='Exposed'))\n",
    "fig.add_trace(go.Scatter(x=t, y=I, mode='lines',name='Infected'))\n",
    "fig.add_trace(go.Scatter(x=t, y=R, mode='lines',name='Recovered'))\n",
    "fig.add_trace(go.Scatter(x=t, y=D, mode='lines',name='Dead'))\n",
    "fig.add_trace(go.Scatter(x=t, y=S+E+I+R+D, mode='lines+markers',name='Total'))\n",
    "\n",
    "\n",
    "fig.update_layout(\n",
    "     title={\n",
    "        'text': \"SEIRD MODEL\",\n",
    "        'y':0.9,\n",
    "        'x':0.5,\n",
    "        'xanchor': 'center',\n",
    "        'yanchor': 'top'},     \n",
    "    xaxis_title=\"Time (days)\",\n",
    "    yaxis_title=\"Population\",\n",
    "    legend_title=\"Variables\"\n",
    "    )\n",
    "fig.show()\n",
    "\n",
    "fig = go.Figure()\n",
    "fig.add_trace(go.Scatter(x=t, y=R0_over_time, mode='lines',name='R0'))\n",
    "fig.update_layout(\n",
    "   title={\n",
    "        'text': \"R0 overtime\",\n",
    "        'y':0.9,\n",
    "        'x':0.5,\n",
    "        'xanchor': 'center',\n",
    "        'yanchor': 'top'},\n",
    "   xaxis_title=\"Time (days)\",\n",
    "   showlegend=True  \n",
    "   )\n",
    "fig.show() "
   ]
  },
  {
   "cell_type": "markdown",
   "metadata": {},
   "source": [
    "# SEIR model with age ranfes and fatality rate"
   ]
  },
  {
   "cell_type": "code",
   "execution_count": 57,
   "metadata": {},
   "outputs": [
    {
     "data": {
      "application/vnd.plotly.v1+json": {
       "config": {
        "plotlyServerURL": "https://plot.ly"
       },
       "data": [
        {
         "mode": "lines",
         "name": "Susceptible",
         "type": "scatter",
         "x": [
          0,
          1.0084033613445378,
          2.0168067226890756,
          3.0252100840336134,
          4.033613445378151,
          5.042016806722689,
          6.050420168067227,
          7.0588235294117645,
          8.067226890756302,
          9.07563025210084,
          10.084033613445378,
          11.092436974789916,
          12.100840336134453,
          13.109243697478991,
          14.117647058823529,
          15.126050420168067,
          16.134453781512605,
          17.142857142857142,
          18.15126050420168,
          19.159663865546218,
          20.168067226890756,
          21.176470588235293,
          22.18487394957983,
          23.19327731092437,
          24.201680672268907,
          25.210084033613445,
          26.218487394957982,
          27.22689075630252,
          28.235294117647058,
          29.243697478991596,
          30.252100840336134,
          31.26050420168067,
          32.26890756302521,
          33.27731092436974,
          34.285714285714285,
          35.294117647058826,
          36.30252100840336,
          37.310924369747895,
          38.319327731092436,
          39.32773109243698,
          40.33613445378151,
          41.344537815126046,
          42.35294117647059,
          43.36134453781513,
          44.36974789915966,
          45.3781512605042,
          46.38655462184874,
          47.39495798319328,
          48.403361344537814,
          49.41176470588235,
          50.42016806722689,
          51.42857142857143,
          52.436974789915965,
          53.4453781512605,
          54.45378151260504,
          55.46218487394958,
          56.470588235294116,
          57.47899159663865,
          58.48739495798319,
          59.49579831932773,
          60.50420168067227,
          61.5126050420168,
          62.52100840336134,
          63.529411764705884,
          64.53781512605042,
          65.54621848739495,
          66.55462184873949,
          67.56302521008404,
          68.57142857142857,
          69.5798319327731,
          70.58823529411765,
          71.59663865546219,
          72.60504201680672,
          73.61344537815125,
          74.62184873949579,
          75.63025210084034,
          76.63865546218487,
          77.6470588235294,
          78.65546218487395,
          79.66386554621849,
          80.67226890756302,
          81.68067226890756,
          82.68907563025209,
          83.69747899159664,
          84.70588235294117,
          85.71428571428571,
          86.72268907563026,
          87.73109243697479,
          88.73949579831933,
          89.74789915966386,
          90.7563025210084,
          91.76470588235294,
          92.77310924369748,
          93.78151260504201,
          94.78991596638656,
          95.7983193277311,
          96.80672268907563,
          97.81512605042016,
          98.8235294117647,
          99.83193277310924,
          100.84033613445378,
          101.84873949579831,
          102.85714285714286,
          103.8655462184874,
          104.87394957983193,
          105.88235294117646,
          106.890756302521,
          107.89915966386555,
          108.90756302521008,
          109.91596638655462,
          110.92436974789916,
          111.9327731092437,
          112.94117647058823,
          113.94957983193277,
          114.9579831932773,
          115.96638655462185,
          116.97478991596638,
          117.98319327731092,
          118.99159663865547,
          120
         ],
         "y": [
          55413,
          55412.91035408012,
          55412.67316900802,
          55412.3094804697,
          55411.816605643275,
          55411.17610708707,
          55410.35693105031,
          55409.31581667924,
          55407.99598590421,
          55406.32454801536,
          55404.20873552102,
          55401.53089696358,
          55398.14203938528,
          55393.85360088355,
          55388.42702170579,
          55381.56055437041,
          55372.87260493615,
          55361.880714272105,
          55347.97506075795,
          55330.38510338041,
          55308.13763988715,
          55280.00417064413,
          55244.434992888404,
          55199.4769197651,
          55142.67094526194,
          55070.92558790211,
          54980.36112698143,
          54866.11963498788,
          54722.13585000018,
          54540.86492187007,
          54312.96550772648,
          54026.941600606646,
          53668.755090937186,
          53221.43550995404,
          52664.73593530674,
          51974.91727597777,
          51124.78988217757,
          50084.20099550966,
          48821.22420035079,
          47304.36672609231,
          45506.12870360466,
          43408.16776403836,
          41008.060590514455,
          38327.119269737435,
          35417.862664267726,
          32368.636504702405,
          29301.862242814823,
          26362.272815888395,
          23693.606126252627,
          21407.833422368145,
          19558.659118650226,
          18133.769677519904,
          17070.838361910217,
          16286.458717376332,
          15701.294419269683,
          15252.805768571814,
          14897.165005147544,
          14605.797267022863,
          14360.750990577111,
          14150.818026145302,
          13968.83736993311,
          13810.005313681493,
          13670.882317175956,
          13548.8335117967,
          13441.721784751197,
          13347.741461146996,
          13265.327591943493,
          13193.104787186141,
          13129.856273244346,
          13074.503148673919,
          13026.088806998623,
          12983.766063546063,
          12946.78586344908,
          12914.487068469962,
          12886.287113028446,
          12861.67345096361,
          12840.195750372008,
          12821.4588090294,
          12805.116160265272,
          12790.864329826018,
          12778.43770200143,
          12767.603947292808,
          12758.159964328428,
          12749.9282877168,
          12742.753916177557,
          12736.501517046905,
          12731.052966786763,
          12726.30519003264,
          12722.16826330169,
          12718.563752566097,
          12715.423257144334,
          12712.687135267186,
          12710.303389328275,
          12708.226691359067,
          12706.417531493289,
          12704.841474197945,
          12703.46850885983,
          12702.27248294193,
          12701.230607337151,
          12700.323024821617,
          12699.532433630475,
          12698.843759187914,
          12698.243867857896,
          12697.721317389756,
          12697.266139329,
          12696.869649428289,
          12696.524282333474,
          12696.22344755224,
          12695.961403917525,
          12695.733150203678,
          12695.534329812825,
          12695.361147722751,
          12695.210298131937,
          12695.078901415121,
          12694.964449197716,
          12694.864756509145,
          12694.777920095112,
          12694.702282101209,
          12694.636398441435,
          12694.579011235332
         ]
        },
        {
         "mode": "lines",
         "name": "Exposed",
         "type": "scatter",
         "x": [
          0,
          1.0084033613445378,
          2.0168067226890756,
          3.0252100840336134,
          4.033613445378151,
          5.042016806722689,
          6.050420168067227,
          7.0588235294117645,
          8.067226890756302,
          9.07563025210084,
          10.084033613445378,
          11.092436974789916,
          12.100840336134453,
          13.109243697478991,
          14.117647058823529,
          15.126050420168067,
          16.134453781512605,
          17.142857142857142,
          18.15126050420168,
          19.159663865546218,
          20.168067226890756,
          21.176470588235293,
          22.18487394957983,
          23.19327731092437,
          24.201680672268907,
          25.210084033613445,
          26.218487394957982,
          27.22689075630252,
          28.235294117647058,
          29.243697478991596,
          30.252100840336134,
          31.26050420168067,
          32.26890756302521,
          33.27731092436974,
          34.285714285714285,
          35.294117647058826,
          36.30252100840336,
          37.310924369747895,
          38.319327731092436,
          39.32773109243698,
          40.33613445378151,
          41.344537815126046,
          42.35294117647059,
          43.36134453781513,
          44.36974789915966,
          45.3781512605042,
          46.38655462184874,
          47.39495798319328,
          48.403361344537814,
          49.41176470588235,
          50.42016806722689,
          51.42857142857143,
          52.436974789915965,
          53.4453781512605,
          54.45378151260504,
          55.46218487394958,
          56.470588235294116,
          57.47899159663865,
          58.48739495798319,
          59.49579831932773,
          60.50420168067227,
          61.5126050420168,
          62.52100840336134,
          63.529411764705884,
          64.53781512605042,
          65.54621848739495,
          66.55462184873949,
          67.56302521008404,
          68.57142857142857,
          69.5798319327731,
          70.58823529411765,
          71.59663865546219,
          72.60504201680672,
          73.61344537815125,
          74.62184873949579,
          75.63025210084034,
          76.63865546218487,
          77.6470588235294,
          78.65546218487395,
          79.66386554621849,
          80.67226890756302,
          81.68067226890756,
          82.68907563025209,
          83.69747899159664,
          84.70588235294117,
          85.71428571428571,
          86.72268907563026,
          87.73109243697479,
          88.73949579831933,
          89.74789915966386,
          90.7563025210084,
          91.76470588235294,
          92.77310924369748,
          93.78151260504201,
          94.78991596638656,
          95.7983193277311,
          96.80672268907563,
          97.81512605042016,
          98.8235294117647,
          99.83193277310924,
          100.84033613445378,
          101.84873949579831,
          102.85714285714286,
          103.8655462184874,
          104.87394957983193,
          105.88235294117646,
          106.890756302521,
          107.89915966386555,
          108.90756302521008,
          109.91596638655462,
          110.92436974789916,
          111.9327731092437,
          112.94117647058823,
          113.94957983193277,
          114.9579831932773,
          115.96638655462185,
          116.97478991596638,
          117.98319327731092,
          118.99159663865547,
          120
         ],
         "y": [
          1,
          0.9011028031062928,
          0.9533191396938319,
          1.1104544328615051,
          1.3560575669247459,
          1.6908734685529845,
          2.1269135473937038,
          2.6850590339285447,
          3.394649085387564,
          4.294304443245846,
          5.433658974185286,
          6.875902914014442,
          8.70117908279434,
          11.010967316076586,
          13.933669421273187,
          17.631683758775992,
          22.310341348338646,
          28.22917370981616,
          35.7161019369969,
          45.18527157889653,
          57.15943233328885,
          72.29795086365658,
          91.43176784788564,
          115.60685079910554,
          146.1379325251095,
          184.674529256014,
          233.28133733083405,
          294.53499856034216,
          371.63872777878913,
          468.55510556567833,
          590.1550477409332,
          742.3768348324471,
          932.3823226971319,
          1168.6866259166557,
          1461.2213610440854,
          1821.2684778746918,
          2261.1707809024992,
          2793.6881743139074,
          3430.831340309722,
          4181.981543060474,
          5051.124640497363,
          6033.133995066837,
          7109.289423261665,
          8242.673239725054,
          9374.7489454257,
          10425.19391637892,
          11297.591107375909,
          11893.19639056041,
          12132.635781235651,
          11980.278256844213,
          11460.061962413529,
          10651.266352896318,
          9663.592745313415,
          8605.344240272685,
          7561.062624883183,
          6584.5407002150405,
          5702.82758361587,
          4924.288722457345,
          4246.208462842739,
          3660.3101466164285,
          3156.196105238909,
          2723.2525036579095,
          2351.579805756905,
          2032.364029065775,
          1757.9535990247168,
          1521.7961215976952,
          1318.3189606145525,
          1142.7962079739407,
          991.2218445806847,
          860.1969344411676,
          746.8327976276466,
          648.6694424984756,
          563.6074761098433,
          489.85147771985504,
          425.86292810211216,
          370.32102434858297,
          322.08997134584104,
          280.19159716013047,
          243.78234344220886,
          212.1338711552321,
          184.61665656082553,
          160.68607606450644,
          139.87056690592212,
          121.76152962200783,
          106.0046945371683,
          92.29272503419773,
          80.35886792120458,
          69.97149388356523,
          60.92939584359527,
          53.057734691837325,
          46.204538983338026,
          40.23767994910375,
          35.04225453517515,
          30.51831982128593,
          26.578930011959592,
          23.14843464887388,
          20.161002324626974,
          17.559339477922407,
          15.293577955314607,
          13.32030869142908,
          11.601742133352307,
          10.104978445189854,
          8.801373085128155,
          7.665985099746808,
          6.677097161276586,
          5.815798268273743,
          5.065620428831827,
          4.412222632185574,
          3.8431158058341968,
          3.3474233688058614,
          2.9156728585984464,
          2.5396145140300006,
          2.2120633212402265,
          1.926761511992526,
          1.6782588358934631,
          1.4618082945805266,
          1.273275367868847,
          1.1090589623823386,
          0.9660225557730436,
          0.8414342571832591
         ]
        },
        {
         "mode": "lines",
         "name": "Infected",
         "type": "scatter",
         "x": [
          0,
          1.0084033613445378,
          2.0168067226890756,
          3.0252100840336134,
          4.033613445378151,
          5.042016806722689,
          6.050420168067227,
          7.0588235294117645,
          8.067226890756302,
          9.07563025210084,
          10.084033613445378,
          11.092436974789916,
          12.100840336134453,
          13.109243697478991,
          14.117647058823529,
          15.126050420168067,
          16.134453781512605,
          17.142857142857142,
          18.15126050420168,
          19.159663865546218,
          20.168067226890756,
          21.176470588235293,
          22.18487394957983,
          23.19327731092437,
          24.201680672268907,
          25.210084033613445,
          26.218487394957982,
          27.22689075630252,
          28.235294117647058,
          29.243697478991596,
          30.252100840336134,
          31.26050420168067,
          32.26890756302521,
          33.27731092436974,
          34.285714285714285,
          35.294117647058826,
          36.30252100840336,
          37.310924369747895,
          38.319327731092436,
          39.32773109243698,
          40.33613445378151,
          41.344537815126046,
          42.35294117647059,
          43.36134453781513,
          44.36974789915966,
          45.3781512605042,
          46.38655462184874,
          47.39495798319328,
          48.403361344537814,
          49.41176470588235,
          50.42016806722689,
          51.42857142857143,
          52.436974789915965,
          53.4453781512605,
          54.45378151260504,
          55.46218487394958,
          56.470588235294116,
          57.47899159663865,
          58.48739495798319,
          59.49579831932773,
          60.50420168067227,
          61.5126050420168,
          62.52100840336134,
          63.529411764705884,
          64.53781512605042,
          65.54621848739495,
          66.55462184873949,
          67.56302521008404,
          68.57142857142857,
          69.5798319327731,
          70.58823529411765,
          71.59663865546219,
          72.60504201680672,
          73.61344537815125,
          74.62184873949579,
          75.63025210084034,
          76.63865546218487,
          77.6470588235294,
          78.65546218487395,
          79.66386554621849,
          80.67226890756302,
          81.68067226890756,
          82.68907563025209,
          83.69747899159664,
          84.70588235294117,
          85.71428571428571,
          86.72268907563026,
          87.73109243697479,
          88.73949579831933,
          89.74789915966386,
          90.7563025210084,
          91.76470588235294,
          92.77310924369748,
          93.78151260504201,
          94.78991596638656,
          95.7983193277311,
          96.80672268907563,
          97.81512605042016,
          98.8235294117647,
          99.83193277310924,
          100.84033613445378,
          101.84873949579831,
          102.85714285714286,
          103.8655462184874,
          104.87394957983193,
          105.88235294117646,
          106.890756302521,
          107.89915966386555,
          108.90756302521008,
          109.91596638655462,
          110.92436974789916,
          111.9327731092437,
          112.94117647058823,
          113.94957983193277,
          114.9579831932773,
          115.96638655462185,
          116.97478991596638,
          117.98319327731092,
          118.99159663865547,
          120
         ],
         "y": [
          0,
          0.1681286530164099,
          0.29908466557706453,
          0.42281687064021717,
          0.5578476862875105,
          0.7176700755568377,
          0.9142532252649698,
          1.1601228123063885,
          1.469784069489671,
          1.860901555610769,
          2.355473035583664,
          2.9811506989396723,
          3.7728279851075577,
          4.774602658599765,
          6.042235661564477,
          7.646246432312672,
          9.675815777778416,
          12.243708403938804,
          15.492479985535972,
          19.60229570777755,
          24.80076959199733,
          31.37532689499854,
          39.688706194599916,
          50.19835057749293,
          63.48058458149304,
          80.26063337561024,
          101.44969454601863,
          128.19039855320497,
          161.9120386325747,
          204.39684115413738,
          257.85814939239856,
          325.0305026683218,
          409.26992211605955,
          514.6597941896156,
          646.1129872177285,
          809.4535884407228,
          1011.4508486112732,
          1259.7633197503264,
          1562.7325675599504,
          1928.9454276838949,
          2366.4667828541856,
          2881.642071809837,
          3477.3984494705296,
          4151.060733876318,
          4891.869475933737,
          5678.656928959044,
          6478.474111765276,
          7247.254656564496,
          7933.595689746544,
          8486.053750838922,
          8862.741201664738,
          9040.06087868453,
          9016.848631681298,
          8812.260106825865,
          8459.052013787517,
          7995.649827900569,
          7459.710217673434,
          6884.191377228058,
          6295.680026159844,
          5714.2450229573715,
          5154.115983502826,
          4624.691345856727,
          4131.5858984671595,
          3677.5748212045555,
          3263.381286106927,
          2888.3021079494665,
          2550.687844944621,
          2248.3013665926187,
          1978.5793605626513,
          1738.818604642398,
          1526.3051543825497,
          1338.4009957885612,
          1172.5994605107464,
          1026.5580566447752,
          898.1152453686392,
          785.2959953940541,
          686.3097473187646,
          599.5433744161317,
          523.5510622617834,
          457.0424394624747,
          398.86992742963815,
          348.01595405208263,
          303.5804767534565,
          264.7690895929217,
          230.88188741918077,
          201.3031725062211,
          175.49203808800684,
          152.97382181843872,
          133.33239997314647,
          116.20327575525215,
          101.26740715281387,
          88.24571489130014,
          76.89421064341114,
          66.9996861927333,
          58.375907504059676,
          50.86026053893384,
          44.310799989035246,
          38.60365598804054,
          33.630758035478976,
          29.29783937452694,
          25.52268863053974,
          22.233619449504896,
          19.368131585646925,
          16.87174034086895,
          14.696953447563796,
          12.802377583740792,
          11.151937944348354,
          9.714197124693934,
          8.461760590097235,
          7.370758072707941,
          6.420391129796167,
          5.592538547362685,
          4.871412313514985,
          4.2432576136225455,
          3.6960913024412045,
          3.2194739823954697,
          2.80431129733515,
          2.442680762661132,
          2.1276809069380778,
          1.8532997352017961
         ]
        },
        {
         "mode": "lines",
         "name": "Recovered",
         "type": "scatter",
         "x": [
          0,
          1.0084033613445378,
          2.0168067226890756,
          3.0252100840336134,
          4.033613445378151,
          5.042016806722689,
          6.050420168067227,
          7.0588235294117645,
          8.067226890756302,
          9.07563025210084,
          10.084033613445378,
          11.092436974789916,
          12.100840336134453,
          13.109243697478991,
          14.117647058823529,
          15.126050420168067,
          16.134453781512605,
          17.142857142857142,
          18.15126050420168,
          19.159663865546218,
          20.168067226890756,
          21.176470588235293,
          22.18487394957983,
          23.19327731092437,
          24.201680672268907,
          25.210084033613445,
          26.218487394957982,
          27.22689075630252,
          28.235294117647058,
          29.243697478991596,
          30.252100840336134,
          31.26050420168067,
          32.26890756302521,
          33.27731092436974,
          34.285714285714285,
          35.294117647058826,
          36.30252100840336,
          37.310924369747895,
          38.319327731092436,
          39.32773109243698,
          40.33613445378151,
          41.344537815126046,
          42.35294117647059,
          43.36134453781513,
          44.36974789915966,
          45.3781512605042,
          46.38655462184874,
          47.39495798319328,
          48.403361344537814,
          49.41176470588235,
          50.42016806722689,
          51.42857142857143,
          52.436974789915965,
          53.4453781512605,
          54.45378151260504,
          55.46218487394958,
          56.470588235294116,
          57.47899159663865,
          58.48739495798319,
          59.49579831932773,
          60.50420168067227,
          61.5126050420168,
          62.52100840336134,
          63.529411764705884,
          64.53781512605042,
          65.54621848739495,
          66.55462184873949,
          67.56302521008404,
          68.57142857142857,
          69.5798319327731,
          70.58823529411765,
          71.59663865546219,
          72.60504201680672,
          73.61344537815125,
          74.62184873949579,
          75.63025210084034,
          76.63865546218487,
          77.6470588235294,
          78.65546218487395,
          79.66386554621849,
          80.67226890756302,
          81.68067226890756,
          82.68907563025209,
          83.69747899159664,
          84.70588235294117,
          85.71428571428571,
          86.72268907563026,
          87.73109243697479,
          88.73949579831933,
          89.74789915966386,
          90.7563025210084,
          91.76470588235294,
          92.77310924369748,
          93.78151260504201,
          94.78991596638656,
          95.7983193277311,
          96.80672268907563,
          97.81512605042016,
          98.8235294117647,
          99.83193277310924,
          100.84033613445378,
          101.84873949579831,
          102.85714285714286,
          103.8655462184874,
          104.87394957983193,
          105.88235294117646,
          106.890756302521,
          107.89915966386555,
          108.90756302521008,
          109.91596638655462,
          110.92436974789916,
          111.9327731092437,
          112.94117647058823,
          113.94957983193277,
          114.9579831932773,
          115.96638655462185,
          116.97478991596638,
          117.98319327731092,
          118.99159663865547,
          120
         ],
         "y": [
          0,
          0.020033999215986822,
          0.07304008636028046,
          0.15431758931203515,
          0.26446663040172486,
          0.40760849406914196,
          0.5906845114881732,
          0.8233649797679936,
          1.1183425315844746,
          1.4919130982835511,
          1.9648186258578446,
          2.563368498519308,
          3.320886550630482,
          4.279555965559211,
          5.492759916344614,
          7.028045254224119,
          8.970871059859132,
          11.42934699710663,
          14.54022073153046,
          18.476437792623543,
          23.456683118741246,
          29.757413352464994,
          37.72801537692655,
          47.809880707354864,
          60.56036954156971,
          76.68285831054669,
          97.06431998361009,
          122.82217404143522,
          155.3624488046318,
          196.45160306112092,
          248.30459666671882,
          313.69190829724835,
          396.0680179578112,
          499.72318407536375,
          629.9588019045024,
          793.2837524745671,
          997.6242400188976,
          1252.5318615729152,
          1569.3631519950181,
          1961.3878946062555,
          2443.76323143827,
          3033.287934099923,
          3747.83123909153,
          4605.323484680968,
          5622.217386517353,
          6811.399771737861,
          8179.673487233377,
          9725.142723983405,
          11435.084980487742,
          13285.07331876748,
          15240.034834763977,
          17257.432940192317,
          19291.946640962546,
          21300.37225954379,
          23245.478012625343,
          25098.15435527786,
          26837.92099468598,
          28452.26912725064,
          29935.387327046265,
          31286.697227578636,
          32509.45908762327,
          33609.57256232279,
          34594.61087719908,
          35473.079516775855,
          36253.869272643715,
          36945.86757977342,
          37557.69355742589,
          38097.52681737738,
          38573.005581280224,
          38991.17484595628,
          39358.46982183116,
          39680.723494149104,
          39963.19007172468,
          40210.578302087786,
          40427.090321217096,
          40616.46301095282,
          40782.009722822535,
          40926.660986915515,
          41053.00327883756,
          41163.31532055164,
          41259.60161869638,
          41343.62314571023,
          41416.92517771964,
          41480.862394431875,
          41536.62138824628,
          41585.240764543196,
          41627.62902490672,
          41664.58043079179,
          41696.78903909212,
          41724.861093962616,
          41749.325947045465,
          41770.64566574972,
          41789.22347586905,
          41805.411171386404,
          41819.51561124919,
          41831.80441078207,
          41842.510923852315,
          41851.83860129513,
          41859.96480159878,
          41867.044121069,
          41873.21130288278,
          41878.58377722866,
          41883.26387874443,
          41887.340781562336,
          41890.89218788983,
          41893.98580040507,
          41896.68060690765,
          41899.028000218044,
          41901.072754734785,
          41902.853877696776,
          41904.40535121585,
          41905.75677905649,
          41906.93395026527,
          41907.959330391364,
          41908.85248953744,
          41909.63047531014,
          41910.308137815184,
          41910.89841281698,
          41911.412568399544,
          41911.86041992298
         ]
        },
        {
         "mode": "lines",
         "name": "Dead",
         "type": "scatter",
         "x": [
          0,
          1.0084033613445378,
          2.0168067226890756,
          3.0252100840336134,
          4.033613445378151,
          5.042016806722689,
          6.050420168067227,
          7.0588235294117645,
          8.067226890756302,
          9.07563025210084,
          10.084033613445378,
          11.092436974789916,
          12.100840336134453,
          13.109243697478991,
          14.117647058823529,
          15.126050420168067,
          16.134453781512605,
          17.142857142857142,
          18.15126050420168,
          19.159663865546218,
          20.168067226890756,
          21.176470588235293,
          22.18487394957983,
          23.19327731092437,
          24.201680672268907,
          25.210084033613445,
          26.218487394957982,
          27.22689075630252,
          28.235294117647058,
          29.243697478991596,
          30.252100840336134,
          31.26050420168067,
          32.26890756302521,
          33.27731092436974,
          34.285714285714285,
          35.294117647058826,
          36.30252100840336,
          37.310924369747895,
          38.319327731092436,
          39.32773109243698,
          40.33613445378151,
          41.344537815126046,
          42.35294117647059,
          43.36134453781513,
          44.36974789915966,
          45.3781512605042,
          46.38655462184874,
          47.39495798319328,
          48.403361344537814,
          49.41176470588235,
          50.42016806722689,
          51.42857142857143,
          52.436974789915965,
          53.4453781512605,
          54.45378151260504,
          55.46218487394958,
          56.470588235294116,
          57.47899159663865,
          58.48739495798319,
          59.49579831932773,
          60.50420168067227,
          61.5126050420168,
          62.52100840336134,
          63.529411764705884,
          64.53781512605042,
          65.54621848739495,
          66.55462184873949,
          67.56302521008404,
          68.57142857142857,
          69.5798319327731,
          70.58823529411765,
          71.59663865546219,
          72.60504201680672,
          73.61344537815125,
          74.62184873949579,
          75.63025210084034,
          76.63865546218487,
          77.6470588235294,
          78.65546218487395,
          79.66386554621849,
          80.67226890756302,
          81.68067226890756,
          82.68907563025209,
          83.69747899159664,
          84.70588235294117,
          85.71428571428571,
          86.72268907563026,
          87.73109243697479,
          88.73949579831933,
          89.74789915966386,
          90.7563025210084,
          91.76470588235294,
          92.77310924369748,
          93.78151260504201,
          94.78991596638656,
          95.7983193277311,
          96.80672268907563,
          97.81512605042016,
          98.8235294117647,
          99.83193277310924,
          100.84033613445378,
          101.84873949579831,
          102.85714285714286,
          103.8655462184874,
          104.87394957983193,
          105.88235294117646,
          106.890756302521,
          107.89915966386555,
          108.90756302521008,
          109.91596638655462,
          110.92436974789916,
          111.9327731092437,
          112.94117647058823,
          113.94957983193277,
          114.9579831932773,
          115.96638655462185,
          116.97478991596638,
          117.98319327731092,
          118.99159663865547,
          120
         ],
         "y": [
          0,
          0.0003804645320796243,
          0.0013871003396743347,
          0.0029306374760639064,
          0.005022473108246417,
          0.0077408747526520735,
          0.011217665556108671,
          0.015636494761017066,
          0.02123840934818563,
          0.028332887517928024,
          0.03731384337368802,
          0.04868092495621242,
          0.06306699619718431,
          0.08127317622503051,
          0.10431329504247111,
          0.1334701843015289,
          0.17036687789060698,
          0.21705661704999066,
          0.2761365880058244,
          0.350891540312845,
          0.4454750688414177,
          0.5651382447580601,
          0.7165176921946463,
          0.9079981509624815,
          1.1501680899028455,
          1.4563911557278006,
          1.843521158122583,
          2.332793857144226,
          2.9509347838316686,
          3.7315283490127515,
          4.716698473476542,
          5.9591535953471615,
          7.52464629182581,
          9.494885864333467,
          11.970914526961227,
          15.07690523226339,
          18.964248289768562,
          23.81564885319442,
          29.848739784510506,
          37.31840855705334,
          46.516641605510486,
          57.76823498503439,
          71.42029766180661,
          87.82327198021332,
          107.30152785547104,
          130.1128782217554,
          156.3990508106,
          186.13341300327966,
          219.0774222774258,
          254.7612511812292,
          292.50288250752357,
          331.4701507069254,
          370.7736201325134,
          409.5646759813104,
          447.11292943425025,
          482.84934803469434,
          516.3761988771518,
          547.4535060410706,
          575.9731933740261,
          601.9295767022467,
          625.3914537018708,
          646.478274481059,
          665.3411014008893,
          682.1481211570934,
          697.0740574734194,
          710.2927295323981,
          721.972045071407,
          732.2708208698729,
          741.3369403320468,
          749.3064662861865,
          756.3034191599778,
          762.4400040177416,
          767.817128205591,
          772.5250950775684,
          776.6443922836503,
          780.2465183408704,
          783.3948081407966,
          786.1452324787655,
          788.5471551931164,
          790.6440390045741,
          792.4740953116738,
          794.07087688032,
          795.4638142924978,
          796.6786986363404,
          797.7381136197558,
          798.6618208694248,
          799.4671022972557,
          800.1690634735149,
          800.7809017894045,
          801.3141430241578,
          801.778849674011,
          802.1838041426558,
          802.5366696240593,
          802.8441312404767,
          803.1120197414648,
          803.3454198321441,
          803.5487649741556,
          803.7259202969457,
          803.8802550732471,
          804.0147060433941,
          804.1318327228208,
          804.2338656887006,
          804.3227487268716,
          804.4001756072713,
          804.467622172304,
          804.5263743146046,
          804.5775523856721,
          804.622132472814,
          804.660964951736,
          804.6947906580073,
          804.7242549828998,
          804.7499201593359,
          804.7722759680138,
          804.7917490678698,
          804.8087111264749,
          804.8234859037086,
          804.8363554244743,
          804.8475653567382,
          804.8573296962848,
          804.8658348492728
         ]
        },
        {
         "mode": "lines+markers",
         "name": "Total",
         "type": "scatter",
         "x": [
          0,
          1.0084033613445378,
          2.0168067226890756,
          3.0252100840336134,
          4.033613445378151,
          5.042016806722689,
          6.050420168067227,
          7.0588235294117645,
          8.067226890756302,
          9.07563025210084,
          10.084033613445378,
          11.092436974789916,
          12.100840336134453,
          13.109243697478991,
          14.117647058823529,
          15.126050420168067,
          16.134453781512605,
          17.142857142857142,
          18.15126050420168,
          19.159663865546218,
          20.168067226890756,
          21.176470588235293,
          22.18487394957983,
          23.19327731092437,
          24.201680672268907,
          25.210084033613445,
          26.218487394957982,
          27.22689075630252,
          28.235294117647058,
          29.243697478991596,
          30.252100840336134,
          31.26050420168067,
          32.26890756302521,
          33.27731092436974,
          34.285714285714285,
          35.294117647058826,
          36.30252100840336,
          37.310924369747895,
          38.319327731092436,
          39.32773109243698,
          40.33613445378151,
          41.344537815126046,
          42.35294117647059,
          43.36134453781513,
          44.36974789915966,
          45.3781512605042,
          46.38655462184874,
          47.39495798319328,
          48.403361344537814,
          49.41176470588235,
          50.42016806722689,
          51.42857142857143,
          52.436974789915965,
          53.4453781512605,
          54.45378151260504,
          55.46218487394958,
          56.470588235294116,
          57.47899159663865,
          58.48739495798319,
          59.49579831932773,
          60.50420168067227,
          61.5126050420168,
          62.52100840336134,
          63.529411764705884,
          64.53781512605042,
          65.54621848739495,
          66.55462184873949,
          67.56302521008404,
          68.57142857142857,
          69.5798319327731,
          70.58823529411765,
          71.59663865546219,
          72.60504201680672,
          73.61344537815125,
          74.62184873949579,
          75.63025210084034,
          76.63865546218487,
          77.6470588235294,
          78.65546218487395,
          79.66386554621849,
          80.67226890756302,
          81.68067226890756,
          82.68907563025209,
          83.69747899159664,
          84.70588235294117,
          85.71428571428571,
          86.72268907563026,
          87.73109243697479,
          88.73949579831933,
          89.74789915966386,
          90.7563025210084,
          91.76470588235294,
          92.77310924369748,
          93.78151260504201,
          94.78991596638656,
          95.7983193277311,
          96.80672268907563,
          97.81512605042016,
          98.8235294117647,
          99.83193277310924,
          100.84033613445378,
          101.84873949579831,
          102.85714285714286,
          103.8655462184874,
          104.87394957983193,
          105.88235294117646,
          106.890756302521,
          107.89915966386555,
          108.90756302521008,
          109.91596638655462,
          110.92436974789916,
          111.9327731092437,
          112.94117647058823,
          113.94957983193277,
          114.9579831932773,
          115.96638655462185,
          116.97478991596638,
          117.98319327731092,
          118.99159663865547,
          120
         ],
         "y": [
          55414,
          55413.99999999999,
          55413.999999999985,
          55413.99999999999,
          55414,
          55414,
          55414.00000000001,
          55414.00000000001,
          55414.00000000001,
          55414.000000000015,
          55414.000000000015,
          55414.000000000015,
          55414.000000000015,
          55414.000000000015,
          55414.00000000002,
          55414.000000000015,
          55414.00000000002,
          55414.00000000002,
          55414.000000000015,
          55414.00000000003,
          55414.000000000015,
          55414.000000000015,
          55414,
          55414.000000000015,
          55414.000000000015,
          55414.00000000001,
          55414.000000000015,
          55414.00000000001,
          55414.00000000001,
          55414.00000000001,
          55414.000000000015,
          55414,
          55414.000000000015,
          55414.000000000015,
          55414.000000000015,
          55414.00000000002,
          55414.000000000015,
          55414,
          55413.99999999999,
          55413.999999999985,
          55413.99999999999,
          55413.999999999985,
          55413.999999999985,
          55413.99999999998,
          55413.99999999999,
          55413.99999999998,
          55413.99999999998,
          55413.999999999985,
          55413.99999999999,
          55413.999999999985,
          55413.99999999999,
          55414,
          55413.99999999999,
          55413.999999999985,
          55413.99999999998,
          55413.99999999998,
          55413.99999999998,
          55413.99999999998,
          55413.999999999985,
          55413.99999999999,
          55413.999999999985,
          55413.99999999998,
          55413.999999999985,
          55413.99999999998,
          55413.99999999998,
          55413.99999999997,
          55413.99999999996,
          55413.999999999956,
          55413.99999999995,
          55413.999999999956,
          55413.99999999996,
          55413.99999999995,
          55413.99999999994,
          55413.99999999994,
          55413.99999999994,
          55413.99999999994,
          55413.99999999994,
          55413.99999999994,
          55413.99999999994,
          55413.99999999994,
          55413.99999999995,
          55413.99999999995,
          55413.99999999994,
          55413.99999999994,
          55413.99999999995,
          55413.99999999995,
          55413.99999999995,
          55413.999999999956,
          55413.99999999995,
          55413.99999999996,
          55413.99999999996,
          55413.999999999956,
          55413.99999999997,
          55413.99999999996,
          55413.99999999996,
          55413.99999999996,
          55413.99999999996,
          55413.99999999997,
          55413.99999999997,
          55413.99999999996,
          55413.99999999997,
          55413.99999999997,
          55413.99999999998,
          55413.99999999998,
          55413.99999999998,
          55413.99999999998,
          55413.99999999997,
          55413.99999999997,
          55413.99999999997,
          55413.99999999998,
          55413.99999999997,
          55413.99999999998,
          55413.99999999998,
          55413.99999999997,
          55413.99999999997,
          55413.99999999998,
          55413.99999999997,
          55413.99999999997,
          55413.99999999998,
          55413.99999999997
         ]
        }
       ],
       "layout": {
        "legend": {
         "title": {
          "text": "Variables"
         }
        },
        "template": {
         "data": {
          "bar": [
           {
            "error_x": {
             "color": "#2a3f5f"
            },
            "error_y": {
             "color": "#2a3f5f"
            },
            "marker": {
             "line": {
              "color": "#E5ECF6",
              "width": 0.5
             }
            },
            "type": "bar"
           }
          ],
          "barpolar": [
           {
            "marker": {
             "line": {
              "color": "#E5ECF6",
              "width": 0.5
             }
            },
            "type": "barpolar"
           }
          ],
          "carpet": [
           {
            "aaxis": {
             "endlinecolor": "#2a3f5f",
             "gridcolor": "white",
             "linecolor": "white",
             "minorgridcolor": "white",
             "startlinecolor": "#2a3f5f"
            },
            "baxis": {
             "endlinecolor": "#2a3f5f",
             "gridcolor": "white",
             "linecolor": "white",
             "minorgridcolor": "white",
             "startlinecolor": "#2a3f5f"
            },
            "type": "carpet"
           }
          ],
          "choropleth": [
           {
            "colorbar": {
             "outlinewidth": 0,
             "ticks": ""
            },
            "type": "choropleth"
           }
          ],
          "contour": [
           {
            "colorbar": {
             "outlinewidth": 0,
             "ticks": ""
            },
            "colorscale": [
             [
              0,
              "#0d0887"
             ],
             [
              0.1111111111111111,
              "#46039f"
             ],
             [
              0.2222222222222222,
              "#7201a8"
             ],
             [
              0.3333333333333333,
              "#9c179e"
             ],
             [
              0.4444444444444444,
              "#bd3786"
             ],
             [
              0.5555555555555556,
              "#d8576b"
             ],
             [
              0.6666666666666666,
              "#ed7953"
             ],
             [
              0.7777777777777778,
              "#fb9f3a"
             ],
             [
              0.8888888888888888,
              "#fdca26"
             ],
             [
              1,
              "#f0f921"
             ]
            ],
            "type": "contour"
           }
          ],
          "contourcarpet": [
           {
            "colorbar": {
             "outlinewidth": 0,
             "ticks": ""
            },
            "type": "contourcarpet"
           }
          ],
          "heatmap": [
           {
            "colorbar": {
             "outlinewidth": 0,
             "ticks": ""
            },
            "colorscale": [
             [
              0,
              "#0d0887"
             ],
             [
              0.1111111111111111,
              "#46039f"
             ],
             [
              0.2222222222222222,
              "#7201a8"
             ],
             [
              0.3333333333333333,
              "#9c179e"
             ],
             [
              0.4444444444444444,
              "#bd3786"
             ],
             [
              0.5555555555555556,
              "#d8576b"
             ],
             [
              0.6666666666666666,
              "#ed7953"
             ],
             [
              0.7777777777777778,
              "#fb9f3a"
             ],
             [
              0.8888888888888888,
              "#fdca26"
             ],
             [
              1,
              "#f0f921"
             ]
            ],
            "type": "heatmap"
           }
          ],
          "heatmapgl": [
           {
            "colorbar": {
             "outlinewidth": 0,
             "ticks": ""
            },
            "colorscale": [
             [
              0,
              "#0d0887"
             ],
             [
              0.1111111111111111,
              "#46039f"
             ],
             [
              0.2222222222222222,
              "#7201a8"
             ],
             [
              0.3333333333333333,
              "#9c179e"
             ],
             [
              0.4444444444444444,
              "#bd3786"
             ],
             [
              0.5555555555555556,
              "#d8576b"
             ],
             [
              0.6666666666666666,
              "#ed7953"
             ],
             [
              0.7777777777777778,
              "#fb9f3a"
             ],
             [
              0.8888888888888888,
              "#fdca26"
             ],
             [
              1,
              "#f0f921"
             ]
            ],
            "type": "heatmapgl"
           }
          ],
          "histogram": [
           {
            "marker": {
             "colorbar": {
              "outlinewidth": 0,
              "ticks": ""
             }
            },
            "type": "histogram"
           }
          ],
          "histogram2d": [
           {
            "colorbar": {
             "outlinewidth": 0,
             "ticks": ""
            },
            "colorscale": [
             [
              0,
              "#0d0887"
             ],
             [
              0.1111111111111111,
              "#46039f"
             ],
             [
              0.2222222222222222,
              "#7201a8"
             ],
             [
              0.3333333333333333,
              "#9c179e"
             ],
             [
              0.4444444444444444,
              "#bd3786"
             ],
             [
              0.5555555555555556,
              "#d8576b"
             ],
             [
              0.6666666666666666,
              "#ed7953"
             ],
             [
              0.7777777777777778,
              "#fb9f3a"
             ],
             [
              0.8888888888888888,
              "#fdca26"
             ],
             [
              1,
              "#f0f921"
             ]
            ],
            "type": "histogram2d"
           }
          ],
          "histogram2dcontour": [
           {
            "colorbar": {
             "outlinewidth": 0,
             "ticks": ""
            },
            "colorscale": [
             [
              0,
              "#0d0887"
             ],
             [
              0.1111111111111111,
              "#46039f"
             ],
             [
              0.2222222222222222,
              "#7201a8"
             ],
             [
              0.3333333333333333,
              "#9c179e"
             ],
             [
              0.4444444444444444,
              "#bd3786"
             ],
             [
              0.5555555555555556,
              "#d8576b"
             ],
             [
              0.6666666666666666,
              "#ed7953"
             ],
             [
              0.7777777777777778,
              "#fb9f3a"
             ],
             [
              0.8888888888888888,
              "#fdca26"
             ],
             [
              1,
              "#f0f921"
             ]
            ],
            "type": "histogram2dcontour"
           }
          ],
          "mesh3d": [
           {
            "colorbar": {
             "outlinewidth": 0,
             "ticks": ""
            },
            "type": "mesh3d"
           }
          ],
          "parcoords": [
           {
            "line": {
             "colorbar": {
              "outlinewidth": 0,
              "ticks": ""
             }
            },
            "type": "parcoords"
           }
          ],
          "pie": [
           {
            "automargin": true,
            "type": "pie"
           }
          ],
          "scatter": [
           {
            "marker": {
             "colorbar": {
              "outlinewidth": 0,
              "ticks": ""
             }
            },
            "type": "scatter"
           }
          ],
          "scatter3d": [
           {
            "line": {
             "colorbar": {
              "outlinewidth": 0,
              "ticks": ""
             }
            },
            "marker": {
             "colorbar": {
              "outlinewidth": 0,
              "ticks": ""
             }
            },
            "type": "scatter3d"
           }
          ],
          "scattercarpet": [
           {
            "marker": {
             "colorbar": {
              "outlinewidth": 0,
              "ticks": ""
             }
            },
            "type": "scattercarpet"
           }
          ],
          "scattergeo": [
           {
            "marker": {
             "colorbar": {
              "outlinewidth": 0,
              "ticks": ""
             }
            },
            "type": "scattergeo"
           }
          ],
          "scattergl": [
           {
            "marker": {
             "colorbar": {
              "outlinewidth": 0,
              "ticks": ""
             }
            },
            "type": "scattergl"
           }
          ],
          "scattermapbox": [
           {
            "marker": {
             "colorbar": {
              "outlinewidth": 0,
              "ticks": ""
             }
            },
            "type": "scattermapbox"
           }
          ],
          "scatterpolar": [
           {
            "marker": {
             "colorbar": {
              "outlinewidth": 0,
              "ticks": ""
             }
            },
            "type": "scatterpolar"
           }
          ],
          "scatterpolargl": [
           {
            "marker": {
             "colorbar": {
              "outlinewidth": 0,
              "ticks": ""
             }
            },
            "type": "scatterpolargl"
           }
          ],
          "scatterternary": [
           {
            "marker": {
             "colorbar": {
              "outlinewidth": 0,
              "ticks": ""
             }
            },
            "type": "scatterternary"
           }
          ],
          "surface": [
           {
            "colorbar": {
             "outlinewidth": 0,
             "ticks": ""
            },
            "colorscale": [
             [
              0,
              "#0d0887"
             ],
             [
              0.1111111111111111,
              "#46039f"
             ],
             [
              0.2222222222222222,
              "#7201a8"
             ],
             [
              0.3333333333333333,
              "#9c179e"
             ],
             [
              0.4444444444444444,
              "#bd3786"
             ],
             [
              0.5555555555555556,
              "#d8576b"
             ],
             [
              0.6666666666666666,
              "#ed7953"
             ],
             [
              0.7777777777777778,
              "#fb9f3a"
             ],
             [
              0.8888888888888888,
              "#fdca26"
             ],
             [
              1,
              "#f0f921"
             ]
            ],
            "type": "surface"
           }
          ],
          "table": [
           {
            "cells": {
             "fill": {
              "color": "#EBF0F8"
             },
             "line": {
              "color": "white"
             }
            },
            "header": {
             "fill": {
              "color": "#C8D4E3"
             },
             "line": {
              "color": "white"
             }
            },
            "type": "table"
           }
          ]
         },
         "layout": {
          "annotationdefaults": {
           "arrowcolor": "#2a3f5f",
           "arrowhead": 0,
           "arrowwidth": 1
          },
          "coloraxis": {
           "colorbar": {
            "outlinewidth": 0,
            "ticks": ""
           }
          },
          "colorscale": {
           "diverging": [
            [
             0,
             "#8e0152"
            ],
            [
             0.1,
             "#c51b7d"
            ],
            [
             0.2,
             "#de77ae"
            ],
            [
             0.3,
             "#f1b6da"
            ],
            [
             0.4,
             "#fde0ef"
            ],
            [
             0.5,
             "#f7f7f7"
            ],
            [
             0.6,
             "#e6f5d0"
            ],
            [
             0.7,
             "#b8e186"
            ],
            [
             0.8,
             "#7fbc41"
            ],
            [
             0.9,
             "#4d9221"
            ],
            [
             1,
             "#276419"
            ]
           ],
           "sequential": [
            [
             0,
             "#0d0887"
            ],
            [
             0.1111111111111111,
             "#46039f"
            ],
            [
             0.2222222222222222,
             "#7201a8"
            ],
            [
             0.3333333333333333,
             "#9c179e"
            ],
            [
             0.4444444444444444,
             "#bd3786"
            ],
            [
             0.5555555555555556,
             "#d8576b"
            ],
            [
             0.6666666666666666,
             "#ed7953"
            ],
            [
             0.7777777777777778,
             "#fb9f3a"
            ],
            [
             0.8888888888888888,
             "#fdca26"
            ],
            [
             1,
             "#f0f921"
            ]
           ],
           "sequentialminus": [
            [
             0,
             "#0d0887"
            ],
            [
             0.1111111111111111,
             "#46039f"
            ],
            [
             0.2222222222222222,
             "#7201a8"
            ],
            [
             0.3333333333333333,
             "#9c179e"
            ],
            [
             0.4444444444444444,
             "#bd3786"
            ],
            [
             0.5555555555555556,
             "#d8576b"
            ],
            [
             0.6666666666666666,
             "#ed7953"
            ],
            [
             0.7777777777777778,
             "#fb9f3a"
            ],
            [
             0.8888888888888888,
             "#fdca26"
            ],
            [
             1,
             "#f0f921"
            ]
           ]
          },
          "colorway": [
           "#636efa",
           "#EF553B",
           "#00cc96",
           "#ab63fa",
           "#FFA15A",
           "#19d3f3",
           "#FF6692",
           "#B6E880",
           "#FF97FF",
           "#FECB52"
          ],
          "font": {
           "color": "#2a3f5f"
          },
          "geo": {
           "bgcolor": "white",
           "lakecolor": "white",
           "landcolor": "#E5ECF6",
           "showlakes": true,
           "showland": true,
           "subunitcolor": "white"
          },
          "hoverlabel": {
           "align": "left"
          },
          "hovermode": "closest",
          "mapbox": {
           "style": "light"
          },
          "paper_bgcolor": "white",
          "plot_bgcolor": "#E5ECF6",
          "polar": {
           "angularaxis": {
            "gridcolor": "white",
            "linecolor": "white",
            "ticks": ""
           },
           "bgcolor": "#E5ECF6",
           "radialaxis": {
            "gridcolor": "white",
            "linecolor": "white",
            "ticks": ""
           }
          },
          "scene": {
           "xaxis": {
            "backgroundcolor": "#E5ECF6",
            "gridcolor": "white",
            "gridwidth": 2,
            "linecolor": "white",
            "showbackground": true,
            "ticks": "",
            "zerolinecolor": "white"
           },
           "yaxis": {
            "backgroundcolor": "#E5ECF6",
            "gridcolor": "white",
            "gridwidth": 2,
            "linecolor": "white",
            "showbackground": true,
            "ticks": "",
            "zerolinecolor": "white"
           },
           "zaxis": {
            "backgroundcolor": "#E5ECF6",
            "gridcolor": "white",
            "gridwidth": 2,
            "linecolor": "white",
            "showbackground": true,
            "ticks": "",
            "zerolinecolor": "white"
           }
          },
          "shapedefaults": {
           "line": {
            "color": "#2a3f5f"
           }
          },
          "ternary": {
           "aaxis": {
            "gridcolor": "white",
            "linecolor": "white",
            "ticks": ""
           },
           "baxis": {
            "gridcolor": "white",
            "linecolor": "white",
            "ticks": ""
           },
           "bgcolor": "#E5ECF6",
           "caxis": {
            "gridcolor": "white",
            "linecolor": "white",
            "ticks": ""
           }
          },
          "title": {
           "x": 0.05
          },
          "xaxis": {
           "automargin": true,
           "gridcolor": "white",
           "linecolor": "white",
           "ticks": "",
           "title": {
            "standoff": 15
           },
           "zerolinecolor": "white",
           "zerolinewidth": 2
          },
          "yaxis": {
           "automargin": true,
           "gridcolor": "white",
           "linecolor": "white",
           "ticks": "",
           "title": {
            "standoff": 15
           },
           "zerolinecolor": "white",
           "zerolinewidth": 2
          }
         }
        },
        "title": {
         "text": "SEIRD MODEL",
         "x": 0.5,
         "xanchor": "center",
         "y": 0.9,
         "yanchor": "top"
        },
        "xaxis": {
         "title": {
          "text": "Time (days)"
         }
        },
        "yaxis": {
         "title": {
          "text": "Population"
         }
        }
       }
      },
      "text/html": [
       "<div>                            <div id=\"9fee0df0-fd60-4414-bbb8-08abcdfb4675\" class=\"plotly-graph-div\" style=\"height:525px; width:100%;\"></div>            <script type=\"text/javascript\">                require([\"plotly\"], function(Plotly) {                    window.PLOTLYENV=window.PLOTLYENV || {};                                    if (document.getElementById(\"9fee0df0-fd60-4414-bbb8-08abcdfb4675\")) {                    Plotly.newPlot(                        \"9fee0df0-fd60-4414-bbb8-08abcdfb4675\",                        [{\"mode\": \"lines\", \"name\": \"Susceptible\", \"type\": \"scatter\", \"x\": [0.0, 1.0084033613445378, 2.0168067226890756, 3.0252100840336134, 4.033613445378151, 5.042016806722689, 6.050420168067227, 7.0588235294117645, 8.067226890756302, 9.07563025210084, 10.084033613445378, 11.092436974789916, 12.100840336134453, 13.109243697478991, 14.117647058823529, 15.126050420168067, 16.134453781512605, 17.142857142857142, 18.15126050420168, 19.159663865546218, 20.168067226890756, 21.176470588235293, 22.18487394957983, 23.19327731092437, 24.201680672268907, 25.210084033613445, 26.218487394957982, 27.22689075630252, 28.235294117647058, 29.243697478991596, 30.252100840336134, 31.26050420168067, 32.26890756302521, 33.27731092436974, 34.285714285714285, 35.294117647058826, 36.30252100840336, 37.310924369747895, 38.319327731092436, 39.32773109243698, 40.33613445378151, 41.344537815126046, 42.35294117647059, 43.36134453781513, 44.36974789915966, 45.3781512605042, 46.38655462184874, 47.39495798319328, 48.403361344537814, 49.41176470588235, 50.42016806722689, 51.42857142857143, 52.436974789915965, 53.4453781512605, 54.45378151260504, 55.46218487394958, 56.470588235294116, 57.47899159663865, 58.48739495798319, 59.49579831932773, 60.50420168067227, 61.5126050420168, 62.52100840336134, 63.529411764705884, 64.53781512605042, 65.54621848739495, 66.55462184873949, 67.56302521008404, 68.57142857142857, 69.5798319327731, 70.58823529411765, 71.59663865546219, 72.60504201680672, 73.61344537815125, 74.62184873949579, 75.63025210084034, 76.63865546218487, 77.6470588235294, 78.65546218487395, 79.66386554621849, 80.67226890756302, 81.68067226890756, 82.68907563025209, 83.69747899159664, 84.70588235294117, 85.71428571428571, 86.72268907563026, 87.73109243697479, 88.73949579831933, 89.74789915966386, 90.7563025210084, 91.76470588235294, 92.77310924369748, 93.78151260504201, 94.78991596638656, 95.7983193277311, 96.80672268907563, 97.81512605042016, 98.8235294117647, 99.83193277310924, 100.84033613445378, 101.84873949579831, 102.85714285714286, 103.8655462184874, 104.87394957983193, 105.88235294117646, 106.890756302521, 107.89915966386555, 108.90756302521008, 109.91596638655462, 110.92436974789916, 111.9327731092437, 112.94117647058823, 113.94957983193277, 114.9579831932773, 115.96638655462185, 116.97478991596638, 117.98319327731092, 118.99159663865547, 120.0], \"y\": [55413.0, 55412.91035408012, 55412.67316900802, 55412.3094804697, 55411.816605643275, 55411.17610708707, 55410.35693105031, 55409.31581667924, 55407.99598590421, 55406.32454801536, 55404.20873552102, 55401.53089696358, 55398.14203938528, 55393.85360088355, 55388.42702170579, 55381.56055437041, 55372.87260493615, 55361.880714272105, 55347.97506075795, 55330.38510338041, 55308.13763988715, 55280.00417064413, 55244.434992888404, 55199.4769197651, 55142.67094526194, 55070.92558790211, 54980.36112698143, 54866.11963498788, 54722.13585000018, 54540.86492187007, 54312.96550772648, 54026.941600606646, 53668.755090937186, 53221.43550995404, 52664.73593530674, 51974.91727597777, 51124.78988217757, 50084.20099550966, 48821.22420035079, 47304.36672609231, 45506.12870360466, 43408.16776403836, 41008.060590514455, 38327.119269737435, 35417.862664267726, 32368.636504702405, 29301.862242814823, 26362.272815888395, 23693.606126252627, 21407.833422368145, 19558.659118650226, 18133.769677519904, 17070.838361910217, 16286.458717376332, 15701.294419269683, 15252.805768571814, 14897.165005147544, 14605.797267022863, 14360.750990577111, 14150.818026145302, 13968.83736993311, 13810.005313681493, 13670.882317175956, 13548.8335117967, 13441.721784751197, 13347.741461146996, 13265.327591943493, 13193.104787186141, 13129.856273244346, 13074.503148673919, 13026.088806998623, 12983.766063546063, 12946.78586344908, 12914.487068469962, 12886.287113028446, 12861.67345096361, 12840.195750372008, 12821.4588090294, 12805.116160265272, 12790.864329826018, 12778.43770200143, 12767.603947292808, 12758.159964328428, 12749.9282877168, 12742.753916177557, 12736.501517046905, 12731.052966786763, 12726.30519003264, 12722.16826330169, 12718.563752566097, 12715.423257144334, 12712.687135267186, 12710.303389328275, 12708.226691359067, 12706.417531493289, 12704.841474197945, 12703.46850885983, 12702.27248294193, 12701.230607337151, 12700.323024821617, 12699.532433630475, 12698.843759187914, 12698.243867857896, 12697.721317389756, 12697.266139329, 12696.869649428289, 12696.524282333474, 12696.22344755224, 12695.961403917525, 12695.733150203678, 12695.534329812825, 12695.361147722751, 12695.210298131937, 12695.078901415121, 12694.964449197716, 12694.864756509145, 12694.777920095112, 12694.702282101209, 12694.636398441435, 12694.579011235332]}, {\"mode\": \"lines\", \"name\": \"Exposed\", \"type\": \"scatter\", \"x\": [0.0, 1.0084033613445378, 2.0168067226890756, 3.0252100840336134, 4.033613445378151, 5.042016806722689, 6.050420168067227, 7.0588235294117645, 8.067226890756302, 9.07563025210084, 10.084033613445378, 11.092436974789916, 12.100840336134453, 13.109243697478991, 14.117647058823529, 15.126050420168067, 16.134453781512605, 17.142857142857142, 18.15126050420168, 19.159663865546218, 20.168067226890756, 21.176470588235293, 22.18487394957983, 23.19327731092437, 24.201680672268907, 25.210084033613445, 26.218487394957982, 27.22689075630252, 28.235294117647058, 29.243697478991596, 30.252100840336134, 31.26050420168067, 32.26890756302521, 33.27731092436974, 34.285714285714285, 35.294117647058826, 36.30252100840336, 37.310924369747895, 38.319327731092436, 39.32773109243698, 40.33613445378151, 41.344537815126046, 42.35294117647059, 43.36134453781513, 44.36974789915966, 45.3781512605042, 46.38655462184874, 47.39495798319328, 48.403361344537814, 49.41176470588235, 50.42016806722689, 51.42857142857143, 52.436974789915965, 53.4453781512605, 54.45378151260504, 55.46218487394958, 56.470588235294116, 57.47899159663865, 58.48739495798319, 59.49579831932773, 60.50420168067227, 61.5126050420168, 62.52100840336134, 63.529411764705884, 64.53781512605042, 65.54621848739495, 66.55462184873949, 67.56302521008404, 68.57142857142857, 69.5798319327731, 70.58823529411765, 71.59663865546219, 72.60504201680672, 73.61344537815125, 74.62184873949579, 75.63025210084034, 76.63865546218487, 77.6470588235294, 78.65546218487395, 79.66386554621849, 80.67226890756302, 81.68067226890756, 82.68907563025209, 83.69747899159664, 84.70588235294117, 85.71428571428571, 86.72268907563026, 87.73109243697479, 88.73949579831933, 89.74789915966386, 90.7563025210084, 91.76470588235294, 92.77310924369748, 93.78151260504201, 94.78991596638656, 95.7983193277311, 96.80672268907563, 97.81512605042016, 98.8235294117647, 99.83193277310924, 100.84033613445378, 101.84873949579831, 102.85714285714286, 103.8655462184874, 104.87394957983193, 105.88235294117646, 106.890756302521, 107.89915966386555, 108.90756302521008, 109.91596638655462, 110.92436974789916, 111.9327731092437, 112.94117647058823, 113.94957983193277, 114.9579831932773, 115.96638655462185, 116.97478991596638, 117.98319327731092, 118.99159663865547, 120.0], \"y\": [1.0, 0.9011028031062928, 0.9533191396938319, 1.1104544328615051, 1.3560575669247459, 1.6908734685529845, 2.1269135473937038, 2.6850590339285447, 3.394649085387564, 4.294304443245846, 5.433658974185286, 6.875902914014442, 8.70117908279434, 11.010967316076586, 13.933669421273187, 17.631683758775992, 22.310341348338646, 28.22917370981616, 35.7161019369969, 45.18527157889653, 57.15943233328885, 72.29795086365658, 91.43176784788564, 115.60685079910554, 146.1379325251095, 184.674529256014, 233.28133733083405, 294.53499856034216, 371.63872777878913, 468.55510556567833, 590.1550477409332, 742.3768348324471, 932.3823226971319, 1168.6866259166557, 1461.2213610440854, 1821.2684778746918, 2261.1707809024992, 2793.6881743139074, 3430.831340309722, 4181.981543060474, 5051.124640497363, 6033.133995066837, 7109.289423261665, 8242.673239725054, 9374.7489454257, 10425.19391637892, 11297.591107375909, 11893.19639056041, 12132.635781235651, 11980.278256844213, 11460.061962413529, 10651.266352896318, 9663.592745313415, 8605.344240272685, 7561.062624883183, 6584.5407002150405, 5702.82758361587, 4924.288722457345, 4246.208462842739, 3660.3101466164285, 3156.196105238909, 2723.2525036579095, 2351.579805756905, 2032.364029065775, 1757.9535990247168, 1521.7961215976952, 1318.3189606145525, 1142.7962079739407, 991.2218445806847, 860.1969344411676, 746.8327976276466, 648.6694424984756, 563.6074761098433, 489.85147771985504, 425.86292810211216, 370.32102434858297, 322.08997134584104, 280.19159716013047, 243.78234344220886, 212.1338711552321, 184.61665656082553, 160.68607606450644, 139.87056690592212, 121.76152962200783, 106.0046945371683, 92.29272503419773, 80.35886792120458, 69.97149388356523, 60.92939584359527, 53.057734691837325, 46.204538983338026, 40.23767994910375, 35.04225453517515, 30.51831982128593, 26.578930011959592, 23.14843464887388, 20.161002324626974, 17.559339477922407, 15.293577955314607, 13.32030869142908, 11.601742133352307, 10.104978445189854, 8.801373085128155, 7.665985099746808, 6.677097161276586, 5.815798268273743, 5.065620428831827, 4.412222632185574, 3.8431158058341968, 3.3474233688058614, 2.9156728585984464, 2.5396145140300006, 2.2120633212402265, 1.926761511992526, 1.6782588358934631, 1.4618082945805266, 1.273275367868847, 1.1090589623823386, 0.9660225557730436, 0.8414342571832591]}, {\"mode\": \"lines\", \"name\": \"Infected\", \"type\": \"scatter\", \"x\": [0.0, 1.0084033613445378, 2.0168067226890756, 3.0252100840336134, 4.033613445378151, 5.042016806722689, 6.050420168067227, 7.0588235294117645, 8.067226890756302, 9.07563025210084, 10.084033613445378, 11.092436974789916, 12.100840336134453, 13.109243697478991, 14.117647058823529, 15.126050420168067, 16.134453781512605, 17.142857142857142, 18.15126050420168, 19.159663865546218, 20.168067226890756, 21.176470588235293, 22.18487394957983, 23.19327731092437, 24.201680672268907, 25.210084033613445, 26.218487394957982, 27.22689075630252, 28.235294117647058, 29.243697478991596, 30.252100840336134, 31.26050420168067, 32.26890756302521, 33.27731092436974, 34.285714285714285, 35.294117647058826, 36.30252100840336, 37.310924369747895, 38.319327731092436, 39.32773109243698, 40.33613445378151, 41.344537815126046, 42.35294117647059, 43.36134453781513, 44.36974789915966, 45.3781512605042, 46.38655462184874, 47.39495798319328, 48.403361344537814, 49.41176470588235, 50.42016806722689, 51.42857142857143, 52.436974789915965, 53.4453781512605, 54.45378151260504, 55.46218487394958, 56.470588235294116, 57.47899159663865, 58.48739495798319, 59.49579831932773, 60.50420168067227, 61.5126050420168, 62.52100840336134, 63.529411764705884, 64.53781512605042, 65.54621848739495, 66.55462184873949, 67.56302521008404, 68.57142857142857, 69.5798319327731, 70.58823529411765, 71.59663865546219, 72.60504201680672, 73.61344537815125, 74.62184873949579, 75.63025210084034, 76.63865546218487, 77.6470588235294, 78.65546218487395, 79.66386554621849, 80.67226890756302, 81.68067226890756, 82.68907563025209, 83.69747899159664, 84.70588235294117, 85.71428571428571, 86.72268907563026, 87.73109243697479, 88.73949579831933, 89.74789915966386, 90.7563025210084, 91.76470588235294, 92.77310924369748, 93.78151260504201, 94.78991596638656, 95.7983193277311, 96.80672268907563, 97.81512605042016, 98.8235294117647, 99.83193277310924, 100.84033613445378, 101.84873949579831, 102.85714285714286, 103.8655462184874, 104.87394957983193, 105.88235294117646, 106.890756302521, 107.89915966386555, 108.90756302521008, 109.91596638655462, 110.92436974789916, 111.9327731092437, 112.94117647058823, 113.94957983193277, 114.9579831932773, 115.96638655462185, 116.97478991596638, 117.98319327731092, 118.99159663865547, 120.0], \"y\": [0.0, 0.1681286530164099, 0.29908466557706453, 0.42281687064021717, 0.5578476862875105, 0.7176700755568377, 0.9142532252649698, 1.1601228123063885, 1.469784069489671, 1.860901555610769, 2.355473035583664, 2.9811506989396723, 3.7728279851075577, 4.774602658599765, 6.042235661564477, 7.646246432312672, 9.675815777778416, 12.243708403938804, 15.492479985535972, 19.60229570777755, 24.80076959199733, 31.37532689499854, 39.688706194599916, 50.19835057749293, 63.48058458149304, 80.26063337561024, 101.44969454601863, 128.19039855320497, 161.9120386325747, 204.39684115413738, 257.85814939239856, 325.0305026683218, 409.26992211605955, 514.6597941896156, 646.1129872177285, 809.4535884407228, 1011.4508486112732, 1259.7633197503264, 1562.7325675599504, 1928.9454276838949, 2366.4667828541856, 2881.642071809837, 3477.3984494705296, 4151.060733876318, 4891.869475933737, 5678.656928959044, 6478.474111765276, 7247.254656564496, 7933.595689746544, 8486.053750838922, 8862.741201664738, 9040.06087868453, 9016.848631681298, 8812.260106825865, 8459.052013787517, 7995.649827900569, 7459.710217673434, 6884.191377228058, 6295.680026159844, 5714.2450229573715, 5154.115983502826, 4624.691345856727, 4131.5858984671595, 3677.5748212045555, 3263.381286106927, 2888.3021079494665, 2550.687844944621, 2248.3013665926187, 1978.5793605626513, 1738.818604642398, 1526.3051543825497, 1338.4009957885612, 1172.5994605107464, 1026.5580566447752, 898.1152453686392, 785.2959953940541, 686.3097473187646, 599.5433744161317, 523.5510622617834, 457.0424394624747, 398.86992742963815, 348.01595405208263, 303.5804767534565, 264.7690895929217, 230.88188741918077, 201.3031725062211, 175.49203808800684, 152.97382181843872, 133.33239997314647, 116.20327575525215, 101.26740715281387, 88.24571489130014, 76.89421064341114, 66.9996861927333, 58.375907504059676, 50.86026053893384, 44.310799989035246, 38.60365598804054, 33.630758035478976, 29.29783937452694, 25.52268863053974, 22.233619449504896, 19.368131585646925, 16.87174034086895, 14.696953447563796, 12.802377583740792, 11.151937944348354, 9.714197124693934, 8.461760590097235, 7.370758072707941, 6.420391129796167, 5.592538547362685, 4.871412313514985, 4.2432576136225455, 3.6960913024412045, 3.2194739823954697, 2.80431129733515, 2.442680762661132, 2.1276809069380778, 1.8532997352017961]}, {\"mode\": \"lines\", \"name\": \"Recovered\", \"type\": \"scatter\", \"x\": [0.0, 1.0084033613445378, 2.0168067226890756, 3.0252100840336134, 4.033613445378151, 5.042016806722689, 6.050420168067227, 7.0588235294117645, 8.067226890756302, 9.07563025210084, 10.084033613445378, 11.092436974789916, 12.100840336134453, 13.109243697478991, 14.117647058823529, 15.126050420168067, 16.134453781512605, 17.142857142857142, 18.15126050420168, 19.159663865546218, 20.168067226890756, 21.176470588235293, 22.18487394957983, 23.19327731092437, 24.201680672268907, 25.210084033613445, 26.218487394957982, 27.22689075630252, 28.235294117647058, 29.243697478991596, 30.252100840336134, 31.26050420168067, 32.26890756302521, 33.27731092436974, 34.285714285714285, 35.294117647058826, 36.30252100840336, 37.310924369747895, 38.319327731092436, 39.32773109243698, 40.33613445378151, 41.344537815126046, 42.35294117647059, 43.36134453781513, 44.36974789915966, 45.3781512605042, 46.38655462184874, 47.39495798319328, 48.403361344537814, 49.41176470588235, 50.42016806722689, 51.42857142857143, 52.436974789915965, 53.4453781512605, 54.45378151260504, 55.46218487394958, 56.470588235294116, 57.47899159663865, 58.48739495798319, 59.49579831932773, 60.50420168067227, 61.5126050420168, 62.52100840336134, 63.529411764705884, 64.53781512605042, 65.54621848739495, 66.55462184873949, 67.56302521008404, 68.57142857142857, 69.5798319327731, 70.58823529411765, 71.59663865546219, 72.60504201680672, 73.61344537815125, 74.62184873949579, 75.63025210084034, 76.63865546218487, 77.6470588235294, 78.65546218487395, 79.66386554621849, 80.67226890756302, 81.68067226890756, 82.68907563025209, 83.69747899159664, 84.70588235294117, 85.71428571428571, 86.72268907563026, 87.73109243697479, 88.73949579831933, 89.74789915966386, 90.7563025210084, 91.76470588235294, 92.77310924369748, 93.78151260504201, 94.78991596638656, 95.7983193277311, 96.80672268907563, 97.81512605042016, 98.8235294117647, 99.83193277310924, 100.84033613445378, 101.84873949579831, 102.85714285714286, 103.8655462184874, 104.87394957983193, 105.88235294117646, 106.890756302521, 107.89915966386555, 108.90756302521008, 109.91596638655462, 110.92436974789916, 111.9327731092437, 112.94117647058823, 113.94957983193277, 114.9579831932773, 115.96638655462185, 116.97478991596638, 117.98319327731092, 118.99159663865547, 120.0], \"y\": [0.0, 0.020033999215986822, 0.07304008636028046, 0.15431758931203515, 0.26446663040172486, 0.40760849406914196, 0.5906845114881732, 0.8233649797679936, 1.1183425315844746, 1.4919130982835511, 1.9648186258578446, 2.563368498519308, 3.320886550630482, 4.279555965559211, 5.492759916344614, 7.028045254224119, 8.970871059859132, 11.42934699710663, 14.54022073153046, 18.476437792623543, 23.456683118741246, 29.757413352464994, 37.72801537692655, 47.809880707354864, 60.56036954156971, 76.68285831054669, 97.06431998361009, 122.82217404143522, 155.3624488046318, 196.45160306112092, 248.30459666671882, 313.69190829724835, 396.0680179578112, 499.72318407536375, 629.9588019045024, 793.2837524745671, 997.6242400188976, 1252.5318615729152, 1569.3631519950181, 1961.3878946062555, 2443.76323143827, 3033.287934099923, 3747.83123909153, 4605.323484680968, 5622.217386517353, 6811.399771737861, 8179.673487233377, 9725.142723983405, 11435.084980487742, 13285.07331876748, 15240.034834763977, 17257.432940192317, 19291.946640962546, 21300.37225954379, 23245.478012625343, 25098.15435527786, 26837.92099468598, 28452.26912725064, 29935.387327046265, 31286.697227578636, 32509.45908762327, 33609.57256232279, 34594.61087719908, 35473.079516775855, 36253.869272643715, 36945.86757977342, 37557.69355742589, 38097.52681737738, 38573.005581280224, 38991.17484595628, 39358.46982183116, 39680.723494149104, 39963.19007172468, 40210.578302087786, 40427.090321217096, 40616.46301095282, 40782.009722822535, 40926.660986915515, 41053.00327883756, 41163.31532055164, 41259.60161869638, 41343.62314571023, 41416.92517771964, 41480.862394431875, 41536.62138824628, 41585.240764543196, 41627.62902490672, 41664.58043079179, 41696.78903909212, 41724.861093962616, 41749.325947045465, 41770.64566574972, 41789.22347586905, 41805.411171386404, 41819.51561124919, 41831.80441078207, 41842.510923852315, 41851.83860129513, 41859.96480159878, 41867.044121069, 41873.21130288278, 41878.58377722866, 41883.26387874443, 41887.340781562336, 41890.89218788983, 41893.98580040507, 41896.68060690765, 41899.028000218044, 41901.072754734785, 41902.853877696776, 41904.40535121585, 41905.75677905649, 41906.93395026527, 41907.959330391364, 41908.85248953744, 41909.63047531014, 41910.308137815184, 41910.89841281698, 41911.412568399544, 41911.86041992298]}, {\"mode\": \"lines\", \"name\": \"Dead\", \"type\": \"scatter\", \"x\": [0.0, 1.0084033613445378, 2.0168067226890756, 3.0252100840336134, 4.033613445378151, 5.042016806722689, 6.050420168067227, 7.0588235294117645, 8.067226890756302, 9.07563025210084, 10.084033613445378, 11.092436974789916, 12.100840336134453, 13.109243697478991, 14.117647058823529, 15.126050420168067, 16.134453781512605, 17.142857142857142, 18.15126050420168, 19.159663865546218, 20.168067226890756, 21.176470588235293, 22.18487394957983, 23.19327731092437, 24.201680672268907, 25.210084033613445, 26.218487394957982, 27.22689075630252, 28.235294117647058, 29.243697478991596, 30.252100840336134, 31.26050420168067, 32.26890756302521, 33.27731092436974, 34.285714285714285, 35.294117647058826, 36.30252100840336, 37.310924369747895, 38.319327731092436, 39.32773109243698, 40.33613445378151, 41.344537815126046, 42.35294117647059, 43.36134453781513, 44.36974789915966, 45.3781512605042, 46.38655462184874, 47.39495798319328, 48.403361344537814, 49.41176470588235, 50.42016806722689, 51.42857142857143, 52.436974789915965, 53.4453781512605, 54.45378151260504, 55.46218487394958, 56.470588235294116, 57.47899159663865, 58.48739495798319, 59.49579831932773, 60.50420168067227, 61.5126050420168, 62.52100840336134, 63.529411764705884, 64.53781512605042, 65.54621848739495, 66.55462184873949, 67.56302521008404, 68.57142857142857, 69.5798319327731, 70.58823529411765, 71.59663865546219, 72.60504201680672, 73.61344537815125, 74.62184873949579, 75.63025210084034, 76.63865546218487, 77.6470588235294, 78.65546218487395, 79.66386554621849, 80.67226890756302, 81.68067226890756, 82.68907563025209, 83.69747899159664, 84.70588235294117, 85.71428571428571, 86.72268907563026, 87.73109243697479, 88.73949579831933, 89.74789915966386, 90.7563025210084, 91.76470588235294, 92.77310924369748, 93.78151260504201, 94.78991596638656, 95.7983193277311, 96.80672268907563, 97.81512605042016, 98.8235294117647, 99.83193277310924, 100.84033613445378, 101.84873949579831, 102.85714285714286, 103.8655462184874, 104.87394957983193, 105.88235294117646, 106.890756302521, 107.89915966386555, 108.90756302521008, 109.91596638655462, 110.92436974789916, 111.9327731092437, 112.94117647058823, 113.94957983193277, 114.9579831932773, 115.96638655462185, 116.97478991596638, 117.98319327731092, 118.99159663865547, 120.0], \"y\": [0.0, 0.0003804645320796243, 0.0013871003396743347, 0.0029306374760639064, 0.005022473108246417, 0.0077408747526520735, 0.011217665556108671, 0.015636494761017066, 0.02123840934818563, 0.028332887517928024, 0.03731384337368802, 0.04868092495621242, 0.06306699619718431, 0.08127317622503051, 0.10431329504247111, 0.1334701843015289, 0.17036687789060698, 0.21705661704999066, 0.2761365880058244, 0.350891540312845, 0.4454750688414177, 0.5651382447580601, 0.7165176921946463, 0.9079981509624815, 1.1501680899028455, 1.4563911557278006, 1.843521158122583, 2.332793857144226, 2.9509347838316686, 3.7315283490127515, 4.716698473476542, 5.9591535953471615, 7.52464629182581, 9.494885864333467, 11.970914526961227, 15.07690523226339, 18.964248289768562, 23.81564885319442, 29.848739784510506, 37.31840855705334, 46.516641605510486, 57.76823498503439, 71.42029766180661, 87.82327198021332, 107.30152785547104, 130.1128782217554, 156.3990508106, 186.13341300327966, 219.0774222774258, 254.7612511812292, 292.50288250752357, 331.4701507069254, 370.7736201325134, 409.5646759813104, 447.11292943425025, 482.84934803469434, 516.3761988771518, 547.4535060410706, 575.9731933740261, 601.9295767022467, 625.3914537018708, 646.478274481059, 665.3411014008893, 682.1481211570934, 697.0740574734194, 710.2927295323981, 721.972045071407, 732.2708208698729, 741.3369403320468, 749.3064662861865, 756.3034191599778, 762.4400040177416, 767.817128205591, 772.5250950775684, 776.6443922836503, 780.2465183408704, 783.3948081407966, 786.1452324787655, 788.5471551931164, 790.6440390045741, 792.4740953116738, 794.07087688032, 795.4638142924978, 796.6786986363404, 797.7381136197558, 798.6618208694248, 799.4671022972557, 800.1690634735149, 800.7809017894045, 801.3141430241578, 801.778849674011, 802.1838041426558, 802.5366696240593, 802.8441312404767, 803.1120197414648, 803.3454198321441, 803.5487649741556, 803.7259202969457, 803.8802550732471, 804.0147060433941, 804.1318327228208, 804.2338656887006, 804.3227487268716, 804.4001756072713, 804.467622172304, 804.5263743146046, 804.5775523856721, 804.622132472814, 804.660964951736, 804.6947906580073, 804.7242549828998, 804.7499201593359, 804.7722759680138, 804.7917490678698, 804.8087111264749, 804.8234859037086, 804.8363554244743, 804.8475653567382, 804.8573296962848, 804.8658348492728]}, {\"mode\": \"lines+markers\", \"name\": \"Total\", \"type\": \"scatter\", \"x\": [0.0, 1.0084033613445378, 2.0168067226890756, 3.0252100840336134, 4.033613445378151, 5.042016806722689, 6.050420168067227, 7.0588235294117645, 8.067226890756302, 9.07563025210084, 10.084033613445378, 11.092436974789916, 12.100840336134453, 13.109243697478991, 14.117647058823529, 15.126050420168067, 16.134453781512605, 17.142857142857142, 18.15126050420168, 19.159663865546218, 20.168067226890756, 21.176470588235293, 22.18487394957983, 23.19327731092437, 24.201680672268907, 25.210084033613445, 26.218487394957982, 27.22689075630252, 28.235294117647058, 29.243697478991596, 30.252100840336134, 31.26050420168067, 32.26890756302521, 33.27731092436974, 34.285714285714285, 35.294117647058826, 36.30252100840336, 37.310924369747895, 38.319327731092436, 39.32773109243698, 40.33613445378151, 41.344537815126046, 42.35294117647059, 43.36134453781513, 44.36974789915966, 45.3781512605042, 46.38655462184874, 47.39495798319328, 48.403361344537814, 49.41176470588235, 50.42016806722689, 51.42857142857143, 52.436974789915965, 53.4453781512605, 54.45378151260504, 55.46218487394958, 56.470588235294116, 57.47899159663865, 58.48739495798319, 59.49579831932773, 60.50420168067227, 61.5126050420168, 62.52100840336134, 63.529411764705884, 64.53781512605042, 65.54621848739495, 66.55462184873949, 67.56302521008404, 68.57142857142857, 69.5798319327731, 70.58823529411765, 71.59663865546219, 72.60504201680672, 73.61344537815125, 74.62184873949579, 75.63025210084034, 76.63865546218487, 77.6470588235294, 78.65546218487395, 79.66386554621849, 80.67226890756302, 81.68067226890756, 82.68907563025209, 83.69747899159664, 84.70588235294117, 85.71428571428571, 86.72268907563026, 87.73109243697479, 88.73949579831933, 89.74789915966386, 90.7563025210084, 91.76470588235294, 92.77310924369748, 93.78151260504201, 94.78991596638656, 95.7983193277311, 96.80672268907563, 97.81512605042016, 98.8235294117647, 99.83193277310924, 100.84033613445378, 101.84873949579831, 102.85714285714286, 103.8655462184874, 104.87394957983193, 105.88235294117646, 106.890756302521, 107.89915966386555, 108.90756302521008, 109.91596638655462, 110.92436974789916, 111.9327731092437, 112.94117647058823, 113.94957983193277, 114.9579831932773, 115.96638655462185, 116.97478991596638, 117.98319327731092, 118.99159663865547, 120.0], \"y\": [55414.0, 55413.99999999999, 55413.999999999985, 55413.99999999999, 55414.0, 55414.0, 55414.00000000001, 55414.00000000001, 55414.00000000001, 55414.000000000015, 55414.000000000015, 55414.000000000015, 55414.000000000015, 55414.000000000015, 55414.00000000002, 55414.000000000015, 55414.00000000002, 55414.00000000002, 55414.000000000015, 55414.00000000003, 55414.000000000015, 55414.000000000015, 55414.0, 55414.000000000015, 55414.000000000015, 55414.00000000001, 55414.000000000015, 55414.00000000001, 55414.00000000001, 55414.00000000001, 55414.000000000015, 55414.0, 55414.000000000015, 55414.000000000015, 55414.000000000015, 55414.00000000002, 55414.000000000015, 55414.0, 55413.99999999999, 55413.999999999985, 55413.99999999999, 55413.999999999985, 55413.999999999985, 55413.99999999998, 55413.99999999999, 55413.99999999998, 55413.99999999998, 55413.999999999985, 55413.99999999999, 55413.999999999985, 55413.99999999999, 55414.0, 55413.99999999999, 55413.999999999985, 55413.99999999998, 55413.99999999998, 55413.99999999998, 55413.99999999998, 55413.999999999985, 55413.99999999999, 55413.999999999985, 55413.99999999998, 55413.999999999985, 55413.99999999998, 55413.99999999998, 55413.99999999997, 55413.99999999996, 55413.999999999956, 55413.99999999995, 55413.999999999956, 55413.99999999996, 55413.99999999995, 55413.99999999994, 55413.99999999994, 55413.99999999994, 55413.99999999994, 55413.99999999994, 55413.99999999994, 55413.99999999994, 55413.99999999994, 55413.99999999995, 55413.99999999995, 55413.99999999994, 55413.99999999994, 55413.99999999995, 55413.99999999995, 55413.99999999995, 55413.999999999956, 55413.99999999995, 55413.99999999996, 55413.99999999996, 55413.999999999956, 55413.99999999997, 55413.99999999996, 55413.99999999996, 55413.99999999996, 55413.99999999996, 55413.99999999997, 55413.99999999997, 55413.99999999996, 55413.99999999997, 55413.99999999997, 55413.99999999998, 55413.99999999998, 55413.99999999998, 55413.99999999998, 55413.99999999997, 55413.99999999997, 55413.99999999997, 55413.99999999998, 55413.99999999997, 55413.99999999998, 55413.99999999998, 55413.99999999997, 55413.99999999997, 55413.99999999998, 55413.99999999997, 55413.99999999997, 55413.99999999998, 55413.99999999997]}],                        {\"legend\": {\"title\": {\"text\": \"Variables\"}}, \"template\": {\"data\": {\"bar\": [{\"error_x\": {\"color\": \"#2a3f5f\"}, \"error_y\": {\"color\": \"#2a3f5f\"}, \"marker\": {\"line\": {\"color\": \"#E5ECF6\", \"width\": 0.5}}, \"type\": \"bar\"}], \"barpolar\": [{\"marker\": {\"line\": {\"color\": \"#E5ECF6\", \"width\": 0.5}}, \"type\": \"barpolar\"}], \"carpet\": [{\"aaxis\": {\"endlinecolor\": \"#2a3f5f\", \"gridcolor\": \"white\", \"linecolor\": \"white\", \"minorgridcolor\": \"white\", \"startlinecolor\": \"#2a3f5f\"}, \"baxis\": {\"endlinecolor\": \"#2a3f5f\", \"gridcolor\": \"white\", \"linecolor\": \"white\", \"minorgridcolor\": \"white\", \"startlinecolor\": \"#2a3f5f\"}, \"type\": \"carpet\"}], \"choropleth\": [{\"colorbar\": {\"outlinewidth\": 0, \"ticks\": \"\"}, \"type\": \"choropleth\"}], \"contour\": [{\"colorbar\": {\"outlinewidth\": 0, \"ticks\": \"\"}, \"colorscale\": [[0.0, \"#0d0887\"], [0.1111111111111111, \"#46039f\"], [0.2222222222222222, \"#7201a8\"], [0.3333333333333333, \"#9c179e\"], [0.4444444444444444, \"#bd3786\"], [0.5555555555555556, \"#d8576b\"], [0.6666666666666666, \"#ed7953\"], [0.7777777777777778, \"#fb9f3a\"], [0.8888888888888888, \"#fdca26\"], [1.0, \"#f0f921\"]], \"type\": \"contour\"}], \"contourcarpet\": [{\"colorbar\": {\"outlinewidth\": 0, \"ticks\": \"\"}, \"type\": \"contourcarpet\"}], \"heatmap\": [{\"colorbar\": {\"outlinewidth\": 0, \"ticks\": \"\"}, \"colorscale\": [[0.0, \"#0d0887\"], [0.1111111111111111, \"#46039f\"], [0.2222222222222222, \"#7201a8\"], [0.3333333333333333, \"#9c179e\"], [0.4444444444444444, \"#bd3786\"], [0.5555555555555556, \"#d8576b\"], [0.6666666666666666, \"#ed7953\"], [0.7777777777777778, \"#fb9f3a\"], [0.8888888888888888, \"#fdca26\"], [1.0, \"#f0f921\"]], \"type\": \"heatmap\"}], \"heatmapgl\": [{\"colorbar\": {\"outlinewidth\": 0, \"ticks\": \"\"}, \"colorscale\": [[0.0, \"#0d0887\"], [0.1111111111111111, \"#46039f\"], [0.2222222222222222, \"#7201a8\"], [0.3333333333333333, \"#9c179e\"], [0.4444444444444444, \"#bd3786\"], [0.5555555555555556, \"#d8576b\"], [0.6666666666666666, \"#ed7953\"], [0.7777777777777778, \"#fb9f3a\"], [0.8888888888888888, \"#fdca26\"], [1.0, \"#f0f921\"]], \"type\": \"heatmapgl\"}], \"histogram\": [{\"marker\": {\"colorbar\": {\"outlinewidth\": 0, \"ticks\": \"\"}}, \"type\": \"histogram\"}], \"histogram2d\": [{\"colorbar\": {\"outlinewidth\": 0, \"ticks\": \"\"}, \"colorscale\": [[0.0, \"#0d0887\"], [0.1111111111111111, \"#46039f\"], [0.2222222222222222, \"#7201a8\"], [0.3333333333333333, \"#9c179e\"], [0.4444444444444444, \"#bd3786\"], [0.5555555555555556, \"#d8576b\"], [0.6666666666666666, \"#ed7953\"], [0.7777777777777778, \"#fb9f3a\"], [0.8888888888888888, \"#fdca26\"], [1.0, \"#f0f921\"]], \"type\": \"histogram2d\"}], \"histogram2dcontour\": [{\"colorbar\": {\"outlinewidth\": 0, \"ticks\": \"\"}, \"colorscale\": [[0.0, \"#0d0887\"], [0.1111111111111111, \"#46039f\"], [0.2222222222222222, \"#7201a8\"], [0.3333333333333333, \"#9c179e\"], [0.4444444444444444, \"#bd3786\"], [0.5555555555555556, \"#d8576b\"], [0.6666666666666666, \"#ed7953\"], [0.7777777777777778, \"#fb9f3a\"], [0.8888888888888888, \"#fdca26\"], [1.0, \"#f0f921\"]], \"type\": \"histogram2dcontour\"}], \"mesh3d\": [{\"colorbar\": {\"outlinewidth\": 0, \"ticks\": \"\"}, \"type\": \"mesh3d\"}], \"parcoords\": [{\"line\": {\"colorbar\": {\"outlinewidth\": 0, \"ticks\": \"\"}}, \"type\": \"parcoords\"}], \"pie\": [{\"automargin\": true, \"type\": \"pie\"}], \"scatter\": [{\"marker\": {\"colorbar\": {\"outlinewidth\": 0, \"ticks\": \"\"}}, \"type\": \"scatter\"}], \"scatter3d\": [{\"line\": {\"colorbar\": {\"outlinewidth\": 0, \"ticks\": \"\"}}, \"marker\": {\"colorbar\": {\"outlinewidth\": 0, \"ticks\": \"\"}}, \"type\": \"scatter3d\"}], \"scattercarpet\": [{\"marker\": {\"colorbar\": {\"outlinewidth\": 0, \"ticks\": \"\"}}, \"type\": \"scattercarpet\"}], \"scattergeo\": [{\"marker\": {\"colorbar\": {\"outlinewidth\": 0, \"ticks\": \"\"}}, \"type\": \"scattergeo\"}], \"scattergl\": [{\"marker\": {\"colorbar\": {\"outlinewidth\": 0, \"ticks\": \"\"}}, \"type\": \"scattergl\"}], \"scattermapbox\": [{\"marker\": {\"colorbar\": {\"outlinewidth\": 0, \"ticks\": \"\"}}, \"type\": \"scattermapbox\"}], \"scatterpolar\": [{\"marker\": {\"colorbar\": {\"outlinewidth\": 0, \"ticks\": \"\"}}, \"type\": \"scatterpolar\"}], \"scatterpolargl\": [{\"marker\": {\"colorbar\": {\"outlinewidth\": 0, \"ticks\": \"\"}}, \"type\": \"scatterpolargl\"}], \"scatterternary\": [{\"marker\": {\"colorbar\": {\"outlinewidth\": 0, \"ticks\": \"\"}}, \"type\": \"scatterternary\"}], \"surface\": [{\"colorbar\": {\"outlinewidth\": 0, \"ticks\": \"\"}, \"colorscale\": [[0.0, \"#0d0887\"], [0.1111111111111111, \"#46039f\"], [0.2222222222222222, \"#7201a8\"], [0.3333333333333333, \"#9c179e\"], [0.4444444444444444, \"#bd3786\"], [0.5555555555555556, \"#d8576b\"], [0.6666666666666666, \"#ed7953\"], [0.7777777777777778, \"#fb9f3a\"], [0.8888888888888888, \"#fdca26\"], [1.0, \"#f0f921\"]], \"type\": \"surface\"}], \"table\": [{\"cells\": {\"fill\": {\"color\": \"#EBF0F8\"}, \"line\": {\"color\": \"white\"}}, \"header\": {\"fill\": {\"color\": \"#C8D4E3\"}, \"line\": {\"color\": \"white\"}}, \"type\": \"table\"}]}, \"layout\": {\"annotationdefaults\": {\"arrowcolor\": \"#2a3f5f\", \"arrowhead\": 0, \"arrowwidth\": 1}, \"coloraxis\": {\"colorbar\": {\"outlinewidth\": 0, \"ticks\": \"\"}}, \"colorscale\": {\"diverging\": [[0, \"#8e0152\"], [0.1, \"#c51b7d\"], [0.2, \"#de77ae\"], [0.3, \"#f1b6da\"], [0.4, \"#fde0ef\"], [0.5, \"#f7f7f7\"], [0.6, \"#e6f5d0\"], [0.7, \"#b8e186\"], [0.8, \"#7fbc41\"], [0.9, \"#4d9221\"], [1, \"#276419\"]], \"sequential\": [[0.0, \"#0d0887\"], [0.1111111111111111, \"#46039f\"], [0.2222222222222222, \"#7201a8\"], [0.3333333333333333, \"#9c179e\"], [0.4444444444444444, \"#bd3786\"], [0.5555555555555556, \"#d8576b\"], [0.6666666666666666, \"#ed7953\"], [0.7777777777777778, \"#fb9f3a\"], [0.8888888888888888, \"#fdca26\"], [1.0, \"#f0f921\"]], \"sequentialminus\": [[0.0, \"#0d0887\"], [0.1111111111111111, \"#46039f\"], [0.2222222222222222, \"#7201a8\"], [0.3333333333333333, \"#9c179e\"], [0.4444444444444444, \"#bd3786\"], [0.5555555555555556, \"#d8576b\"], [0.6666666666666666, \"#ed7953\"], [0.7777777777777778, \"#fb9f3a\"], [0.8888888888888888, \"#fdca26\"], [1.0, \"#f0f921\"]]}, \"colorway\": [\"#636efa\", \"#EF553B\", \"#00cc96\", \"#ab63fa\", \"#FFA15A\", \"#19d3f3\", \"#FF6692\", \"#B6E880\", \"#FF97FF\", \"#FECB52\"], \"font\": {\"color\": \"#2a3f5f\"}, \"geo\": {\"bgcolor\": \"white\", \"lakecolor\": \"white\", \"landcolor\": \"#E5ECF6\", \"showlakes\": true, \"showland\": true, \"subunitcolor\": \"white\"}, \"hoverlabel\": {\"align\": \"left\"}, \"hovermode\": \"closest\", \"mapbox\": {\"style\": \"light\"}, \"paper_bgcolor\": \"white\", \"plot_bgcolor\": \"#E5ECF6\", \"polar\": {\"angularaxis\": {\"gridcolor\": \"white\", \"linecolor\": \"white\", \"ticks\": \"\"}, \"bgcolor\": \"#E5ECF6\", \"radialaxis\": {\"gridcolor\": \"white\", \"linecolor\": \"white\", \"ticks\": \"\"}}, \"scene\": {\"xaxis\": {\"backgroundcolor\": \"#E5ECF6\", \"gridcolor\": \"white\", \"gridwidth\": 2, \"linecolor\": \"white\", \"showbackground\": true, \"ticks\": \"\", \"zerolinecolor\": \"white\"}, \"yaxis\": {\"backgroundcolor\": \"#E5ECF6\", \"gridcolor\": \"white\", \"gridwidth\": 2, \"linecolor\": \"white\", \"showbackground\": true, \"ticks\": \"\", \"zerolinecolor\": \"white\"}, \"zaxis\": {\"backgroundcolor\": \"#E5ECF6\", \"gridcolor\": \"white\", \"gridwidth\": 2, \"linecolor\": \"white\", \"showbackground\": true, \"ticks\": \"\", \"zerolinecolor\": \"white\"}}, \"shapedefaults\": {\"line\": {\"color\": \"#2a3f5f\"}}, \"ternary\": {\"aaxis\": {\"gridcolor\": \"white\", \"linecolor\": \"white\", \"ticks\": \"\"}, \"baxis\": {\"gridcolor\": \"white\", \"linecolor\": \"white\", \"ticks\": \"\"}, \"bgcolor\": \"#E5ECF6\", \"caxis\": {\"gridcolor\": \"white\", \"linecolor\": \"white\", \"ticks\": \"\"}}, \"title\": {\"x\": 0.05}, \"xaxis\": {\"automargin\": true, \"gridcolor\": \"white\", \"linecolor\": \"white\", \"ticks\": \"\", \"title\": {\"standoff\": 15}, \"zerolinecolor\": \"white\", \"zerolinewidth\": 2}, \"yaxis\": {\"automargin\": true, \"gridcolor\": \"white\", \"linecolor\": \"white\", \"ticks\": \"\", \"title\": {\"standoff\": 15}, \"zerolinecolor\": \"white\", \"zerolinewidth\": 2}}}, \"title\": {\"text\": \"SEIRD MODEL\", \"x\": 0.5, \"xanchor\": \"center\", \"y\": 0.9, \"yanchor\": \"top\"}, \"xaxis\": {\"title\": {\"text\": \"Time (days)\"}}, \"yaxis\": {\"title\": {\"text\": \"Population\"}}},                        {\"responsive\": true}                    ).then(function(){\n",
       "                            \n",
       "var gd = document.getElementById('9fee0df0-fd60-4414-bbb8-08abcdfb4675');\n",
       "var x = new MutationObserver(function (mutations, observer) {{\n",
       "        var display = window.getComputedStyle(gd).display;\n",
       "        if (!display || display === 'none') {{\n",
       "            console.log([gd, 'removed!']);\n",
       "            Plotly.purge(gd);\n",
       "            observer.disconnect();\n",
       "        }}\n",
       "}});\n",
       "\n",
       "// Listen for the removal of the full notebook cells\n",
       "var notebookContainer = gd.closest('#notebook-container');\n",
       "if (notebookContainer) {{\n",
       "    x.observe(notebookContainer, {childList: true});\n",
       "}}\n",
       "\n",
       "// Listen for the clearing of the current output cell\n",
       "var outputEl = gd.closest('.output');\n",
       "if (outputEl) {{\n",
       "    x.observe(outputEl, {childList: true});\n",
       "}}\n",
       "\n",
       "                        })                };                });            </script>        </div>"
      ]
     },
     "metadata": {},
     "output_type": "display_data"
    },
    {
     "data": {
      "application/vnd.plotly.v1+json": {
       "config": {
        "plotlyServerURL": "https://plot.ly"
       },
       "data": [
        {
         "mode": "lines",
         "name": "R0",
         "type": "scatter",
         "x": [
          0,
          1.0084033613445378,
          2.0168067226890756,
          3.0252100840336134,
          4.033613445378151,
          5.042016806722689,
          6.050420168067227,
          7.0588235294117645,
          8.067226890756302,
          9.07563025210084,
          10.084033613445378,
          11.092436974789916,
          12.100840336134453,
          13.109243697478991,
          14.117647058823529,
          15.126050420168067,
          16.134453781512605,
          17.142857142857142,
          18.15126050420168,
          19.159663865546218,
          20.168067226890756,
          21.176470588235293,
          22.18487394957983,
          23.19327731092437,
          24.201680672268907,
          25.210084033613445,
          26.218487394957982,
          27.22689075630252,
          28.235294117647058,
          29.243697478991596,
          30.252100840336134,
          31.26050420168067,
          32.26890756302521,
          33.27731092436974,
          34.285714285714285,
          35.294117647058826,
          36.30252100840336,
          37.310924369747895,
          38.319327731092436,
          39.32773109243698,
          40.33613445378151,
          41.344537815126046,
          42.35294117647059,
          43.36134453781513,
          44.36974789915966,
          45.3781512605042,
          46.38655462184874,
          47.39495798319328,
          48.403361344537814,
          49.41176470588235,
          50.42016806722689,
          51.42857142857143,
          52.436974789915965,
          53.4453781512605,
          54.45378151260504,
          55.46218487394958,
          56.470588235294116,
          57.47899159663865,
          58.48739495798319,
          59.49579831932773,
          60.50420168067227,
          61.5126050420168,
          62.52100840336134,
          63.529411764705884,
          64.53781512605042,
          65.54621848739495,
          66.55462184873949,
          67.56302521008404,
          68.57142857142857,
          69.5798319327731,
          70.58823529411765,
          71.59663865546219,
          72.60504201680672,
          73.61344537815125,
          74.62184873949579,
          75.63025210084034,
          76.63865546218487,
          77.6470588235294,
          78.65546218487395,
          79.66386554621849,
          80.67226890756302,
          81.68067226890756,
          82.68907563025209,
          83.69747899159664,
          84.70588235294117,
          85.71428571428571,
          86.72268907563026,
          87.73109243697479,
          88.73949579831933,
          89.74789915966386,
          90.7563025210084,
          91.76470588235294,
          92.77310924369748,
          93.78151260504201,
          94.78991596638656,
          95.7983193277311,
          96.80672268907563,
          97.81512605042016,
          98.8235294117647,
          99.83193277310924,
          100.84033613445378,
          101.84873949579831,
          102.85714285714286,
          103.8655462184874,
          104.87394957983193,
          105.88235294117646,
          106.890756302521,
          107.89915966386555,
          108.90756302521008,
          109.91596638655462,
          110.92436974789916,
          111.9327731092437,
          112.94117647058823,
          113.94957983193277,
          114.9579831932773,
          115.96638655462185,
          116.97478991596638,
          117.98319327731092,
          118.99159663865547,
          120
         ],
         "y": [
          3.999999999951392,
          3.9999999999198597,
          3.99999999986787,
          3.9999999997821547,
          3.9999999996408344,
          3.999999999407836,
          3.999999999023686,
          3.999999998390331,
          3.999999997346104,
          3.999999995624465,
          3.999999992785962,
          3.9999999881060626,
          3.9999999803902124,
          3.999999967668926,
          3.999999946695072,
          3.9999999121150314,
          3.999999855102186,
          3.9999997611038984,
          3.999999606126933,
          3.9999993506131437,
          3.9999989293422056,
          3.9999982347840715,
          3.999997089651903,
          3.9999952016497757,
          3.9999920888649574,
          3.9999869567625055,
          3.999978495388892,
          3.999964545031567,
          3.999941545023532,
          3.9999036250810986,
          3.9998411074595412,
          3.999738038203713,
          3.999568118984048,
          3.999288005576807,
          3.998826274543368,
          3.9980652747707675,
          3.996811320819598,
          3.9947458621014205,
          3.9913458189517788,
          3.985754517994364,
          3.9765750217650035,
          3.9615457007929242,
          3.9370482651326792,
          3.8974071923702525,
          3.8340094438785166,
          3.734496369925648,
          3.582789772922588,
          3.3615106666777526,
          3.058705025205017,
          2.678607659206491,
          2.25,
          1.821392340793509,
          1.441294974794983,
          1.1384893333222472,
          0.9172102270774114,
          0.7655036300743525,
          0.6659905561214837,
          0.6025928076297471,
          0.5629517348673204,
          0.5384542992070761,
          0.523424978234997,
          0.5142454820056365,
          0.5086541810482217,
          0.5052541378985794,
          0.5031886791804022,
          0.5019347252292325,
          0.5011737254566326,
          0.5007119944231933,
          0.5004318810159518,
          0.5002619617962871,
          0.5001588925404585,
          0.500096374918901,
          0.5000584549764683,
          0.500035454968433,
          0.5000215046111077,
          0.5000130432374946,
          0.5000079111350426,
          0.500004798350224,
          0.5000029103480969,
          0.5000017652159287,
          0.5000010706577942,
          0.5000006493868564,
          0.5000003938730672,
          0.5000002388961019,
          0.5000001448978142,
          0.5000000878849682,
          0.5000000533049282,
          0.5000000323310735,
          0.5000000196097875,
          0.5000000118939373,
          0.5000000072140377,
          0.500000004375535,
          0.5000000026538961,
          0.5000000016096694,
          0.5000000009763138,
          0.5000000005921643,
          0.5000000003591658,
          0.5000000002178451,
          0.5000000001321298,
          0.5000000000801407,
          0.5000000000486078,
          0.5000000000294821,
          0.5000000000178818,
          0.5000000000108459,
          0.5000000000065784,
          0.5000000000039899,
          0.5000000000024201,
          0.5000000000014678,
          0.5000000000008903,
          0.50000000000054,
          0.5000000000003275,
          0.5000000000001986,
          0.5000000000001205,
          0.500000000000073,
          0.5000000000000443,
          0.5000000000000269,
          0.5000000000000163,
          0.5000000000000099,
          0.500000000000006,
          0.5000000000000037
         ]
        }
       ],
       "layout": {
        "showlegend": true,
        "template": {
         "data": {
          "bar": [
           {
            "error_x": {
             "color": "#2a3f5f"
            },
            "error_y": {
             "color": "#2a3f5f"
            },
            "marker": {
             "line": {
              "color": "#E5ECF6",
              "width": 0.5
             }
            },
            "type": "bar"
           }
          ],
          "barpolar": [
           {
            "marker": {
             "line": {
              "color": "#E5ECF6",
              "width": 0.5
             }
            },
            "type": "barpolar"
           }
          ],
          "carpet": [
           {
            "aaxis": {
             "endlinecolor": "#2a3f5f",
             "gridcolor": "white",
             "linecolor": "white",
             "minorgridcolor": "white",
             "startlinecolor": "#2a3f5f"
            },
            "baxis": {
             "endlinecolor": "#2a3f5f",
             "gridcolor": "white",
             "linecolor": "white",
             "minorgridcolor": "white",
             "startlinecolor": "#2a3f5f"
            },
            "type": "carpet"
           }
          ],
          "choropleth": [
           {
            "colorbar": {
             "outlinewidth": 0,
             "ticks": ""
            },
            "type": "choropleth"
           }
          ],
          "contour": [
           {
            "colorbar": {
             "outlinewidth": 0,
             "ticks": ""
            },
            "colorscale": [
             [
              0,
              "#0d0887"
             ],
             [
              0.1111111111111111,
              "#46039f"
             ],
             [
              0.2222222222222222,
              "#7201a8"
             ],
             [
              0.3333333333333333,
              "#9c179e"
             ],
             [
              0.4444444444444444,
              "#bd3786"
             ],
             [
              0.5555555555555556,
              "#d8576b"
             ],
             [
              0.6666666666666666,
              "#ed7953"
             ],
             [
              0.7777777777777778,
              "#fb9f3a"
             ],
             [
              0.8888888888888888,
              "#fdca26"
             ],
             [
              1,
              "#f0f921"
             ]
            ],
            "type": "contour"
           }
          ],
          "contourcarpet": [
           {
            "colorbar": {
             "outlinewidth": 0,
             "ticks": ""
            },
            "type": "contourcarpet"
           }
          ],
          "heatmap": [
           {
            "colorbar": {
             "outlinewidth": 0,
             "ticks": ""
            },
            "colorscale": [
             [
              0,
              "#0d0887"
             ],
             [
              0.1111111111111111,
              "#46039f"
             ],
             [
              0.2222222222222222,
              "#7201a8"
             ],
             [
              0.3333333333333333,
              "#9c179e"
             ],
             [
              0.4444444444444444,
              "#bd3786"
             ],
             [
              0.5555555555555556,
              "#d8576b"
             ],
             [
              0.6666666666666666,
              "#ed7953"
             ],
             [
              0.7777777777777778,
              "#fb9f3a"
             ],
             [
              0.8888888888888888,
              "#fdca26"
             ],
             [
              1,
              "#f0f921"
             ]
            ],
            "type": "heatmap"
           }
          ],
          "heatmapgl": [
           {
            "colorbar": {
             "outlinewidth": 0,
             "ticks": ""
            },
            "colorscale": [
             [
              0,
              "#0d0887"
             ],
             [
              0.1111111111111111,
              "#46039f"
             ],
             [
              0.2222222222222222,
              "#7201a8"
             ],
             [
              0.3333333333333333,
              "#9c179e"
             ],
             [
              0.4444444444444444,
              "#bd3786"
             ],
             [
              0.5555555555555556,
              "#d8576b"
             ],
             [
              0.6666666666666666,
              "#ed7953"
             ],
             [
              0.7777777777777778,
              "#fb9f3a"
             ],
             [
              0.8888888888888888,
              "#fdca26"
             ],
             [
              1,
              "#f0f921"
             ]
            ],
            "type": "heatmapgl"
           }
          ],
          "histogram": [
           {
            "marker": {
             "colorbar": {
              "outlinewidth": 0,
              "ticks": ""
             }
            },
            "type": "histogram"
           }
          ],
          "histogram2d": [
           {
            "colorbar": {
             "outlinewidth": 0,
             "ticks": ""
            },
            "colorscale": [
             [
              0,
              "#0d0887"
             ],
             [
              0.1111111111111111,
              "#46039f"
             ],
             [
              0.2222222222222222,
              "#7201a8"
             ],
             [
              0.3333333333333333,
              "#9c179e"
             ],
             [
              0.4444444444444444,
              "#bd3786"
             ],
             [
              0.5555555555555556,
              "#d8576b"
             ],
             [
              0.6666666666666666,
              "#ed7953"
             ],
             [
              0.7777777777777778,
              "#fb9f3a"
             ],
             [
              0.8888888888888888,
              "#fdca26"
             ],
             [
              1,
              "#f0f921"
             ]
            ],
            "type": "histogram2d"
           }
          ],
          "histogram2dcontour": [
           {
            "colorbar": {
             "outlinewidth": 0,
             "ticks": ""
            },
            "colorscale": [
             [
              0,
              "#0d0887"
             ],
             [
              0.1111111111111111,
              "#46039f"
             ],
             [
              0.2222222222222222,
              "#7201a8"
             ],
             [
              0.3333333333333333,
              "#9c179e"
             ],
             [
              0.4444444444444444,
              "#bd3786"
             ],
             [
              0.5555555555555556,
              "#d8576b"
             ],
             [
              0.6666666666666666,
              "#ed7953"
             ],
             [
              0.7777777777777778,
              "#fb9f3a"
             ],
             [
              0.8888888888888888,
              "#fdca26"
             ],
             [
              1,
              "#f0f921"
             ]
            ],
            "type": "histogram2dcontour"
           }
          ],
          "mesh3d": [
           {
            "colorbar": {
             "outlinewidth": 0,
             "ticks": ""
            },
            "type": "mesh3d"
           }
          ],
          "parcoords": [
           {
            "line": {
             "colorbar": {
              "outlinewidth": 0,
              "ticks": ""
             }
            },
            "type": "parcoords"
           }
          ],
          "pie": [
           {
            "automargin": true,
            "type": "pie"
           }
          ],
          "scatter": [
           {
            "marker": {
             "colorbar": {
              "outlinewidth": 0,
              "ticks": ""
             }
            },
            "type": "scatter"
           }
          ],
          "scatter3d": [
           {
            "line": {
             "colorbar": {
              "outlinewidth": 0,
              "ticks": ""
             }
            },
            "marker": {
             "colorbar": {
              "outlinewidth": 0,
              "ticks": ""
             }
            },
            "type": "scatter3d"
           }
          ],
          "scattercarpet": [
           {
            "marker": {
             "colorbar": {
              "outlinewidth": 0,
              "ticks": ""
             }
            },
            "type": "scattercarpet"
           }
          ],
          "scattergeo": [
           {
            "marker": {
             "colorbar": {
              "outlinewidth": 0,
              "ticks": ""
             }
            },
            "type": "scattergeo"
           }
          ],
          "scattergl": [
           {
            "marker": {
             "colorbar": {
              "outlinewidth": 0,
              "ticks": ""
             }
            },
            "type": "scattergl"
           }
          ],
          "scattermapbox": [
           {
            "marker": {
             "colorbar": {
              "outlinewidth": 0,
              "ticks": ""
             }
            },
            "type": "scattermapbox"
           }
          ],
          "scatterpolar": [
           {
            "marker": {
             "colorbar": {
              "outlinewidth": 0,
              "ticks": ""
             }
            },
            "type": "scatterpolar"
           }
          ],
          "scatterpolargl": [
           {
            "marker": {
             "colorbar": {
              "outlinewidth": 0,
              "ticks": ""
             }
            },
            "type": "scatterpolargl"
           }
          ],
          "scatterternary": [
           {
            "marker": {
             "colorbar": {
              "outlinewidth": 0,
              "ticks": ""
             }
            },
            "type": "scatterternary"
           }
          ],
          "surface": [
           {
            "colorbar": {
             "outlinewidth": 0,
             "ticks": ""
            },
            "colorscale": [
             [
              0,
              "#0d0887"
             ],
             [
              0.1111111111111111,
              "#46039f"
             ],
             [
              0.2222222222222222,
              "#7201a8"
             ],
             [
              0.3333333333333333,
              "#9c179e"
             ],
             [
              0.4444444444444444,
              "#bd3786"
             ],
             [
              0.5555555555555556,
              "#d8576b"
             ],
             [
              0.6666666666666666,
              "#ed7953"
             ],
             [
              0.7777777777777778,
              "#fb9f3a"
             ],
             [
              0.8888888888888888,
              "#fdca26"
             ],
             [
              1,
              "#f0f921"
             ]
            ],
            "type": "surface"
           }
          ],
          "table": [
           {
            "cells": {
             "fill": {
              "color": "#EBF0F8"
             },
             "line": {
              "color": "white"
             }
            },
            "header": {
             "fill": {
              "color": "#C8D4E3"
             },
             "line": {
              "color": "white"
             }
            },
            "type": "table"
           }
          ]
         },
         "layout": {
          "annotationdefaults": {
           "arrowcolor": "#2a3f5f",
           "arrowhead": 0,
           "arrowwidth": 1
          },
          "coloraxis": {
           "colorbar": {
            "outlinewidth": 0,
            "ticks": ""
           }
          },
          "colorscale": {
           "diverging": [
            [
             0,
             "#8e0152"
            ],
            [
             0.1,
             "#c51b7d"
            ],
            [
             0.2,
             "#de77ae"
            ],
            [
             0.3,
             "#f1b6da"
            ],
            [
             0.4,
             "#fde0ef"
            ],
            [
             0.5,
             "#f7f7f7"
            ],
            [
             0.6,
             "#e6f5d0"
            ],
            [
             0.7,
             "#b8e186"
            ],
            [
             0.8,
             "#7fbc41"
            ],
            [
             0.9,
             "#4d9221"
            ],
            [
             1,
             "#276419"
            ]
           ],
           "sequential": [
            [
             0,
             "#0d0887"
            ],
            [
             0.1111111111111111,
             "#46039f"
            ],
            [
             0.2222222222222222,
             "#7201a8"
            ],
            [
             0.3333333333333333,
             "#9c179e"
            ],
            [
             0.4444444444444444,
             "#bd3786"
            ],
            [
             0.5555555555555556,
             "#d8576b"
            ],
            [
             0.6666666666666666,
             "#ed7953"
            ],
            [
             0.7777777777777778,
             "#fb9f3a"
            ],
            [
             0.8888888888888888,
             "#fdca26"
            ],
            [
             1,
             "#f0f921"
            ]
           ],
           "sequentialminus": [
            [
             0,
             "#0d0887"
            ],
            [
             0.1111111111111111,
             "#46039f"
            ],
            [
             0.2222222222222222,
             "#7201a8"
            ],
            [
             0.3333333333333333,
             "#9c179e"
            ],
            [
             0.4444444444444444,
             "#bd3786"
            ],
            [
             0.5555555555555556,
             "#d8576b"
            ],
            [
             0.6666666666666666,
             "#ed7953"
            ],
            [
             0.7777777777777778,
             "#fb9f3a"
            ],
            [
             0.8888888888888888,
             "#fdca26"
            ],
            [
             1,
             "#f0f921"
            ]
           ]
          },
          "colorway": [
           "#636efa",
           "#EF553B",
           "#00cc96",
           "#ab63fa",
           "#FFA15A",
           "#19d3f3",
           "#FF6692",
           "#B6E880",
           "#FF97FF",
           "#FECB52"
          ],
          "font": {
           "color": "#2a3f5f"
          },
          "geo": {
           "bgcolor": "white",
           "lakecolor": "white",
           "landcolor": "#E5ECF6",
           "showlakes": true,
           "showland": true,
           "subunitcolor": "white"
          },
          "hoverlabel": {
           "align": "left"
          },
          "hovermode": "closest",
          "mapbox": {
           "style": "light"
          },
          "paper_bgcolor": "white",
          "plot_bgcolor": "#E5ECF6",
          "polar": {
           "angularaxis": {
            "gridcolor": "white",
            "linecolor": "white",
            "ticks": ""
           },
           "bgcolor": "#E5ECF6",
           "radialaxis": {
            "gridcolor": "white",
            "linecolor": "white",
            "ticks": ""
           }
          },
          "scene": {
           "xaxis": {
            "backgroundcolor": "#E5ECF6",
            "gridcolor": "white",
            "gridwidth": 2,
            "linecolor": "white",
            "showbackground": true,
            "ticks": "",
            "zerolinecolor": "white"
           },
           "yaxis": {
            "backgroundcolor": "#E5ECF6",
            "gridcolor": "white",
            "gridwidth": 2,
            "linecolor": "white",
            "showbackground": true,
            "ticks": "",
            "zerolinecolor": "white"
           },
           "zaxis": {
            "backgroundcolor": "#E5ECF6",
            "gridcolor": "white",
            "gridwidth": 2,
            "linecolor": "white",
            "showbackground": true,
            "ticks": "",
            "zerolinecolor": "white"
           }
          },
          "shapedefaults": {
           "line": {
            "color": "#2a3f5f"
           }
          },
          "ternary": {
           "aaxis": {
            "gridcolor": "white",
            "linecolor": "white",
            "ticks": ""
           },
           "baxis": {
            "gridcolor": "white",
            "linecolor": "white",
            "ticks": ""
           },
           "bgcolor": "#E5ECF6",
           "caxis": {
            "gridcolor": "white",
            "linecolor": "white",
            "ticks": ""
           }
          },
          "title": {
           "x": 0.05
          },
          "xaxis": {
           "automargin": true,
           "gridcolor": "white",
           "linecolor": "white",
           "ticks": "",
           "title": {
            "standoff": 15
           },
           "zerolinecolor": "white",
           "zerolinewidth": 2
          },
          "yaxis": {
           "automargin": true,
           "gridcolor": "white",
           "linecolor": "white",
           "ticks": "",
           "title": {
            "standoff": 15
           },
           "zerolinecolor": "white",
           "zerolinewidth": 2
          }
         }
        },
        "title": {
         "text": "R0 overtime",
         "x": 0.5,
         "xanchor": "center",
         "y": 0.9,
         "yanchor": "top"
        },
        "xaxis": {
         "title": {
          "text": "Time (days)"
         }
        }
       }
      },
      "text/html": [
       "<div>                            <div id=\"e36a14d8-1fc3-4195-880f-8468e27ccaa1\" class=\"plotly-graph-div\" style=\"height:525px; width:100%;\"></div>            <script type=\"text/javascript\">                require([\"plotly\"], function(Plotly) {                    window.PLOTLYENV=window.PLOTLYENV || {};                                    if (document.getElementById(\"e36a14d8-1fc3-4195-880f-8468e27ccaa1\")) {                    Plotly.newPlot(                        \"e36a14d8-1fc3-4195-880f-8468e27ccaa1\",                        [{\"mode\": \"lines\", \"name\": \"R0\", \"type\": \"scatter\", \"x\": [0.0, 1.0084033613445378, 2.0168067226890756, 3.0252100840336134, 4.033613445378151, 5.042016806722689, 6.050420168067227, 7.0588235294117645, 8.067226890756302, 9.07563025210084, 10.084033613445378, 11.092436974789916, 12.100840336134453, 13.109243697478991, 14.117647058823529, 15.126050420168067, 16.134453781512605, 17.142857142857142, 18.15126050420168, 19.159663865546218, 20.168067226890756, 21.176470588235293, 22.18487394957983, 23.19327731092437, 24.201680672268907, 25.210084033613445, 26.218487394957982, 27.22689075630252, 28.235294117647058, 29.243697478991596, 30.252100840336134, 31.26050420168067, 32.26890756302521, 33.27731092436974, 34.285714285714285, 35.294117647058826, 36.30252100840336, 37.310924369747895, 38.319327731092436, 39.32773109243698, 40.33613445378151, 41.344537815126046, 42.35294117647059, 43.36134453781513, 44.36974789915966, 45.3781512605042, 46.38655462184874, 47.39495798319328, 48.403361344537814, 49.41176470588235, 50.42016806722689, 51.42857142857143, 52.436974789915965, 53.4453781512605, 54.45378151260504, 55.46218487394958, 56.470588235294116, 57.47899159663865, 58.48739495798319, 59.49579831932773, 60.50420168067227, 61.5126050420168, 62.52100840336134, 63.529411764705884, 64.53781512605042, 65.54621848739495, 66.55462184873949, 67.56302521008404, 68.57142857142857, 69.5798319327731, 70.58823529411765, 71.59663865546219, 72.60504201680672, 73.61344537815125, 74.62184873949579, 75.63025210084034, 76.63865546218487, 77.6470588235294, 78.65546218487395, 79.66386554621849, 80.67226890756302, 81.68067226890756, 82.68907563025209, 83.69747899159664, 84.70588235294117, 85.71428571428571, 86.72268907563026, 87.73109243697479, 88.73949579831933, 89.74789915966386, 90.7563025210084, 91.76470588235294, 92.77310924369748, 93.78151260504201, 94.78991596638656, 95.7983193277311, 96.80672268907563, 97.81512605042016, 98.8235294117647, 99.83193277310924, 100.84033613445378, 101.84873949579831, 102.85714285714286, 103.8655462184874, 104.87394957983193, 105.88235294117646, 106.890756302521, 107.89915966386555, 108.90756302521008, 109.91596638655462, 110.92436974789916, 111.9327731092437, 112.94117647058823, 113.94957983193277, 114.9579831932773, 115.96638655462185, 116.97478991596638, 117.98319327731092, 118.99159663865547, 120.0], \"y\": [3.999999999951392, 3.9999999999198597, 3.99999999986787, 3.9999999997821547, 3.9999999996408344, 3.999999999407836, 3.999999999023686, 3.999999998390331, 3.999999997346104, 3.999999995624465, 3.999999992785962, 3.9999999881060626, 3.9999999803902124, 3.999999967668926, 3.999999946695072, 3.9999999121150314, 3.999999855102186, 3.9999997611038984, 3.999999606126933, 3.9999993506131437, 3.9999989293422056, 3.9999982347840715, 3.999997089651903, 3.9999952016497757, 3.9999920888649574, 3.9999869567625055, 3.999978495388892, 3.999964545031567, 3.999941545023532, 3.9999036250810986, 3.9998411074595412, 3.999738038203713, 3.999568118984048, 3.999288005576807, 3.998826274543368, 3.9980652747707675, 3.996811320819598, 3.9947458621014205, 3.9913458189517788, 3.985754517994364, 3.9765750217650035, 3.9615457007929242, 3.9370482651326792, 3.8974071923702525, 3.8340094438785166, 3.734496369925648, 3.582789772922588, 3.3615106666777526, 3.058705025205017, 2.678607659206491, 2.25, 1.821392340793509, 1.441294974794983, 1.1384893333222472, 0.9172102270774114, 0.7655036300743525, 0.6659905561214837, 0.6025928076297471, 0.5629517348673204, 0.5384542992070761, 0.523424978234997, 0.5142454820056365, 0.5086541810482217, 0.5052541378985794, 0.5031886791804022, 0.5019347252292325, 0.5011737254566326, 0.5007119944231933, 0.5004318810159518, 0.5002619617962871, 0.5001588925404585, 0.500096374918901, 0.5000584549764683, 0.500035454968433, 0.5000215046111077, 0.5000130432374946, 0.5000079111350426, 0.500004798350224, 0.5000029103480969, 0.5000017652159287, 0.5000010706577942, 0.5000006493868564, 0.5000003938730672, 0.5000002388961019, 0.5000001448978142, 0.5000000878849682, 0.5000000533049282, 0.5000000323310735, 0.5000000196097875, 0.5000000118939373, 0.5000000072140377, 0.500000004375535, 0.5000000026538961, 0.5000000016096694, 0.5000000009763138, 0.5000000005921643, 0.5000000003591658, 0.5000000002178451, 0.5000000001321298, 0.5000000000801407, 0.5000000000486078, 0.5000000000294821, 0.5000000000178818, 0.5000000000108459, 0.5000000000065784, 0.5000000000039899, 0.5000000000024201, 0.5000000000014678, 0.5000000000008903, 0.50000000000054, 0.5000000000003275, 0.5000000000001986, 0.5000000000001205, 0.500000000000073, 0.5000000000000443, 0.5000000000000269, 0.5000000000000163, 0.5000000000000099, 0.500000000000006, 0.5000000000000037]}],                        {\"showlegend\": true, \"template\": {\"data\": {\"bar\": [{\"error_x\": {\"color\": \"#2a3f5f\"}, \"error_y\": {\"color\": \"#2a3f5f\"}, \"marker\": {\"line\": {\"color\": \"#E5ECF6\", \"width\": 0.5}}, \"type\": \"bar\"}], \"barpolar\": [{\"marker\": {\"line\": {\"color\": \"#E5ECF6\", \"width\": 0.5}}, \"type\": \"barpolar\"}], \"carpet\": [{\"aaxis\": {\"endlinecolor\": \"#2a3f5f\", \"gridcolor\": \"white\", \"linecolor\": \"white\", \"minorgridcolor\": \"white\", \"startlinecolor\": \"#2a3f5f\"}, \"baxis\": {\"endlinecolor\": \"#2a3f5f\", \"gridcolor\": \"white\", \"linecolor\": \"white\", \"minorgridcolor\": \"white\", \"startlinecolor\": \"#2a3f5f\"}, \"type\": \"carpet\"}], \"choropleth\": [{\"colorbar\": {\"outlinewidth\": 0, \"ticks\": \"\"}, \"type\": \"choropleth\"}], \"contour\": [{\"colorbar\": {\"outlinewidth\": 0, \"ticks\": \"\"}, \"colorscale\": [[0.0, \"#0d0887\"], [0.1111111111111111, \"#46039f\"], [0.2222222222222222, \"#7201a8\"], [0.3333333333333333, \"#9c179e\"], [0.4444444444444444, \"#bd3786\"], [0.5555555555555556, \"#d8576b\"], [0.6666666666666666, \"#ed7953\"], [0.7777777777777778, \"#fb9f3a\"], [0.8888888888888888, \"#fdca26\"], [1.0, \"#f0f921\"]], \"type\": \"contour\"}], \"contourcarpet\": [{\"colorbar\": {\"outlinewidth\": 0, \"ticks\": \"\"}, \"type\": \"contourcarpet\"}], \"heatmap\": [{\"colorbar\": {\"outlinewidth\": 0, \"ticks\": \"\"}, \"colorscale\": [[0.0, \"#0d0887\"], [0.1111111111111111, \"#46039f\"], [0.2222222222222222, \"#7201a8\"], [0.3333333333333333, \"#9c179e\"], [0.4444444444444444, \"#bd3786\"], [0.5555555555555556, \"#d8576b\"], [0.6666666666666666, \"#ed7953\"], [0.7777777777777778, \"#fb9f3a\"], [0.8888888888888888, \"#fdca26\"], [1.0, \"#f0f921\"]], \"type\": \"heatmap\"}], \"heatmapgl\": [{\"colorbar\": {\"outlinewidth\": 0, \"ticks\": \"\"}, \"colorscale\": [[0.0, \"#0d0887\"], [0.1111111111111111, \"#46039f\"], [0.2222222222222222, \"#7201a8\"], [0.3333333333333333, \"#9c179e\"], [0.4444444444444444, \"#bd3786\"], [0.5555555555555556, \"#d8576b\"], [0.6666666666666666, \"#ed7953\"], [0.7777777777777778, \"#fb9f3a\"], [0.8888888888888888, \"#fdca26\"], [1.0, \"#f0f921\"]], \"type\": \"heatmapgl\"}], \"histogram\": [{\"marker\": {\"colorbar\": {\"outlinewidth\": 0, \"ticks\": \"\"}}, \"type\": \"histogram\"}], \"histogram2d\": [{\"colorbar\": {\"outlinewidth\": 0, \"ticks\": \"\"}, \"colorscale\": [[0.0, \"#0d0887\"], [0.1111111111111111, \"#46039f\"], [0.2222222222222222, \"#7201a8\"], [0.3333333333333333, \"#9c179e\"], [0.4444444444444444, \"#bd3786\"], [0.5555555555555556, \"#d8576b\"], [0.6666666666666666, \"#ed7953\"], [0.7777777777777778, \"#fb9f3a\"], [0.8888888888888888, \"#fdca26\"], [1.0, \"#f0f921\"]], \"type\": \"histogram2d\"}], \"histogram2dcontour\": [{\"colorbar\": {\"outlinewidth\": 0, \"ticks\": \"\"}, \"colorscale\": [[0.0, \"#0d0887\"], [0.1111111111111111, \"#46039f\"], [0.2222222222222222, \"#7201a8\"], [0.3333333333333333, \"#9c179e\"], [0.4444444444444444, \"#bd3786\"], [0.5555555555555556, \"#d8576b\"], [0.6666666666666666, \"#ed7953\"], [0.7777777777777778, \"#fb9f3a\"], [0.8888888888888888, \"#fdca26\"], [1.0, \"#f0f921\"]], \"type\": \"histogram2dcontour\"}], \"mesh3d\": [{\"colorbar\": {\"outlinewidth\": 0, \"ticks\": \"\"}, \"type\": \"mesh3d\"}], \"parcoords\": [{\"line\": {\"colorbar\": {\"outlinewidth\": 0, \"ticks\": \"\"}}, \"type\": \"parcoords\"}], \"pie\": [{\"automargin\": true, \"type\": \"pie\"}], \"scatter\": [{\"marker\": {\"colorbar\": {\"outlinewidth\": 0, \"ticks\": \"\"}}, \"type\": \"scatter\"}], \"scatter3d\": [{\"line\": {\"colorbar\": {\"outlinewidth\": 0, \"ticks\": \"\"}}, \"marker\": {\"colorbar\": {\"outlinewidth\": 0, \"ticks\": \"\"}}, \"type\": \"scatter3d\"}], \"scattercarpet\": [{\"marker\": {\"colorbar\": {\"outlinewidth\": 0, \"ticks\": \"\"}}, \"type\": \"scattercarpet\"}], \"scattergeo\": [{\"marker\": {\"colorbar\": {\"outlinewidth\": 0, \"ticks\": \"\"}}, \"type\": \"scattergeo\"}], \"scattergl\": [{\"marker\": {\"colorbar\": {\"outlinewidth\": 0, \"ticks\": \"\"}}, \"type\": \"scattergl\"}], \"scattermapbox\": [{\"marker\": {\"colorbar\": {\"outlinewidth\": 0, \"ticks\": \"\"}}, \"type\": \"scattermapbox\"}], \"scatterpolar\": [{\"marker\": {\"colorbar\": {\"outlinewidth\": 0, \"ticks\": \"\"}}, \"type\": \"scatterpolar\"}], \"scatterpolargl\": [{\"marker\": {\"colorbar\": {\"outlinewidth\": 0, \"ticks\": \"\"}}, \"type\": \"scatterpolargl\"}], \"scatterternary\": [{\"marker\": {\"colorbar\": {\"outlinewidth\": 0, \"ticks\": \"\"}}, \"type\": \"scatterternary\"}], \"surface\": [{\"colorbar\": {\"outlinewidth\": 0, \"ticks\": \"\"}, \"colorscale\": [[0.0, \"#0d0887\"], [0.1111111111111111, \"#46039f\"], [0.2222222222222222, \"#7201a8\"], [0.3333333333333333, \"#9c179e\"], [0.4444444444444444, \"#bd3786\"], [0.5555555555555556, \"#d8576b\"], [0.6666666666666666, \"#ed7953\"], [0.7777777777777778, \"#fb9f3a\"], [0.8888888888888888, \"#fdca26\"], [1.0, \"#f0f921\"]], \"type\": \"surface\"}], \"table\": [{\"cells\": {\"fill\": {\"color\": \"#EBF0F8\"}, \"line\": {\"color\": \"white\"}}, \"header\": {\"fill\": {\"color\": \"#C8D4E3\"}, \"line\": {\"color\": \"white\"}}, \"type\": \"table\"}]}, \"layout\": {\"annotationdefaults\": {\"arrowcolor\": \"#2a3f5f\", \"arrowhead\": 0, \"arrowwidth\": 1}, \"coloraxis\": {\"colorbar\": {\"outlinewidth\": 0, \"ticks\": \"\"}}, \"colorscale\": {\"diverging\": [[0, \"#8e0152\"], [0.1, \"#c51b7d\"], [0.2, \"#de77ae\"], [0.3, \"#f1b6da\"], [0.4, \"#fde0ef\"], [0.5, \"#f7f7f7\"], [0.6, \"#e6f5d0\"], [0.7, \"#b8e186\"], [0.8, \"#7fbc41\"], [0.9, \"#4d9221\"], [1, \"#276419\"]], \"sequential\": [[0.0, \"#0d0887\"], [0.1111111111111111, \"#46039f\"], [0.2222222222222222, \"#7201a8\"], [0.3333333333333333, \"#9c179e\"], [0.4444444444444444, \"#bd3786\"], [0.5555555555555556, \"#d8576b\"], [0.6666666666666666, \"#ed7953\"], [0.7777777777777778, \"#fb9f3a\"], [0.8888888888888888, \"#fdca26\"], [1.0, \"#f0f921\"]], \"sequentialminus\": [[0.0, \"#0d0887\"], [0.1111111111111111, \"#46039f\"], [0.2222222222222222, \"#7201a8\"], [0.3333333333333333, \"#9c179e\"], [0.4444444444444444, \"#bd3786\"], [0.5555555555555556, \"#d8576b\"], [0.6666666666666666, \"#ed7953\"], [0.7777777777777778, \"#fb9f3a\"], [0.8888888888888888, \"#fdca26\"], [1.0, \"#f0f921\"]]}, \"colorway\": [\"#636efa\", \"#EF553B\", \"#00cc96\", \"#ab63fa\", \"#FFA15A\", \"#19d3f3\", \"#FF6692\", \"#B6E880\", \"#FF97FF\", \"#FECB52\"], \"font\": {\"color\": \"#2a3f5f\"}, \"geo\": {\"bgcolor\": \"white\", \"lakecolor\": \"white\", \"landcolor\": \"#E5ECF6\", \"showlakes\": true, \"showland\": true, \"subunitcolor\": \"white\"}, \"hoverlabel\": {\"align\": \"left\"}, \"hovermode\": \"closest\", \"mapbox\": {\"style\": \"light\"}, \"paper_bgcolor\": \"white\", \"plot_bgcolor\": \"#E5ECF6\", \"polar\": {\"angularaxis\": {\"gridcolor\": \"white\", \"linecolor\": \"white\", \"ticks\": \"\"}, \"bgcolor\": \"#E5ECF6\", \"radialaxis\": {\"gridcolor\": \"white\", \"linecolor\": \"white\", \"ticks\": \"\"}}, \"scene\": {\"xaxis\": {\"backgroundcolor\": \"#E5ECF6\", \"gridcolor\": \"white\", \"gridwidth\": 2, \"linecolor\": \"white\", \"showbackground\": true, \"ticks\": \"\", \"zerolinecolor\": \"white\"}, \"yaxis\": {\"backgroundcolor\": \"#E5ECF6\", \"gridcolor\": \"white\", \"gridwidth\": 2, \"linecolor\": \"white\", \"showbackground\": true, \"ticks\": \"\", \"zerolinecolor\": \"white\"}, \"zaxis\": {\"backgroundcolor\": \"#E5ECF6\", \"gridcolor\": \"white\", \"gridwidth\": 2, \"linecolor\": \"white\", \"showbackground\": true, \"ticks\": \"\", \"zerolinecolor\": \"white\"}}, \"shapedefaults\": {\"line\": {\"color\": \"#2a3f5f\"}}, \"ternary\": {\"aaxis\": {\"gridcolor\": \"white\", \"linecolor\": \"white\", \"ticks\": \"\"}, \"baxis\": {\"gridcolor\": \"white\", \"linecolor\": \"white\", \"ticks\": \"\"}, \"bgcolor\": \"#E5ECF6\", \"caxis\": {\"gridcolor\": \"white\", \"linecolor\": \"white\", \"ticks\": \"\"}}, \"title\": {\"x\": 0.05}, \"xaxis\": {\"automargin\": true, \"gridcolor\": \"white\", \"linecolor\": \"white\", \"ticks\": \"\", \"title\": {\"standoff\": 15}, \"zerolinecolor\": \"white\", \"zerolinewidth\": 2}, \"yaxis\": {\"automargin\": true, \"gridcolor\": \"white\", \"linecolor\": \"white\", \"ticks\": \"\", \"title\": {\"standoff\": 15}, \"zerolinecolor\": \"white\", \"zerolinewidth\": 2}}}, \"title\": {\"text\": \"R0 overtime\", \"x\": 0.5, \"xanchor\": \"center\", \"y\": 0.9, \"yanchor\": \"top\"}, \"xaxis\": {\"title\": {\"text\": \"Time (days)\"}}},                        {\"responsive\": true}                    ).then(function(){\n",
       "                            \n",
       "var gd = document.getElementById('e36a14d8-1fc3-4195-880f-8468e27ccaa1');\n",
       "var x = new MutationObserver(function (mutations, observer) {{\n",
       "        var display = window.getComputedStyle(gd).display;\n",
       "        if (!display || display === 'none') {{\n",
       "            console.log([gd, 'removed!']);\n",
       "            Plotly.purge(gd);\n",
       "            observer.disconnect();\n",
       "        }}\n",
       "}});\n",
       "\n",
       "// Listen for the removal of the full notebook cells\n",
       "var notebookContainer = gd.closest('#notebook-container');\n",
       "if (notebookContainer) {{\n",
       "    x.observe(notebookContainer, {childList: true});\n",
       "}}\n",
       "\n",
       "// Listen for the clearing of the current output cell\n",
       "var outputEl = gd.closest('.output');\n",
       "if (outputEl) {{\n",
       "    x.observe(outputEl, {childList: true});\n",
       "}}\n",
       "\n",
       "                        })                };                });            </script>        </div>"
      ]
     },
     "metadata": {},
     "output_type": "display_data"
    },
    {
     "data": {
      "application/vnd.plotly.v1+json": {
       "config": {
        "plotlyServerURL": "https://plot.ly"
       },
       "data": [
        {
         "mode": "lines",
         "name": "Alpha",
         "type": "scatter",
         "x": [
          0,
          1.0084033613445378,
          2.0168067226890756,
          3.0252100840336134,
          4.033613445378151,
          5.042016806722689,
          6.050420168067227,
          7.0588235294117645,
          8.067226890756302,
          9.07563025210084,
          10.084033613445378,
          11.092436974789916,
          12.100840336134453,
          13.109243697478991,
          14.117647058823529,
          15.126050420168067,
          16.134453781512605,
          17.142857142857142,
          18.15126050420168,
          19.159663865546218,
          20.168067226890756,
          21.176470588235293,
          22.18487394957983,
          23.19327731092437,
          24.201680672268907,
          25.210084033613445,
          26.218487394957982,
          27.22689075630252,
          28.235294117647058,
          29.243697478991596,
          30.252100840336134,
          31.26050420168067,
          32.26890756302521,
          33.27731092436974,
          34.285714285714285,
          35.294117647058826,
          36.30252100840336,
          37.310924369747895,
          38.319327731092436,
          39.32773109243698,
          40.33613445378151,
          41.344537815126046,
          42.35294117647059,
          43.36134453781513,
          44.36974789915966,
          45.3781512605042,
          46.38655462184874,
          47.39495798319328,
          48.403361344537814,
          49.41176470588235,
          50.42016806722689,
          51.42857142857143,
          52.436974789915965,
          53.4453781512605,
          54.45378151260504,
          55.46218487394958,
          56.470588235294116,
          57.47899159663865,
          58.48739495798319,
          59.49579831932773,
          60.50420168067227,
          61.5126050420168,
          62.52100840336134,
          63.529411764705884,
          64.53781512605042,
          65.54621848739495,
          66.55462184873949,
          67.56302521008404,
          68.57142857142857,
          69.5798319327731,
          70.58823529411765,
          71.59663865546219,
          72.60504201680672,
          73.61344537815125,
          74.62184873949579,
          75.63025210084034,
          76.63865546218487,
          77.6470588235294,
          78.65546218487395,
          79.66386554621849,
          80.67226890756302,
          81.68067226890756,
          82.68907563025209,
          83.69747899159664,
          84.70588235294117,
          85.71428571428571,
          86.72268907563026,
          87.73109243697479,
          88.73949579831933,
          89.74789915966386,
          90.7563025210084,
          91.76470588235294,
          92.77310924369748,
          93.78151260504201,
          94.78991596638656,
          95.7983193277311,
          96.80672268907563,
          97.81512605042016,
          98.8235294117647,
          99.83193277310924,
          100.84033613445378,
          101.84873949579831,
          102.85714285714286,
          103.8655462184874,
          104.87394957983193,
          105.88235294117646,
          106.890756302521,
          107.89915966386555,
          108.90756302521008,
          109.91596638655462,
          110.92436974789916,
          111.9327731092437,
          112.94117647058823,
          113.94957983193277,
          114.9579831932773,
          115.96638655462185,
          116.97478991596638,
          117.98319327731092,
          118.99159663865547,
          120
         ],
         "y": [
          0.1061,
          0.10610003034046504,
          0.1061000539727624,
          0.10610007630145282,
          0.10610010066908837,
          0.10610012951060663,
          0.10610016498596479,
          0.10610020935554414,
          0.10610026523695627,
          0.10610033581794413,
          0.10610042506822023,
          0.10610053797789348,
          0.10610068084382739,
          0.10610086162389623,
          0.10610109038070913,
          0.10610137984019062,
          0.10610174609589233,
          0.10610220949731186,
          0.10610279577001941,
          0.10610353742659036,
          0.1061044755422081,
          0.10610566198558036,
          0.10610716221644252,
          0.10610905878488784,
          0.10611145569433383,
          0.10611448381877786,
          0.10611830759276465,
          0.10612313321517183,
          0.1061292186159874,
          0.1061368854154463,
          0.10614653303305886,
          0.10615865494327577,
          0.10617385677303859,
          0.10619287540949753,
          0.10621659742794559,
          0.10624607384206892,
          0.10628252622958301,
          0.10632733665134268,
          0.10638201042472299,
          0.10644809712846644,
          0.10652705214979143,
          0.10662002058537731,
          0.10672753066904943,
          0.1068490996379753,
          0.10698278584399858,
          0.10712476935954074,
          0.10726910421766436,
          0.10740783820994054,
          0.10753169518348189,
          0.1076313916611035,
          0.10769936860751159,
          0.10773136768301955,
          0.10772717880529853,
          0.1076902587986476,
          0.10762651893272233,
          0.10754289346156216,
          0.10744617790047162,
          0.10734231987895262,
          0.10723611723141442,
          0.10713119158027888,
          0.10703011079934724,
          0.10693457092898126,
          0.10684558521284643,
          0.10676365445937931,
          0.10668890917206968,
          0.10662122245424432,
          0.106560296647949,
          0.10650572804103522,
          0.1064570540586427,
          0.10641378687780027,
          0.10637543674060392,
          0.10634152759154519,
          0.10631160707772598,
          0.10628525247349853,
          0.10626207370797427,
          0.10624171436737902,
          0.10622385132770036,
          0.10620819348439314,
          0.10619447992605872,
          0.10618247779251858,
          0.10617197999195684,
          0.10616280289350202,
          0.10615478407564036,
          0.10614778018002544,
          0.1061416649019055,
          0.10613632713258495,
          0.10613166926013065,
          0.10612760562706508,
          0.10612406113977932,
          0.1061209700212501,
          0.10611827469721602,
          0.10611592480508379,
          0.10611387631476583,
          0.1061120907507476,
          0.10611053450527017,
          0.10610917823303478,
          0.10610799631861786,
          0.10610696640848667,
          0.10610606900025904,
          0.10610528708257382,
          0.1061046058195818,
          0.10610401227477705,
          0.10610349516937699,
          0.10610304467108328,
          0.10610265220945024,
          0.1061023103146468,
          0.1061020124766204,
          0.10610175302218297,
          0.1061015270077219,
          0.10610133012561315,
          0.10610115862257367,
          0.10610100922845263,
          0.10610087909414832,
          0.10610076573746953,
          0.10610066699594009,
          0.10610058098566831,
          0.10610050606548839,
          0.10610044080571022,
          0.1061003839608956,
          0.10610033444612105
         ]
        }
       ],
       "layout": {
        "showlegend": true,
        "template": {
         "data": {
          "bar": [
           {
            "error_x": {
             "color": "#2a3f5f"
            },
            "error_y": {
             "color": "#2a3f5f"
            },
            "marker": {
             "line": {
              "color": "#E5ECF6",
              "width": 0.5
             }
            },
            "type": "bar"
           }
          ],
          "barpolar": [
           {
            "marker": {
             "line": {
              "color": "#E5ECF6",
              "width": 0.5
             }
            },
            "type": "barpolar"
           }
          ],
          "carpet": [
           {
            "aaxis": {
             "endlinecolor": "#2a3f5f",
             "gridcolor": "white",
             "linecolor": "white",
             "minorgridcolor": "white",
             "startlinecolor": "#2a3f5f"
            },
            "baxis": {
             "endlinecolor": "#2a3f5f",
             "gridcolor": "white",
             "linecolor": "white",
             "minorgridcolor": "white",
             "startlinecolor": "#2a3f5f"
            },
            "type": "carpet"
           }
          ],
          "choropleth": [
           {
            "colorbar": {
             "outlinewidth": 0,
             "ticks": ""
            },
            "type": "choropleth"
           }
          ],
          "contour": [
           {
            "colorbar": {
             "outlinewidth": 0,
             "ticks": ""
            },
            "colorscale": [
             [
              0,
              "#0d0887"
             ],
             [
              0.1111111111111111,
              "#46039f"
             ],
             [
              0.2222222222222222,
              "#7201a8"
             ],
             [
              0.3333333333333333,
              "#9c179e"
             ],
             [
              0.4444444444444444,
              "#bd3786"
             ],
             [
              0.5555555555555556,
              "#d8576b"
             ],
             [
              0.6666666666666666,
              "#ed7953"
             ],
             [
              0.7777777777777778,
              "#fb9f3a"
             ],
             [
              0.8888888888888888,
              "#fdca26"
             ],
             [
              1,
              "#f0f921"
             ]
            ],
            "type": "contour"
           }
          ],
          "contourcarpet": [
           {
            "colorbar": {
             "outlinewidth": 0,
             "ticks": ""
            },
            "type": "contourcarpet"
           }
          ],
          "heatmap": [
           {
            "colorbar": {
             "outlinewidth": 0,
             "ticks": ""
            },
            "colorscale": [
             [
              0,
              "#0d0887"
             ],
             [
              0.1111111111111111,
              "#46039f"
             ],
             [
              0.2222222222222222,
              "#7201a8"
             ],
             [
              0.3333333333333333,
              "#9c179e"
             ],
             [
              0.4444444444444444,
              "#bd3786"
             ],
             [
              0.5555555555555556,
              "#d8576b"
             ],
             [
              0.6666666666666666,
              "#ed7953"
             ],
             [
              0.7777777777777778,
              "#fb9f3a"
             ],
             [
              0.8888888888888888,
              "#fdca26"
             ],
             [
              1,
              "#f0f921"
             ]
            ],
            "type": "heatmap"
           }
          ],
          "heatmapgl": [
           {
            "colorbar": {
             "outlinewidth": 0,
             "ticks": ""
            },
            "colorscale": [
             [
              0,
              "#0d0887"
             ],
             [
              0.1111111111111111,
              "#46039f"
             ],
             [
              0.2222222222222222,
              "#7201a8"
             ],
             [
              0.3333333333333333,
              "#9c179e"
             ],
             [
              0.4444444444444444,
              "#bd3786"
             ],
             [
              0.5555555555555556,
              "#d8576b"
             ],
             [
              0.6666666666666666,
              "#ed7953"
             ],
             [
              0.7777777777777778,
              "#fb9f3a"
             ],
             [
              0.8888888888888888,
              "#fdca26"
             ],
             [
              1,
              "#f0f921"
             ]
            ],
            "type": "heatmapgl"
           }
          ],
          "histogram": [
           {
            "marker": {
             "colorbar": {
              "outlinewidth": 0,
              "ticks": ""
             }
            },
            "type": "histogram"
           }
          ],
          "histogram2d": [
           {
            "colorbar": {
             "outlinewidth": 0,
             "ticks": ""
            },
            "colorscale": [
             [
              0,
              "#0d0887"
             ],
             [
              0.1111111111111111,
              "#46039f"
             ],
             [
              0.2222222222222222,
              "#7201a8"
             ],
             [
              0.3333333333333333,
              "#9c179e"
             ],
             [
              0.4444444444444444,
              "#bd3786"
             ],
             [
              0.5555555555555556,
              "#d8576b"
             ],
             [
              0.6666666666666666,
              "#ed7953"
             ],
             [
              0.7777777777777778,
              "#fb9f3a"
             ],
             [
              0.8888888888888888,
              "#fdca26"
             ],
             [
              1,
              "#f0f921"
             ]
            ],
            "type": "histogram2d"
           }
          ],
          "histogram2dcontour": [
           {
            "colorbar": {
             "outlinewidth": 0,
             "ticks": ""
            },
            "colorscale": [
             [
              0,
              "#0d0887"
             ],
             [
              0.1111111111111111,
              "#46039f"
             ],
             [
              0.2222222222222222,
              "#7201a8"
             ],
             [
              0.3333333333333333,
              "#9c179e"
             ],
             [
              0.4444444444444444,
              "#bd3786"
             ],
             [
              0.5555555555555556,
              "#d8576b"
             ],
             [
              0.6666666666666666,
              "#ed7953"
             ],
             [
              0.7777777777777778,
              "#fb9f3a"
             ],
             [
              0.8888888888888888,
              "#fdca26"
             ],
             [
              1,
              "#f0f921"
             ]
            ],
            "type": "histogram2dcontour"
           }
          ],
          "mesh3d": [
           {
            "colorbar": {
             "outlinewidth": 0,
             "ticks": ""
            },
            "type": "mesh3d"
           }
          ],
          "parcoords": [
           {
            "line": {
             "colorbar": {
              "outlinewidth": 0,
              "ticks": ""
             }
            },
            "type": "parcoords"
           }
          ],
          "pie": [
           {
            "automargin": true,
            "type": "pie"
           }
          ],
          "scatter": [
           {
            "marker": {
             "colorbar": {
              "outlinewidth": 0,
              "ticks": ""
             }
            },
            "type": "scatter"
           }
          ],
          "scatter3d": [
           {
            "line": {
             "colorbar": {
              "outlinewidth": 0,
              "ticks": ""
             }
            },
            "marker": {
             "colorbar": {
              "outlinewidth": 0,
              "ticks": ""
             }
            },
            "type": "scatter3d"
           }
          ],
          "scattercarpet": [
           {
            "marker": {
             "colorbar": {
              "outlinewidth": 0,
              "ticks": ""
             }
            },
            "type": "scattercarpet"
           }
          ],
          "scattergeo": [
           {
            "marker": {
             "colorbar": {
              "outlinewidth": 0,
              "ticks": ""
             }
            },
            "type": "scattergeo"
           }
          ],
          "scattergl": [
           {
            "marker": {
             "colorbar": {
              "outlinewidth": 0,
              "ticks": ""
             }
            },
            "type": "scattergl"
           }
          ],
          "scattermapbox": [
           {
            "marker": {
             "colorbar": {
              "outlinewidth": 0,
              "ticks": ""
             }
            },
            "type": "scattermapbox"
           }
          ],
          "scatterpolar": [
           {
            "marker": {
             "colorbar": {
              "outlinewidth": 0,
              "ticks": ""
             }
            },
            "type": "scatterpolar"
           }
          ],
          "scatterpolargl": [
           {
            "marker": {
             "colorbar": {
              "outlinewidth": 0,
              "ticks": ""
             }
            },
            "type": "scatterpolargl"
           }
          ],
          "scatterternary": [
           {
            "marker": {
             "colorbar": {
              "outlinewidth": 0,
              "ticks": ""
             }
            },
            "type": "scatterternary"
           }
          ],
          "surface": [
           {
            "colorbar": {
             "outlinewidth": 0,
             "ticks": ""
            },
            "colorscale": [
             [
              0,
              "#0d0887"
             ],
             [
              0.1111111111111111,
              "#46039f"
             ],
             [
              0.2222222222222222,
              "#7201a8"
             ],
             [
              0.3333333333333333,
              "#9c179e"
             ],
             [
              0.4444444444444444,
              "#bd3786"
             ],
             [
              0.5555555555555556,
              "#d8576b"
             ],
             [
              0.6666666666666666,
              "#ed7953"
             ],
             [
              0.7777777777777778,
              "#fb9f3a"
             ],
             [
              0.8888888888888888,
              "#fdca26"
             ],
             [
              1,
              "#f0f921"
             ]
            ],
            "type": "surface"
           }
          ],
          "table": [
           {
            "cells": {
             "fill": {
              "color": "#EBF0F8"
             },
             "line": {
              "color": "white"
             }
            },
            "header": {
             "fill": {
              "color": "#C8D4E3"
             },
             "line": {
              "color": "white"
             }
            },
            "type": "table"
           }
          ]
         },
         "layout": {
          "annotationdefaults": {
           "arrowcolor": "#2a3f5f",
           "arrowhead": 0,
           "arrowwidth": 1
          },
          "coloraxis": {
           "colorbar": {
            "outlinewidth": 0,
            "ticks": ""
           }
          },
          "colorscale": {
           "diverging": [
            [
             0,
             "#8e0152"
            ],
            [
             0.1,
             "#c51b7d"
            ],
            [
             0.2,
             "#de77ae"
            ],
            [
             0.3,
             "#f1b6da"
            ],
            [
             0.4,
             "#fde0ef"
            ],
            [
             0.5,
             "#f7f7f7"
            ],
            [
             0.6,
             "#e6f5d0"
            ],
            [
             0.7,
             "#b8e186"
            ],
            [
             0.8,
             "#7fbc41"
            ],
            [
             0.9,
             "#4d9221"
            ],
            [
             1,
             "#276419"
            ]
           ],
           "sequential": [
            [
             0,
             "#0d0887"
            ],
            [
             0.1111111111111111,
             "#46039f"
            ],
            [
             0.2222222222222222,
             "#7201a8"
            ],
            [
             0.3333333333333333,
             "#9c179e"
            ],
            [
             0.4444444444444444,
             "#bd3786"
            ],
            [
             0.5555555555555556,
             "#d8576b"
            ],
            [
             0.6666666666666666,
             "#ed7953"
            ],
            [
             0.7777777777777778,
             "#fb9f3a"
            ],
            [
             0.8888888888888888,
             "#fdca26"
            ],
            [
             1,
             "#f0f921"
            ]
           ],
           "sequentialminus": [
            [
             0,
             "#0d0887"
            ],
            [
             0.1111111111111111,
             "#46039f"
            ],
            [
             0.2222222222222222,
             "#7201a8"
            ],
            [
             0.3333333333333333,
             "#9c179e"
            ],
            [
             0.4444444444444444,
             "#bd3786"
            ],
            [
             0.5555555555555556,
             "#d8576b"
            ],
            [
             0.6666666666666666,
             "#ed7953"
            ],
            [
             0.7777777777777778,
             "#fb9f3a"
            ],
            [
             0.8888888888888888,
             "#fdca26"
            ],
            [
             1,
             "#f0f921"
            ]
           ]
          },
          "colorway": [
           "#636efa",
           "#EF553B",
           "#00cc96",
           "#ab63fa",
           "#FFA15A",
           "#19d3f3",
           "#FF6692",
           "#B6E880",
           "#FF97FF",
           "#FECB52"
          ],
          "font": {
           "color": "#2a3f5f"
          },
          "geo": {
           "bgcolor": "white",
           "lakecolor": "white",
           "landcolor": "#E5ECF6",
           "showlakes": true,
           "showland": true,
           "subunitcolor": "white"
          },
          "hoverlabel": {
           "align": "left"
          },
          "hovermode": "closest",
          "mapbox": {
           "style": "light"
          },
          "paper_bgcolor": "white",
          "plot_bgcolor": "#E5ECF6",
          "polar": {
           "angularaxis": {
            "gridcolor": "white",
            "linecolor": "white",
            "ticks": ""
           },
           "bgcolor": "#E5ECF6",
           "radialaxis": {
            "gridcolor": "white",
            "linecolor": "white",
            "ticks": ""
           }
          },
          "scene": {
           "xaxis": {
            "backgroundcolor": "#E5ECF6",
            "gridcolor": "white",
            "gridwidth": 2,
            "linecolor": "white",
            "showbackground": true,
            "ticks": "",
            "zerolinecolor": "white"
           },
           "yaxis": {
            "backgroundcolor": "#E5ECF6",
            "gridcolor": "white",
            "gridwidth": 2,
            "linecolor": "white",
            "showbackground": true,
            "ticks": "",
            "zerolinecolor": "white"
           },
           "zaxis": {
            "backgroundcolor": "#E5ECF6",
            "gridcolor": "white",
            "gridwidth": 2,
            "linecolor": "white",
            "showbackground": true,
            "ticks": "",
            "zerolinecolor": "white"
           }
          },
          "shapedefaults": {
           "line": {
            "color": "#2a3f5f"
           }
          },
          "ternary": {
           "aaxis": {
            "gridcolor": "white",
            "linecolor": "white",
            "ticks": ""
           },
           "baxis": {
            "gridcolor": "white",
            "linecolor": "white",
            "ticks": ""
           },
           "bgcolor": "#E5ECF6",
           "caxis": {
            "gridcolor": "white",
            "linecolor": "white",
            "ticks": ""
           }
          },
          "title": {
           "x": 0.05
          },
          "xaxis": {
           "automargin": true,
           "gridcolor": "white",
           "linecolor": "white",
           "ticks": "",
           "title": {
            "standoff": 15
           },
           "zerolinecolor": "white",
           "zerolinewidth": 2
          },
          "yaxis": {
           "automargin": true,
           "gridcolor": "white",
           "linecolor": "white",
           "ticks": "",
           "title": {
            "standoff": 15
           },
           "zerolinecolor": "white",
           "zerolinewidth": 2
          }
         }
        },
        "title": {
         "text": "Fatality rate over time",
         "x": 0.5,
         "xanchor": "center",
         "y": 0.9,
         "yanchor": "top"
        },
        "xaxis": {
         "title": {
          "text": "Time (days)"
         }
        }
       }
      },
      "text/html": [
       "<div>                            <div id=\"a61ce018-701e-4315-8765-643171206bcd\" class=\"plotly-graph-div\" style=\"height:525px; width:100%;\"></div>            <script type=\"text/javascript\">                require([\"plotly\"], function(Plotly) {                    window.PLOTLYENV=window.PLOTLYENV || {};                                    if (document.getElementById(\"a61ce018-701e-4315-8765-643171206bcd\")) {                    Plotly.newPlot(                        \"a61ce018-701e-4315-8765-643171206bcd\",                        [{\"mode\": \"lines\", \"name\": \"Alpha\", \"type\": \"scatter\", \"x\": [0.0, 1.0084033613445378, 2.0168067226890756, 3.0252100840336134, 4.033613445378151, 5.042016806722689, 6.050420168067227, 7.0588235294117645, 8.067226890756302, 9.07563025210084, 10.084033613445378, 11.092436974789916, 12.100840336134453, 13.109243697478991, 14.117647058823529, 15.126050420168067, 16.134453781512605, 17.142857142857142, 18.15126050420168, 19.159663865546218, 20.168067226890756, 21.176470588235293, 22.18487394957983, 23.19327731092437, 24.201680672268907, 25.210084033613445, 26.218487394957982, 27.22689075630252, 28.235294117647058, 29.243697478991596, 30.252100840336134, 31.26050420168067, 32.26890756302521, 33.27731092436974, 34.285714285714285, 35.294117647058826, 36.30252100840336, 37.310924369747895, 38.319327731092436, 39.32773109243698, 40.33613445378151, 41.344537815126046, 42.35294117647059, 43.36134453781513, 44.36974789915966, 45.3781512605042, 46.38655462184874, 47.39495798319328, 48.403361344537814, 49.41176470588235, 50.42016806722689, 51.42857142857143, 52.436974789915965, 53.4453781512605, 54.45378151260504, 55.46218487394958, 56.470588235294116, 57.47899159663865, 58.48739495798319, 59.49579831932773, 60.50420168067227, 61.5126050420168, 62.52100840336134, 63.529411764705884, 64.53781512605042, 65.54621848739495, 66.55462184873949, 67.56302521008404, 68.57142857142857, 69.5798319327731, 70.58823529411765, 71.59663865546219, 72.60504201680672, 73.61344537815125, 74.62184873949579, 75.63025210084034, 76.63865546218487, 77.6470588235294, 78.65546218487395, 79.66386554621849, 80.67226890756302, 81.68067226890756, 82.68907563025209, 83.69747899159664, 84.70588235294117, 85.71428571428571, 86.72268907563026, 87.73109243697479, 88.73949579831933, 89.74789915966386, 90.7563025210084, 91.76470588235294, 92.77310924369748, 93.78151260504201, 94.78991596638656, 95.7983193277311, 96.80672268907563, 97.81512605042016, 98.8235294117647, 99.83193277310924, 100.84033613445378, 101.84873949579831, 102.85714285714286, 103.8655462184874, 104.87394957983193, 105.88235294117646, 106.890756302521, 107.89915966386555, 108.90756302521008, 109.91596638655462, 110.92436974789916, 111.9327731092437, 112.94117647058823, 113.94957983193277, 114.9579831932773, 115.96638655462185, 116.97478991596638, 117.98319327731092, 118.99159663865547, 120.0], \"y\": [0.1061, 0.10610003034046504, 0.1061000539727624, 0.10610007630145282, 0.10610010066908837, 0.10610012951060663, 0.10610016498596479, 0.10610020935554414, 0.10610026523695627, 0.10610033581794413, 0.10610042506822023, 0.10610053797789348, 0.10610068084382739, 0.10610086162389623, 0.10610109038070913, 0.10610137984019062, 0.10610174609589233, 0.10610220949731186, 0.10610279577001941, 0.10610353742659036, 0.1061044755422081, 0.10610566198558036, 0.10610716221644252, 0.10610905878488784, 0.10611145569433383, 0.10611448381877786, 0.10611830759276465, 0.10612313321517183, 0.1061292186159874, 0.1061368854154463, 0.10614653303305886, 0.10615865494327577, 0.10617385677303859, 0.10619287540949753, 0.10621659742794559, 0.10624607384206892, 0.10628252622958301, 0.10632733665134268, 0.10638201042472299, 0.10644809712846644, 0.10652705214979143, 0.10662002058537731, 0.10672753066904943, 0.1068490996379753, 0.10698278584399858, 0.10712476935954074, 0.10726910421766436, 0.10740783820994054, 0.10753169518348189, 0.1076313916611035, 0.10769936860751159, 0.10773136768301955, 0.10772717880529853, 0.1076902587986476, 0.10762651893272233, 0.10754289346156216, 0.10744617790047162, 0.10734231987895262, 0.10723611723141442, 0.10713119158027888, 0.10703011079934724, 0.10693457092898126, 0.10684558521284643, 0.10676365445937931, 0.10668890917206968, 0.10662122245424432, 0.106560296647949, 0.10650572804103522, 0.1064570540586427, 0.10641378687780027, 0.10637543674060392, 0.10634152759154519, 0.10631160707772598, 0.10628525247349853, 0.10626207370797427, 0.10624171436737902, 0.10622385132770036, 0.10620819348439314, 0.10619447992605872, 0.10618247779251858, 0.10617197999195684, 0.10616280289350202, 0.10615478407564036, 0.10614778018002544, 0.1061416649019055, 0.10613632713258495, 0.10613166926013065, 0.10612760562706508, 0.10612406113977932, 0.1061209700212501, 0.10611827469721602, 0.10611592480508379, 0.10611387631476583, 0.1061120907507476, 0.10611053450527017, 0.10610917823303478, 0.10610799631861786, 0.10610696640848667, 0.10610606900025904, 0.10610528708257382, 0.1061046058195818, 0.10610401227477705, 0.10610349516937699, 0.10610304467108328, 0.10610265220945024, 0.1061023103146468, 0.1061020124766204, 0.10610175302218297, 0.1061015270077219, 0.10610133012561315, 0.10610115862257367, 0.10610100922845263, 0.10610087909414832, 0.10610076573746953, 0.10610066699594009, 0.10610058098566831, 0.10610050606548839, 0.10610044080571022, 0.1061003839608956, 0.10610033444612105]}],                        {\"showlegend\": true, \"template\": {\"data\": {\"bar\": [{\"error_x\": {\"color\": \"#2a3f5f\"}, \"error_y\": {\"color\": \"#2a3f5f\"}, \"marker\": {\"line\": {\"color\": \"#E5ECF6\", \"width\": 0.5}}, \"type\": \"bar\"}], \"barpolar\": [{\"marker\": {\"line\": {\"color\": \"#E5ECF6\", \"width\": 0.5}}, \"type\": \"barpolar\"}], \"carpet\": [{\"aaxis\": {\"endlinecolor\": \"#2a3f5f\", \"gridcolor\": \"white\", \"linecolor\": \"white\", \"minorgridcolor\": \"white\", \"startlinecolor\": \"#2a3f5f\"}, \"baxis\": {\"endlinecolor\": \"#2a3f5f\", \"gridcolor\": \"white\", \"linecolor\": \"white\", \"minorgridcolor\": \"white\", \"startlinecolor\": \"#2a3f5f\"}, \"type\": \"carpet\"}], \"choropleth\": [{\"colorbar\": {\"outlinewidth\": 0, \"ticks\": \"\"}, \"type\": \"choropleth\"}], \"contour\": [{\"colorbar\": {\"outlinewidth\": 0, \"ticks\": \"\"}, \"colorscale\": [[0.0, \"#0d0887\"], [0.1111111111111111, \"#46039f\"], [0.2222222222222222, \"#7201a8\"], [0.3333333333333333, \"#9c179e\"], [0.4444444444444444, \"#bd3786\"], [0.5555555555555556, \"#d8576b\"], [0.6666666666666666, \"#ed7953\"], [0.7777777777777778, \"#fb9f3a\"], [0.8888888888888888, \"#fdca26\"], [1.0, \"#f0f921\"]], \"type\": \"contour\"}], \"contourcarpet\": [{\"colorbar\": {\"outlinewidth\": 0, \"ticks\": \"\"}, \"type\": \"contourcarpet\"}], \"heatmap\": [{\"colorbar\": {\"outlinewidth\": 0, \"ticks\": \"\"}, \"colorscale\": [[0.0, \"#0d0887\"], [0.1111111111111111, \"#46039f\"], [0.2222222222222222, \"#7201a8\"], [0.3333333333333333, \"#9c179e\"], [0.4444444444444444, \"#bd3786\"], [0.5555555555555556, \"#d8576b\"], [0.6666666666666666, \"#ed7953\"], [0.7777777777777778, \"#fb9f3a\"], [0.8888888888888888, \"#fdca26\"], [1.0, \"#f0f921\"]], \"type\": \"heatmap\"}], \"heatmapgl\": [{\"colorbar\": {\"outlinewidth\": 0, \"ticks\": \"\"}, \"colorscale\": [[0.0, \"#0d0887\"], [0.1111111111111111, \"#46039f\"], [0.2222222222222222, \"#7201a8\"], [0.3333333333333333, \"#9c179e\"], [0.4444444444444444, \"#bd3786\"], [0.5555555555555556, \"#d8576b\"], [0.6666666666666666, \"#ed7953\"], [0.7777777777777778, \"#fb9f3a\"], [0.8888888888888888, \"#fdca26\"], [1.0, \"#f0f921\"]], \"type\": \"heatmapgl\"}], \"histogram\": [{\"marker\": {\"colorbar\": {\"outlinewidth\": 0, \"ticks\": \"\"}}, \"type\": \"histogram\"}], \"histogram2d\": [{\"colorbar\": {\"outlinewidth\": 0, \"ticks\": \"\"}, \"colorscale\": [[0.0, \"#0d0887\"], [0.1111111111111111, \"#46039f\"], [0.2222222222222222, \"#7201a8\"], [0.3333333333333333, \"#9c179e\"], [0.4444444444444444, \"#bd3786\"], [0.5555555555555556, \"#d8576b\"], [0.6666666666666666, \"#ed7953\"], [0.7777777777777778, \"#fb9f3a\"], [0.8888888888888888, \"#fdca26\"], [1.0, \"#f0f921\"]], \"type\": \"histogram2d\"}], \"histogram2dcontour\": [{\"colorbar\": {\"outlinewidth\": 0, \"ticks\": \"\"}, \"colorscale\": [[0.0, \"#0d0887\"], [0.1111111111111111, \"#46039f\"], [0.2222222222222222, \"#7201a8\"], [0.3333333333333333, \"#9c179e\"], [0.4444444444444444, \"#bd3786\"], [0.5555555555555556, \"#d8576b\"], [0.6666666666666666, \"#ed7953\"], [0.7777777777777778, \"#fb9f3a\"], [0.8888888888888888, \"#fdca26\"], [1.0, \"#f0f921\"]], \"type\": \"histogram2dcontour\"}], \"mesh3d\": [{\"colorbar\": {\"outlinewidth\": 0, \"ticks\": \"\"}, \"type\": \"mesh3d\"}], \"parcoords\": [{\"line\": {\"colorbar\": {\"outlinewidth\": 0, \"ticks\": \"\"}}, \"type\": \"parcoords\"}], \"pie\": [{\"automargin\": true, \"type\": \"pie\"}], \"scatter\": [{\"marker\": {\"colorbar\": {\"outlinewidth\": 0, \"ticks\": \"\"}}, \"type\": \"scatter\"}], \"scatter3d\": [{\"line\": {\"colorbar\": {\"outlinewidth\": 0, \"ticks\": \"\"}}, \"marker\": {\"colorbar\": {\"outlinewidth\": 0, \"ticks\": \"\"}}, \"type\": \"scatter3d\"}], \"scattercarpet\": [{\"marker\": {\"colorbar\": {\"outlinewidth\": 0, \"ticks\": \"\"}}, \"type\": \"scattercarpet\"}], \"scattergeo\": [{\"marker\": {\"colorbar\": {\"outlinewidth\": 0, \"ticks\": \"\"}}, \"type\": \"scattergeo\"}], \"scattergl\": [{\"marker\": {\"colorbar\": {\"outlinewidth\": 0, \"ticks\": \"\"}}, \"type\": \"scattergl\"}], \"scattermapbox\": [{\"marker\": {\"colorbar\": {\"outlinewidth\": 0, \"ticks\": \"\"}}, \"type\": \"scattermapbox\"}], \"scatterpolar\": [{\"marker\": {\"colorbar\": {\"outlinewidth\": 0, \"ticks\": \"\"}}, \"type\": \"scatterpolar\"}], \"scatterpolargl\": [{\"marker\": {\"colorbar\": {\"outlinewidth\": 0, \"ticks\": \"\"}}, \"type\": \"scatterpolargl\"}], \"scatterternary\": [{\"marker\": {\"colorbar\": {\"outlinewidth\": 0, \"ticks\": \"\"}}, \"type\": \"scatterternary\"}], \"surface\": [{\"colorbar\": {\"outlinewidth\": 0, \"ticks\": \"\"}, \"colorscale\": [[0.0, \"#0d0887\"], [0.1111111111111111, \"#46039f\"], [0.2222222222222222, \"#7201a8\"], [0.3333333333333333, \"#9c179e\"], [0.4444444444444444, \"#bd3786\"], [0.5555555555555556, \"#d8576b\"], [0.6666666666666666, \"#ed7953\"], [0.7777777777777778, \"#fb9f3a\"], [0.8888888888888888, \"#fdca26\"], [1.0, \"#f0f921\"]], \"type\": \"surface\"}], \"table\": [{\"cells\": {\"fill\": {\"color\": \"#EBF0F8\"}, \"line\": {\"color\": \"white\"}}, \"header\": {\"fill\": {\"color\": \"#C8D4E3\"}, \"line\": {\"color\": \"white\"}}, \"type\": \"table\"}]}, \"layout\": {\"annotationdefaults\": {\"arrowcolor\": \"#2a3f5f\", \"arrowhead\": 0, \"arrowwidth\": 1}, \"coloraxis\": {\"colorbar\": {\"outlinewidth\": 0, \"ticks\": \"\"}}, \"colorscale\": {\"diverging\": [[0, \"#8e0152\"], [0.1, \"#c51b7d\"], [0.2, \"#de77ae\"], [0.3, \"#f1b6da\"], [0.4, \"#fde0ef\"], [0.5, \"#f7f7f7\"], [0.6, \"#e6f5d0\"], [0.7, \"#b8e186\"], [0.8, \"#7fbc41\"], [0.9, \"#4d9221\"], [1, \"#276419\"]], \"sequential\": [[0.0, \"#0d0887\"], [0.1111111111111111, \"#46039f\"], [0.2222222222222222, \"#7201a8\"], [0.3333333333333333, \"#9c179e\"], [0.4444444444444444, \"#bd3786\"], [0.5555555555555556, \"#d8576b\"], [0.6666666666666666, \"#ed7953\"], [0.7777777777777778, \"#fb9f3a\"], [0.8888888888888888, \"#fdca26\"], [1.0, \"#f0f921\"]], \"sequentialminus\": [[0.0, \"#0d0887\"], [0.1111111111111111, \"#46039f\"], [0.2222222222222222, \"#7201a8\"], [0.3333333333333333, \"#9c179e\"], [0.4444444444444444, \"#bd3786\"], [0.5555555555555556, \"#d8576b\"], [0.6666666666666666, \"#ed7953\"], [0.7777777777777778, \"#fb9f3a\"], [0.8888888888888888, \"#fdca26\"], [1.0, \"#f0f921\"]]}, \"colorway\": [\"#636efa\", \"#EF553B\", \"#00cc96\", \"#ab63fa\", \"#FFA15A\", \"#19d3f3\", \"#FF6692\", \"#B6E880\", \"#FF97FF\", \"#FECB52\"], \"font\": {\"color\": \"#2a3f5f\"}, \"geo\": {\"bgcolor\": \"white\", \"lakecolor\": \"white\", \"landcolor\": \"#E5ECF6\", \"showlakes\": true, \"showland\": true, \"subunitcolor\": \"white\"}, \"hoverlabel\": {\"align\": \"left\"}, \"hovermode\": \"closest\", \"mapbox\": {\"style\": \"light\"}, \"paper_bgcolor\": \"white\", \"plot_bgcolor\": \"#E5ECF6\", \"polar\": {\"angularaxis\": {\"gridcolor\": \"white\", \"linecolor\": \"white\", \"ticks\": \"\"}, \"bgcolor\": \"#E5ECF6\", \"radialaxis\": {\"gridcolor\": \"white\", \"linecolor\": \"white\", \"ticks\": \"\"}}, \"scene\": {\"xaxis\": {\"backgroundcolor\": \"#E5ECF6\", \"gridcolor\": \"white\", \"gridwidth\": 2, \"linecolor\": \"white\", \"showbackground\": true, \"ticks\": \"\", \"zerolinecolor\": \"white\"}, \"yaxis\": {\"backgroundcolor\": \"#E5ECF6\", \"gridcolor\": \"white\", \"gridwidth\": 2, \"linecolor\": \"white\", \"showbackground\": true, \"ticks\": \"\", \"zerolinecolor\": \"white\"}, \"zaxis\": {\"backgroundcolor\": \"#E5ECF6\", \"gridcolor\": \"white\", \"gridwidth\": 2, \"linecolor\": \"white\", \"showbackground\": true, \"ticks\": \"\", \"zerolinecolor\": \"white\"}}, \"shapedefaults\": {\"line\": {\"color\": \"#2a3f5f\"}}, \"ternary\": {\"aaxis\": {\"gridcolor\": \"white\", \"linecolor\": \"white\", \"ticks\": \"\"}, \"baxis\": {\"gridcolor\": \"white\", \"linecolor\": \"white\", \"ticks\": \"\"}, \"bgcolor\": \"#E5ECF6\", \"caxis\": {\"gridcolor\": \"white\", \"linecolor\": \"white\", \"ticks\": \"\"}}, \"title\": {\"x\": 0.05}, \"xaxis\": {\"automargin\": true, \"gridcolor\": \"white\", \"linecolor\": \"white\", \"ticks\": \"\", \"title\": {\"standoff\": 15}, \"zerolinecolor\": \"white\", \"zerolinewidth\": 2}, \"yaxis\": {\"automargin\": true, \"gridcolor\": \"white\", \"linecolor\": \"white\", \"ticks\": \"\", \"title\": {\"standoff\": 15}, \"zerolinecolor\": \"white\", \"zerolinewidth\": 2}}}, \"title\": {\"text\": \"Fatality rate over time\", \"x\": 0.5, \"xanchor\": \"center\", \"y\": 0.9, \"yanchor\": \"top\"}, \"xaxis\": {\"title\": {\"text\": \"Time (days)\"}}},                        {\"responsive\": true}                    ).then(function(){\n",
       "                            \n",
       "var gd = document.getElementById('a61ce018-701e-4315-8765-643171206bcd');\n",
       "var x = new MutationObserver(function (mutations, observer) {{\n",
       "        var display = window.getComputedStyle(gd).display;\n",
       "        if (!display || display === 'none') {{\n",
       "            console.log([gd, 'removed!']);\n",
       "            Plotly.purge(gd);\n",
       "            observer.disconnect();\n",
       "        }}\n",
       "}});\n",
       "\n",
       "// Listen for the removal of the full notebook cells\n",
       "var notebookContainer = gd.closest('#notebook-container');\n",
       "if (notebookContainer) {{\n",
       "    x.observe(notebookContainer, {childList: true});\n",
       "}}\n",
       "\n",
       "// Listen for the clearing of the current output cell\n",
       "var outputEl = gd.closest('.output');\n",
       "if (outputEl) {{\n",
       "    x.observe(outputEl, {childList: true});\n",
       "}}\n",
       "\n",
       "                        })                };                });            </script>        </div>"
      ]
     },
     "metadata": {},
     "output_type": "display_data"
    }
   ],
   "source": [
    "#Introducing AGE Range and proportions of the population on fatality rate\n",
    "import numpy as np\n",
    "from scipy.integrate import odeint\n",
    "import plotly.graph_objects as go\n",
    "\n",
    "def deriv(y, t, N, beta, gamma, delta, alpha_opt, rho):\n",
    "    S, E, I, R, D = y\n",
    "    def alpha(t):\n",
    "        return s * I/N + alpha_opt\n",
    "\n",
    "    dSdt = -beta(t) * S * I / N\n",
    "    dEdt = beta(t) * S * I / N - delta * E\n",
    "    dIdt = delta * E - (1 - alpha(t)) * gamma * I - alpha(t) * rho * I\n",
    "    dRdt = (1 - alpha(t)) * gamma * I\n",
    "    dDdt = alpha(t) * rho * I\n",
    "    return dSdt, dEdt, dIdt, dRdt, dDdt\n",
    "\n",
    "#parameters define\n",
    "N = 55414 \n",
    "D = 4.0    # infections lasts four days\n",
    "gamma = 1.0 / D\n",
    "delta = 1.0 / 5.0\n",
    "\n",
    "R_0_start, k, x0, R_0_end = 4.0, 0.5, 50, 0.5\n",
    "\n",
    "def logistic_R_0(t):\n",
    "    return (R_0_start-R_0_end) / (1 + np.exp(-k*(-t+x0))) + R_0_end\n",
    "\n",
    "def beta(t):\n",
    "    return logistic_R_0(t) * gamma\n",
    "\n",
    "#including the age proportion in each age range\n",
    "alpha_by_agegroup = {\"1-15\": 0.01, \"16-30\": 0.05, \"31-50\": 0.1, \"51-65\": 0.2, \"65+\": 0.3}\n",
    "\n",
    "proportion_of_agegroup = {\"1-15\": 0.21, \"16-30\": 0.26, \"31-50\": 0.26, \"51-65\": 0.16, \"65+\": 0.11}\n",
    "#the proportion is based on ENEMDU 2019, doc called \"2019limpia\"\n",
    "\n",
    "#s is some arbitrary but fixed scaling factor that controls how big of \n",
    "#an influence the proportion of infected should have depending on the type of population\n",
    "s = 0.01\n",
    "alpha_opt = sum(alpha_by_agegroup[i] * proportion_of_agegroup[i] for i in list(alpha_by_agegroup.keys()))\n",
    "\n",
    "rho = 1/25  # 9 days from infection until death\n",
    "S0, E0, I0, R0, D0 = N-1, 1, 0, 0, 0  # initial conditions: one exposed\n",
    "\n",
    "t = np.linspace(0, 120, 120) # Grid of time points (in days)\n",
    "y0 = S0, E0, I0, R0, D0 # Initial conditions vector\n",
    "\n",
    "# Integrate the SIR equations over the time grid, t.\n",
    "ret = odeint(deriv, y0, t, args=(N, beta, gamma, delta, alpha_opt, rho))\n",
    "S, E, I, R, D = ret.T\n",
    "\n",
    "R0_over_time = [logistic_R_0(i) for i in range(len(t))]  # to plot R_0 over time: get function values\n",
    "Alpha_over_time = [s * I[i]/N + alpha_opt for i in range(len(t))]  # to plot alpha over time\n",
    "\n",
    "#plot\n",
    "#plotseird(t, S, E, I, R, D,  R0=R0_over_time, Alpha=Alpha_over_time)\n",
    "\n",
    "#plot\n",
    "fig = go.Figure()\n",
    "fig.add_trace(go.Scatter(x=t, y=S, mode='lines',name='Susceptible'))\n",
    "fig.add_trace(go.Scatter(x=t, y=E, mode='lines',name='Exposed'))\n",
    "fig.add_trace(go.Scatter(x=t, y=I, mode='lines',name='Infected'))\n",
    "fig.add_trace(go.Scatter(x=t, y=R, mode='lines',name='Recovered'))\n",
    "fig.add_trace(go.Scatter(x=t, y=D, mode='lines',name='Dead'))\n",
    "fig.add_trace(go.Scatter(x=t, y=S+E+I+R+D, mode='lines+markers',name='Total'))\n",
    "\n",
    "\n",
    "\n",
    "fig.update_layout(\n",
    "    title={\n",
    "        'text': \"SEIRD MODEL\",\n",
    "        'y':0.9,\n",
    "        'x':0.5,\n",
    "        'xanchor': 'center',\n",
    "        'yanchor': 'top'},     \n",
    "    xaxis_title=\"Time (days)\",\n",
    "    yaxis_title=\"Population\",\n",
    "    legend_title=\"Variables\"\n",
    "    )\n",
    "fig.show()\n",
    "\n",
    "fig = go.Figure()\n",
    "fig.add_trace(go.Scatter(x=t, y=R0_over_time, mode='lines',name='R0'))\n",
    "fig.update_layout(\n",
    "   title={\n",
    "        'text': \"R0 overtime\",\n",
    "        'y':0.9,\n",
    "        'x':0.5,\n",
    "        'xanchor': 'center',\n",
    "        'yanchor': 'top'},\n",
    "   xaxis_title=\"Time (days)\",\n",
    "   showlegend=True  \n",
    "   )\n",
    "fig.show() \n",
    "\n",
    "fig = go.Figure()\n",
    "fig.add_trace(go.Scatter(x=t, y=Alpha_over_time, mode='lines',name='Alpha'))\n",
    "fig.update_layout(\n",
    "   title={\n",
    "        'text': \"Fatality rate over time\",\n",
    "        'y':0.9,\n",
    "        'x':0.5,\n",
    "        'xanchor': 'center',\n",
    "        'yanchor': 'top'},\n",
    "   xaxis_title=\"Time (days)\",\n",
    "   showlegend=True \n",
    "   )\n",
    "fig.show() "
   ]
  }
 ],
 "metadata": {
  "kernelspec": {
   "display_name": "Python 3",
   "language": "python",
   "name": "python3"
  },
  "language_info": {
   "codemirror_mode": {
    "name": "ipython",
    "version": 3
   },
   "file_extension": ".py",
   "mimetype": "text/x-python",
   "name": "python",
   "nbconvert_exporter": "python",
   "pygments_lexer": "ipython3",
   "version": "3.7.4"
  }
 },
 "nbformat": 4,
 "nbformat_minor": 2
}
